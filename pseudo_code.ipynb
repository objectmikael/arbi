{
 "cells": [
  {
   "cell_type": "markdown",
   "metadata": {},
   "source": [
    "### Import necessary libraries, packages, and dependencies \n",
    "- Use requests to connect to APIs\n",
    "- Use pandas to create DataFrames and perform analysis \n",
    "- Use hvplot to produce interactive graphs"
   ]
  },
  {
   "cell_type": "code",
   "execution_count": 2,
   "metadata": {},
   "outputs": [],
   "source": [
    "import requests\n",
    "# import pandas as pd\n",
    "# import hvplot.pandas    "
   ]
  },
  {
   "cell_type": "markdown",
   "metadata": {},
   "source": [
    "### Fetch data from exchanges (Binance, Kraken, Bitstamp, Poloniex, OKX)\n",
    "- Define the api endpoint(url)\n",
    "    - Look into the exchange api documentation \n",
    "    - Look for an endpoint that shows the various currency tickers\n",
    "    - Use Postman to identify the desired ticker name\n",
    "    - Find the endpoint that contains the ask price and bid price for a specific currency\n",
    "- Retrive the data and convert to JSON\n",
    "- Save the prices from the returned data"
   ]
  },
  {
   "cell_type": "markdown",
   "metadata": {},
   "source": [
    "### Retrieve the ask and bid price of Bitcoin from each exchange"
   ]
  },
  {
   "cell_type": "markdown",
   "metadata": {},
   "source": [
    "##### Binance"
   ]
  },
  {
   "cell_type": "code",
   "execution_count": 4,
   "metadata": {},
   "outputs": [
    {
     "data": {
      "text/plain": [
       "51845.94"
      ]
     },
     "metadata": {},
     "output_type": "display_data"
    },
    {
     "data": {
      "text/plain": [
       "51812.33"
      ]
     },
     "metadata": {},
     "output_type": "display_data"
    }
   ],
   "source": [
    "# endpoint - url - api \n",
    "binance_api_url = 'https://api.binance.us/api/v3/ticker/bookTicker?symbol=BTCUSDT'\n",
    "\n",
    "binance_response = requests.get(binance_api_url).json()\n",
    "\n",
    "binance_bitcoin_ask_price = float(binance_response['askPrice'])\n",
    "binance_bitcoin_bid_price = float(binance_response['bidPrice'])\n",
    "\n",
    "display(binance_bitcoin_ask_price)\n",
    "display(binance_bitcoin_bid_price)"
   ]
  },
  {
   "cell_type": "markdown",
   "metadata": {},
   "source": [
    "##### Poloniex"
   ]
  },
  {
   "cell_type": "code",
   "execution_count": 10,
   "metadata": {},
   "outputs": [
    {
     "data": {
      "text/plain": [
       "51905.01"
      ]
     },
     "metadata": {},
     "output_type": "display_data"
    },
    {
     "data": {
      "text/plain": [
       "51894.47"
      ]
     },
     "metadata": {},
     "output_type": "display_data"
    }
   ],
   "source": [
    "poloniex_api_url = \"https://api.poloniex.com/markets/BTC_USDT/orderBook\"\n",
    "\n",
    "poloniex_response = requests.get(poloniex_api_url).json()\n",
    "\n",
    "poloniex_bitcoin_ask_price = float(poloniex_response['asks'][0])\n",
    "poloniex_bitcoin_bid_price = float(poloniex_response['bids'][0])\n",
    "\n",
    "display(poloniex_bitcoin_ask_price)\n",
    "display(poloniex_bitcoin_bid_price)\n",
    "\n"
   ]
  },
  {
   "cell_type": "markdown",
   "metadata": {},
   "source": [
    "##### Kraken"
   ]
  },
  {
   "cell_type": "code",
   "execution_count": null,
   "metadata": {},
   "outputs": [],
   "source": [
    "kraken_api_url = \"https://api.kraken.com/0/public/Ticker?pair=XBTUSDT\"\n",
    "\n",
    "kraken_response = requests.get(kraken_api_url).json()\n",
    "\n",
    "\n",
    "\n",
    "kraken_bitcoin_ask_price = float(kraken_response['result']['XBTUSDT']['a'][0])\n",
    "kraken_bitcoin_bid_price = float(kraken_response['result']['XBTUSDT']['b'][0])\n",
    "\n",
    "display(kraken_bitcoin_ask_price)\n",
    "display(kraken_bitcoin_bid_price)"
   ]
  },
  {
   "cell_type": "markdown",
   "metadata": {},
   "source": [
    "##### Bitstamp"
   ]
  },
  {
   "cell_type": "code",
   "execution_count": 4,
   "metadata": {},
   "outputs": [
    {
     "data": {
      "text/plain": [
       "52118.0"
      ]
     },
     "metadata": {},
     "output_type": "display_data"
    },
    {
     "data": {
      "text/plain": [
       "52106.0"
      ]
     },
     "metadata": {},
     "output_type": "display_data"
    }
   ],
   "source": [
    "bitstamp_api_url = \"https://www.bitstamp.net/api/v2/ticker/btcusd\"\n",
    "\n",
    "bitstamp_response = requests.get(bitstamp_api_url).json()\n",
    "\n",
    "\n",
    "bitstamp_bitcoin_ask_price = float(bitstamp_response['ask'])\n",
    "bitstamp_bitcoin_bid_price = float(bitstamp_response['bid'])\n",
    "\n",
    "display(bitstamp_bitcoin_ask_price)\n",
    "display(bitstamp_bitcoin_bid_price)"
   ]
  },
  {
   "cell_type": "markdown",
   "metadata": {},
   "source": [
    "##### Gemini"
   ]
  },
  {
   "cell_type": "code",
   "execution_count": null,
   "metadata": {},
   "outputs": [],
   "source": []
  }
 ],
 "metadata": {
  "kernelspec": {
   "display_name": "Python 3 (ipykernel)",
   "language": "python",
   "name": "python3"
  },
  "language_info": {
   "codemirror_mode": {
    "name": "ipython",
    "version": 3
   },
   "file_extension": ".py",
   "mimetype": "text/x-python",
   "name": "python",
   "nbconvert_exporter": "python",
   "pygments_lexer": "ipython3",
   "version": "3.12.2"
  }
 },
 "nbformat": 4,
 "nbformat_minor": 4
}
