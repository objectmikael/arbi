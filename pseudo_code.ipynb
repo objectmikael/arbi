{
 "cells": [
  {
   "cell_type": "markdown",
   "metadata": {},
   "source": [
    "### Import necessary libraries, packages, and dependencies \n",
    "- Use requests to connect to APIs\n",
    "- Use pandas to create DataFrames and perform analysis \n",
    "- Use hvplot to produce interactive graphs"
   ]
  },
  {
   "cell_type": "code",
   "execution_count": 1,
   "metadata": {},
   "outputs": [],
   "source": [
    "import requests\n",
    "import pandas as pd\n",
    "# import hvplot.pandas    "
   ]
  },
  {
   "cell_type": "markdown",
   "metadata": {},
   "source": [
    "### Fetch data from exchanges (Binance, Kraken, Bitstamp, Poloniex, Gemini)\n",
    "- Define the api endpoint(url)\n",
    "    - Look into the exchange api documentation \n",
    "    - Look for an endpoint that shows the various currency tickers\n",
    "    - Use Postman to identify the desired ticker name\n",
    "    - Find the endpoint that contains the ask price and bid price for a specific currency\n",
    "- Retrive the data and convert to JSON\n",
    "- Save the prices from the returned data"
   ]
  },
  {
   "cell_type": "markdown",
   "metadata": {},
   "source": [
    "### a. Retrieve the ask and bid price of Bitcoin from each exchange"
   ]
  },
  {
   "cell_type": "markdown",
   "metadata": {},
   "source": [
    "##### Binance"
   ]
  },
  {
   "cell_type": "code",
   "execution_count": 2,
   "metadata": {},
   "outputs": [],
   "source": [
    "# endpoint - url - api \n",
    "binance_api_url = 'https://api.binance.us/api/v3/ticker/bookTicker?symbol=BTCUSDT'\n",
    "\n",
    "binance_response = requests.get(binance_api_url).json()\n",
    "\n",
    "binance_bitcoin_ask_price = float(binance_response['askPrice'])\n",
    "binance_bitcoin_bid_price = float(binance_response['bidPrice'])\n",
    "\n",
    "# display(binance_bitcoin_ask_price)\n",
    "# display(binance_bitcoin_bid_price)"
   ]
  },
  {
   "cell_type": "markdown",
   "metadata": {},
   "source": [
    "##### Poloniex"
   ]
  },
  {
   "cell_type": "code",
   "execution_count": 3,
   "metadata": {},
   "outputs": [],
   "source": [
    "poloniex_api_url = \"https://api.poloniex.com/markets/BTC_USDT/orderBook\"\n",
    "\n",
    "poloniex_response = requests.get(poloniex_api_url).json()\n",
    "\n",
    "poloniex_bitcoin_ask_price = float(poloniex_response['asks'][0])\n",
    "poloniex_bitcoin_bid_price = float(poloniex_response['bids'][0])\n",
    "\n",
    "# display(poloniex_bitcoin_ask_price)\n",
    "# display(poloniex_bitcoin_bid_price)\n",
    "\n"
   ]
  },
  {
   "cell_type": "markdown",
   "metadata": {},
   "source": [
    "##### Kraken"
   ]
  },
  {
   "cell_type": "code",
   "execution_count": 4,
   "metadata": {},
   "outputs": [],
   "source": [
    "kraken_api_url = \"https://api.kraken.com/0/public/Ticker?pair=XBTUSDT\"\n",
    "\n",
    "kraken_response = requests.get(kraken_api_url).json()\n",
    "\n",
    "\n",
    "\n",
    "kraken_bitcoin_ask_price = float(kraken_response['result']['XBTUSDT']['a'][0])\n",
    "kraken_bitcoin_bid_price = float(kraken_response['result']['XBTUSDT']['b'][0])\n",
    "\n",
    "# display(kraken_bitcoin_ask_price)\n",
    "# display(kraken_bitcoin_bid_price)"
   ]
  },
  {
   "cell_type": "markdown",
   "metadata": {},
   "source": [
    "##### Bitstamp"
   ]
  },
  {
   "cell_type": "code",
   "execution_count": 5,
   "metadata": {},
   "outputs": [],
   "source": [
    "bitstamp_api_url = \"https://www.bitstamp.net/api/v2/ticker/btcusd\"\n",
    "\n",
    "bitstamp_response = requests.get(bitstamp_api_url).json()\n",
    "\n",
    "\n",
    "bitstamp_bitcoin_ask_price = float(bitstamp_response['ask'])\n",
    "bitstamp_bitcoin_bid_price = float(bitstamp_response['bid'])\n",
    "\n",
    "# display(bitstamp_bitcoin_ask_price)\n",
    "# display(bitstamp_bitcoin_bid_price)"
   ]
  },
  {
   "cell_type": "markdown",
   "metadata": {},
   "source": [
    "##### Gemini"
   ]
  },
  {
   "cell_type": "code",
   "execution_count": 6,
   "metadata": {},
   "outputs": [],
   "source": [
    "gemini_api_url = \"https://api.gemini.com/v2/ticker/btcusd\"\n",
    "\n",
    "gemini_response = requests.get(gemini_api_url).json()\n",
    "\n",
    "gemini_bitcoin_ask_price = float(gemini_response['ask'])\n",
    "gemini_bitcoin_bid_price = float(gemini_response['bid'])\n",
    "\n",
    "# display(gemini_bitcoin_ask_price)\n",
    "# display(gemini_bitcoin_bid_price)"
   ]
  },
  {
   "cell_type": "markdown",
   "metadata": {},
   "source": [
    "### b. Retrieve the ask and bid price for all cryptocurrencies(Bitcoin, Ethereum, Polygon, Solana, XRP) from each exchange.\n",
    "\n",
    "- Identify the tickers and store in alphabetical order\n",
    "- Store the exchange API url as a string minus the ticker symbol\n",
    "- Loop through the tickers and \n",
    "    - create an api_url for each ticker\n",
    "    - retrieve the data and convert to JSON\n",
    "    - fetch the ask and bid price and store in a list:- ['ask', 'bid']\n",
    "- NOTE: Store the ticker symbols in a list in the same order for each exchange "
   ]
  },
  {
   "cell_type": "markdown",
   "metadata": {},
   "source": [
    "##### Binance"
   ]
  },
  {
   "cell_type": "code",
   "execution_count": 7,
   "metadata": {},
   "outputs": [],
   "source": [
    "binance_tickers = ['BTCUSDT', 'ETHUSDT', 'MATICUSDT', 'SOLUSDT', 'XRPUSDT']\n",
    "binance_api_url = 'https://api.binance.us/api/v3/ticker/bookTicker?symbol='\n",
    "\n",
    "binance_prices = []\n",
    "\n",
    "for i in range(len(binance_tickers)):\n",
    "    api_url = binance_api_url+binance_tickers[i]\n",
    "    api_response = requests.get(api_url).json()\n",
    "    ask_price = float(api_response['askPrice'])\n",
    "    bid_price = float(api_response['bidPrice'])\n",
    "    binance_prices.append([ask_price, bid_price])\n",
    "\n",
    "# binance_prices"
   ]
  },
  {
   "cell_type": "markdown",
   "metadata": {},
   "source": [
    "##### Poloniex"
   ]
  },
  {
   "cell_type": "code",
   "execution_count": 8,
   "metadata": {},
   "outputs": [],
   "source": [
    "poloniex_tickers = ['BTC_USDT', 'ETH_USDT', 'MATIC_USDT', 'SOL_USDT', 'XRP_USDT']\n",
    "poloniex_api_url = \"https://api.poloniex.com/markets/\"\n",
    "\n",
    "poloniex_prices = []\n",
    "\n",
    "for i in range(len(poloniex_tickers)):\n",
    "    api_url = poloniex_api_url+poloniex_tickers[i]+\"/orderBook\"\n",
    "    api_response = requests.get(api_url).json()\n",
    "    ask_price = float(api_response['asks'][0])\n",
    "    bid_price = float(api_response['bids'][0])\n",
    "    poloniex_prices.append([ask_price, bid_price])\n",
    "\n",
    "# poloniex_prices"
   ]
  },
  {
   "cell_type": "markdown",
   "metadata": {},
   "source": [
    "##### Kraken"
   ]
  },
  {
   "cell_type": "code",
   "execution_count": 9,
   "metadata": {},
   "outputs": [],
   "source": [
    "kraken_tickers = ['XBTUSDT', 'ETHUSDT', 'MATICUSDT', 'SOLUSDT', 'XRPUSDT']\n",
    "kraken_api_url = 'https://api.kraken.com/0/public/Ticker?pair='\n",
    "\n",
    "kraken_prices = []\n",
    "\n",
    "for i in range(len(kraken_tickers)):\n",
    "    api_url = kraken_api_url+kraken_tickers[i]\n",
    "    api_response = requests.get(api_url).json()\n",
    "    ask_price = float(api_response['result'][kraken_tickers[i]]['a'][0])\n",
    "    bid_price = float(api_response['result'][kraken_tickers[i]]['b'][0])\n",
    "    kraken_prices.append([ask_price, bid_price])\n",
    "\n",
    "# kraken_prices"
   ]
  },
  {
   "cell_type": "markdown",
   "metadata": {},
   "source": [
    "##### Bitstamp"
   ]
  },
  {
   "cell_type": "code",
   "execution_count": 10,
   "metadata": {},
   "outputs": [],
   "source": [
    "bitstamp_tickers=['btcusd','ethusd','maticusd','solusd','xrpusd']\n",
    "bitstamp_api_url= 'https://www.bitstamp.net/api/v2/ticker/'\n",
    "\n",
    "bitstamp_prices=[]\n",
    "\n",
    "for i in range(len(bitstamp_tickers)):\n",
    "    api_url=bitstamp_api_url+bitstamp_tickers[i]\n",
    "    api_response=requests.get(api_url).json()\n",
    "    ask_price=float(api_response['ask'])\n",
    "    bid_price=float(api_response['bid'])\n",
    "    bitstamp_prices.append([ask_price,bid_price])\n",
    "\n",
    "# bitstamp_prices\n"
   ]
  },
  {
   "cell_type": "markdown",
   "metadata": {},
   "source": [
    "##### Gemini"
   ]
  },
  {
   "cell_type": "code",
   "execution_count": 11,
   "metadata": {},
   "outputs": [],
   "source": [
    "gemini_tickers=['btcusd','ethusd','maticusd','solusd','xrpusd']\n",
    "gemini_api_url= 'https://api.gemini.com/v2/ticker/'\n",
    "\n",
    "gemini_prices=[]\n",
    "\n",
    "for i in range(len(gemini_tickers)):\n",
    "    api_url=gemini_api_url+gemini_tickers[i]\n",
    "    api_response=requests.get(api_url).json()\n",
    "    ask_price=float(api_response['ask'])\n",
    "    bid_price=float(api_response['bid'])\n",
    "    gemini_prices.append([ask_price,bid_price])\n",
    "\n",
    "# gemini_prices"
   ]
  },
  {
   "cell_type": "markdown",
   "metadata": {},
   "source": [
    "### c. Store all bid and ask prices for easy retrieval \n",
    "- Store name of currencies in a list\n",
    "- Store prices of similar currencies to a unique list\n",
    "- Store name of exchanges in a list respective to the order of the prices "
   ]
  },
  {
   "cell_type": "code",
   "execution_count": 12,
   "metadata": {},
   "outputs": [],
   "source": [
    "cryptos = ['bitcoin', 'ethereum', 'polygon', 'solana', 'xrp']\n",
    "\n",
    "bitcoin_prices = [binance_prices[0], bitstamp_prices[0], gemini_prices[0], kraken_prices[0], poloniex_prices[0]]\n",
    "ethereum_prices = [binance_prices[1], bitstamp_prices[1], gemini_prices[1], kraken_prices[1], poloniex_prices[1]]\n",
    "polygon_prices = [binance_prices[2], bitstamp_prices[2], gemini_prices[2], kraken_prices[2], poloniex_prices[2]]\n",
    "solana_prices = [binance_prices[3], bitstamp_prices[3], gemini_prices[3], kraken_prices[3], poloniex_prices[3]]\n",
    "xrp_prices = [binance_prices[4], bitstamp_prices[4], gemini_prices[4], kraken_prices[4], poloniex_prices[4]]\n",
    "\n",
    "exchanges = ['Binance', 'Bitstamp', 'Gemini', 'Kraken', 'Poloniex']"
   ]
  },
  {
   "cell_type": "markdown",
   "metadata": {},
   "source": [
    "### Create Arbitrage Function\n",
    "- Use the price spread to determine a profitable opportunity \n",
    "- Search for opportunities across all exchanges"
   ]
  },
  {
   "cell_type": "code",
   "execution_count": 13,
   "metadata": {},
   "outputs": [],
   "source": [
    "def find_arbitrage(exchange_a, exchange_b):\n",
    "    ask_price_a = exchange_a[0]\n",
    "    bid_price_b = exchange_b[1]\n",
    "\n",
    "    spread_percent = (bid_price_b - ask_price_a) / ask_price_a * 100\n",
    "\n",
    "    return spread_percent, ask_price_a, bid_price_b"
   ]
  },
  {
   "cell_type": "markdown",
   "metadata": {},
   "source": [
    "### Search for opportunities across all exchanges "
   ]
  },
  {
   "cell_type": "markdown",
   "metadata": {},
   "source": [
    "##### Bitcoin"
   ]
  },
  {
   "cell_type": "code",
   "execution_count": 14,
   "metadata": {},
   "outputs": [
    {
     "name": "stdout",
     "output_type": "stream",
     "text": [
      "Buy Bitcoin at Bitstamp for $51371.0 and Sell at Gemini for $51374.33. You have made a $3.3300000000017462 profit or 0.0064822565260589556% of your buy price.\n",
      "Buy Bitcoin at Bitstamp for $51371.0 and Sell at Kraken for $51383.9. You have made a $12.900000000001455 profit or 0.025111444200037872% of your buy price.\n",
      "Buy Bitcoin at Bitstamp for $51371.0 and Sell at Poloniex for $51392.56. You have made a $21.55999999999767 profit or 0.041969204414937754% of your buy price.\n",
      "Buy Bitcoin at Gemini for $51383.23 and Sell at Kraken for $51383.9. You have made a $0.6699999999982538 profit or 0.0013039273708528127% of your buy price.\n",
      "Buy Bitcoin at Gemini for $51383.23 and Sell at Poloniex for $51392.56. You have made a $9.32999999999447 profit or 0.018157675179225733% of your buy price.\n",
      "Buy Bitcoin at Kraken for $51384.0 and Sell at Poloniex for $51392.56. You have made a $8.559999999997672 profit or 0.016658882142296574% of your buy price.\n"
     ]
    }
   ],
   "source": [
    "for i in range(len(bitcoin_prices)):\n",
    "    for j in range(i+1, len(bitcoin_prices)):\n",
    "        exchange_a, exchange_b = bitcoin_prices[i], bitcoin_prices[j]\n",
    "        exchange_name_a, exchange_name_b = exchanges[i], exchanges[j]\n",
    "\n",
    "        spread_percentage, buy_price, sell_price = find_arbitrage(exchange_a, exchange_b)\n",
    "\n",
    "        if spread_percentage > 0:\n",
    "            print(f'Buy Bitcoin at {exchange_name_a} for ${buy_price} and Sell at {exchange_name_b} for ${sell_price}. You have made a ${sell_price-buy_price} profit or {spread_percentage}% of your buy price.')"
   ]
  },
  {
   "cell_type": "markdown",
   "metadata": {},
   "source": [
    "##### Ethereum"
   ]
  },
  {
   "cell_type": "code",
   "execution_count": 15,
   "metadata": {},
   "outputs": [
    {
     "name": "stdout",
     "output_type": "stream",
     "text": [
      "Buy Ethereum at Bitstamp for $2986.4 and Sell at Kraken for $2987.92. You have made a $1.5199999999999818 profit or 0.05089740155370954% of your buy price.\n",
      "Buy Ethereum at Bitstamp for $2986.4 and Sell at Poloniex for $2987.8. You have made a $1.400000000000091 profit or 0.04687918564157818% of your buy price.\n",
      "Buy Ethereum at Gemini for $2987.16 and Sell at Kraken for $2987.92. You have made a $0.7600000000002183 profit or 0.025442226060881184% of your buy price.\n",
      "Buy Ethereum at Gemini for $2987.16 and Sell at Poloniex for $2987.8. You have made a $0.6400000000003274 profit or 0.021425032472325804% of your buy price.\n"
     ]
    }
   ],
   "source": [
    "for i in range(len(ethereum_prices)):\n",
    "    for j in range(i+1, len(ethereum_prices)):\n",
    "        exchange_a, exchange_b = ethereum_prices[i], ethereum_prices[j]\n",
    "        exchange_name_a, exchange_name_b = exchanges[i], exchanges[j]\n",
    "\n",
    "        spread_percentage, buy_price, sell_price = find_arbitrage(exchange_a, exchange_b)\n",
    "\n",
    "        if spread_percentage > 0:\n",
    "            print(f'Buy Ethereum at {exchange_name_a} for ${buy_price} and Sell at {exchange_name_b} for ${sell_price}. You have made a ${sell_price-buy_price} profit or {spread_percentage}% of your buy price.')"
   ]
  },
  {
   "cell_type": "markdown",
   "metadata": {},
   "source": [
    "##### Polygon"
   ]
  },
  {
   "cell_type": "code",
   "execution_count": 16,
   "metadata": {},
   "outputs": [],
   "source": [
    "for i in range(len(polygon_prices)):\n",
    "    for j in range(i+1, len(polygon_prices)):\n",
    "        exchange_a, exchange_b = polygon_prices[i], polygon_prices[j]\n",
    "        exchange_name_a, exchange_name_b = exchanges[i], exchanges[j]\n",
    "\n",
    "        spread_percentage, buy_price, sell_price = find_arbitrage(exchange_a, exchange_b)\n",
    "\n",
    "        if spread_percentage > 0:\n",
    "            print(f'Buy Polygon at {exchange_name_a} for ${buy_price} and Sell at {exchange_name_b} for ${sell_price}. You have made a ${sell_price-buy_price} profit or {spread_percentage}% of your buy price.')"
   ]
  },
  {
   "cell_type": "markdown",
   "metadata": {},
   "source": [
    "##### Solana"
   ]
  },
  {
   "cell_type": "code",
   "execution_count": 17,
   "metadata": {},
   "outputs": [
    {
     "name": "stdout",
     "output_type": "stream",
     "text": [
      "Buy Solana at Bitstamp for $102.2011 and Sell at Kraken for $102.22. You have made a $0.018900000000002137 profit or 0.01849295164142278% of your buy price.\n"
     ]
    }
   ],
   "source": [
    "for i in range(len(solana_prices)):\n",
    "    for j in range(i+1, len(solana_prices)):\n",
    "        # exchange_a = solana_prices[i]\n",
    "        # exchange_b = solana_prices[j]\n",
    "        exchange_a, exchange_b = solana_prices[i], solana_prices[j]\n",
    "        exchange_name_a, exchange_name_b = exchanges[i], exchanges[j]\n",
    "\n",
    "        spread_percentage, buy_price, sell_price = find_arbitrage(exchange_a, exchange_b)\n",
    "\n",
    "        if spread_percentage > 0:\n",
    "            print(f'Buy Solana at {exchange_name_a} for ${buy_price} and Sell at {exchange_name_b} for ${sell_price}. You have made a ${sell_price-buy_price} profit or {spread_percentage}% of your buy price.')"
   ]
  },
  {
   "cell_type": "markdown",
   "metadata": {},
   "source": [
    "##### XRP"
   ]
  },
  {
   "cell_type": "code",
   "execution_count": 18,
   "metadata": {},
   "outputs": [
    {
     "name": "stdout",
     "output_type": "stream",
     "text": [
      "Buy XRP at Bitstamp for $0.5431 and Sell at Kraken for $0.5433. You have made a $0.00019999999999997797 profit or 0.03682563063892064% of your buy price.\n",
      "Buy XRP at Bitstamp for $0.5431 and Sell at Poloniex for $0.5432. You have made a $9.999999999998899e-05 profit or 0.01841281531946032% of your buy price.\n",
      "Buy XRP at Gemini for $0.54317 and Sell at Kraken for $0.5433. You have made a $0.00012999999999996348 profit or 0.0239335751238035% of your buy price.\n",
      "Buy XRP at Gemini for $0.54317 and Sell at Poloniex for $0.5432. You have made a $2.999999999997449e-05 profit or 0.005523132720874587% of your buy price.\n"
     ]
    }
   ],
   "source": [
    "for i in range(len(xrp_prices)):\n",
    "    for j in range(i+1, len(xrp_prices)):\n",
    "        exchange_a, exchange_b = xrp_prices[i], xrp_prices[j]\n",
    "        exchange_name_a, exchange_name_b = exchanges[i], exchanges[j]\n",
    "\n",
    "        spread_percentage, buy_price, sell_price = find_arbitrage(exchange_a, exchange_b)\n",
    "\n",
    "        if spread_percentage > 0:\n",
    "            print(f'Buy XRP at {exchange_name_a} for ${buy_price} and Sell at {exchange_name_b} for ${sell_price}. You have made a ${sell_price-buy_price} profit or {spread_percentage}% of your buy price.')"
   ]
  },
  {
   "cell_type": "markdown",
   "metadata": {},
   "source": [
    "##### Track each trade and push to a dictionary to help visualize all the data in a DataFrame\n",
    "- Create a empty dictionary, 'trades'\n",
    "- Create a unique key for each entry, 'trade_count'\n",
    "- Define what a key:value pair in 'trades', look like:\n",
    "    '0':['date_time', 'currency', 'exchange_name_a', 'buy_price', 'exchange_name_b', 'sell_price', 'profit($)', 'spread_percentage']"
   ]
  },
  {
   "cell_type": "code",
   "execution_count": 19,
   "metadata": {},
   "outputs": [],
   "source": [
    "from datetime import datetime\n",
    "current_datetime = datetime.now().isoformat()\n",
    "\n",
    "trades = {}\n",
    "trade_count = 0"
   ]
  },
  {
   "cell_type": "markdown",
   "metadata": {},
   "source": [
    "##### Bitcoin"
   ]
  },
  {
   "cell_type": "code",
   "execution_count": 20,
   "metadata": {},
   "outputs": [],
   "source": [
    "for i in range(len(bitcoin_prices)):\n",
    "    for j in range(i+1, len(bitcoin_prices)):\n",
    "        exchange_a, exchange_b = bitcoin_prices[i], bitcoin_prices[j]\n",
    "        exchange_name_a, exchange_name_b = exchanges[i], exchanges[j]\n",
    "\n",
    "        spread_percentage, buy_price, sell_price = find_arbitrage(exchange_a, exchange_b)\n",
    "\n",
    "        if spread_percentage > 0:\n",
    "            current_datetime\n",
    "            currency = cryptos[0]\n",
    "            profit = sell_price - buy_price\n",
    "            trades[trade_count] = [current_datetime, currency, exchange_name_a, buy_price, exchange_name_b, sell_price, profit, spread_percentage]\n",
    "            trade_count+=1"
   ]
  },
  {
   "cell_type": "markdown",
   "metadata": {},
   "source": [
    "##### Ethereum"
   ]
  },
  {
   "cell_type": "code",
   "execution_count": 21,
   "metadata": {},
   "outputs": [],
   "source": [
    "for i in range(len(ethereum_prices)):\n",
    "    for j in range(i+1, len(ethereum_prices)):\n",
    "        exchange_a, exchange_b = ethereum_prices[i], ethereum_prices[j]\n",
    "        exchange_name_a, exchange_name_b = exchanges[i], exchanges[j]\n",
    "\n",
    "        spread_percentage, buy_price, sell_price = find_arbitrage(exchange_a, exchange_b)\n",
    "\n",
    "        if spread_percentage > 0:\n",
    "            current_datetime\n",
    "            currency = cryptos[1]\n",
    "            profit = sell_price - buy_price\n",
    "            trades[trade_count] = [current_datetime, currency, exchange_name_a, buy_price, exchange_name_b, sell_price, profit, spread_percentage]\n",
    "            trade_count+=1"
   ]
  },
  {
   "cell_type": "markdown",
   "metadata": {},
   "source": [
    "##### Polygon"
   ]
  },
  {
   "cell_type": "code",
   "execution_count": 22,
   "metadata": {},
   "outputs": [],
   "source": [
    "for i in range(len(polygon_prices)):\n",
    "    for j in range(i+1, len(polygon_prices)):\n",
    "        exchange_a, exchange_b = polygon_prices[i], polygon_prices[j]\n",
    "        exchange_name_a, exchange_name_b = exchanges[i], exchanges[j]\n",
    "\n",
    "        spread_percentage, buy_price, sell_price = find_arbitrage(exchange_a, exchange_b)\n",
    "\n",
    "        if spread_percentage > 0:\n",
    "            current_datetime\n",
    "            currency = cryptos[2]\n",
    "            profit = sell_price - buy_price\n",
    "            trades[trade_count] = [current_datetime, currency, exchange_name_a, buy_price, exchange_name_b, sell_price, profit, spread_percentage]\n",
    "            trade_count+=1"
   ]
  },
  {
   "cell_type": "markdown",
   "metadata": {},
   "source": [
    "##### Solana"
   ]
  },
  {
   "cell_type": "code",
   "execution_count": 23,
   "metadata": {},
   "outputs": [],
   "source": [
    "for i in range(len(solana_prices)):\n",
    "    for j in range(i+1, len(solana_prices)):\n",
    "        exchange_a, exchange_b = solana_prices[i], solana_prices[j]\n",
    "        exchange_name_a, exchange_name_b = exchanges[i], exchanges[j]\n",
    "\n",
    "        spread_percentage, buy_price, sell_price = find_arbitrage(exchange_a, exchange_b)\n",
    "\n",
    "        if spread_percentage > 0:\n",
    "            current_datetime\n",
    "            currency = cryptos[3]\n",
    "            profit = sell_price - buy_price\n",
    "            trades[trade_count] = [current_datetime, currency, exchange_name_a, buy_price, exchange_name_b, sell_price, profit, spread_percentage]\n",
    "            trade_count+=1\n"
   ]
  },
  {
   "cell_type": "markdown",
   "metadata": {},
   "source": [
    "##### XRP"
   ]
  },
  {
   "cell_type": "code",
   "execution_count": 24,
   "metadata": {},
   "outputs": [],
   "source": [
    "for i in range(len(xrp_prices)):\n",
    "    for j in range(i+1, len(xrp_prices)):\n",
    "        exchange_a, exchange_b = xrp_prices[i], xrp_prices[j]\n",
    "        exchange_name_a, exchange_name_b = exchanges[i], exchanges[j]\n",
    "\n",
    "        spread_percentage, buy_price, sell_price = find_arbitrage(exchange_a, exchange_b)\n",
    "\n",
    "        if spread_percentage > 0:\n",
    "            current_datetime\n",
    "            currency = cryptos[4]\n",
    "            profit = sell_price - buy_price\n",
    "            trades[trade_count] = [current_datetime, currency, exchange_name_a, buy_price, exchange_name_b, sell_price, profit, spread_percentage]\n",
    "            trade_count+=1"
   ]
  },
  {
   "cell_type": "markdown",
   "metadata": {},
   "source": [
    "##### Transform the trades dictionary to a DataFrame and preview"
   ]
  },
  {
   "cell_type": "code",
   "execution_count": 25,
   "metadata": {},
   "outputs": [
    {
     "data": {
      "text/html": [
       "<div>\n",
       "<style scoped>\n",
       "    .dataframe tbody tr th:only-of-type {\n",
       "        vertical-align: middle;\n",
       "    }\n",
       "\n",
       "    .dataframe tbody tr th {\n",
       "        vertical-align: top;\n",
       "    }\n",
       "\n",
       "    .dataframe thead th {\n",
       "        text-align: right;\n",
       "    }\n",
       "</style>\n",
       "<table border=\"1\" class=\"dataframe\">\n",
       "  <thead>\n",
       "    <tr style=\"text-align: right;\">\n",
       "      <th></th>\n",
       "      <th>current_datetime</th>\n",
       "      <th>currency</th>\n",
       "      <th>exchange_name_a</th>\n",
       "      <th>buy_price</th>\n",
       "      <th>exchange_name_b</th>\n",
       "      <th>sell_price</th>\n",
       "      <th>profit</th>\n",
       "      <th>spread_percentage</th>\n",
       "    </tr>\n",
       "  </thead>\n",
       "  <tbody>\n",
       "    <tr>\n",
       "      <th>0</th>\n",
       "      <td>2024-02-22T19:32:50.784144</td>\n",
       "      <td>bitcoin</td>\n",
       "      <td>Bitstamp</td>\n",
       "      <td>51371.0</td>\n",
       "      <td>Gemini</td>\n",
       "      <td>51374.33</td>\n",
       "      <td>3.33</td>\n",
       "      <td>0.006482</td>\n",
       "    </tr>\n",
       "    <tr>\n",
       "      <th>1</th>\n",
       "      <td>2024-02-22T19:32:50.784144</td>\n",
       "      <td>bitcoin</td>\n",
       "      <td>Bitstamp</td>\n",
       "      <td>51371.0</td>\n",
       "      <td>Kraken</td>\n",
       "      <td>51383.9</td>\n",
       "      <td>12.9</td>\n",
       "      <td>0.025111</td>\n",
       "    </tr>\n",
       "    <tr>\n",
       "      <th>2</th>\n",
       "      <td>2024-02-22T19:32:50.784144</td>\n",
       "      <td>bitcoin</td>\n",
       "      <td>Bitstamp</td>\n",
       "      <td>51371.0</td>\n",
       "      <td>Poloniex</td>\n",
       "      <td>51392.56</td>\n",
       "      <td>21.56</td>\n",
       "      <td>0.041969</td>\n",
       "    </tr>\n",
       "    <tr>\n",
       "      <th>3</th>\n",
       "      <td>2024-02-22T19:32:50.784144</td>\n",
       "      <td>bitcoin</td>\n",
       "      <td>Gemini</td>\n",
       "      <td>51383.23</td>\n",
       "      <td>Kraken</td>\n",
       "      <td>51383.9</td>\n",
       "      <td>0.67</td>\n",
       "      <td>0.001304</td>\n",
       "    </tr>\n",
       "    <tr>\n",
       "      <th>4</th>\n",
       "      <td>2024-02-22T19:32:50.784144</td>\n",
       "      <td>bitcoin</td>\n",
       "      <td>Gemini</td>\n",
       "      <td>51383.23</td>\n",
       "      <td>Poloniex</td>\n",
       "      <td>51392.56</td>\n",
       "      <td>9.33</td>\n",
       "      <td>0.018158</td>\n",
       "    </tr>\n",
       "    <tr>\n",
       "      <th>5</th>\n",
       "      <td>2024-02-22T19:32:50.784144</td>\n",
       "      <td>bitcoin</td>\n",
       "      <td>Kraken</td>\n",
       "      <td>51384.0</td>\n",
       "      <td>Poloniex</td>\n",
       "      <td>51392.56</td>\n",
       "      <td>8.56</td>\n",
       "      <td>0.016659</td>\n",
       "    </tr>\n",
       "    <tr>\n",
       "      <th>6</th>\n",
       "      <td>2024-02-22T19:32:50.784144</td>\n",
       "      <td>ethereum</td>\n",
       "      <td>Bitstamp</td>\n",
       "      <td>2986.4</td>\n",
       "      <td>Kraken</td>\n",
       "      <td>2987.92</td>\n",
       "      <td>1.52</td>\n",
       "      <td>0.050897</td>\n",
       "    </tr>\n",
       "    <tr>\n",
       "      <th>7</th>\n",
       "      <td>2024-02-22T19:32:50.784144</td>\n",
       "      <td>ethereum</td>\n",
       "      <td>Bitstamp</td>\n",
       "      <td>2986.4</td>\n",
       "      <td>Poloniex</td>\n",
       "      <td>2987.8</td>\n",
       "      <td>1.4</td>\n",
       "      <td>0.046879</td>\n",
       "    </tr>\n",
       "    <tr>\n",
       "      <th>8</th>\n",
       "      <td>2024-02-22T19:32:50.784144</td>\n",
       "      <td>ethereum</td>\n",
       "      <td>Gemini</td>\n",
       "      <td>2987.16</td>\n",
       "      <td>Kraken</td>\n",
       "      <td>2987.92</td>\n",
       "      <td>0.76</td>\n",
       "      <td>0.025442</td>\n",
       "    </tr>\n",
       "    <tr>\n",
       "      <th>9</th>\n",
       "      <td>2024-02-22T19:32:50.784144</td>\n",
       "      <td>ethereum</td>\n",
       "      <td>Gemini</td>\n",
       "      <td>2987.16</td>\n",
       "      <td>Poloniex</td>\n",
       "      <td>2987.8</td>\n",
       "      <td>0.64</td>\n",
       "      <td>0.021425</td>\n",
       "    </tr>\n",
       "    <tr>\n",
       "      <th>10</th>\n",
       "      <td>2024-02-22T19:32:50.784144</td>\n",
       "      <td>solana</td>\n",
       "      <td>Bitstamp</td>\n",
       "      <td>102.2011</td>\n",
       "      <td>Kraken</td>\n",
       "      <td>102.22</td>\n",
       "      <td>0.0189</td>\n",
       "      <td>0.018493</td>\n",
       "    </tr>\n",
       "    <tr>\n",
       "      <th>11</th>\n",
       "      <td>2024-02-22T19:32:50.784144</td>\n",
       "      <td>xrp</td>\n",
       "      <td>Bitstamp</td>\n",
       "      <td>0.5431</td>\n",
       "      <td>Kraken</td>\n",
       "      <td>0.5433</td>\n",
       "      <td>0.0002</td>\n",
       "      <td>0.036826</td>\n",
       "    </tr>\n",
       "    <tr>\n",
       "      <th>12</th>\n",
       "      <td>2024-02-22T19:32:50.784144</td>\n",
       "      <td>xrp</td>\n",
       "      <td>Bitstamp</td>\n",
       "      <td>0.5431</td>\n",
       "      <td>Poloniex</td>\n",
       "      <td>0.5432</td>\n",
       "      <td>0.0001</td>\n",
       "      <td>0.018413</td>\n",
       "    </tr>\n",
       "    <tr>\n",
       "      <th>13</th>\n",
       "      <td>2024-02-22T19:32:50.784144</td>\n",
       "      <td>xrp</td>\n",
       "      <td>Gemini</td>\n",
       "      <td>0.54317</td>\n",
       "      <td>Kraken</td>\n",
       "      <td>0.5433</td>\n",
       "      <td>0.00013</td>\n",
       "      <td>0.023934</td>\n",
       "    </tr>\n",
       "    <tr>\n",
       "      <th>14</th>\n",
       "      <td>2024-02-22T19:32:50.784144</td>\n",
       "      <td>xrp</td>\n",
       "      <td>Gemini</td>\n",
       "      <td>0.54317</td>\n",
       "      <td>Poloniex</td>\n",
       "      <td>0.5432</td>\n",
       "      <td>0.00003</td>\n",
       "      <td>0.005523</td>\n",
       "    </tr>\n",
       "  </tbody>\n",
       "</table>\n",
       "</div>"
      ],
      "text/plain": [
       "              current_datetime  currency exchange_name_a buy_price  \\\n",
       "0   2024-02-22T19:32:50.784144   bitcoin        Bitstamp   51371.0   \n",
       "1   2024-02-22T19:32:50.784144   bitcoin        Bitstamp   51371.0   \n",
       "2   2024-02-22T19:32:50.784144   bitcoin        Bitstamp   51371.0   \n",
       "3   2024-02-22T19:32:50.784144   bitcoin          Gemini  51383.23   \n",
       "4   2024-02-22T19:32:50.784144   bitcoin          Gemini  51383.23   \n",
       "5   2024-02-22T19:32:50.784144   bitcoin          Kraken   51384.0   \n",
       "6   2024-02-22T19:32:50.784144  ethereum        Bitstamp    2986.4   \n",
       "7   2024-02-22T19:32:50.784144  ethereum        Bitstamp    2986.4   \n",
       "8   2024-02-22T19:32:50.784144  ethereum          Gemini   2987.16   \n",
       "9   2024-02-22T19:32:50.784144  ethereum          Gemini   2987.16   \n",
       "10  2024-02-22T19:32:50.784144    solana        Bitstamp  102.2011   \n",
       "11  2024-02-22T19:32:50.784144       xrp        Bitstamp    0.5431   \n",
       "12  2024-02-22T19:32:50.784144       xrp        Bitstamp    0.5431   \n",
       "13  2024-02-22T19:32:50.784144       xrp          Gemini   0.54317   \n",
       "14  2024-02-22T19:32:50.784144       xrp          Gemini   0.54317   \n",
       "\n",
       "   exchange_name_b sell_price   profit spread_percentage  \n",
       "0           Gemini   51374.33     3.33          0.006482  \n",
       "1           Kraken    51383.9     12.9          0.025111  \n",
       "2         Poloniex   51392.56    21.56          0.041969  \n",
       "3           Kraken    51383.9     0.67          0.001304  \n",
       "4         Poloniex   51392.56     9.33          0.018158  \n",
       "5         Poloniex   51392.56     8.56          0.016659  \n",
       "6           Kraken    2987.92     1.52          0.050897  \n",
       "7         Poloniex     2987.8      1.4          0.046879  \n",
       "8           Kraken    2987.92     0.76          0.025442  \n",
       "9         Poloniex     2987.8     0.64          0.021425  \n",
       "10          Kraken     102.22   0.0189          0.018493  \n",
       "11          Kraken     0.5433   0.0002          0.036826  \n",
       "12        Poloniex     0.5432   0.0001          0.018413  \n",
       "13          Kraken     0.5433  0.00013          0.023934  \n",
       "14        Poloniex     0.5432  0.00003          0.005523  "
      ]
     },
     "metadata": {},
     "output_type": "display_data"
    }
   ],
   "source": [
    "trades_df = pd.DataFrame(trades).transpose()\n",
    "\n",
    "trades_df.columns = ['current_datetime', 'currency', 'exchange_name_a', 'buy_price', 'exchange_name_b', 'sell_price', 'profit', 'spread_percentage']\n",
    "\n",
    "display(trades_df)"
   ]
  },
  {
   "cell_type": "markdown",
   "metadata": {},
   "source": [
    "# Create database, table and connect \n",
    "\n",
    "### Instead of storing the trades in a DataFrame lets store them in a sql database \n",
    "- Create a database locally named 'arbi_db'\n",
    "- Python code:\n",
    "    - import the sqlalchemy library \n",
    "    - add sql credentials\n",
    "    - establish a connection \n",
    "    - create a cursor object to execute sql queries \n",
    "- Create a table 'trades' in the database with the appropriate schema to match the trades values in the trades dictionary \n",
    "- Add the trades to the table"
   ]
  },
  {
   "cell_type": "code",
   "execution_count": 26,
   "metadata": {},
   "outputs": [],
   "source": [
    "from sqlalchemy import create_engine, MetaData, Table, Column, Integer, Float, String\n",
    "from sqlalchemy.inspection import inspect\n",
    "\n",
    "# Define the database url\n",
    "db_url = \"postgresql://mikaelborneo@localhost:5432/arbi_db\"\n",
    "\n",
    "# Create the engine object\n",
    "engine = create_engine(db_url) \n",
    "\n",
    "# Create the table schema \n",
    "metadata = MetaData()\n",
    "\n",
    "trades = Table(\n",
    "    'trades',\n",
    "    metadata,\n",
    "    Column('trade_count', Integer, primary_key=True),\n",
    "    Column('current_datetime', String),\n",
    "    Column('currency', String),\n",
    "    Column('volume', Float),\n",
    "    Column('buy_exchange', String),\n",
    "    Column('buy_price', Float),\n",
    "    Column('sell_exchange', String),\n",
    "    Column('sell_price', Float),\n",
    "    Column('profit', Float),\n",
    "    Column('spread_percentage', Float),\n",
    "    Column('wallet_balance', Float),\n",
    ")\n",
    "\n",
    "# Execute the table creation\n",
    "# Check if the table exist before creating\n",
    "if not inspect(engine).has_table('trades'):\n",
    "    metadata.create_all(engine)\n"
   ]
  },
  {
   "cell_type": "markdown",
   "metadata": {},
   "source": [
    "### Add each trade to the table"
   ]
  },
  {
   "cell_type": "markdown",
   "metadata": {},
   "source": [
    "##### Bitcoin"
   ]
  },
  {
   "cell_type": "code",
   "execution_count": null,
   "metadata": {},
   "outputs": [],
   "source": [
    "wallet = 10000\n",
    "bitcoin_shares = 10\n",
    "\n",
    "\n",
    "for i in range(len(bitcoin_prices)):\n",
    "    for j in range(i+1, len(bitcoin_prices)):\n",
    "        exchange_a, exchange_b = bitcoin_prices[i], bitcoin_prices[j]\n",
    "        exchange_name_a, exchange_name_b = exchanges[i], exchanges[j]\n",
    "\n",
    "        spread_percentage, buy_price, sell_price = find_arbitrage(exchange_a, exchange_b)\n",
    "\n",
    "        if spread_percentage > 0:\n",
    "            current_datetime\n",
    "            \n",
    "            insert_row = trades.insert().values(\n",
    "                current_datetime = current_datetime,\n",
    "                currency = cryptos[0],\n",
    "                volume = bitcoin_shares,\n",
    "                buy_exchange = exchange_name_a,\n",
    "                buy_price = buy_price,\n",
    "                sell_exchange = exchange_name_b,\n",
    "                sell_price = sell_price,\n",
    "                profit = (sell_price - buy_price),\n",
    "                spread_percentage = spread_percentage,\n",
    "                wallet_balance = (wallet+profit)\n",
    "            )\n",
    "\n",
    "            with engine.connect() as connection:\n",
    "                connection.execute(insert_row)"
   ]
  },
  {
   "cell_type": "markdown",
   "metadata": {},
   "source": [
    "##### Ethereum"
   ]
  },
  {
   "cell_type": "code",
   "execution_count": null,
   "metadata": {},
   "outputs": [],
   "source": []
  },
  {
   "cell_type": "markdown",
   "metadata": {},
   "source": [
    "##### Polygon"
   ]
  },
  {
   "cell_type": "code",
   "execution_count": null,
   "metadata": {},
   "outputs": [],
   "source": []
  },
  {
   "cell_type": "markdown",
   "metadata": {},
   "source": [
    "##### Solana"
   ]
  },
  {
   "cell_type": "code",
   "execution_count": null,
   "metadata": {},
   "outputs": [],
   "source": []
  },
  {
   "cell_type": "markdown",
   "metadata": {},
   "source": [
    "##### XRP"
   ]
  },
  {
   "cell_type": "code",
   "execution_count": null,
   "metadata": {},
   "outputs": [],
   "source": []
  }
 ],
 "metadata": {
  "kernelspec": {
   "display_name": "Python 3 (ipykernel)",
   "language": "python",
   "name": "python3"
  },
  "language_info": {
   "codemirror_mode": {
    "name": "ipython",
    "version": 3
   },
   "file_extension": ".py",
   "mimetype": "text/x-python",
   "name": "python",
   "nbconvert_exporter": "python",
   "pygments_lexer": "ipython3",
   "version": "3.10.13"
  }
 },
 "nbformat": 4,
 "nbformat_minor": 4
}
