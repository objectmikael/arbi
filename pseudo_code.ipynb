{
 "cells": [
  {
   "cell_type": "markdown",
   "metadata": {},
   "source": [
    "### Import necessary libraries, packages, and dependencies \n",
    "- Use requests to connect to APIs\n",
    "- Use pandas to create DataFrames and perform analysis \n",
    "- Use hvplot to produce interactive graphs"
   ]
  },
  {
   "cell_type": "code",
   "execution_count": 243,
   "metadata": {},
   "outputs": [],
   "source": [
    "import requests\n",
    "import pandas as pd\n",
    "# import hvplot.pandas    "
   ]
  },
  {
   "cell_type": "markdown",
   "metadata": {},
   "source": [
    "### Fetch data from exchanges (Binance, Kraken, Bitstamp, Poloniex, Gemini)\n",
    "- Define the api endpoint(url)\n",
    "    - Look into the exchange api documentation \n",
    "    - Look for an endpoint that shows the various currency tickers\n",
    "    - Use Postman to identify the desired ticker name\n",
    "    - Find the endpoint that contains the ask price and bid price for a specific currency\n",
    "- Retrive the data and convert to JSON\n",
    "- Save the prices from the returned data"
   ]
  },
  {
   "cell_type": "markdown",
   "metadata": {},
   "source": [
    "### a. Retrieve the ask and bid price of Bitcoin from each exchange"
   ]
  },
  {
   "cell_type": "markdown",
   "metadata": {},
   "source": [
    "##### Binance"
   ]
  },
  {
   "cell_type": "code",
   "execution_count": 244,
   "metadata": {},
   "outputs": [],
   "source": [
    "# endpoint - url - api \n",
    "binance_api_url = 'https://api.binance.us/api/v3/ticker/bookTicker?symbol=BTCUSDT'\n",
    "\n",
    "binance_response = requests.get(binance_api_url).json()\n",
    "\n",
    "binance_bitcoin_ask_price = float(binance_response['askPrice'])\n",
    "binance_bitcoin_bid_price = float(binance_response['bidPrice'])\n",
    "\n",
    "# display(binance_bitcoin_ask_price)\n",
    "# display(binance_bitcoin_bid_price)"
   ]
  },
  {
   "cell_type": "markdown",
   "metadata": {},
   "source": [
    "##### Poloniex"
   ]
  },
  {
   "cell_type": "code",
   "execution_count": 245,
   "metadata": {},
   "outputs": [],
   "source": [
    "poloniex_api_url = \"https://api.poloniex.com/markets/BTC_USDT/orderBook\"\n",
    "\n",
    "poloniex_response = requests.get(poloniex_api_url).json()\n",
    "\n",
    "poloniex_bitcoin_ask_price = float(poloniex_response['asks'][0])\n",
    "poloniex_bitcoin_bid_price = float(poloniex_response['bids'][0])\n",
    "\n",
    "# display(poloniex_bitcoin_ask_price)\n",
    "# display(poloniex_bitcoin_bid_price)"
   ]
  },
  {
   "cell_type": "markdown",
   "metadata": {},
   "source": [
    "##### Kraken"
   ]
  },
  {
   "cell_type": "code",
   "execution_count": 246,
   "metadata": {},
   "outputs": [],
   "source": [
    "kraken_api_url = \"https://api.kraken.com/0/public/Ticker?pair=XBTUSDT\"\n",
    "\n",
    "kraken_response = requests.get(kraken_api_url).json()\n",
    "\n",
    "kraken_bitcoin_ask_price = float(kraken_response['result']['XBTUSDT']['a'][0])\n",
    "kraken_bitcoin_bid_price = float(kraken_response['result']['XBTUSDT']['b'][0])\n",
    "\n",
    "# display(kraken_bitcoin_ask_price)\n",
    "# display(kraken_bitcoin_bid_price)"
   ]
  },
  {
   "cell_type": "markdown",
   "metadata": {},
   "source": [
    "##### Bitstamp"
   ]
  },
  {
   "cell_type": "code",
   "execution_count": 247,
   "metadata": {},
   "outputs": [],
   "source": [
    "bitstamp_api_url = \"https://www.bitstamp.net/api/v2/ticker/btcusd\"\n",
    "\n",
    "bitstamp_response = requests.get(bitstamp_api_url).json()\n",
    "\n",
    "bitstamp_bitcoin_ask_price = float(bitstamp_response['ask'])\n",
    "bitstamp_bitcoin_bid_price = float(bitstamp_response['bid'])\n",
    "\n",
    "# display(bitstamp_bitcoin_ask_price)\n",
    "# display(bitstamp_bitcoin_bid_price)"
   ]
  },
  {
   "cell_type": "markdown",
   "metadata": {},
   "source": [
    "##### Gemini"
   ]
  },
  {
   "cell_type": "code",
   "execution_count": 248,
   "metadata": {},
   "outputs": [],
   "source": [
    "gemini_api_url = \"https://api.gemini.com/v2/ticker/btcusd\"\n",
    "\n",
    "gemini_response = requests.get(gemini_api_url).json()\n",
    "\n",
    "gemini_bitcoin_ask_price = float(gemini_response['ask'])\n",
    "gemini_bitcoin_bid_price = float(gemini_response['bid'])\n",
    "\n",
    "# display(gemini_bitcoin_ask_price)\n",
    "# display(gemini_bitcoin_bid_price)"
   ]
  },
  {
   "cell_type": "markdown",
   "metadata": {},
   "source": [
    "### b. Retrieve the ask and bid price for all cryptocurrencies(Bitcoin, Ethereum, Polygon, Solana, XRP) from each exchange.\n",
    "\n",
    "- Identify the tickers and store in alphabetical order\n",
    "- Store the exchange API url as a string minus the ticker symbol\n",
    "- Loop through the tickers and \n",
    "    - create an api_url for each ticker\n",
    "    - retrieve the data and convert to JSON\n",
    "    - fetch the ask and bid price and store in a list:- ['ask', 'bid']\n",
    "- NOTE: Store the ticker symbols in a list in the same order for each exchange "
   ]
  },
  {
   "cell_type": "markdown",
   "metadata": {},
   "source": [
    "##### Binance"
   ]
  },
  {
   "cell_type": "code",
   "execution_count": 249,
   "metadata": {},
   "outputs": [],
   "source": [
    "binance_tickers = ['BTCUSDT', 'ETHUSDT', 'MATICUSDT', 'SOLUSDT', 'XRPUSDT']\n",
    "binance_api_url = 'https://api.binance.us/api/v3/ticker/bookTicker?symbol='\n",
    "\n",
    "binance_prices = []\n",
    "\n",
    "for i in range(len(binance_tickers)):\n",
    "    api_url = binance_api_url+binance_tickers[i]\n",
    "    api_response = requests.get(api_url).json()\n",
    "    ask_price = float(api_response['askPrice'])\n",
    "    bid_price = float(api_response['bidPrice'])\n",
    "    binance_prices.append([ask_price, bid_price])\n",
    "\n",
    "# binance_prices"
   ]
  },
  {
   "cell_type": "markdown",
   "metadata": {},
   "source": [
    "##### Poloniex"
   ]
  },
  {
   "cell_type": "code",
   "execution_count": 250,
   "metadata": {},
   "outputs": [],
   "source": [
    "poloniex_tickers = ['BTC_USDT', 'ETH_USDT', 'MATIC_USDT', 'SOL_USDT', 'XRP_USDT']\n",
    "poloniex_api_url = \"https://api.poloniex.com/markets/\"\n",
    "\n",
    "poloniex_prices = []\n",
    "\n",
    "for i in range(len(poloniex_tickers)):\n",
    "    api_url = poloniex_api_url+poloniex_tickers[i]+\"/orderBook\"\n",
    "    api_response = requests.get(api_url).json()\n",
    "    ask_price = float(api_response['asks'][0])\n",
    "    bid_price = float(api_response['bids'][0])\n",
    "    poloniex_prices.append([ask_price, bid_price])\n",
    "\n",
    "# poloniex_prices"
   ]
  },
  {
   "cell_type": "markdown",
   "metadata": {},
   "source": [
    "##### Kraken"
   ]
  },
  {
   "cell_type": "code",
   "execution_count": 251,
   "metadata": {},
   "outputs": [],
   "source": [
    "kraken_tickers = ['XBTUSDT', 'ETHUSDT', 'MATICUSDT', 'SOLUSDT', 'XRPUSDT']\n",
    "kraken_api_url = 'https://api.kraken.com/0/public/Ticker?pair='\n",
    "\n",
    "kraken_prices = []\n",
    "\n",
    "for i in range(len(kraken_tickers)):\n",
    "    api_url = kraken_api_url+kraken_tickers[i]\n",
    "    api_response = requests.get(api_url).json()\n",
    "    ask_price = float(api_response['result'][kraken_tickers[i]]['a'][0])\n",
    "    bid_price = float(api_response['result'][kraken_tickers[i]]['b'][0])\n",
    "    kraken_prices.append([ask_price, bid_price])\n",
    "\n",
    "# kraken_prices"
   ]
  },
  {
   "cell_type": "markdown",
   "metadata": {},
   "source": [
    "##### Bitstamp"
   ]
  },
  {
   "cell_type": "code",
   "execution_count": 252,
   "metadata": {},
   "outputs": [],
   "source": [
    "bitstamp_tickers=['btcusd','ethusd','maticusd','solusd','xrpusd']\n",
    "bitstamp_api_url= 'https://www.bitstamp.net/api/v2/ticker/'\n",
    "\n",
    "bitstamp_prices=[]\n",
    "\n",
    "for i in range(len(bitstamp_tickers)):\n",
    "    api_url=bitstamp_api_url+bitstamp_tickers[i]\n",
    "    api_response=requests.get(api_url).json()\n",
    "    ask_price=float(api_response['ask'])\n",
    "    bid_price=float(api_response['bid'])\n",
    "    bitstamp_prices.append([ask_price,bid_price])\n",
    "\n",
    "# bitstamp_prices"
   ]
  },
  {
   "cell_type": "markdown",
   "metadata": {},
   "source": [
    "##### Gemini"
   ]
  },
  {
   "cell_type": "code",
   "execution_count": 253,
   "metadata": {},
   "outputs": [],
   "source": [
    "gemini_tickers=['btcusd','ethusd','maticusd','solusd','xrpusd']\n",
    "gemini_api_url= 'https://api.gemini.com/v2/ticker/'\n",
    "\n",
    "gemini_prices=[]\n",
    "\n",
    "for i in range(len(gemini_tickers)):\n",
    "    api_url=gemini_api_url+gemini_tickers[i]\n",
    "    api_response=requests.get(api_url).json()\n",
    "    ask_price=float(api_response['ask'])\n",
    "    bid_price=float(api_response['bid'])\n",
    "    gemini_prices.append([ask_price,bid_price])\n",
    "\n",
    "# gemini_prices"
   ]
  },
  {
   "cell_type": "markdown",
   "metadata": {},
   "source": [
    "### c. Store all bid and ask prices for easy retrieval \n",
    "- Store name of currencies in a list\n",
    "- Store prices of similar currencies to a unique list\n",
    "- Store name of exchanges in a list respective to the order of the prices "
   ]
  },
  {
   "cell_type": "code",
   "execution_count": 254,
   "metadata": {},
   "outputs": [],
   "source": [
    "cryptos = ['bitcoin', 'ethereum', 'polygon', 'solana', 'xrp']\n",
    "\n",
    "bitcoin_prices = [binance_prices[0], bitstamp_prices[0], gemini_prices[0], kraken_prices[0], poloniex_prices[0]]\n",
    "ethereum_prices = [binance_prices[1], bitstamp_prices[1], gemini_prices[1], kraken_prices[1], poloniex_prices[1]]\n",
    "polygon_prices = [binance_prices[2], bitstamp_prices[2], gemini_prices[2], kraken_prices[2], poloniex_prices[2]]\n",
    "solana_prices = [binance_prices[3], bitstamp_prices[3], gemini_prices[3], kraken_prices[3], poloniex_prices[3]]\n",
    "xrp_prices = [binance_prices[4], bitstamp_prices[4], gemini_prices[4], kraken_prices[4], poloniex_prices[4]]\n",
    "\n",
    "exchanges = ['Binance', 'Bitstamp', 'Gemini', 'Kraken', 'Poloniex']"
   ]
  },
  {
   "cell_type": "markdown",
   "metadata": {},
   "source": [
    "### Create Arbitrage Function\n",
    "- Use the price spread to determine a profitable opportunity \n",
    "- Search for opportunities across all exchanges"
   ]
  },
  {
   "cell_type": "code",
   "execution_count": 255,
   "metadata": {},
   "outputs": [],
   "source": [
    "def find_arbitrage(exchange_a, exchange_b):\n",
    "    ask_price_a = exchange_a[0]\n",
    "    bid_price_b = exchange_b[1]\n",
    "\n",
    "    spread_percent = (bid_price_b - ask_price_a) / ask_price_a * 100\n",
    "\n",
    "    return spread_percent, ask_price_a, bid_price_b"
   ]
  },
  {
   "cell_type": "markdown",
   "metadata": {},
   "source": [
    "### Search for opportunities across all exchanges "
   ]
  },
  {
   "cell_type": "markdown",
   "metadata": {},
   "source": [
    "##### Bitcoin"
   ]
  },
  {
   "cell_type": "code",
   "execution_count": 256,
   "metadata": {},
   "outputs": [
    {
     "name": "stdout",
     "output_type": "stream",
     "text": [
      "Buy Bitcoin at Gemini for $50889.18 and Sell at Kraken for $50906.3. You have made a $17.12000000000262 profit or 0.03364172894906662% of your buy price.\n"
     ]
    }
   ],
   "source": [
    "for i in range(len(bitcoin_prices)):\n",
    "    for j in range(i+1, len(bitcoin_prices)):\n",
    "        exchange_a, exchange_b = bitcoin_prices[i], bitcoin_prices[j]\n",
    "        exchange_name_a, exchange_name_b = exchanges[i], exchanges[j]\n",
    "\n",
    "        spread_percentage, buy_price, sell_price = find_arbitrage(exchange_a, exchange_b)\n",
    "\n",
    "        if spread_percentage > 0:\n",
    "            print(f'Buy Bitcoin at {exchange_name_a} for ${buy_price} and Sell at {exchange_name_b} for ${sell_price}. You have made a ${sell_price-buy_price} profit or {spread_percentage}% of your buy price.')"
   ]
  },
  {
   "cell_type": "markdown",
   "metadata": {},
   "source": [
    "##### Ethereum"
   ]
  },
  {
   "cell_type": "code",
   "execution_count": 257,
   "metadata": {},
   "outputs": [
    {
     "name": "stdout",
     "output_type": "stream",
     "text": [
      "Buy Ethereum at Bitstamp for $2938.6 and Sell at Kraken for $2939.19. You have made a $0.5900000000001455 profit or 0.020077587967064096% of your buy price.\n",
      "Buy Ethereum at Gemini for $2938.55 and Sell at Kraken for $2939.19. You have made a $0.6399999999998727 profit or 0.021779449047995527% of your buy price.\n"
     ]
    }
   ],
   "source": [
    "for i in range(len(ethereum_prices)):\n",
    "    for j in range(i+1, len(ethereum_prices)):\n",
    "        exchange_a, exchange_b = ethereum_prices[i], ethereum_prices[j]\n",
    "        exchange_name_a, exchange_name_b = exchanges[i], exchanges[j]\n",
    "\n",
    "        spread_percentage, buy_price, sell_price = find_arbitrage(exchange_a, exchange_b)\n",
    "\n",
    "        if spread_percentage > 0:\n",
    "            print(f'Buy Ethereum at {exchange_name_a} for ${buy_price} and Sell at {exchange_name_b} for ${sell_price}. You have made a ${sell_price-buy_price} profit or {spread_percentage}% of your buy price.')"
   ]
  },
  {
   "cell_type": "markdown",
   "metadata": {},
   "source": [
    "##### Polygon"
   ]
  },
  {
   "cell_type": "code",
   "execution_count": 258,
   "metadata": {},
   "outputs": [
    {
     "name": "stdout",
     "output_type": "stream",
     "text": [
      "Buy Polygon at Bitstamp for $0.97864 and Sell at Poloniex for $0.97897. You have made a $0.0003300000000000525 profit or 0.03372026485735843% of your buy price.\n"
     ]
    }
   ],
   "source": [
    "for i in range(len(polygon_prices)):\n",
    "    for j in range(i+1, len(polygon_prices)):\n",
    "        exchange_a, exchange_b = polygon_prices[i], polygon_prices[j]\n",
    "        exchange_name_a, exchange_name_b = exchanges[i], exchanges[j]\n",
    "\n",
    "        spread_percentage, buy_price, sell_price = find_arbitrage(exchange_a, exchange_b)\n",
    "\n",
    "        if spread_percentage > 0:\n",
    "            print(f'Buy Polygon at {exchange_name_a} for ${buy_price} and Sell at {exchange_name_b} for ${sell_price}. You have made a ${sell_price-buy_price} profit or {spread_percentage}% of your buy price.')"
   ]
  },
  {
   "cell_type": "markdown",
   "metadata": {},
   "source": [
    "##### Solana"
   ]
  },
  {
   "cell_type": "code",
   "execution_count": 259,
   "metadata": {},
   "outputs": [
    {
     "name": "stdout",
     "output_type": "stream",
     "text": [
      "Buy Solana at Gemini for $101.374 and Sell at Kraken for $101.38. You have made a $0.006000000000000227 profit or 0.005918677372896627% of your buy price.\n"
     ]
    }
   ],
   "source": [
    "for i in range(len(solana_prices)):\n",
    "    for j in range(i+1, len(solana_prices)):\n",
    "        # exchange_a = solana_prices[i]\n",
    "        # exchange_b = solana_prices[j]\n",
    "        exchange_a, exchange_b = solana_prices[i], solana_prices[j]\n",
    "        exchange_name_a, exchange_name_b = exchanges[i], exchanges[j]\n",
    "\n",
    "        spread_percentage, buy_price, sell_price = find_arbitrage(exchange_a, exchange_b)\n",
    "\n",
    "        if spread_percentage > 0:\n",
    "            print(f'Buy Solana at {exchange_name_a} for ${buy_price} and Sell at {exchange_name_b} for ${sell_price}. You have made a ${sell_price-buy_price} profit or {spread_percentage}% of your buy price.')"
   ]
  },
  {
   "cell_type": "markdown",
   "metadata": {},
   "source": [
    "##### XRP"
   ]
  },
  {
   "cell_type": "code",
   "execution_count": 260,
   "metadata": {},
   "outputs": [],
   "source": [
    "for i in range(len(xrp_prices)):\n",
    "    for j in range(i+1, len(xrp_prices)):\n",
    "        exchange_a, exchange_b = xrp_prices[i], xrp_prices[j]\n",
    "        exchange_name_a, exchange_name_b = exchanges[i], exchanges[j]\n",
    "\n",
    "        spread_percentage, buy_price, sell_price = find_arbitrage(exchange_a, exchange_b)\n",
    "\n",
    "        if spread_percentage > 0:\n",
    "            print(f'Buy XRP at {exchange_name_a} for ${buy_price} and Sell at {exchange_name_b} for ${sell_price}. You have made a ${sell_price-buy_price} profit or {spread_percentage}% of your buy price.')"
   ]
  },
  {
   "cell_type": "markdown",
   "metadata": {},
   "source": [
    "##### Track each trade and push to a dictionary to help visualize all the data in a DataFrame\n",
    "- Create a empty dictionary, 'trades'\n",
    "- Create a unique key for each entry, 'trade_count'\n",
    "- Define what a key:value pair in 'trades', look like:\n",
    "    '0':['date_time', 'currency', 'exchange_name_a', 'buy_price', 'exchange_name_b', 'sell_price', 'profit($)', 'spread_percentage']\n",
    "- import the datetime library to track the current time"
   ]
  },
  {
   "cell_type": "code",
   "execution_count": 261,
   "metadata": {},
   "outputs": [],
   "source": [
    "from datetime import datetime\n",
    "current_datetime = datetime.now().isoformat()\n",
    "\n",
    "trades = {}\n",
    "trade_count = 0"
   ]
  },
  {
   "cell_type": "markdown",
   "metadata": {},
   "source": [
    "##### Bitcoin"
   ]
  },
  {
   "cell_type": "code",
   "execution_count": 262,
   "metadata": {},
   "outputs": [],
   "source": [
    "for i in range(len(bitcoin_prices)):\n",
    "    for j in range(i+1, len(bitcoin_prices)):\n",
    "        exchange_a, exchange_b = bitcoin_prices[i], bitcoin_prices[j]\n",
    "        exchange_name_a, exchange_name_b = exchanges[i], exchanges[j]\n",
    "\n",
    "        spread_percentage, buy_price, sell_price = find_arbitrage(exchange_a, exchange_b)\n",
    "\n",
    "        if spread_percentage > 0:\n",
    "            current_datetime\n",
    "            currency = cryptos[0]\n",
    "            profit = sell_price - buy_price\n",
    "            trades[trade_count] = [current_datetime, currency, exchange_name_a, buy_price, exchange_name_b, sell_price, profit, spread_percentage]\n",
    "            trade_count+=1"
   ]
  },
  {
   "cell_type": "markdown",
   "metadata": {},
   "source": [
    "##### Ethereum"
   ]
  },
  {
   "cell_type": "code",
   "execution_count": 263,
   "metadata": {},
   "outputs": [],
   "source": [
    "for i in range(len(ethereum_prices)):\n",
    "    for j in range(i+1, len(ethereum_prices)):\n",
    "        exchange_a, exchange_b = ethereum_prices[i], ethereum_prices[j]\n",
    "        exchange_name_a, exchange_name_b = exchanges[i], exchanges[j]\n",
    "\n",
    "        spread_percentage, buy_price, sell_price = find_arbitrage(exchange_a, exchange_b)\n",
    "\n",
    "        if spread_percentage > 0:\n",
    "            current_datetime\n",
    "            currency = cryptos[1]\n",
    "            profit = sell_price - buy_price\n",
    "            trades[trade_count] = [current_datetime, currency, exchange_name_a, buy_price, exchange_name_b, sell_price, profit, spread_percentage]\n",
    "            trade_count+=1"
   ]
  },
  {
   "cell_type": "markdown",
   "metadata": {},
   "source": [
    "##### Polygon"
   ]
  },
  {
   "cell_type": "code",
   "execution_count": 264,
   "metadata": {},
   "outputs": [],
   "source": [
    "for i in range(len(polygon_prices)):\n",
    "    for j in range(i+1, len(polygon_prices)):\n",
    "        exchange_a, exchange_b = polygon_prices[i], polygon_prices[j]\n",
    "        exchange_name_a, exchange_name_b = exchanges[i], exchanges[j]\n",
    "\n",
    "        spread_percentage, buy_price, sell_price = find_arbitrage(exchange_a, exchange_b)\n",
    "\n",
    "        if spread_percentage > 0:\n",
    "            current_datetime\n",
    "            currency = cryptos[2]\n",
    "            profit = sell_price - buy_price\n",
    "            trades[trade_count] = [current_datetime, currency, exchange_name_a, buy_price, exchange_name_b, sell_price, profit, spread_percentage]\n",
    "            trade_count+=1"
   ]
  },
  {
   "cell_type": "markdown",
   "metadata": {},
   "source": [
    "##### Solana"
   ]
  },
  {
   "cell_type": "code",
   "execution_count": 265,
   "metadata": {},
   "outputs": [],
   "source": [
    "for i in range(len(solana_prices)):\n",
    "    for j in range(i+1, len(solana_prices)):\n",
    "        exchange_a, exchange_b = solana_prices[i], solana_prices[j]\n",
    "        exchange_name_a, exchange_name_b = exchanges[i], exchanges[j]\n",
    "\n",
    "        spread_percentage, buy_price, sell_price = find_arbitrage(exchange_a, exchange_b)\n",
    "\n",
    "        if spread_percentage > 0:\n",
    "            current_datetime\n",
    "            currency = cryptos[3]\n",
    "            profit = sell_price - buy_price\n",
    "            trades[trade_count] = [current_datetime, currency, exchange_name_a, buy_price, exchange_name_b, sell_price, profit, spread_percentage]\n",
    "            trade_count+=1\n"
   ]
  },
  {
   "cell_type": "markdown",
   "metadata": {},
   "source": [
    "##### XRP"
   ]
  },
  {
   "cell_type": "code",
   "execution_count": 266,
   "metadata": {},
   "outputs": [],
   "source": [
    "for i in range(len(xrp_prices)):\n",
    "    for j in range(i+1, len(xrp_prices)):\n",
    "        exchange_a, exchange_b = xrp_prices[i], xrp_prices[j]\n",
    "        exchange_name_a, exchange_name_b = exchanges[i], exchanges[j]\n",
    "\n",
    "        spread_percentage, buy_price, sell_price = find_arbitrage(exchange_a, exchange_b)\n",
    "\n",
    "        if spread_percentage > 0:\n",
    "            current_datetime\n",
    "            currency = cryptos[4]\n",
    "            profit = sell_price - buy_price\n",
    "            trades[trade_count] = [current_datetime, currency, exchange_name_a, buy_price, exchange_name_b, sell_price, profit, spread_percentage]\n",
    "            trade_count+=1"
   ]
  },
  {
   "cell_type": "markdown",
   "metadata": {},
   "source": [
    "##### Transform the trades dictionary to a DataFrame and preview"
   ]
  },
  {
   "cell_type": "code",
   "execution_count": 267,
   "metadata": {},
   "outputs": [
    {
     "data": {
      "text/html": [
       "<div>\n",
       "<style scoped>\n",
       "    .dataframe tbody tr th:only-of-type {\n",
       "        vertical-align: middle;\n",
       "    }\n",
       "\n",
       "    .dataframe tbody tr th {\n",
       "        vertical-align: top;\n",
       "    }\n",
       "\n",
       "    .dataframe thead th {\n",
       "        text-align: right;\n",
       "    }\n",
       "</style>\n",
       "<table border=\"1\" class=\"dataframe\">\n",
       "  <thead>\n",
       "    <tr style=\"text-align: right;\">\n",
       "      <th></th>\n",
       "      <th>current_datetime</th>\n",
       "      <th>currency</th>\n",
       "      <th>exchange_name_a</th>\n",
       "      <th>buy_price</th>\n",
       "      <th>exchange_name_b</th>\n",
       "      <th>sell_price</th>\n",
       "      <th>profit</th>\n",
       "      <th>spread_percentage</th>\n",
       "    </tr>\n",
       "  </thead>\n",
       "  <tbody>\n",
       "    <tr>\n",
       "      <th>0</th>\n",
       "      <td>2024-02-23T09:51:09.716946</td>\n",
       "      <td>bitcoin</td>\n",
       "      <td>Gemini</td>\n",
       "      <td>50889.18</td>\n",
       "      <td>Kraken</td>\n",
       "      <td>50906.3</td>\n",
       "      <td>17.12</td>\n",
       "      <td>0.033642</td>\n",
       "    </tr>\n",
       "    <tr>\n",
       "      <th>1</th>\n",
       "      <td>2024-02-23T09:51:09.716946</td>\n",
       "      <td>ethereum</td>\n",
       "      <td>Bitstamp</td>\n",
       "      <td>2938.6</td>\n",
       "      <td>Kraken</td>\n",
       "      <td>2939.19</td>\n",
       "      <td>0.59</td>\n",
       "      <td>0.020078</td>\n",
       "    </tr>\n",
       "    <tr>\n",
       "      <th>2</th>\n",
       "      <td>2024-02-23T09:51:09.716946</td>\n",
       "      <td>ethereum</td>\n",
       "      <td>Gemini</td>\n",
       "      <td>2938.55</td>\n",
       "      <td>Kraken</td>\n",
       "      <td>2939.19</td>\n",
       "      <td>0.64</td>\n",
       "      <td>0.021779</td>\n",
       "    </tr>\n",
       "    <tr>\n",
       "      <th>3</th>\n",
       "      <td>2024-02-23T09:51:09.716946</td>\n",
       "      <td>polygon</td>\n",
       "      <td>Bitstamp</td>\n",
       "      <td>0.97864</td>\n",
       "      <td>Poloniex</td>\n",
       "      <td>0.97897</td>\n",
       "      <td>0.00033</td>\n",
       "      <td>0.03372</td>\n",
       "    </tr>\n",
       "    <tr>\n",
       "      <th>4</th>\n",
       "      <td>2024-02-23T09:51:09.716946</td>\n",
       "      <td>solana</td>\n",
       "      <td>Gemini</td>\n",
       "      <td>101.374</td>\n",
       "      <td>Kraken</td>\n",
       "      <td>101.38</td>\n",
       "      <td>0.006</td>\n",
       "      <td>0.005919</td>\n",
       "    </tr>\n",
       "  </tbody>\n",
       "</table>\n",
       "</div>"
      ],
      "text/plain": [
       "             current_datetime  currency exchange_name_a buy_price  \\\n",
       "0  2024-02-23T09:51:09.716946   bitcoin          Gemini  50889.18   \n",
       "1  2024-02-23T09:51:09.716946  ethereum        Bitstamp    2938.6   \n",
       "2  2024-02-23T09:51:09.716946  ethereum          Gemini   2938.55   \n",
       "3  2024-02-23T09:51:09.716946   polygon        Bitstamp   0.97864   \n",
       "4  2024-02-23T09:51:09.716946    solana          Gemini   101.374   \n",
       "\n",
       "  exchange_name_b sell_price   profit spread_percentage  \n",
       "0          Kraken    50906.3    17.12          0.033642  \n",
       "1          Kraken    2939.19     0.59          0.020078  \n",
       "2          Kraken    2939.19     0.64          0.021779  \n",
       "3        Poloniex    0.97897  0.00033           0.03372  \n",
       "4          Kraken     101.38    0.006          0.005919  "
      ]
     },
     "metadata": {},
     "output_type": "display_data"
    }
   ],
   "source": [
    "trades_df = pd.DataFrame(trades).transpose()\n",
    "\n",
    "trades_df.columns = ['current_datetime', 'currency', 'exchange_name_a', 'buy_price', 'exchange_name_b', 'sell_price', 'profit', 'spread_percentage']\n",
    "\n",
    "display(trades_df)"
   ]
  },
  {
   "cell_type": "markdown",
   "metadata": {},
   "source": [
    "# Create database, table and connect \n",
    "\n",
    "### Instead of storing the trades in a DataFrame lets store them in a sql database \n",
    "- Create a database locally named 'arbi_db'\n",
    "- Import the sqlalchemy library \n",
    "- Import the os and dotenv libraries to access the .env file\n",
    "- Add sql credentials\n",
    "- Establish a connection \n",
    "- Create a cursor object to execute sql queries \n",
    "- Create a table 'trades' in the database with the appropriate schema to match the trades values in the trades dictionary \n",
    "- Add the trades to the table"
   ]
  },
  {
   "cell_type": "code",
   "execution_count": 268,
   "metadata": {},
   "outputs": [],
   "source": [
    "from sqlalchemy import create_engine, MetaData, Table, Column, Integer, Float, String\n",
    "from sqlalchemy.inspection import inspect\n",
    "import os\n",
    "from dotenv import load_dotenv\n",
    "\n",
    "# Load environment variables from .env file\n",
    "load_dotenv()\n",
    "\n",
    "# Access the variables \n",
    "psql_username = os.getenv('PSQL_USERNAME')\n",
    "psql_password = os.getenv('PSQL_PASSWORD')\n",
    "psql_host = os.getenv('PSQL_HOST')\n",
    "psql_port = os.getenv('PSQL_PORT')\n",
    "db_name = os.getenv('DB_NAME')\n",
    "\n",
    "# Define the database url\n",
    "db_url = f\"postgresql://{psql_username}:{psql_password}@{psql_host}:{psql_port}/{db_name}\" \n",
    "\n",
    "# Create the engine object\n",
    "engine = create_engine(db_url) \n",
    "\n",
    "# Create the table schema \n",
    "metadata = MetaData()\n",
    "\n",
    "trades = Table(\n",
    "    'trades',\n",
    "    metadata,\n",
    "    Column('trade_count', Integer, primary_key=True),\n",
    "    Column('current_datetime', String),\n",
    "    Column('currency', String),\n",
    "    Column('volume', Float),\n",
    "    Column('buy_exchange', String),\n",
    "    Column('buy_price', Float),\n",
    "    Column('total_purchase_amount', Float),\n",
    "    Column('sell_exchange', String),\n",
    "    Column('sell_price', Float),\n",
    "    Column('total_sale_amount', Float),\n",
    "    Column('profit', Float),\n",
    "    Column('spread_percentage', Float),\n",
    "    Column('wallet_balance', Float),\n",
    ")\n",
    "\n",
    "# Execute the table creation\n",
    "# Check if the table exist before creating\n",
    "if not inspect(engine).has_table('trades'):\n",
    "    metadata.create_all(engine)\n"
   ]
  },
  {
   "cell_type": "markdown",
   "metadata": {},
   "source": [
    "### Add each trade to the table"
   ]
  },
  {
   "cell_type": "code",
   "execution_count": 269,
   "metadata": {},
   "outputs": [],
   "source": [
    "# Global Variables\n",
    "wallet = 10000\n",
    "\n",
    "# Extract the first values from each sublist\n",
    "bitcoin_ask_values = [sublist[0] for sublist in bitcoin_prices]\n",
    "ethereum_ask_values = [sublist[0] for sublist in ethereum_prices]\n",
    "polygon_ask_values = [sublist[0] for sublist in polygon_prices]\n",
    "solana_ask_values = [sublist[0] for sublist in solana_prices]\n",
    "xrp_ask_values = [sublist[0] for sublist in xrp_prices]\n",
    "\n",
    "# Evenly allocate the wallet amount and determine shares based on avergae price for currency\n",
    "bitcoin_shares = (wallet/5) / (sum(bitcoin_ask_values)/len(bitcoin_prices))\n",
    "ethereum_shares = (wallet/5) / (sum(ethereum_ask_values)/len(ethereum_prices))\n",
    "polygon_shares = (wallet/5) / (sum(polygon_ask_values)/len(polygon_prices))\n",
    "solana_shares = (wallet/5) / (sum(solana_ask_values)/len(solana_prices))\n",
    "xrp_shares = (wallet/5) / (sum(xrp_ask_values)/len(xrp_prices))"
   ]
  },
  {
   "cell_type": "markdown",
   "metadata": {},
   "source": [
    "##### Bitcoin"
   ]
  },
  {
   "cell_type": "code",
   "execution_count": 270,
   "metadata": {},
   "outputs": [],
   "source": [
    "for i in range(len(bitcoin_prices)):\n",
    "    for j in range(i+1, len(bitcoin_prices)):\n",
    "        exchange_a, exchange_b = bitcoin_prices[i], bitcoin_prices[j]\n",
    "        exchange_name_a, exchange_name_b = exchanges[i], exchanges[j]\n",
    "\n",
    "        spread_percentage, buy_price, sell_price = find_arbitrage(exchange_a, exchange_b)\n",
    "\n",
    "        if spread_percentage > 0:\n",
    "            current_datetime\n",
    "            purchase_price = bitcoin_shares*buy_price\n",
    "            sale_price = bitcoin_shares*sell_price\n",
    "            profit = sale_price - purchase_price\n",
    "            wallet = wallet + profit\n",
    "            wallet_balance = wallet\n",
    "            \n",
    "            insert_row = trades.insert().values(\n",
    "                current_datetime = current_datetime,\n",
    "                currency = cryptos[0],\n",
    "                volume = bitcoin_shares,\n",
    "                buy_exchange = exchange_name_a,\n",
    "                buy_price = buy_price,\n",
    "                total_purchase_amount = purchase_price,\n",
    "                sell_exchange = exchange_name_b,\n",
    "                sell_price = sell_price,\n",
    "                total_sale_amount = sale_price,\n",
    "                profit = profit,\n",
    "                spread_percentage = spread_percentage,\n",
    "                wallet_balance = wallet_balance\n",
    "            )\n",
    "\n",
    "            with engine.connect() as connection:\n",
    "                connection.execute(insert_row)"
   ]
  },
  {
   "cell_type": "markdown",
   "metadata": {},
   "source": [
    "##### Ethereum"
   ]
  },
  {
   "cell_type": "code",
   "execution_count": 271,
   "metadata": {},
   "outputs": [],
   "source": [
    "for i in range(len(ethereum_prices)):\n",
    "    for j in range(i+1, len(ethereum_prices)):\n",
    "        exchange_a, exchange_b = ethereum_prices[i], ethereum_prices[j]\n",
    "        exchange_name_a, exchange_name_b = exchanges[i], exchanges[j]\n",
    "\n",
    "        spread_percentage, buy_price, sell_price = find_arbitrage(exchange_a, exchange_b)\n",
    "\n",
    "        if spread_percentage > 0:\n",
    "            current_datetime\n",
    "            purchase_price = ethereum_shares*buy_price\n",
    "            sale_price = ethereum_shares*sell_price\n",
    "            profit = sale_price - purchase_price\n",
    "            wallet = wallet + profit\n",
    "            wallet_balance = wallet\n",
    "            \n",
    "            insert_row = trades.insert().values(\n",
    "                current_datetime = current_datetime,\n",
    "                currency = cryptos[1],\n",
    "                volume = ethereum_shares,\n",
    "                buy_exchange = exchange_name_a,\n",
    "                buy_price = buy_price,\n",
    "                total_purchase_amount = purchase_price,\n",
    "                sell_exchange = exchange_name_b,\n",
    "                sell_price = sell_price,\n",
    "                total_sale_amount = sale_price,\n",
    "                profit = profit,\n",
    "                spread_percentage = spread_percentage,\n",
    "                wallet_balance = wallet_balance\n",
    "            )\n",
    "\n",
    "            with engine.connect() as connection:\n",
    "                connection.execute(insert_row)"
   ]
  },
  {
   "cell_type": "markdown",
   "metadata": {},
   "source": [
    "##### Polygon"
   ]
  },
  {
   "cell_type": "code",
   "execution_count": 272,
   "metadata": {},
   "outputs": [],
   "source": [
    "for i in range(len(polygon_prices)):\n",
    "    for j in range(i+1, len(polygon_prices)):\n",
    "        exchange_a, exchange_b = polygon_prices[i], polygon_prices[j]\n",
    "        exchange_name_a, exchange_name_b = exchanges[i], exchanges[j]\n",
    "\n",
    "        spread_percentage, buy_price, sell_price = find_arbitrage(exchange_a, exchange_b)\n",
    "\n",
    "        if spread_percentage > 0:\n",
    "            current_datetime\n",
    "            purchase_price = polygon_shares*buy_price\n",
    "            sale_price = polygon_shares*sell_price\n",
    "            profit = sale_price - purchase_price\n",
    "            wallet = wallet + profit\n",
    "            wallet_balance = wallet\n",
    "            \n",
    "            insert_row = trades.insert().values(\n",
    "                current_datetime = current_datetime,\n",
    "                currency = cryptos[2],\n",
    "                volume = polygon_shares,\n",
    "                buy_exchange = exchange_name_a,\n",
    "                buy_price = buy_price,\n",
    "                total_purchase_amount = purchase_price,\n",
    "                sell_exchange = exchange_name_b,\n",
    "                sell_price = sell_price,\n",
    "                total_sale_amount = sale_price,\n",
    "                profit = profit,\n",
    "                spread_percentage = spread_percentage,\n",
    "                wallet_balance = wallet_balance\n",
    "            )\n",
    "\n",
    "            with engine.connect() as connection:\n",
    "                connection.execute(insert_row)"
   ]
  },
  {
   "cell_type": "markdown",
   "metadata": {},
   "source": [
    "##### Solana"
   ]
  },
  {
   "cell_type": "code",
   "execution_count": 273,
   "metadata": {},
   "outputs": [],
   "source": [
    "for i in range(len(solana_prices)):\n",
    "    for j in range(i+1, len(solana_prices)):\n",
    "        exchange_a, exchange_b = solana_prices[i], solana_prices[j]\n",
    "        exchange_name_a, exchange_name_b = exchanges[i], exchanges[j]\n",
    "\n",
    "        spread_percentage, buy_price, sell_price = find_arbitrage(exchange_a, exchange_b)\n",
    "\n",
    "        if spread_percentage > 0:\n",
    "            current_datetime\n",
    "            purchase_price = solana_shares*buy_price\n",
    "            sale_price = solana_shares*sell_price\n",
    "            profit = sale_price - purchase_price\n",
    "            wallet = wallet + profit\n",
    "            wallet_balance = wallet\n",
    "            \n",
    "            insert_row = trades.insert().values(\n",
    "                current_datetime = current_datetime,\n",
    "                currency = cryptos[3],\n",
    "                volume = solana_shares,\n",
    "                buy_exchange = exchange_name_a,\n",
    "                buy_price = buy_price,\n",
    "                total_purchase_amount = purchase_price,\n",
    "                sell_exchange = exchange_name_b,\n",
    "                sell_price = sell_price,\n",
    "                total_sale_amount = sale_price,\n",
    "                profit = profit,\n",
    "                spread_percentage = spread_percentage,\n",
    "                wallet_balance = wallet_balance\n",
    "            )\n",
    "\n",
    "            with engine.connect() as connection:\n",
    "                connection.execute(insert_row)"
   ]
  },
  {
   "cell_type": "markdown",
   "metadata": {},
   "source": [
    "##### XRP"
   ]
  },
  {
   "cell_type": "code",
   "execution_count": 274,
   "metadata": {},
   "outputs": [],
   "source": [
    "for i in range(len(xrp_prices)):\n",
    "    for j in range(i+1, len(xrp_prices)):\n",
    "        exchange_a, exchange_b = xrp_prices[i], xrp_prices[j]\n",
    "        exchange_name_a, exchange_name_b = exchanges[i], exchanges[j]\n",
    "\n",
    "        spread_percentage, buy_price, sell_price = find_arbitrage(exchange_a, exchange_b)\n",
    "\n",
    "        if spread_percentage > 0:\n",
    "            current_datetime\n",
    "            purchase_price = xrp_shares*buy_price\n",
    "            sale_price = xrp_shares*sell_price\n",
    "            profit = sale_price - purchase_price\n",
    "            wallet = wallet + profit\n",
    "            wallet_balance = wallet\n",
    "            \n",
    "            insert_row = trades.insert().values(\n",
    "                current_datetime = current_datetime,\n",
    "                currency = cryptos[4],\n",
    "                volume = xrp_shares,\n",
    "                buy_exchange = exchange_name_a,\n",
    "                buy_price = buy_price,\n",
    "                total_purchase_amount = purchase_price,\n",
    "                sell_exchange = exchange_name_b,\n",
    "                sell_price = sell_price,\n",
    "                total_sale_amount = sale_price,\n",
    "                profit = profit,\n",
    "                spread_percentage = spread_percentage,\n",
    "                wallet_balance = wallet_balance\n",
    "            )\n",
    "\n",
    "            with engine.connect() as connection:\n",
    "                connection.execute(insert_row)"
   ]
  }
 ],
 "metadata": {
  "kernelspec": {
   "display_name": "Python 3 (ipykernel)",
   "language": "python",
   "name": "python3"
  },
  "language_info": {
   "codemirror_mode": {
    "name": "ipython",
    "version": 3
   },
   "file_extension": ".py",
   "mimetype": "text/x-python",
   "name": "python",
   "nbconvert_exporter": "python",
   "pygments_lexer": "ipython3",
   "version": "3.10.13"
  }
 },
 "nbformat": 4,
 "nbformat_minor": 4
}
