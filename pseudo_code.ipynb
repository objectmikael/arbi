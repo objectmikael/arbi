{
 "cells": [
  {
   "cell_type": "markdown",
   "metadata": {},
   "source": [
    "### Import necessary libraries, packages, and dependencies \n",
    "- Use requests to connect to APIs\n",
    "- Use pandas to create DataFrames and perform analysis \n",
    "- Use hvplot to produce interactive graphs"
   ]
  },
  {
   "cell_type": "code",
   "execution_count": 196,
   "metadata": {},
   "outputs": [],
   "source": [
    "import requests\n",
    "import pandas as pd\n",
    "# import hvplot.pandas    "
   ]
  },
  {
   "cell_type": "markdown",
   "metadata": {},
   "source": [
    "### Fetch data from exchanges (Binance, Kraken, Bitstamp, Poloniex, Gemini)\n",
    "- Define the api endpoint(url)\n",
    "    - Look into the exchange api documentation \n",
    "    - Look for an endpoint that shows the various currency tickers\n",
    "    - Use Postman to identify the desired ticker name\n",
    "    - Find the endpoint that contains the ask price and bid price for a specific currency\n",
    "- Retrive the data and convert to JSON\n",
    "- Save the prices from the returned data"
   ]
  },
  {
   "cell_type": "markdown",
   "metadata": {},
   "source": [
    "### a. Retrieve the ask and bid price of Bitcoin from each exchange"
   ]
  },
  {
   "cell_type": "markdown",
   "metadata": {},
   "source": [
    "##### Binance"
   ]
  },
  {
   "cell_type": "code",
   "execution_count": 197,
   "metadata": {},
   "outputs": [],
   "source": [
    "# endpoint - url - api \n",
    "binance_api_url = 'https://api.binance.us/api/v3/ticker/bookTicker?symbol=BTCUSDT'\n",
    "\n",
    "binance_response = requests.get(binance_api_url).json()\n",
    "\n",
    "binance_bitcoin_ask_price = float(binance_response['askPrice'])\n",
    "binance_bitcoin_bid_price = float(binance_response['bidPrice'])\n",
    "\n",
    "# display(binance_bitcoin_ask_price)\n",
    "# display(binance_bitcoin_bid_price)"
   ]
  },
  {
   "cell_type": "markdown",
   "metadata": {},
   "source": [
    "##### Poloniex"
   ]
  },
  {
   "cell_type": "code",
   "execution_count": 198,
   "metadata": {},
   "outputs": [],
   "source": [
    "poloniex_api_url = \"https://api.poloniex.com/markets/BTC_USDT/orderBook\"\n",
    "\n",
    "poloniex_response = requests.get(poloniex_api_url).json()\n",
    "\n",
    "poloniex_bitcoin_ask_price = float(poloniex_response['asks'][0])\n",
    "poloniex_bitcoin_bid_price = float(poloniex_response['bids'][0])\n",
    "\n",
    "# display(poloniex_bitcoin_ask_price)\n",
    "# display(poloniex_bitcoin_bid_price)\n",
    "\n"
   ]
  },
  {
   "cell_type": "markdown",
   "metadata": {},
   "source": [
    "##### Kraken"
   ]
  },
  {
   "cell_type": "code",
   "execution_count": 199,
   "metadata": {},
   "outputs": [],
   "source": [
    "kraken_api_url = \"https://api.kraken.com/0/public/Ticker?pair=XBTUSDT\"\n",
    "\n",
    "kraken_response = requests.get(kraken_api_url).json()\n",
    "\n",
    "\n",
    "\n",
    "kraken_bitcoin_ask_price = float(kraken_response['result']['XBTUSDT']['a'][0])\n",
    "kraken_bitcoin_bid_price = float(kraken_response['result']['XBTUSDT']['b'][0])\n",
    "\n",
    "# display(kraken_bitcoin_ask_price)\n",
    "# display(kraken_bitcoin_bid_price)"
   ]
  },
  {
   "cell_type": "markdown",
   "metadata": {},
   "source": [
    "##### Bitstamp"
   ]
  },
  {
   "cell_type": "code",
   "execution_count": 200,
   "metadata": {},
   "outputs": [],
   "source": [
    "bitstamp_api_url = \"https://www.bitstamp.net/api/v2/ticker/btcusd\"\n",
    "\n",
    "bitstamp_response = requests.get(bitstamp_api_url).json()\n",
    "\n",
    "\n",
    "bitstamp_bitcoin_ask_price = float(bitstamp_response['ask'])\n",
    "bitstamp_bitcoin_bid_price = float(bitstamp_response['bid'])\n",
    "\n",
    "# display(bitstamp_bitcoin_ask_price)\n",
    "# display(bitstamp_bitcoin_bid_price)"
   ]
  },
  {
   "cell_type": "markdown",
   "metadata": {},
   "source": [
    "##### Gemini"
   ]
  },
  {
   "cell_type": "code",
   "execution_count": 201,
   "metadata": {},
   "outputs": [],
   "source": [
    "gemini_api_url = \"https://api.gemini.com/v2/ticker/btcusd\"\n",
    "\n",
    "gemini_response = requests.get(gemini_api_url).json()\n",
    "\n",
    "gemini_bitcoin_ask_price = float(gemini_response['ask'])\n",
    "gemini_bitcoin_bid_price = float(gemini_response['bid'])\n",
    "\n",
    "# display(gemini_bitcoin_ask_price)\n",
    "# display(gemini_bitcoin_bid_price)"
   ]
  },
  {
   "cell_type": "markdown",
   "metadata": {},
   "source": [
    "### b. Retrieve the ask and bid price for all cryptocurrencies(Bitcoin, Ethereum, Polygon, Solana, XRP) from each exchange.\n",
    "\n",
    "- Identify the tickers and store in alphabetical order\n",
    "- Store the exchange API url as a string minus the ticker symbol\n",
    "- Loop through the tickers and \n",
    "    - create an api_url for each ticker\n",
    "    - retrieve the data and convert to JSON\n",
    "    - fetch the ask and bid price and store in a list:- ['ask', 'bid']\n",
    "- NOTE: Store the ticker symbols in a list in the same order for each exchange "
   ]
  },
  {
   "cell_type": "markdown",
   "metadata": {},
   "source": [
    "##### Binance"
   ]
  },
  {
   "cell_type": "code",
   "execution_count": 202,
   "metadata": {},
   "outputs": [],
   "source": [
    "binance_tickers = ['BTCUSDT', 'ETHUSDT', 'MATICUSDT', 'SOLUSDT', 'XRPUSDT']\n",
    "binance_api_url = 'https://api.binance.us/api/v3/ticker/bookTicker?symbol='\n",
    "\n",
    "binance_prices = []\n",
    "\n",
    "for i in range(len(binance_tickers)):\n",
    "    api_url = binance_api_url+binance_tickers[i]\n",
    "    api_response = requests.get(api_url).json()\n",
    "    ask_price = float(api_response['askPrice'])\n",
    "    bid_price = float(api_response['bidPrice'])\n",
    "    binance_prices.append([ask_price, bid_price])\n",
    "\n",
    "# binance_prices"
   ]
  },
  {
   "cell_type": "markdown",
   "metadata": {},
   "source": [
    "##### Poloniex"
   ]
  },
  {
   "cell_type": "code",
   "execution_count": 203,
   "metadata": {},
   "outputs": [],
   "source": [
    "poloniex_tickers = ['BTC_USDT', 'ETH_USDT', 'MATIC_USDT', 'SOL_USDT', 'XRP_USDT']\n",
    "poloniex_api_url = \"https://api.poloniex.com/markets/\"\n",
    "\n",
    "poloniex_prices = []\n",
    "\n",
    "for i in range(len(poloniex_tickers)):\n",
    "    api_url = poloniex_api_url+poloniex_tickers[i]+\"/orderBook\"\n",
    "    api_response = requests.get(api_url).json()\n",
    "    ask_price = float(api_response['asks'][0])\n",
    "    bid_price = float(api_response['bids'][0])\n",
    "    poloniex_prices.append([ask_price, bid_price])\n",
    "\n",
    "# poloniex_prices"
   ]
  },
  {
   "cell_type": "markdown",
   "metadata": {},
   "source": [
    "##### Kraken"
   ]
  },
  {
   "cell_type": "code",
   "execution_count": 204,
   "metadata": {},
   "outputs": [],
   "source": [
    "kraken_tickers = ['XBTUSDT', 'ETHUSDT', 'MATICUSDT', 'SOLUSDT', 'XRPUSDT']\n",
    "kraken_api_url = 'https://api.kraken.com/0/public/Ticker?pair='\n",
    "\n",
    "kraken_prices = []\n",
    "\n",
    "for i in range(len(kraken_tickers)):\n",
    "    api_url = kraken_api_url+kraken_tickers[i]\n",
    "    api_response = requests.get(api_url).json()\n",
    "    ask_price = float(api_response['result'][kraken_tickers[i]]['a'][0])\n",
    "    bid_price = float(api_response['result'][kraken_tickers[i]]['b'][0])\n",
    "    kraken_prices.append([ask_price, bid_price])\n",
    "\n",
    "# kraken_prices"
   ]
  },
  {
   "cell_type": "markdown",
   "metadata": {},
   "source": [
    "##### Bitstamp"
   ]
  },
  {
   "cell_type": "code",
   "execution_count": 205,
   "metadata": {},
   "outputs": [],
   "source": [
    "bitstamp_tickers=['btcusd','ethusd','maticusd','solusd','xrpusd']\n",
    "bitstamp_api_url= 'https://www.bitstamp.net/api/v2/ticker/'\n",
    "\n",
    "bitstamp_prices=[]\n",
    "\n",
    "for i in range(len(bitstamp_tickers)):\n",
    "    api_url=bitstamp_api_url+bitstamp_tickers[i]\n",
    "    api_response=requests.get(api_url).json()\n",
    "    ask_price=float(api_response['ask'])\n",
    "    bid_price=float(api_response['bid'])\n",
    "    bitstamp_prices.append([ask_price,bid_price])\n",
    "\n",
    "# bitstamp_prices\n"
   ]
  },
  {
   "cell_type": "markdown",
   "metadata": {},
   "source": [
    "##### Gemini"
   ]
  },
  {
   "cell_type": "code",
   "execution_count": 206,
   "metadata": {},
   "outputs": [],
   "source": [
    "gemini_tickers=['btcusd','ethusd','maticusd','solusd','xrpusd']\n",
    "gemini_api_url= 'https://api.gemini.com/v2/ticker/'\n",
    "\n",
    "gemini_prices=[]\n",
    "\n",
    "for i in range(len(gemini_tickers)):\n",
    "    api_url=gemini_api_url+gemini_tickers[i]\n",
    "    api_response=requests.get(api_url).json()\n",
    "    ask_price=float(api_response['ask'])\n",
    "    bid_price=float(api_response['bid'])\n",
    "    gemini_prices.append([ask_price,bid_price])\n",
    "\n",
    "# gemini_prices"
   ]
  },
  {
   "cell_type": "markdown",
   "metadata": {},
   "source": [
    "### c. Store all bid and ask prices for easy retrieval \n",
    "- Store name of currencies in a list\n",
    "- Store prices of similar currencies to a unique list\n",
    "- Store name of exchanges in a list respective to the order of the prices "
   ]
  },
  {
   "cell_type": "code",
   "execution_count": 207,
   "metadata": {},
   "outputs": [],
   "source": [
    "cryptos = ['bitcoin', 'ethereum', 'polygon', 'solana', 'xrp']\n",
    "\n",
    "bitcoin_prices = [binance_prices[0], bitstamp_prices[0], gemini_prices[0], kraken_prices[0], poloniex_prices[0]]\n",
    "ethereum_prices = [binance_prices[1], bitstamp_prices[1], gemini_prices[1], kraken_prices[1], poloniex_prices[1]]\n",
    "polygon_prices = [binance_prices[2], bitstamp_prices[2], gemini_prices[2], kraken_prices[2], poloniex_prices[2]]\n",
    "solana_prices = [binance_prices[3], bitstamp_prices[3], gemini_prices[3], kraken_prices[3], poloniex_prices[3]]\n",
    "xrp_prices = [binance_prices[4], bitstamp_prices[4], gemini_prices[4], kraken_prices[4], poloniex_prices[4]]\n",
    "\n",
    "exchanges = ['Binance', 'Bitstamp', 'Gemini', 'Kraken', 'Poloniex']"
   ]
  },
  {
   "cell_type": "markdown",
   "metadata": {},
   "source": [
    "### Create Arbitrage Function\n",
    "- Use the price spread to determine a profitable opportunity \n",
    "- Search for opportunities across all exchanges"
   ]
  },
  {
   "cell_type": "code",
   "execution_count": 208,
   "metadata": {},
   "outputs": [],
   "source": [
    "def find_arbitrage(exchange_a, exchange_b):\n",
    "    ask_price_a = exchange_a[0]\n",
    "    bid_price_b = exchange_b[1]\n",
    "\n",
    "    spread_percent = (bid_price_b - ask_price_a) / ask_price_a * 100\n",
    "\n",
    "    return spread_percent, ask_price_a, bid_price_b"
   ]
  },
  {
   "cell_type": "markdown",
   "metadata": {},
   "source": [
    "### Search for opportunities across all exchanges "
   ]
  },
  {
   "cell_type": "markdown",
   "metadata": {},
   "source": [
    "##### Bitcoin"
   ]
  },
  {
   "cell_type": "code",
   "execution_count": 209,
   "metadata": {},
   "outputs": [
    {
     "name": "stdout",
     "output_type": "stream",
     "text": [
      "Buy Bitcoin at Bitstamp for $51428.0 and Sell at Kraken for $51435.4. You have made a $7.400000000001455 profit or 0.014389048767211355% of your buy price.\n",
      "Buy Bitcoin at Gemini for $51432.64 and Sell at Kraken for $51435.4. You have made a $2.7600000000020373 profit or 0.005366242137292656% of your buy price.\n"
     ]
    }
   ],
   "source": [
    "for i in range(len(bitcoin_prices)):\n",
    "    for j in range(i+1, len(bitcoin_prices)):\n",
    "        exchange_a, exchange_b = bitcoin_prices[i], bitcoin_prices[j]\n",
    "        exchange_name_a, exchange_name_b = exchanges[i], exchanges[j]\n",
    "\n",
    "        spread_percentage, buy_price, sell_price = find_arbitrage(exchange_a, exchange_b)\n",
    "\n",
    "        if spread_percentage > 0:\n",
    "            print(f'Buy Bitcoin at {exchange_name_a} for ${buy_price} and Sell at {exchange_name_b} for ${sell_price}. You have made a ${sell_price-buy_price} profit or {spread_percentage}% of your buy price.')"
   ]
  },
  {
   "cell_type": "markdown",
   "metadata": {},
   "source": [
    "##### Ethereum"
   ]
  },
  {
   "cell_type": "code",
   "execution_count": 210,
   "metadata": {},
   "outputs": [
    {
     "name": "stdout",
     "output_type": "stream",
     "text": [
      "Buy Ethereum at Bitstamp for $2921.4 and Sell at Kraken for $2921.57. You have made a $0.17000000000007276 profit or 0.0058191278154334485% of your buy price.\n",
      "Buy Ethereum at Gemini for $2921.5 and Sell at Kraken for $2921.57. You have made a $0.07000000000016371 profit or 0.002396029436938686% of your buy price.\n"
     ]
    }
   ],
   "source": [
    "for i in range(len(ethereum_prices)):\n",
    "    for j in range(i+1, len(ethereum_prices)):\n",
    "        exchange_a, exchange_b = ethereum_prices[i], ethereum_prices[j]\n",
    "        exchange_name_a, exchange_name_b = exchanges[i], exchanges[j]\n",
    "\n",
    "        spread_percentage, buy_price, sell_price = find_arbitrage(exchange_a, exchange_b)\n",
    "\n",
    "        if spread_percentage > 0:\n",
    "            print(f'Buy Ethereum at {exchange_name_a} for ${buy_price} and Sell at {exchange_name_b} for ${sell_price}. You have made a ${sell_price-buy_price} profit or {spread_percentage}% of your buy price.')"
   ]
  },
  {
   "cell_type": "markdown",
   "metadata": {},
   "source": [
    "##### Polygon"
   ]
  },
  {
   "cell_type": "code",
   "execution_count": 211,
   "metadata": {},
   "outputs": [
    {
     "name": "stdout",
     "output_type": "stream",
     "text": [
      "Buy Polygon at Bitstamp for $0.92544 and Sell at Poloniex for $0.92593. You have made a $0.0004899999999999904 profit or 0.05294778699861584% of your buy price.\n",
      "Buy Polygon at Kraken for $0.9259 and Sell at Poloniex for $0.92593. You have made a $3.0000000000085514e-05 profit or 0.0032400907225494666% of your buy price.\n"
     ]
    }
   ],
   "source": [
    "for i in range(len(polygon_prices)):\n",
    "    for j in range(i+1, len(polygon_prices)):\n",
    "        exchange_a, exchange_b = polygon_prices[i], polygon_prices[j]\n",
    "        exchange_name_a, exchange_name_b = exchanges[i], exchanges[j]\n",
    "\n",
    "        spread_percentage, buy_price, sell_price = find_arbitrage(exchange_a, exchange_b)\n",
    "\n",
    "        if spread_percentage > 0:\n",
    "            print(f'Buy Polygon at {exchange_name_a} for ${buy_price} and Sell at {exchange_name_b} for ${sell_price}. You have made a ${sell_price-buy_price} profit or {spread_percentage}% of your buy price.')"
   ]
  },
  {
   "cell_type": "markdown",
   "metadata": {},
   "source": [
    "##### Solana"
   ]
  },
  {
   "cell_type": "code",
   "execution_count": 212,
   "metadata": {},
   "outputs": [],
   "source": [
    "for i in range(len(solana_prices)):\n",
    "    for j in range(i+1, len(solana_prices)):\n",
    "        # exchange_a = solana_prices[i]\n",
    "        # exchange_b = solana_prices[j]\n",
    "        exchange_a, exchange_b = solana_prices[i], solana_prices[j]\n",
    "        exchange_name_a, exchange_name_b = exchanges[i], exchanges[j]\n",
    "\n",
    "        spread_percentage, buy_price, sell_price = find_arbitrage(exchange_a, exchange_b)\n",
    "\n",
    "        if spread_percentage > 0:\n",
    "            print(f'Buy Solana at {exchange_name_a} for ${buy_price} and Sell at {exchange_name_b} for ${sell_price}. You have made a ${sell_price-buy_price} profit or {spread_percentage}% of your buy price.')"
   ]
  },
  {
   "cell_type": "markdown",
   "metadata": {},
   "source": [
    "##### XRP"
   ]
  },
  {
   "cell_type": "code",
   "execution_count": 213,
   "metadata": {},
   "outputs": [],
   "source": [
    "for i in range(len(xrp_prices)):\n",
    "    for j in range(i+1, len(xrp_prices)):\n",
    "        exchange_a, exchange_b = xrp_prices[i], xrp_prices[j]\n",
    "        exchange_name_a, exchange_name_b = exchanges[i], exchanges[j]\n",
    "\n",
    "        spread_percentage, buy_price, sell_price = find_arbitrage(exchange_a, exchange_b)\n",
    "\n",
    "        if spread_percentage > 0:\n",
    "            print(f'Buy XRP at {exchange_name_a} for ${buy_price} and Sell at {exchange_name_b} for ${sell_price}. You have made a ${sell_price-buy_price} profit or {spread_percentage}% of your buy price.')"
   ]
  },
  {
   "cell_type": "markdown",
   "metadata": {},
   "source": [
    "##### Track each trade and push to a dictionary to help visualize all the data in a DataFrame\n",
    "- Create a empty dictionary, 'trades'\n",
    "- Create a unique key for each entry, 'trade_count'\n",
    "- Define what a key:value pair in 'trades', look like:\n",
    "    '0':['date_time', 'currency', 'exchange_name_a', 'buy_price', 'exchange_name_b', 'sell_price', 'profit($)', 'spread_percentage']"
   ]
  },
  {
   "cell_type": "code",
   "execution_count": 214,
   "metadata": {},
   "outputs": [],
   "source": [
    "from datetime import datetime\n",
    "current_datetime = datetime.now().isoformat()\n",
    "\n",
    "trades = {}\n",
    "trade_count = 0"
   ]
  },
  {
   "cell_type": "markdown",
   "metadata": {},
   "source": [
    "##### Bitcoin"
   ]
  },
  {
   "cell_type": "code",
   "execution_count": 215,
   "metadata": {},
   "outputs": [],
   "source": [
    "for i in range(len(bitcoin_prices)):\n",
    "    for j in range(i+1, len(bitcoin_prices)):\n",
    "        exchange_a, exchange_b = bitcoin_prices[i], bitcoin_prices[j]\n",
    "        exchange_name_a, exchange_name_b = exchanges[i], exchanges[j]\n",
    "\n",
    "        spread_percentage, buy_price, sell_price = find_arbitrage(exchange_a, exchange_b)\n",
    "\n",
    "        if spread_percentage > 0:\n",
    "            current_datetime\n",
    "            currency = cryptos[0]\n",
    "            profit = sell_price - buy_price\n",
    "            trades[trade_count] = [current_datetime, currency, exchange_name_a, buy_price, exchange_name_b, sell_price, profit, spread_percentage]\n",
    "            trade_count+=1"
   ]
  },
  {
   "cell_type": "markdown",
   "metadata": {},
   "source": [
    "##### Ethereum"
   ]
  },
  {
   "cell_type": "code",
   "execution_count": 216,
   "metadata": {},
   "outputs": [],
   "source": [
    "for i in range(len(ethereum_prices)):\n",
    "    for j in range(i+1, len(ethereum_prices)):\n",
    "        exchange_a, exchange_b = ethereum_prices[i], ethereum_prices[j]\n",
    "        exchange_name_a, exchange_name_b = exchanges[i], exchanges[j]\n",
    "\n",
    "        spread_percentage, buy_price, sell_price = find_arbitrage(exchange_a, exchange_b)\n",
    "\n",
    "        if spread_percentage > 0:\n",
    "            current_datetime\n",
    "            currency = cryptos[1]\n",
    "            profit = sell_price - buy_price\n",
    "            trades[trade_count] = [current_datetime, currency, exchange_name_a, buy_price, exchange_name_b, sell_price, profit, spread_percentage]\n",
    "            trade_count+=1"
   ]
  },
  {
   "cell_type": "markdown",
   "metadata": {},
   "source": [
    "##### Polygon"
   ]
  },
  {
   "cell_type": "code",
   "execution_count": 217,
   "metadata": {},
   "outputs": [],
   "source": [
    "for i in range(len(polygon_prices)):\n",
    "    for j in range(i+1, len(polygon_prices)):\n",
    "        exchange_a, exchange_b = polygon_prices[i], polygon_prices[j]\n",
    "        exchange_name_a, exchange_name_b = exchanges[i], exchanges[j]\n",
    "\n",
    "        spread_percentage, buy_price, sell_price = find_arbitrage(exchange_a, exchange_b)\n",
    "\n",
    "        if spread_percentage > 0:\n",
    "            current_datetime\n",
    "            currency = cryptos[2]\n",
    "            profit = sell_price - buy_price\n",
    "            trades[trade_count] = [current_datetime, currency, exchange_name_a, buy_price, exchange_name_b, sell_price, profit, spread_percentage]\n",
    "            trade_count+=1"
   ]
  },
  {
   "cell_type": "markdown",
   "metadata": {},
   "source": [
    "##### Solana"
   ]
  },
  {
   "cell_type": "code",
   "execution_count": 218,
   "metadata": {},
   "outputs": [],
   "source": [
    "for i in range(len(solana_prices)):\n",
    "    for j in range(i+1, len(solana_prices)):\n",
    "        exchange_a, exchange_b = solana_prices[i], solana_prices[j]\n",
    "        exchange_name_a, exchange_name_b = exchanges[i], exchanges[j]\n",
    "\n",
    "        spread_percentage, buy_price, sell_price = find_arbitrage(exchange_a, exchange_b)\n",
    "\n",
    "        if spread_percentage > 0:\n",
    "            current_datetime\n",
    "            currency = cryptos[3]\n",
    "            profit = sell_price - buy_price\n",
    "            trades[trade_count] = [current_datetime, currency, exchange_name_a, buy_price, exchange_name_b, sell_price, profit, spread_percentage]\n",
    "            trade_count+=1\n"
   ]
  },
  {
   "cell_type": "markdown",
   "metadata": {},
   "source": [
    "##### XRP"
   ]
  },
  {
   "cell_type": "code",
   "execution_count": 219,
   "metadata": {},
   "outputs": [],
   "source": [
    "for i in range(len(xrp_prices)):\n",
    "    for j in range(i+1, len(xrp_prices)):\n",
    "        exchange_a, exchange_b = xrp_prices[i], xrp_prices[j]\n",
    "        exchange_name_a, exchange_name_b = exchanges[i], exchanges[j]\n",
    "\n",
    "        spread_percentage, buy_price, sell_price = find_arbitrage(exchange_a, exchange_b)\n",
    "\n",
    "        if spread_percentage > 0:\n",
    "            current_datetime\n",
    "            currency = cryptos[4]\n",
    "            profit = sell_price - buy_price\n",
    "            trades[trade_count] = [current_datetime, currency, exchange_name_a, buy_price, exchange_name_b, sell_price, profit, spread_percentage]\n",
    "            trade_count+=1"
   ]
  },
  {
   "cell_type": "markdown",
   "metadata": {},
   "source": [
    "##### Transform the trades dictionary to a DataFrame and preview"
   ]
  },
  {
   "cell_type": "code",
   "execution_count": 220,
   "metadata": {},
   "outputs": [
    {
     "data": {
      "text/html": [
       "<div>\n",
       "<style scoped>\n",
       "    .dataframe tbody tr th:only-of-type {\n",
       "        vertical-align: middle;\n",
       "    }\n",
       "\n",
       "    .dataframe tbody tr th {\n",
       "        vertical-align: top;\n",
       "    }\n",
       "\n",
       "    .dataframe thead th {\n",
       "        text-align: right;\n",
       "    }\n",
       "</style>\n",
       "<table border=\"1\" class=\"dataframe\">\n",
       "  <thead>\n",
       "    <tr style=\"text-align: right;\">\n",
       "      <th></th>\n",
       "      <th>current_datetime</th>\n",
       "      <th>currency</th>\n",
       "      <th>exchange_name_a</th>\n",
       "      <th>buy_price</th>\n",
       "      <th>exchange_name_b</th>\n",
       "      <th>sell_price</th>\n",
       "      <th>profit</th>\n",
       "      <th>spread_percentage</th>\n",
       "    </tr>\n",
       "  </thead>\n",
       "  <tbody>\n",
       "    <tr>\n",
       "      <th>0</th>\n",
       "      <td>2024-02-21T21:54:40.096274</td>\n",
       "      <td>bitcoin</td>\n",
       "      <td>Bitstamp</td>\n",
       "      <td>51428.0</td>\n",
       "      <td>Kraken</td>\n",
       "      <td>51435.4</td>\n",
       "      <td>7.4</td>\n",
       "      <td>0.014389</td>\n",
       "    </tr>\n",
       "    <tr>\n",
       "      <th>1</th>\n",
       "      <td>2024-02-21T21:54:40.096274</td>\n",
       "      <td>bitcoin</td>\n",
       "      <td>Gemini</td>\n",
       "      <td>51432.64</td>\n",
       "      <td>Kraken</td>\n",
       "      <td>51435.4</td>\n",
       "      <td>2.76</td>\n",
       "      <td>0.005366</td>\n",
       "    </tr>\n",
       "    <tr>\n",
       "      <th>2</th>\n",
       "      <td>2024-02-21T21:54:40.096274</td>\n",
       "      <td>ethereum</td>\n",
       "      <td>Bitstamp</td>\n",
       "      <td>2921.4</td>\n",
       "      <td>Kraken</td>\n",
       "      <td>2921.57</td>\n",
       "      <td>0.17</td>\n",
       "      <td>0.005819</td>\n",
       "    </tr>\n",
       "    <tr>\n",
       "      <th>3</th>\n",
       "      <td>2024-02-21T21:54:40.096274</td>\n",
       "      <td>ethereum</td>\n",
       "      <td>Gemini</td>\n",
       "      <td>2921.5</td>\n",
       "      <td>Kraken</td>\n",
       "      <td>2921.57</td>\n",
       "      <td>0.07</td>\n",
       "      <td>0.002396</td>\n",
       "    </tr>\n",
       "    <tr>\n",
       "      <th>4</th>\n",
       "      <td>2024-02-21T21:54:40.096274</td>\n",
       "      <td>polygon</td>\n",
       "      <td>Bitstamp</td>\n",
       "      <td>0.92544</td>\n",
       "      <td>Poloniex</td>\n",
       "      <td>0.92593</td>\n",
       "      <td>0.00049</td>\n",
       "      <td>0.052948</td>\n",
       "    </tr>\n",
       "    <tr>\n",
       "      <th>5</th>\n",
       "      <td>2024-02-21T21:54:40.096274</td>\n",
       "      <td>polygon</td>\n",
       "      <td>Kraken</td>\n",
       "      <td>0.9259</td>\n",
       "      <td>Poloniex</td>\n",
       "      <td>0.92593</td>\n",
       "      <td>0.00003</td>\n",
       "      <td>0.00324</td>\n",
       "    </tr>\n",
       "  </tbody>\n",
       "</table>\n",
       "</div>"
      ],
      "text/plain": [
       "             current_datetime  currency exchange_name_a buy_price  \\\n",
       "0  2024-02-21T21:54:40.096274   bitcoin        Bitstamp   51428.0   \n",
       "1  2024-02-21T21:54:40.096274   bitcoin          Gemini  51432.64   \n",
       "2  2024-02-21T21:54:40.096274  ethereum        Bitstamp    2921.4   \n",
       "3  2024-02-21T21:54:40.096274  ethereum          Gemini    2921.5   \n",
       "4  2024-02-21T21:54:40.096274   polygon        Bitstamp   0.92544   \n",
       "5  2024-02-21T21:54:40.096274   polygon          Kraken    0.9259   \n",
       "\n",
       "  exchange_name_b sell_price   profit spread_percentage  \n",
       "0          Kraken    51435.4      7.4          0.014389  \n",
       "1          Kraken    51435.4     2.76          0.005366  \n",
       "2          Kraken    2921.57     0.17          0.005819  \n",
       "3          Kraken    2921.57     0.07          0.002396  \n",
       "4        Poloniex    0.92593  0.00049          0.052948  \n",
       "5        Poloniex    0.92593  0.00003           0.00324  "
      ]
     },
     "metadata": {},
     "output_type": "display_data"
    }
   ],
   "source": [
    "trades_df = pd.DataFrame(trades).transpose()\n",
    "\n",
    "trades_df.columns = ['current_datetime', 'currency', 'exchange_name_a', 'buy_price', 'exchange_name_b', 'sell_price', 'profit', 'spread_percentage']\n",
    "\n",
    "display(trades_df)"
   ]
  }
 ],
 "metadata": {
  "kernelspec": {
   "display_name": "Python 3 (ipykernel)",
   "language": "python",
   "name": "python3"
  },
  "language_info": {
   "codemirror_mode": {
    "name": "ipython",
    "version": 3
   },
   "file_extension": ".py",
   "mimetype": "text/x-python",
   "name": "python",
   "nbconvert_exporter": "python",
   "pygments_lexer": "ipython3",
   "version": "3.11.5"
  }
 },
 "nbformat": 4,
 "nbformat_minor": 4
}
