{
 "cells": [
  {
   "cell_type": "markdown",
   "metadata": {},
   "source": [
    "### Import necessary libraries, packages, and dependencies \n",
    "- Use requests to connect to APIs\n",
    "- Use pandas to create DataFrames and perform analysis \n",
    "- Use hvplot to produce interactive graphs"
   ]
  },
  {
   "cell_type": "code",
   "execution_count": 12,
   "metadata": {},
   "outputs": [],
   "source": [
    "import requests\n",
    "# import pandas as pd\n",
    "# import hvplot.pandas    "
   ]
  },
  {
   "cell_type": "markdown",
   "metadata": {},
   "source": [
    "### Fetch data from exchanges (Binance, Kraken, Bitstamp, Poloniex, OKX)\n",
    "- Define the api endpoint(url)\n",
    "    - Look into the exchange api documentation \n",
    "    - Look for an endpoint that shows the various currency tickers\n",
    "    - Use Postman to identify the desired ticker name\n",
    "    - Find the endpoint that contains the ask price and bid price for a specific currency\n",
    "- Retrive the data and convert to JSON\n",
    "- Save the prices from the returned data"
   ]
  },
  {
   "cell_type": "markdown",
   "metadata": {},
   "source": [
    "### a. Retrieve the ask and bid price of Bitcoin from each exchange"
   ]
  },
  {
   "cell_type": "markdown",
   "metadata": {},
   "source": [
    "##### Binance"
   ]
  },
  {
   "cell_type": "code",
   "execution_count": 4,
   "metadata": {},
   "outputs": [
    {
     "data": {
      "text/plain": [
       "51845.94"
      ]
     },
     "metadata": {},
     "output_type": "display_data"
    },
    {
     "data": {
      "text/plain": [
       "51812.33"
      ]
     },
     "metadata": {},
     "output_type": "display_data"
    }
   ],
   "source": [
    "# endpoint - url - api \n",
    "binance_api_url = 'https://api.binance.us/api/v3/ticker/bookTicker?symbol=BTCUSDT'\n",
    "\n",
    "binance_response = requests.get(binance_api_url).json()\n",
    "\n",
    "binance_bitcoin_ask_price = float(binance_response['askPrice'])\n",
    "binance_bitcoin_bid_price = float(binance_response['bidPrice'])\n",
    "\n",
    "display(binance_bitcoin_ask_price)\n",
    "display(binance_bitcoin_bid_price)"
   ]
  },
  {
   "cell_type": "markdown",
   "metadata": {},
   "source": [
    "##### Poloniex"
   ]
  },
  {
   "cell_type": "code",
   "execution_count": 10,
   "metadata": {},
   "outputs": [
    {
     "data": {
      "text/plain": [
       "51905.01"
      ]
     },
     "metadata": {},
     "output_type": "display_data"
    },
    {
     "data": {
      "text/plain": [
       "51894.47"
      ]
     },
     "metadata": {},
     "output_type": "display_data"
    }
   ],
   "source": [
    "poloniex_api_url = \"https://api.poloniex.com/markets/BTC_USDT/orderBook\"\n",
    "\n",
    "poloniex_response = requests.get(poloniex_api_url).json()\n",
    "\n",
    "poloniex_bitcoin_ask_price = float(poloniex_response['asks'][0])\n",
    "poloniex_bitcoin_bid_price = float(poloniex_response['bids'][0])\n",
    "\n",
    "display(poloniex_bitcoin_ask_price)\n",
    "display(poloniex_bitcoin_bid_price)\n",
    "\n"
   ]
  },
  {
   "cell_type": "markdown",
   "metadata": {},
   "source": [
    "##### Kraken"
   ]
  },
  {
   "cell_type": "code",
   "execution_count": null,
   "metadata": {},
   "outputs": [],
   "source": [
    "kraken_api_url = \"https://api.kraken.com/0/public/Ticker?pair=XBTUSDT\"\n",
    "\n",
    "kraken_response = requests.get(kraken_api_url).json()\n",
    "\n",
    "\n",
    "\n",
    "kraken_bitcoin_ask_price = float(kraken_response['result']['XBTUSDT']['a'][0])\n",
    "kraken_bitcoin_bid_price = float(kraken_response['result']['XBTUSDT']['b'][0])\n",
    "\n",
    "display(kraken_bitcoin_ask_price)\n",
    "display(kraken_bitcoin_bid_price)"
   ]
  },
  {
   "cell_type": "markdown",
   "metadata": {},
   "source": [
    "##### Bitstamp"
   ]
  },
  {
   "cell_type": "code",
   "execution_count": 6,
   "metadata": {},
   "outputs": [
    {
     "data": {
      "text/plain": [
       "52087.0"
      ]
     },
     "metadata": {},
     "output_type": "display_data"
    },
    {
     "data": {
      "text/plain": [
       "52080.0"
      ]
     },
     "metadata": {},
     "output_type": "display_data"
    }
   ],
   "source": [
    "bitstamp_api_url = \"https://www.bitstamp.net/api/v2/ticker/btcusd\"\n",
    "\n",
    "bitstamp_response = requests.get(bitstamp_api_url).json()\n",
    "\n",
    "\n",
    "bitstamp_bitcoin_ask_price = float(bitstamp_response['ask'])\n",
    "bitstamp_bitcoin_bid_price = float(bitstamp_response['bid'])\n",
    "\n",
    "display(bitstamp_bitcoin_ask_price)\n",
    "display(bitstamp_bitcoin_bid_price)"
   ]
  },
  {
   "cell_type": "markdown",
   "metadata": {},
   "source": [
    "##### Gemini"
   ]
  },
  {
   "cell_type": "code",
   "execution_count": 8,
   "metadata": {},
   "outputs": [
    {
     "data": {
      "text/plain": [
       "52082.68"
      ]
     },
     "metadata": {},
     "output_type": "display_data"
    },
    {
     "data": {
      "text/plain": [
       "52077.88"
      ]
     },
     "metadata": {},
     "output_type": "display_data"
    }
   ],
   "source": [
    "gemini_api_url = \"https://api.gemini.com/v2/ticker/btcusd\"\n",
    "\n",
    "gemini_response = requests.get(gemini_api_url).json()\n",
    "\n",
    "gemini_bitcoin_ask_price = float(gemini_response['ask'])\n",
    "gemini_bitcoin_bid_price = float(gemini_response['bid'])\n",
    "\n",
    "display(gemini_bitcoin_ask_price)\n",
    "display(gemini_bitcoin_bid_price)"
   ]
  },
  {
   "cell_type": "markdown",
   "metadata": {},
   "source": [
    "### b. Retrieve the ask and bid price for all cryptocurrencies(Bitcoin, Ethereum, Polygon, Solana, XRP) from each exchange.\n",
    "\n",
    "- Identify the tickers and store in alphabetical order\n",
    "- Store the exchange API url as a string minus the ticker symbol\n",
    "- Loop through the tickers and \n",
    "    - create an api_url for each ticker\n",
    "    - retrieve the data and convert to JSON\n",
    "    - fetch the ask and bid price and store in a list:- ['ask', 'bid']\n",
    "- NOTE: Store the ticker symbols in a list in the same order for each exchange "
   ]
  },
  {
   "cell_type": "markdown",
   "metadata": {},
   "source": [
    "##### Binance"
   ]
  },
  {
   "cell_type": "code",
   "execution_count": 3,
   "metadata": {},
   "outputs": [
    {
     "data": {
      "text/plain": [
       "[[52237.49, 52199.34],\n",
       " [2882.22, 2878.71],\n",
       " [0.9925, 0.9907],\n",
       " [112.57, 112.35],\n",
       " [0.5578, 0.5574]]"
      ]
     },
     "execution_count": 3,
     "metadata": {},
     "output_type": "execute_result"
    }
   ],
   "source": [
    "binance_tickers = ['BTCUSDT', 'ETHUSDT', 'MATICUSDT', 'SOLUSDT', 'XRPUSDT']\n",
    "binance_api_url = 'https://api.binance.us/api/v3/ticker/bookTicker?symbol='\n",
    "\n",
    "binance_prices = []\n",
    "\n",
    "for i in range(len(binance_tickers)):\n",
    "    api_url = binance_api_url+binance_tickers[i]\n",
    "    api_response = requests.get(api_url).json()\n",
    "    ask_price = float(api_response['askPrice'])\n",
    "    bid_price = float(api_response['bidPrice'])\n",
    "    binance_prices.append([ask_price, bid_price])\n",
    "\n",
    "binance_prices"
   ]
  },
  {
   "cell_type": "markdown",
   "metadata": {},
   "source": [
    "##### Poloniex"
   ]
  },
  {
   "cell_type": "code",
   "execution_count": 15,
   "metadata": {},
   "outputs": [
    {
     "data": {
      "text/plain": [
       "[[52189.49, 52145.92],\n",
       " [2876.75, 2874.79],\n",
       " [0.98835, 0.98521],\n",
       " [108.882, 108.354],\n",
       " [0.5584, 0.558]]"
      ]
     },
     "execution_count": 15,
     "metadata": {},
     "output_type": "execute_result"
    }
   ],
   "source": [
    "poloniex_tickers = ['BTC_USDT', 'ETH_USDT', 'MATIC_USDT', 'SOL_USDT', 'XRP_USDT']\n",
    "poloniex_api_url = \"https://api.poloniex.com/markets/\"\n",
    "\n",
    "poloniex_prices = []\n",
    "\n",
    "for i in range(len(poloniex_tickers)):\n",
    "    api_url = poloniex_api_url+poloniex_tickers[i]+\"/orderBook\"\n",
    "    api_response = requests.get(api_url).json()\n",
    "    ask_price = float(api_response['asks'][0])\n",
    "    bid_price = float(api_response['bids'][0])\n",
    "    poloniex_prices.append([ask_price, bid_price])\n",
    "\n",
    "poloniex_prices"
   ]
  },
  {
   "cell_type": "markdown",
   "metadata": {},
   "source": [
    "##### Kraken"
   ]
  },
  {
   "cell_type": "code",
   "execution_count": null,
   "metadata": {},
   "outputs": [],
   "source": []
  },
  {
   "cell_type": "markdown",
   "metadata": {},
   "source": [
    "##### Bitstamp"
   ]
  },
  {
   "cell_type": "code",
   "execution_count": 1,
   "metadata": {},
   "outputs": [],
   "source": [
    "##### Gemini"
   ]
  },
  {
   "cell_type": "code",
   "execution_count": null,
   "metadata": {},
   "outputs": [],
   "source": []
  }
 ],
 "metadata": {
  "kernelspec": {
   "display_name": "Python 3 (ipykernel)",
   "language": "python",
   "name": "python3"
  },
  "language_info": {
   "codemirror_mode": {
    "name": "ipython",
    "version": 3
   },
   "file_extension": ".py",
   "mimetype": "text/x-python",
   "name": "python",
   "nbconvert_exporter": "python",
   "pygments_lexer": "ipython3",
   "version": "3.11.5"
  }
 },
 "nbformat": 4,
 "nbformat_minor": 4
}
