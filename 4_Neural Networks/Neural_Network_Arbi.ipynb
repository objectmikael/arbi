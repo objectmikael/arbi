{
  "cells": [
    {
      "cell_type": "markdown",
      "metadata": {
        "id": "0Gq-g0oJd12z"
      },
      "source": [
        "# Neural Network "
      ]
    },
    {
      "cell_type": "markdown",
      "metadata": {
        "id": "U6CX7qdHX0_h"
      },
      "source": [
        "# Initial imports\n"
      ]
    },
    {
      "cell_type": "code",
      "execution_count": 15,
      "metadata": {
        "id": "3nyYY8lQdq0i"
      },
      "outputs": [],
      "source": [
        "from pathlib import Path\n",
        "import pandas as pd\n",
        "import matplotlib.pyplot as plt\n",
        "from tensorflow.keras.models import Sequential\n",
        "from tensorflow.keras.layers import Dense\n",
        "from sklearn.preprocessing import StandardScaler\n",
        "from sklearn.model_selection import train_test_split"
      ]
    },
    {
      "cell_type": "markdown",
      "metadata": {
        "id": "LzdnSSnBX6x0"
      },
      "source": [
        "# Read in data"
      ]
    },
    {
      "cell_type": "code",
      "execution_count": 3,
      "metadata": {
        "colab": {
          "base_uri": "https://localhost:8080/",
          "height": 256
        },
        "id": "O4HHEtwHeUul",
        "outputId": "a8595550-1096-426c-cf5f-f6d8a428b5d8"
      },
      "outputs": [
        {
          "data": {
            "application/vnd.google.colaboratory.intrinsic+json": {
              "type": "dataframe",
              "variable_name": "df"
            },
            "text/html": [
              "\n",
              "  <div id=\"df-15997397-f167-4e35-9020-844fe2783a26\" class=\"colab-df-container\">\n",
              "    <div>\n",
              "<style scoped>\n",
              "    .dataframe tbody tr th:only-of-type {\n",
              "        vertical-align: middle;\n",
              "    }\n",
              "\n",
              "    .dataframe tbody tr th {\n",
              "        vertical-align: top;\n",
              "    }\n",
              "\n",
              "    .dataframe thead th {\n",
              "        text-align: right;\n",
              "    }\n",
              "</style>\n",
              "<table border=\"1\" class=\"dataframe\">\n",
              "  <thead>\n",
              "    <tr style=\"text-align: right;\">\n",
              "      <th></th>\n",
              "      <th>hour_of_day</th>\n",
              "      <th>volume</th>\n",
              "      <th>buy_price</th>\n",
              "      <th>total_purchase_amount</th>\n",
              "      <th>sell_price</th>\n",
              "      <th>total_sale_amount</th>\n",
              "      <th>profit</th>\n",
              "      <th>spread_percentage</th>\n",
              "      <th>wallet_balance</th>\n",
              "      <th>price_difference</th>\n",
              "      <th>...</th>\n",
              "      <th>buy_exchange_Binanceus</th>\n",
              "      <th>buy_exchange_Bitstamp</th>\n",
              "      <th>buy_exchange_Gemini</th>\n",
              "      <th>buy_exchange_Kraken</th>\n",
              "      <th>buy_exchange_Poloniex</th>\n",
              "      <th>sell_exchange_Binanceus</th>\n",
              "      <th>sell_exchange_Bitstamp</th>\n",
              "      <th>sell_exchange_Gemini</th>\n",
              "      <th>sell_exchange_Kraken</th>\n",
              "      <th>sell_exchange_Poloniex</th>\n",
              "    </tr>\n",
              "  </thead>\n",
              "  <tbody>\n",
              "    <tr>\n",
              "      <th>0</th>\n",
              "      <td>23</td>\n",
              "      <td>0.008658</td>\n",
              "      <td>69300.0000</td>\n",
              "      <td>600.000000</td>\n",
              "      <td>69474.95000</td>\n",
              "      <td>601.514719</td>\n",
              "      <td>1.514719</td>\n",
              "      <td>0.252453</td>\n",
              "      <td>2400.000000</td>\n",
              "      <td>174.95000</td>\n",
              "      <td>...</td>\n",
              "      <td>1.0</td>\n",
              "      <td>0.0</td>\n",
              "      <td>0.0</td>\n",
              "      <td>0.0</td>\n",
              "      <td>0.0</td>\n",
              "      <td>0.0</td>\n",
              "      <td>0.0</td>\n",
              "      <td>1.0</td>\n",
              "      <td>0.0</td>\n",
              "      <td>0.0</td>\n",
              "    </tr>\n",
              "    <tr>\n",
              "      <th>1</th>\n",
              "      <td>23</td>\n",
              "      <td>989.184242</td>\n",
              "      <td>0.9103</td>\n",
              "      <td>900.454416</td>\n",
              "      <td>0.91553</td>\n",
              "      <td>905.627849</td>\n",
              "      <td>5.173434</td>\n",
              "      <td>0.574536</td>\n",
              "      <td>2101.060303</td>\n",
              "      <td>0.00523</td>\n",
              "      <td>...</td>\n",
              "      <td>0.0</td>\n",
              "      <td>0.0</td>\n",
              "      <td>0.0</td>\n",
              "      <td>1.0</td>\n",
              "      <td>0.0</td>\n",
              "      <td>0.0</td>\n",
              "      <td>0.0</td>\n",
              "      <td>1.0</td>\n",
              "      <td>0.0</td>\n",
              "      <td>0.0</td>\n",
              "    </tr>\n",
              "    <tr>\n",
              "      <th>2</th>\n",
              "      <td>23</td>\n",
              "      <td>2.512527</td>\n",
              "      <td>179.1930</td>\n",
              "      <td>450.227208</td>\n",
              "      <td>179.66000</td>\n",
              "      <td>451.400558</td>\n",
              "      <td>1.173350</td>\n",
              "      <td>0.260613</td>\n",
              "      <td>1650.833095</td>\n",
              "      <td>0.46700</td>\n",
              "      <td>...</td>\n",
              "      <td>0.0</td>\n",
              "      <td>0.0</td>\n",
              "      <td>0.0</td>\n",
              "      <td>0.0</td>\n",
              "      <td>1.0</td>\n",
              "      <td>1.0</td>\n",
              "      <td>0.0</td>\n",
              "      <td>0.0</td>\n",
              "      <td>0.0</td>\n",
              "      <td>0.0</td>\n",
              "    </tr>\n",
              "    <tr>\n",
              "      <th>3</th>\n",
              "      <td>23</td>\n",
              "      <td>2.517840</td>\n",
              "      <td>179.1930</td>\n",
              "      <td>451.179225</td>\n",
              "      <td>179.66000</td>\n",
              "      <td>452.355056</td>\n",
              "      <td>1.175831</td>\n",
              "      <td>0.260613</td>\n",
              "      <td>2556.682277</td>\n",
              "      <td>0.46700</td>\n",
              "      <td>...</td>\n",
              "      <td>0.0</td>\n",
              "      <td>0.0</td>\n",
              "      <td>0.0</td>\n",
              "      <td>0.0</td>\n",
              "      <td>1.0</td>\n",
              "      <td>1.0</td>\n",
              "      <td>0.0</td>\n",
              "      <td>0.0</td>\n",
              "      <td>0.0</td>\n",
              "      <td>0.0</td>\n",
              "    </tr>\n",
              "    <tr>\n",
              "      <th>4</th>\n",
              "      <td>23</td>\n",
              "      <td>2.520005</td>\n",
              "      <td>179.1090</td>\n",
              "      <td>451.355600</td>\n",
              "      <td>179.66000</td>\n",
              "      <td>452.744123</td>\n",
              "      <td>1.388523</td>\n",
              "      <td>0.307634</td>\n",
              "      <td>2557.681733</td>\n",
              "      <td>0.55100</td>\n",
              "      <td>...</td>\n",
              "      <td>0.0</td>\n",
              "      <td>0.0</td>\n",
              "      <td>0.0</td>\n",
              "      <td>0.0</td>\n",
              "      <td>1.0</td>\n",
              "      <td>1.0</td>\n",
              "      <td>0.0</td>\n",
              "      <td>0.0</td>\n",
              "      <td>0.0</td>\n",
              "      <td>0.0</td>\n",
              "    </tr>\n",
              "  </tbody>\n",
              "</table>\n",
              "<p>5 rows × 36 columns</p>\n",
              "</div>\n",
              "    <div class=\"colab-df-buttons\">\n",
              "\n",
              "  <div class=\"colab-df-container\">\n",
              "    <button class=\"colab-df-convert\" onclick=\"convertToInteractive('df-15997397-f167-4e35-9020-844fe2783a26')\"\n",
              "            title=\"Convert this dataframe to an interactive table.\"\n",
              "            style=\"display:none;\">\n",
              "\n",
              "  <svg xmlns=\"http://www.w3.org/2000/svg\" height=\"24px\" viewBox=\"0 -960 960 960\">\n",
              "    <path d=\"M120-120v-720h720v720H120Zm60-500h600v-160H180v160Zm220 220h160v-160H400v160Zm0 220h160v-160H400v160ZM180-400h160v-160H180v160Zm440 0h160v-160H620v160ZM180-180h160v-160H180v160Zm440 0h160v-160H620v160Z\"/>\n",
              "  </svg>\n",
              "    </button>\n",
              "\n",
              "  <style>\n",
              "    .colab-df-container {\n",
              "      display:flex;\n",
              "      gap: 12px;\n",
              "    }\n",
              "\n",
              "    .colab-df-convert {\n",
              "      background-color: #E8F0FE;\n",
              "      border: none;\n",
              "      border-radius: 50%;\n",
              "      cursor: pointer;\n",
              "      display: none;\n",
              "      fill: #1967D2;\n",
              "      height: 32px;\n",
              "      padding: 0 0 0 0;\n",
              "      width: 32px;\n",
              "    }\n",
              "\n",
              "    .colab-df-convert:hover {\n",
              "      background-color: #E2EBFA;\n",
              "      box-shadow: 0px 1px 2px rgba(60, 64, 67, 0.3), 0px 1px 3px 1px rgba(60, 64, 67, 0.15);\n",
              "      fill: #174EA6;\n",
              "    }\n",
              "\n",
              "    .colab-df-buttons div {\n",
              "      margin-bottom: 4px;\n",
              "    }\n",
              "\n",
              "    [theme=dark] .colab-df-convert {\n",
              "      background-color: #3B4455;\n",
              "      fill: #D2E3FC;\n",
              "    }\n",
              "\n",
              "    [theme=dark] .colab-df-convert:hover {\n",
              "      background-color: #434B5C;\n",
              "      box-shadow: 0px 1px 3px 1px rgba(0, 0, 0, 0.15);\n",
              "      filter: drop-shadow(0px 1px 2px rgba(0, 0, 0, 0.3));\n",
              "      fill: #FFFFFF;\n",
              "    }\n",
              "  </style>\n",
              "\n",
              "    <script>\n",
              "      const buttonEl =\n",
              "        document.querySelector('#df-15997397-f167-4e35-9020-844fe2783a26 button.colab-df-convert');\n",
              "      buttonEl.style.display =\n",
              "        google.colab.kernel.accessAllowed ? 'block' : 'none';\n",
              "\n",
              "      async function convertToInteractive(key) {\n",
              "        const element = document.querySelector('#df-15997397-f167-4e35-9020-844fe2783a26');\n",
              "        const dataTable =\n",
              "          await google.colab.kernel.invokeFunction('convertToInteractive',\n",
              "                                                    [key], {});\n",
              "        if (!dataTable) return;\n",
              "\n",
              "        const docLinkHtml = 'Like what you see? Visit the ' +\n",
              "          '<a target=\"_blank\" href=https://colab.research.google.com/notebooks/data_table.ipynb>data table notebook</a>'\n",
              "          + ' to learn more about interactive tables.';\n",
              "        element.innerHTML = '';\n",
              "        dataTable['output_type'] = 'display_data';\n",
              "        await google.colab.output.renderOutput(dataTable, element);\n",
              "        const docLink = document.createElement('div');\n",
              "        docLink.innerHTML = docLinkHtml;\n",
              "        element.appendChild(docLink);\n",
              "      }\n",
              "    </script>\n",
              "  </div>\n",
              "\n",
              "\n",
              "<div id=\"df-02718cbf-ed30-4d7e-ac77-f774e990d177\">\n",
              "  <button class=\"colab-df-quickchart\" onclick=\"quickchart('df-02718cbf-ed30-4d7e-ac77-f774e990d177')\"\n",
              "            title=\"Suggest charts\"\n",
              "            style=\"display:none;\">\n",
              "\n",
              "<svg xmlns=\"http://www.w3.org/2000/svg\" height=\"24px\"viewBox=\"0 0 24 24\"\n",
              "     width=\"24px\">\n",
              "    <g>\n",
              "        <path d=\"M19 3H5c-1.1 0-2 .9-2 2v14c0 1.1.9 2 2 2h14c1.1 0 2-.9 2-2V5c0-1.1-.9-2-2-2zM9 17H7v-7h2v7zm4 0h-2V7h2v10zm4 0h-2v-4h2v4z\"/>\n",
              "    </g>\n",
              "</svg>\n",
              "  </button>\n",
              "\n",
              "<style>\n",
              "  .colab-df-quickchart {\n",
              "      --bg-color: #E8F0FE;\n",
              "      --fill-color: #1967D2;\n",
              "      --hover-bg-color: #E2EBFA;\n",
              "      --hover-fill-color: #174EA6;\n",
              "      --disabled-fill-color: #AAA;\n",
              "      --disabled-bg-color: #DDD;\n",
              "  }\n",
              "\n",
              "  [theme=dark] .colab-df-quickchart {\n",
              "      --bg-color: #3B4455;\n",
              "      --fill-color: #D2E3FC;\n",
              "      --hover-bg-color: #434B5C;\n",
              "      --hover-fill-color: #FFFFFF;\n",
              "      --disabled-bg-color: #3B4455;\n",
              "      --disabled-fill-color: #666;\n",
              "  }\n",
              "\n",
              "  .colab-df-quickchart {\n",
              "    background-color: var(--bg-color);\n",
              "    border: none;\n",
              "    border-radius: 50%;\n",
              "    cursor: pointer;\n",
              "    display: none;\n",
              "    fill: var(--fill-color);\n",
              "    height: 32px;\n",
              "    padding: 0;\n",
              "    width: 32px;\n",
              "  }\n",
              "\n",
              "  .colab-df-quickchart:hover {\n",
              "    background-color: var(--hover-bg-color);\n",
              "    box-shadow: 0 1px 2px rgba(60, 64, 67, 0.3), 0 1px 3px 1px rgba(60, 64, 67, 0.15);\n",
              "    fill: var(--button-hover-fill-color);\n",
              "  }\n",
              "\n",
              "  .colab-df-quickchart-complete:disabled,\n",
              "  .colab-df-quickchart-complete:disabled:hover {\n",
              "    background-color: var(--disabled-bg-color);\n",
              "    fill: var(--disabled-fill-color);\n",
              "    box-shadow: none;\n",
              "  }\n",
              "\n",
              "  .colab-df-spinner {\n",
              "    border: 2px solid var(--fill-color);\n",
              "    border-color: transparent;\n",
              "    border-bottom-color: var(--fill-color);\n",
              "    animation:\n",
              "      spin 1s steps(1) infinite;\n",
              "  }\n",
              "\n",
              "  @keyframes spin {\n",
              "    0% {\n",
              "      border-color: transparent;\n",
              "      border-bottom-color: var(--fill-color);\n",
              "      border-left-color: var(--fill-color);\n",
              "    }\n",
              "    20% {\n",
              "      border-color: transparent;\n",
              "      border-left-color: var(--fill-color);\n",
              "      border-top-color: var(--fill-color);\n",
              "    }\n",
              "    30% {\n",
              "      border-color: transparent;\n",
              "      border-left-color: var(--fill-color);\n",
              "      border-top-color: var(--fill-color);\n",
              "      border-right-color: var(--fill-color);\n",
              "    }\n",
              "    40% {\n",
              "      border-color: transparent;\n",
              "      border-right-color: var(--fill-color);\n",
              "      border-top-color: var(--fill-color);\n",
              "    }\n",
              "    60% {\n",
              "      border-color: transparent;\n",
              "      border-right-color: var(--fill-color);\n",
              "    }\n",
              "    80% {\n",
              "      border-color: transparent;\n",
              "      border-right-color: var(--fill-color);\n",
              "      border-bottom-color: var(--fill-color);\n",
              "    }\n",
              "    90% {\n",
              "      border-color: transparent;\n",
              "      border-bottom-color: var(--fill-color);\n",
              "    }\n",
              "  }\n",
              "</style>\n",
              "\n",
              "  <script>\n",
              "    async function quickchart(key) {\n",
              "      const quickchartButtonEl =\n",
              "        document.querySelector('#' + key + ' button');\n",
              "      quickchartButtonEl.disabled = true;  // To prevent multiple clicks.\n",
              "      quickchartButtonEl.classList.add('colab-df-spinner');\n",
              "      try {\n",
              "        const charts = await google.colab.kernel.invokeFunction(\n",
              "            'suggestCharts', [key], {});\n",
              "      } catch (error) {\n",
              "        console.error('Error during call to suggestCharts:', error);\n",
              "      }\n",
              "      quickchartButtonEl.classList.remove('colab-df-spinner');\n",
              "      quickchartButtonEl.classList.add('colab-df-quickchart-complete');\n",
              "    }\n",
              "    (() => {\n",
              "      let quickchartButtonEl =\n",
              "        document.querySelector('#df-02718cbf-ed30-4d7e-ac77-f774e990d177 button');\n",
              "      quickchartButtonEl.style.display =\n",
              "        google.colab.kernel.accessAllowed ? 'block' : 'none';\n",
              "    })();\n",
              "  </script>\n",
              "</div>\n",
              "\n",
              "    </div>\n",
              "  </div>\n"
            ],
            "text/plain": [
              "   hour_of_day      volume   buy_price  total_purchase_amount   sell_price  \\\n",
              "0           23    0.008658  69300.0000             600.000000  69474.95000   \n",
              "1           23  989.184242      0.9103             900.454416      0.91553   \n",
              "2           23    2.512527    179.1930             450.227208    179.66000   \n",
              "3           23    2.517840    179.1930             451.179225    179.66000   \n",
              "4           23    2.520005    179.1090             451.355600    179.66000   \n",
              "\n",
              "   total_sale_amount    profit  spread_percentage  wallet_balance  \\\n",
              "0         601.514719  1.514719           0.252453     2400.000000   \n",
              "1         905.627849  5.173434           0.574536     2101.060303   \n",
              "2         451.400558  1.173350           0.260613     1650.833095   \n",
              "3         452.355056  1.175831           0.260613     2556.682277   \n",
              "4         452.744123  1.388523           0.307634     2557.681733   \n",
              "\n",
              "   price_difference  ...  buy_exchange_Binanceus  buy_exchange_Bitstamp  \\\n",
              "0         174.95000  ...                     1.0                    0.0   \n",
              "1           0.00523  ...                     0.0                    0.0   \n",
              "2           0.46700  ...                     0.0                    0.0   \n",
              "3           0.46700  ...                     0.0                    0.0   \n",
              "4           0.55100  ...                     0.0                    0.0   \n",
              "\n",
              "   buy_exchange_Gemini  buy_exchange_Kraken  buy_exchange_Poloniex  \\\n",
              "0                  0.0                  0.0                    0.0   \n",
              "1                  0.0                  1.0                    0.0   \n",
              "2                  0.0                  0.0                    1.0   \n",
              "3                  0.0                  0.0                    1.0   \n",
              "4                  0.0                  0.0                    1.0   \n",
              "\n",
              "   sell_exchange_Binanceus  sell_exchange_Bitstamp  sell_exchange_Gemini  \\\n",
              "0                      0.0                     0.0                   1.0   \n",
              "1                      0.0                     0.0                   1.0   \n",
              "2                      1.0                     0.0                   0.0   \n",
              "3                      1.0                     0.0                   0.0   \n",
              "4                      1.0                     0.0                   0.0   \n",
              "\n",
              "   sell_exchange_Kraken  sell_exchange_Poloniex  \n",
              "0                   0.0                     0.0  \n",
              "1                   0.0                     0.0  \n",
              "2                   0.0                     0.0  \n",
              "3                   0.0                     0.0  \n",
              "4                   0.0                     0.0  \n",
              "\n",
              "[5 rows x 36 columns]"
            ]
          },
          "execution_count": 3,
          "metadata": {},
          "output_type": "execute_result"
        }
      ],
      "source": [
        "df = pd.read_csv(Path('../Resources/normalize_arbi_data.csv'))\n",
        "df.head()"
      ]
    },
    {
      "cell_type": "markdown",
      "metadata": {
        "id": "cP_pqTiiX88M"
      },
      "source": [
        "# Create the features (X) and target (y) sets"
      ]
    },
    {
      "cell_type": "code",
      "execution_count": 4,
      "metadata": {
        "colab": {
          "base_uri": "https://localhost:8080/"
        },
        "id": "Qv6Nykq3egUX",
        "outputId": "966a6746-fcbf-48d2-b87f-25b7c784a187"
      },
      "outputs": [
        {
          "data": {
            "text/plain": [
              "0    0\n",
              "1    0\n",
              "2    0\n",
              "3    0\n",
              "4    0\n",
              "Name: is_profitable, dtype: int64"
            ]
          },
          "execution_count": 4,
          "metadata": {},
          "output_type": "execute_result"
        }
      ],
      "source": [
        "X = df.drop(columns=['is_profitable'])\n",
        "y = df['is_profitable']\n",
        "y.head()"
      ]
    },
    {
      "cell_type": "markdown",
      "metadata": {
        "id": "a0ciKlT8YA7T"
      },
      "source": [
        "# Create training and testing datasets"
      ]
    },
    {
      "cell_type": "code",
      "execution_count": 5,
      "metadata": {
        "id": "oFEj6buYgCUg"
      },
      "outputs": [],
      "source": [
        "X_train, X_test, y_train, y_test = train_test_split(X, y, random_state=1)"
      ]
    },
    {
      "cell_type": "markdown",
      "metadata": {
        "id": "nLv9n-GaYEn2"
      },
      "source": [
        "#Scale the data"
      ]
    },
    {
      "cell_type": "code",
      "execution_count": 6,
      "metadata": {
        "id": "ONFqdvt7gtAo"
      },
      "outputs": [],
      "source": [
        "#Create scaler instance\n",
        "X_scaler = StandardScaler()\n",
        "\n",
        "# Fit the scaler\n",
        "X_scaler.fit(X_train)\n",
        "\n",
        "# Scale the features data\n",
        "X_train_scaled = X_scaler.transform(X_train)\n",
        "X_test_scaled = X_scaler.transform(X_test)"
      ]
    },
    {
      "cell_type": "markdown",
      "metadata": {
        "id": "98rLkKDGYQCd"
      },
      "source": [
        "# Define the model"
      ]
    },
    {
      "cell_type": "code",
      "execution_count": 8,
      "metadata": {
        "id": "VZ2rbbTxg0-i"
      },
      "outputs": [],
      "source": [
        "# Define the model - deep neural net with three hidden layers\n",
        "number_input_features = len(X.iloc[0])\n",
        "number_of_outputs = 1\n",
        "hidden_nodes_layer1 = (number_input_features + number_of_outputs)//2\n",
        "hidden_nodes_layer2 = (hidden_nodes_layer1 + number_of_outputs)//2\n",
        "hidden_nodes_layer3 = (hidden_nodes_layer2 + number_of_outputs)//2\n",
        "\n",
        "# Create a sequential neural network model\n",
        "nn_1 = Sequential()\n",
        "\n",
        "# Add the first hidden layer\n",
        "nn_1.add(Dense(units=hidden_nodes_layer1, input_dim=number_input_features, activation=\"relu\"))\n",
        "\n",
        "# Add the second hidden layer\n",
        "nn_1.add(Dense(units=hidden_nodes_layer2, activation=\"relu\"))\n",
        "\n",
        "# Add the third hidden layer\n",
        "nn_1.add(Dense(units=hidden_nodes_layer3, activation=\"relu\"))\n",
        "\n",
        "\n",
        "# Add the output layer\n",
        "nn_1.add(Dense(units=number_of_outputs, activation=\"sigmoid\"))\n"
      ]
    },
    {
      "cell_type": "markdown",
      "metadata": {
        "id": "IDfnkmlxYcv2"
      },
      "source": [
        "# Compile model"
      ]
    },
    {
      "cell_type": "code",
      "execution_count": 9,
      "metadata": {
        "id": "BBjpcsU7h_f2"
      },
      "outputs": [],
      "source": [
        "nn_1.compile(loss=\"binary_crossentropy\", optimizer=\"adam\", metrics=[\"accuracy\"])"
      ]
    },
    {
      "cell_type": "markdown",
      "metadata": {
        "id": "JWeCRe1_Yf1i"
      },
      "source": [
        "# Fit the model"
      ]
    },
    {
      "cell_type": "code",
      "execution_count": 10,
      "metadata": {
        "colab": {
          "base_uri": "https://localhost:8080/"
        },
        "id": "nMigxYW-igLa",
        "outputId": "23b7809b-3184-446e-bda3-3da0e1f0d347"
      },
      "outputs": [
        {
          "name": "stdout",
          "output_type": "stream",
          "text": [
            "Epoch 1/50\n",
            "430/430 [==============================] - 3s 4ms/step - loss: 0.0997 - accuracy: 0.9778\n",
            "Epoch 2/50\n",
            "430/430 [==============================] - 1s 3ms/step - loss: 0.0082 - accuracy: 0.9979\n",
            "Epoch 3/50\n",
            "430/430 [==============================] - 1s 3ms/step - loss: 0.0045 - accuracy: 0.9987\n",
            "Epoch 4/50\n",
            "430/430 [==============================] - 1s 3ms/step - loss: 0.0037 - accuracy: 0.9990\n",
            "Epoch 5/50\n",
            "430/430 [==============================] - 1s 2ms/step - loss: 0.0028 - accuracy: 0.9991\n",
            "Epoch 6/50\n",
            "430/430 [==============================] - 1s 2ms/step - loss: 0.0023 - accuracy: 0.9993\n",
            "Epoch 7/50\n",
            "430/430 [==============================] - 1s 2ms/step - loss: 0.0020 - accuracy: 0.9993\n",
            "Epoch 8/50\n",
            "430/430 [==============================] - 1s 2ms/step - loss: 0.0020 - accuracy: 0.9991\n",
            "Epoch 9/50\n",
            "430/430 [==============================] - 1s 2ms/step - loss: 0.0022 - accuracy: 0.9993\n",
            "Epoch 10/50\n",
            "430/430 [==============================] - 1s 2ms/step - loss: 0.0015 - accuracy: 0.9994\n",
            "Epoch 11/50\n",
            "430/430 [==============================] - 1s 2ms/step - loss: 0.0014 - accuracy: 0.9994\n",
            "Epoch 12/50\n",
            "430/430 [==============================] - 1s 2ms/step - loss: 0.0016 - accuracy: 0.9994\n",
            "Epoch 13/50\n",
            "430/430 [==============================] - 1s 2ms/step - loss: 0.0011 - accuracy: 0.9996\n",
            "Epoch 14/50\n",
            "430/430 [==============================] - 1s 2ms/step - loss: 0.0013 - accuracy: 0.9995\n",
            "Epoch 15/50\n",
            "430/430 [==============================] - 1s 2ms/step - loss: 0.0023 - accuracy: 0.9991\n",
            "Epoch 16/50\n",
            "430/430 [==============================] - 1s 3ms/step - loss: 0.0011 - accuracy: 0.9996\n",
            "Epoch 17/50\n",
            "430/430 [==============================] - 1s 3ms/step - loss: 0.0014 - accuracy: 0.9996\n",
            "Epoch 18/50\n",
            "430/430 [==============================] - 1s 2ms/step - loss: 7.8451e-04 - accuracy: 0.9998\n",
            "Epoch 19/50\n",
            "430/430 [==============================] - 1s 2ms/step - loss: 0.0014 - accuracy: 0.9995\n",
            "Epoch 20/50\n",
            "430/430 [==============================] - 1s 2ms/step - loss: 7.6402e-04 - accuracy: 0.9998\n",
            "Epoch 21/50\n",
            "430/430 [==============================] - 1s 2ms/step - loss: 9.5508e-04 - accuracy: 0.9998\n",
            "Epoch 22/50\n",
            "430/430 [==============================] - 1s 2ms/step - loss: 6.4344e-04 - accuracy: 0.9996\n",
            "Epoch 23/50\n",
            "430/430 [==============================] - 1s 2ms/step - loss: 0.0013 - accuracy: 0.9996\n",
            "Epoch 24/50\n",
            "430/430 [==============================] - 1s 2ms/step - loss: 0.0016 - accuracy: 0.9995\n",
            "Epoch 25/50\n",
            "430/430 [==============================] - 1s 2ms/step - loss: 0.0011 - accuracy: 0.9996\n",
            "Epoch 26/50\n",
            "430/430 [==============================] - 1s 2ms/step - loss: 0.0015 - accuracy: 0.9993\n",
            "Epoch 27/50\n",
            "430/430 [==============================] - 1s 2ms/step - loss: 0.0010 - accuracy: 0.9996\n",
            "Epoch 28/50\n",
            "430/430 [==============================] - 1s 2ms/step - loss: 4.6002e-04 - accuracy: 0.9999\n",
            "Epoch 29/50\n",
            "430/430 [==============================] - 1s 3ms/step - loss: 7.5964e-04 - accuracy: 0.9998\n",
            "Epoch 30/50\n",
            "430/430 [==============================] - 1s 3ms/step - loss: 0.0018 - accuracy: 0.9993\n",
            "Epoch 31/50\n",
            "430/430 [==============================] - 1s 2ms/step - loss: 6.2756e-04 - accuracy: 0.9998\n",
            "Epoch 32/50\n",
            "430/430 [==============================] - 1s 2ms/step - loss: 0.0015 - accuracy: 0.9994\n",
            "Epoch 33/50\n",
            "430/430 [==============================] - 1s 2ms/step - loss: 6.9865e-04 - accuracy: 0.9999\n",
            "Epoch 34/50\n",
            "430/430 [==============================] - 1s 2ms/step - loss: 0.0013 - accuracy: 0.9994\n",
            "Epoch 35/50\n",
            "430/430 [==============================] - 1s 2ms/step - loss: 0.0012 - accuracy: 0.9994\n",
            "Epoch 36/50\n",
            "430/430 [==============================] - 1s 2ms/step - loss: 8.6730e-04 - accuracy: 0.9997\n",
            "Epoch 37/50\n",
            "430/430 [==============================] - 1s 2ms/step - loss: 8.0122e-04 - accuracy: 0.9996\n",
            "Epoch 38/50\n",
            "430/430 [==============================] - 1s 2ms/step - loss: 7.8273e-04 - accuracy: 0.9997\n",
            "Epoch 39/50\n",
            "430/430 [==============================] - 1s 2ms/step - loss: 3.0703e-04 - accuracy: 0.9999\n",
            "Epoch 40/50\n",
            "430/430 [==============================] - 1s 2ms/step - loss: 0.0013 - accuracy: 0.9996\n",
            "Epoch 41/50\n",
            "430/430 [==============================] - 1s 3ms/step - loss: 0.0013 - accuracy: 0.9995\n",
            "Epoch 42/50\n",
            "430/430 [==============================] - 1s 3ms/step - loss: 6.7668e-04 - accuracy: 0.9997\n",
            "Epoch 43/50\n",
            "430/430 [==============================] - 1s 3ms/step - loss: 7.0087e-04 - accuracy: 0.9998\n",
            "Epoch 44/50\n",
            "430/430 [==============================] - 1s 2ms/step - loss: 0.0010 - accuracy: 0.9996\n",
            "Epoch 45/50\n",
            "430/430 [==============================] - 1s 2ms/step - loss: 0.0013 - accuracy: 0.9994\n",
            "Epoch 46/50\n",
            "430/430 [==============================] - 1s 3ms/step - loss: 0.0011 - accuracy: 0.9996\n",
            "Epoch 47/50\n",
            "430/430 [==============================] - 1s 3ms/step - loss: 6.1411e-04 - accuracy: 0.9998\n",
            "Epoch 48/50\n",
            "430/430 [==============================] - 1s 2ms/step - loss: 0.0011 - accuracy: 0.9997\n",
            "Epoch 49/50\n",
            "430/430 [==============================] - 1s 2ms/step - loss: 9.2249e-04 - accuracy: 0.9996\n",
            "Epoch 50/50\n",
            "430/430 [==============================] - 1s 2ms/step - loss: 0.0012 - accuracy: 0.9995\n"
          ]
        }
      ],
      "source": [
        "deep_net_model_1 = nn_1.fit(X_train_scaled, y_train, epochs=50)"
      ]
    },
    {
      "cell_type": "markdown",
      "metadata": {
        "id": "fw5mXF1oYobe"
      },
      "source": [
        "# Plot the loss function"
      ]
    },
    {
      "cell_type": "code",
      "execution_count": 12,
      "metadata": {
        "colab": {
          "base_uri": "https://localhost:8080/",
          "height": 452
        },
        "id": "yD7-9WTmn8qO",
        "outputId": "f57d6b68-3f7b-444e-f8e4-1d7c2fb14dd3"
      },
      "outputs": [
        {
          "data": {
            "image/png": "[encoded data removed]",
            "text/plain": [
              "<Figure size 640x480 with 1 Axes>"
            ]
          },
          "metadata": {},
          "output_type": "display_data"
        }
      ],
      "source": [
        "plt.plot(deep_net_model_1.history[\"loss\"])\n",
        "plt.title(\"loss_function - Training\")\n",
        "plt.legend([\"3 hidden layer\"])\n",
        "plt.show()"
      ]
    },
    {
      "cell_type": "markdown",
      "metadata": {
        "id": "1TCoTC4tYsZY"
      },
      "source": [
        "# Evaluate the model"
      ]
    },
    {
      "cell_type": "code",
      "execution_count": 14,
      "metadata": {
        "colab": {
          "base_uri": "https://localhost:8080/"
        },
        "id": "SJnM17a1oZzt",
        "outputId": "739b867b-f997-4ae1-b76a-1e8211e07582"
      },
      "outputs": [
        {
          "name": "stdout",
          "output_type": "stream",
          "text": [
            "144/144 - 1s - loss: 0.0014 - accuracy: 0.9996 - 1s/epoch - 9ms/step\n",
            "Loss: 0.0013666703598573804, Accuracy: 0.9995632171630859\n"
          ]
        }
      ],
      "source": [
        "# Evaluate the model using the test data\n",
        "model_loss, model_accuracy = nn_1.evaluate(X_test_scaled, y_test, verbose=2)\n",
        "\n",
        "# Display evaluation results\n",
        "print(f\"Loss: {model_loss}, Accuracy: {model_accuracy}\")"
      ]
    },
    {
      "cell_type": "markdown",
      "metadata": {
        "id": "wVf6ZPzyYl02"
      },
      "source": [
        "# Save model"
      ]
    },
    {
      "cell_type": "code",
      "execution_count": 11,
      "metadata": {
        "id": "vEcwUABAnJZh"
      },
      "outputs": [],
      "source": [
        "#Create file path\n",
        "file_path = Path('../Resources/nn_1.weights.h5')\n",
        "\n",
        "# Export model as a HDF5 file\n",
        "nn_1.save_weights(file_path)"
      ]
    }
  ],
  "metadata": {
    "colab": {
      "provenance": []
    },
    "kernelspec": {
      "display_name": "Python 3",
      "name": "python3"
    },
    "language_info": {
      "name": "python"
    }
  },
  "nbformat": 4,
  "nbformat_minor": 0
}
