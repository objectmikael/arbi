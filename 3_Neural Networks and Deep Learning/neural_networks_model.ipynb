{
  "cells": [
    {
      "cell_type": "markdown",
      "metadata": {
        "id": "0Gq-g0oJd12z"
      },
      "source": [
        "# Neural Network "
      ]
    },
    {
      "cell_type": "markdown",
      "metadata": {
        "id": "U6CX7qdHX0_h"
      },
      "source": [
        "# Initial imports\n"
      ]
    },
    {
      "cell_type": "code",
      "execution_count": 1,
      "metadata": {
        "id": "3nyYY8lQdq0i"
      },
      "outputs": [
        {
          "name": "stderr",
          "output_type": "stream",
          "text": [
            "2024-04-21 18:11:08.333370: I tensorflow/core/platform/cpu_feature_guard.cc:182] This TensorFlow binary is optimized to use available CPU instructions in performance-critical operations.\n",
            "To enable the following instructions: AVX2 FMA, in other operations, rebuild TensorFlow with the appropriate compiler flags.\n"
          ]
        }
      ],
      "source": [
        "from pathlib import Path\n",
        "import pandas as pd\n",
        "import matplotlib.pyplot as plt\n",
        "from tensorflow.keras.models import Sequential\n",
        "from tensorflow.keras.layers import Dense\n",
        "from sklearn.preprocessing import StandardScaler\n",
        "from sklearn.model_selection import train_test_split"
      ]
    },
    {
      "cell_type": "markdown",
      "metadata": {
        "id": "LzdnSSnBX6x0"
      },
      "source": [
        "# Read in data"
      ]
    },
    {
      "cell_type": "code",
      "execution_count": 2,
      "metadata": {
        "colab": {
          "base_uri": "https://localhost:8080/",
          "height": 256
        },
        "id": "O4HHEtwHeUul",
        "outputId": "a8595550-1096-426c-cf5f-f6d8a428b5d8"
      },
      "outputs": [
        {
          "data": {
            "text/html": [
              "<div>\n",
              "<style scoped>\n",
              "    .dataframe tbody tr th:only-of-type {\n",
              "        vertical-align: middle;\n",
              "    }\n",
              "\n",
              "    .dataframe tbody tr th {\n",
              "        vertical-align: top;\n",
              "    }\n",
              "\n",
              "    .dataframe thead th {\n",
              "        text-align: right;\n",
              "    }\n",
              "</style>\n",
              "<table border=\"1\" class=\"dataframe\">\n",
              "  <thead>\n",
              "    <tr style=\"text-align: right;\">\n",
              "      <th></th>\n",
              "      <th>hour_of_day</th>\n",
              "      <th>volume</th>\n",
              "      <th>buy_price</th>\n",
              "      <th>total_purchase_amount</th>\n",
              "      <th>sell_price</th>\n",
              "      <th>total_sale_amount</th>\n",
              "      <th>price_difference</th>\n",
              "      <th>is_profitable</th>\n",
              "      <th>gold_close</th>\n",
              "      <th>spy_close</th>\n",
              "      <th>...</th>\n",
              "      <th>buy_exchange_Binanceus</th>\n",
              "      <th>buy_exchange_Bitstamp</th>\n",
              "      <th>buy_exchange_Gemini</th>\n",
              "      <th>buy_exchange_Kraken</th>\n",
              "      <th>buy_exchange_Poloniex</th>\n",
              "      <th>sell_exchange_Binanceus</th>\n",
              "      <th>sell_exchange_Bitstamp</th>\n",
              "      <th>sell_exchange_Gemini</th>\n",
              "      <th>sell_exchange_Kraken</th>\n",
              "      <th>sell_exchange_Poloniex</th>\n",
              "    </tr>\n",
              "  </thead>\n",
              "  <tbody>\n",
              "    <tr>\n",
              "      <th>0</th>\n",
              "      <td>23</td>\n",
              "      <td>0.008658</td>\n",
              "      <td>69300.0000</td>\n",
              "      <td>600.000000</td>\n",
              "      <td>69474.95000</td>\n",
              "      <td>601.514719</td>\n",
              "      <td>174.95000</td>\n",
              "      <td>0</td>\n",
              "      <td>17.95</td>\n",
              "      <td>518.51</td>\n",
              "      <td>...</td>\n",
              "      <td>1.0</td>\n",
              "      <td>0.0</td>\n",
              "      <td>0.0</td>\n",
              "      <td>0.0</td>\n",
              "      <td>0.0</td>\n",
              "      <td>0.0</td>\n",
              "      <td>0.0</td>\n",
              "      <td>1.0</td>\n",
              "      <td>0.0</td>\n",
              "      <td>0.0</td>\n",
              "    </tr>\n",
              "    <tr>\n",
              "      <th>1</th>\n",
              "      <td>23</td>\n",
              "      <td>989.184242</td>\n",
              "      <td>0.9103</td>\n",
              "      <td>900.454416</td>\n",
              "      <td>0.91553</td>\n",
              "      <td>905.627849</td>\n",
              "      <td>0.00523</td>\n",
              "      <td>0</td>\n",
              "      <td>17.95</td>\n",
              "      <td>518.51</td>\n",
              "      <td>...</td>\n",
              "      <td>0.0</td>\n",
              "      <td>0.0</td>\n",
              "      <td>0.0</td>\n",
              "      <td>1.0</td>\n",
              "      <td>0.0</td>\n",
              "      <td>0.0</td>\n",
              "      <td>0.0</td>\n",
              "      <td>1.0</td>\n",
              "      <td>0.0</td>\n",
              "      <td>0.0</td>\n",
              "    </tr>\n",
              "    <tr>\n",
              "      <th>2</th>\n",
              "      <td>23</td>\n",
              "      <td>2.512527</td>\n",
              "      <td>179.1930</td>\n",
              "      <td>450.227208</td>\n",
              "      <td>179.66000</td>\n",
              "      <td>451.400558</td>\n",
              "      <td>0.46700</td>\n",
              "      <td>0</td>\n",
              "      <td>17.95</td>\n",
              "      <td>518.51</td>\n",
              "      <td>...</td>\n",
              "      <td>0.0</td>\n",
              "      <td>0.0</td>\n",
              "      <td>0.0</td>\n",
              "      <td>0.0</td>\n",
              "      <td>1.0</td>\n",
              "      <td>1.0</td>\n",
              "      <td>0.0</td>\n",
              "      <td>0.0</td>\n",
              "      <td>0.0</td>\n",
              "      <td>0.0</td>\n",
              "    </tr>\n",
              "    <tr>\n",
              "      <th>3</th>\n",
              "      <td>23</td>\n",
              "      <td>2.517840</td>\n",
              "      <td>179.1930</td>\n",
              "      <td>451.179225</td>\n",
              "      <td>179.66000</td>\n",
              "      <td>452.355056</td>\n",
              "      <td>0.46700</td>\n",
              "      <td>0</td>\n",
              "      <td>17.95</td>\n",
              "      <td>518.51</td>\n",
              "      <td>...</td>\n",
              "      <td>0.0</td>\n",
              "      <td>0.0</td>\n",
              "      <td>0.0</td>\n",
              "      <td>0.0</td>\n",
              "      <td>1.0</td>\n",
              "      <td>1.0</td>\n",
              "      <td>0.0</td>\n",
              "      <td>0.0</td>\n",
              "      <td>0.0</td>\n",
              "      <td>0.0</td>\n",
              "    </tr>\n",
              "    <tr>\n",
              "      <th>4</th>\n",
              "      <td>23</td>\n",
              "      <td>2.520005</td>\n",
              "      <td>179.1090</td>\n",
              "      <td>451.355600</td>\n",
              "      <td>179.66000</td>\n",
              "      <td>452.744123</td>\n",
              "      <td>0.55100</td>\n",
              "      <td>0</td>\n",
              "      <td>17.95</td>\n",
              "      <td>518.51</td>\n",
              "      <td>...</td>\n",
              "      <td>0.0</td>\n",
              "      <td>0.0</td>\n",
              "      <td>0.0</td>\n",
              "      <td>0.0</td>\n",
              "      <td>1.0</td>\n",
              "      <td>1.0</td>\n",
              "      <td>0.0</td>\n",
              "      <td>0.0</td>\n",
              "      <td>0.0</td>\n",
              "      <td>0.0</td>\n",
              "    </tr>\n",
              "  </tbody>\n",
              "</table>\n",
              "<p>5 rows × 33 columns</p>\n",
              "</div>"
            ],
            "text/plain": [
              "   hour_of_day      volume   buy_price  total_purchase_amount   sell_price  \\\n",
              "0           23    0.008658  69300.0000             600.000000  69474.95000   \n",
              "1           23  989.184242      0.9103             900.454416      0.91553   \n",
              "2           23    2.512527    179.1930             450.227208    179.66000   \n",
              "3           23    2.517840    179.1930             451.179225    179.66000   \n",
              "4           23    2.520005    179.1090             451.355600    179.66000   \n",
              "\n",
              "   total_sale_amount  price_difference  is_profitable  gold_close  spy_close  \\\n",
              "0         601.514719         174.95000              0       17.95     518.51   \n",
              "1         905.627849           0.00523              0       17.95     518.51   \n",
              "2         451.400558           0.46700              0       17.95     518.51   \n",
              "3         452.355056           0.46700              0       17.95     518.51   \n",
              "4         452.744123           0.55100              0       17.95     518.51   \n",
              "\n",
              "   ...  buy_exchange_Binanceus  buy_exchange_Bitstamp  buy_exchange_Gemini  \\\n",
              "0  ...                     1.0                    0.0                  0.0   \n",
              "1  ...                     0.0                    0.0                  0.0   \n",
              "2  ...                     0.0                    0.0                  0.0   \n",
              "3  ...                     0.0                    0.0                  0.0   \n",
              "4  ...                     0.0                    0.0                  0.0   \n",
              "\n",
              "   buy_exchange_Kraken  buy_exchange_Poloniex  sell_exchange_Binanceus  \\\n",
              "0                  0.0                    0.0                      0.0   \n",
              "1                  1.0                    0.0                      0.0   \n",
              "2                  0.0                    1.0                      1.0   \n",
              "3                  0.0                    1.0                      1.0   \n",
              "4                  0.0                    1.0                      1.0   \n",
              "\n",
              "   sell_exchange_Bitstamp  sell_exchange_Gemini  sell_exchange_Kraken  \\\n",
              "0                     0.0                   1.0                   0.0   \n",
              "1                     0.0                   1.0                   0.0   \n",
              "2                     0.0                   0.0                   0.0   \n",
              "3                     0.0                   0.0                   0.0   \n",
              "4                     0.0                   0.0                   0.0   \n",
              "\n",
              "   sell_exchange_Poloniex  \n",
              "0                     0.0  \n",
              "1                     0.0  \n",
              "2                     0.0  \n",
              "3                     0.0  \n",
              "4                     0.0  \n",
              "\n",
              "[5 rows x 33 columns]"
            ]
          },
          "execution_count": 2,
          "metadata": {},
          "output_type": "execute_result"
        }
      ],
      "source": [
        "df = pd.read_csv(Path('../Resources/encoded_arbi_data.csv'))\n",
        "df.head()"
      ]
    },
    {
      "cell_type": "markdown",
      "metadata": {
        "id": "cP_pqTiiX88M"
      },
      "source": [
        "# Create the features (X) and target (y) sets"
      ]
    },
    {
      "cell_type": "code",
      "execution_count": 3,
      "metadata": {
        "colab": {
          "base_uri": "https://localhost:8080/"
        },
        "id": "Qv6Nykq3egUX",
        "outputId": "966a6746-fcbf-48d2-b87f-25b7c784a187"
      },
      "outputs": [
        {
          "data": {
            "text/plain": [
              "0    0\n",
              "1    0\n",
              "2    0\n",
              "3    0\n",
              "4    0\n",
              "Name: is_profitable, dtype: int64"
            ]
          },
          "execution_count": 3,
          "metadata": {},
          "output_type": "execute_result"
        }
      ],
      "source": [
        "X = df.drop(columns=['is_profitable'])\n",
        "y = df['is_profitable']\n",
        "y.head()"
      ]
    },
    {
      "cell_type": "markdown",
      "metadata": {
        "id": "a0ciKlT8YA7T"
      },
      "source": [
        "# Create training and testing datasets"
      ]
    },
    {
      "cell_type": "code",
      "execution_count": 4,
      "metadata": {
        "id": "oFEj6buYgCUg"
      },
      "outputs": [],
      "source": [
        "X_train, X_test, y_train, y_test = train_test_split(X, y, random_state=1)"
      ]
    },
    {
      "cell_type": "markdown",
      "metadata": {
        "id": "nLv9n-GaYEn2"
      },
      "source": [
        "# Scale the data"
      ]
    },
    {
      "cell_type": "code",
      "execution_count": 5,
      "metadata": {
        "id": "ONFqdvt7gtAo"
      },
      "outputs": [],
      "source": [
        "#Create scaler instance\n",
        "X_scaler = StandardScaler()\n",
        "\n",
        "# Fit the scaler\n",
        "X_scaler.fit(X_train)\n",
        "\n",
        "# Scale the features data\n",
        "X_train_scaled = X_scaler.transform(X_train)\n",
        "X_test_scaled = X_scaler.transform(X_test)"
      ]
    },
    {
      "cell_type": "markdown",
      "metadata": {
        "id": "98rLkKDGYQCd"
      },
      "source": [
        "# Define the model"
      ]
    },
    {
      "cell_type": "code",
      "execution_count": 6,
      "metadata": {
        "id": "VZ2rbbTxg0-i"
      },
      "outputs": [],
      "source": [
        "# Define the model - deep neural net with three hidden layers\n",
        "number_input_features = len(X.iloc[0])\n",
        "number_of_outputs = 1\n",
        "hidden_nodes_layer1 = (number_input_features + number_of_outputs)//2\n",
        "hidden_nodes_layer2 = (hidden_nodes_layer1 + number_of_outputs)//2\n",
        "hidden_nodes_layer3 = (hidden_nodes_layer2 + number_of_outputs)//2\n",
        "\n",
        "# Create a sequential neural network model\n",
        "nn_1 = Sequential()\n",
        "\n",
        "# Add the first hidden layer\n",
        "nn_1.add(Dense(units=hidden_nodes_layer1, input_dim=number_input_features, activation=\"relu\"))\n",
        "\n",
        "# Add the second hidden layer\n",
        "nn_1.add(Dense(units=hidden_nodes_layer2, activation=\"relu\"))\n",
        "\n",
        "# Add the third hidden layer\n",
        "nn_1.add(Dense(units=hidden_nodes_layer3, activation=\"relu\"))\n",
        "\n",
        "\n",
        "# Add the output layer\n",
        "nn_1.add(Dense(units=number_of_outputs, activation=\"sigmoid\"))\n"
      ]
    },
    {
      "cell_type": "markdown",
      "metadata": {
        "id": "IDfnkmlxYcv2"
      },
      "source": [
        "# Compile model"
      ]
    },
    {
      "cell_type": "code",
      "execution_count": 7,
      "metadata": {
        "id": "BBjpcsU7h_f2"
      },
      "outputs": [],
      "source": [
        "nn_1.compile(loss=\"binary_crossentropy\", optimizer=\"adam\", metrics=[\"accuracy\"])"
      ]
    },
    {
      "cell_type": "markdown",
      "metadata": {
        "id": "JWeCRe1_Yf1i"
      },
      "source": [
        "# Fit the model"
      ]
    },
    {
      "cell_type": "code",
      "execution_count": 8,
      "metadata": {
        "colab": {
          "base_uri": "https://localhost:8080/"
        },
        "id": "nMigxYW-igLa",
        "outputId": "23b7809b-3184-446e-bda3-3da0e1f0d347"
      },
      "outputs": [
        {
          "name": "stdout",
          "output_type": "stream",
          "text": [
            "Epoch 1/50\n",
            "430/430 [==============================] - 9s 10ms/step - loss: 0.1234 - accuracy: 0.9793\n",
            "Epoch 2/50\n",
            "430/430 [==============================] - 5s 12ms/step - loss: 0.0605 - accuracy: 0.9793\n",
            "Epoch 3/50\n",
            "430/430 [==============================] - 5s 12ms/step - loss: 0.0532 - accuracy: 0.9793\n",
            "Epoch 4/50\n",
            "430/430 [==============================] - 5s 12ms/step - loss: 0.0488 - accuracy: 0.9793\n",
            "Epoch 5/50\n",
            "430/430 [==============================] - 5s 12ms/step - loss: 0.0454 - accuracy: 0.9793\n",
            "Epoch 6/50\n",
            "430/430 [==============================] - 8s 18ms/step - loss: 0.0423 - accuracy: 0.9793\n",
            "Epoch 7/50\n",
            "430/430 [==============================] - 6s 13ms/step - loss: 0.0397 - accuracy: 0.9801\n",
            "Epoch 8/50\n",
            "430/430 [==============================] - 6s 13ms/step - loss: 0.0376 - accuracy: 0.9812\n",
            "Epoch 9/50\n",
            "430/430 [==============================] - 6s 14ms/step - loss: 0.0365 - accuracy: 0.9850\n",
            "Epoch 10/50\n",
            "430/430 [==============================] - 6s 14ms/step - loss: 0.0346 - accuracy: 0.9857\n",
            "Epoch 11/50\n",
            "430/430 [==============================] - 7s 16ms/step - loss: 0.0338 - accuracy: 0.9865\n",
            "Epoch 12/50\n",
            "430/430 [==============================] - 6s 15ms/step - loss: 0.0328 - accuracy: 0.9879\n",
            "Epoch 13/50\n",
            "430/430 [==============================] - 8s 19ms/step - loss: 0.0319 - accuracy: 0.9879\n",
            "Epoch 14/50\n",
            "430/430 [==============================] - 6s 13ms/step - loss: 0.0311 - accuracy: 0.9873\n",
            "Epoch 15/50\n",
            "430/430 [==============================] - 5s 12ms/step - loss: 0.0302 - accuracy: 0.9886\n",
            "Epoch 16/50\n",
            "430/430 [==============================] - 5s 12ms/step - loss: 0.0326 - accuracy: 0.9852\n",
            "Epoch 17/50\n",
            "430/430 [==============================] - 5s 12ms/step - loss: 0.0295 - accuracy: 0.9889\n",
            "Epoch 18/50\n",
            "430/430 [==============================] - 5s 12ms/step - loss: 0.0293 - accuracy: 0.9884\n",
            "Epoch 19/50\n",
            "430/430 [==============================] - 5s 11ms/step - loss: 0.0279 - accuracy: 0.9893\n",
            "Epoch 20/50\n",
            "430/430 [==============================] - 5s 12ms/step - loss: 0.0275 - accuracy: 0.9900\n",
            "Epoch 21/50\n",
            "430/430 [==============================] - 5s 11ms/step - loss: 0.0276 - accuracy: 0.9894\n",
            "Epoch 22/50\n",
            "430/430 [==============================] - 5s 12ms/step - loss: 0.0268 - accuracy: 0.9894\n",
            "Epoch 23/50\n",
            "430/430 [==============================] - 5s 11ms/step - loss: 0.0266 - accuracy: 0.9892\n",
            "Epoch 24/50\n",
            "430/430 [==============================] - 5s 12ms/step - loss: 0.0264 - accuracy: 0.9894\n",
            "Epoch 25/50\n",
            "430/430 [==============================] - 5s 12ms/step - loss: 0.0265 - accuracy: 0.9893\n",
            "Epoch 26/50\n",
            "430/430 [==============================] - 5s 11ms/step - loss: 0.0260 - accuracy: 0.9894\n",
            "Epoch 27/50\n",
            "430/430 [==============================] - 5s 11ms/step - loss: 0.0254 - accuracy: 0.9897\n",
            "Epoch 28/50\n",
            "430/430 [==============================] - 5s 11ms/step - loss: 0.0255 - accuracy: 0.9901\n",
            "Epoch 29/50\n",
            "430/430 [==============================] - 5s 11ms/step - loss: 0.0252 - accuracy: 0.9896\n",
            "Epoch 30/50\n",
            "430/430 [==============================] - 5s 11ms/step - loss: 0.0242 - accuracy: 0.9902\n",
            "Epoch 31/50\n",
            "430/430 [==============================] - 5s 11ms/step - loss: 0.0239 - accuracy: 0.9900\n",
            "Epoch 32/50\n",
            "430/430 [==============================] - 5s 11ms/step - loss: 0.0252 - accuracy: 0.9891\n",
            "Epoch 33/50\n",
            "430/430 [==============================] - 4s 10ms/step - loss: 0.0232 - accuracy: 0.9910\n",
            "Epoch 34/50\n",
            "430/430 [==============================] - 5s 11ms/step - loss: 0.0243 - accuracy: 0.9910\n",
            "Epoch 35/50\n",
            "430/430 [==============================] - 5s 12ms/step - loss: 0.0232 - accuracy: 0.9905\n",
            "Epoch 36/50\n",
            "430/430 [==============================] - 6s 13ms/step - loss: 0.0241 - accuracy: 0.9900\n",
            "Epoch 37/50\n",
            "430/430 [==============================] - 5s 12ms/step - loss: 0.0231 - accuracy: 0.9908\n",
            "Epoch 38/50\n",
            "430/430 [==============================] - 6s 13ms/step - loss: 0.0232 - accuracy: 0.9905\n",
            "Epoch 39/50\n",
            "430/430 [==============================] - 6s 13ms/step - loss: 0.0235 - accuracy: 0.9905\n",
            "Epoch 40/50\n",
            "430/430 [==============================] - 6s 13ms/step - loss: 0.0226 - accuracy: 0.9910\n",
            "Epoch 41/50\n",
            "430/430 [==============================] - 5s 12ms/step - loss: 0.0226 - accuracy: 0.9912\n",
            "Epoch 42/50\n",
            "430/430 [==============================] - 6s 13ms/step - loss: 0.0234 - accuracy: 0.9901\n",
            "Epoch 43/50\n",
            "430/430 [==============================] - 5s 12ms/step - loss: 0.0216 - accuracy: 0.9922\n",
            "Epoch 44/50\n",
            "430/430 [==============================] - 6s 13ms/step - loss: 0.0216 - accuracy: 0.9913\n",
            "Epoch 45/50\n",
            "430/430 [==============================] - 5s 13ms/step - loss: 0.0223 - accuracy: 0.9913\n",
            "Epoch 46/50\n",
            "430/430 [==============================] - 5s 13ms/step - loss: 0.0232 - accuracy: 0.9904\n",
            "Epoch 47/50\n",
            "430/430 [==============================] - 5s 12ms/step - loss: 0.0219 - accuracy: 0.9916\n",
            "Epoch 48/50\n",
            "430/430 [==============================] - 6s 13ms/step - loss: 0.0225 - accuracy: 0.9908\n",
            "Epoch 49/50\n",
            "430/430 [==============================] - 5s 12ms/step - loss: 0.0213 - accuracy: 0.9913\n",
            "Epoch 50/50\n",
            "430/430 [==============================] - 5s 11ms/step - loss: 0.0229 - accuracy: 0.9905\n"
          ]
        }
      ],
      "source": [
        "deep_net_model_1 = nn_1.fit(X_train_scaled, y_train, epochs=50)"
      ]
    },
    {
      "cell_type": "markdown",
      "metadata": {
        "id": "fw5mXF1oYobe"
      },
      "source": [
        "# Plot the loss function"
      ]
    },
    {
      "cell_type": "code",
      "execution_count": 9,
      "metadata": {
        "colab": {
          "base_uri": "https://localhost:8080/",
          "height": 452
        },
        "id": "yD7-9WTmn8qO",
        "outputId": "f57d6b68-3f7b-444e-f8e4-1d7c2fb14dd3"
      },
      "outputs": [
        {
          "data": {
            "image/png": "[encoded data removed]",
            "text/plain": [
              "<Figure size 640x480 with 1 Axes>"
            ]
          },
          "metadata": {},
          "output_type": "display_data"
        }
      ],
      "source": [
        "plt.plot(deep_net_model_1.history[\"loss\"])\n",
        "plt.title(\"loss_function - Training\")\n",
        "plt.legend([\"3 hidden layer\"])\n",
        "plt.show()"
      ]
    },
    {
      "cell_type": "markdown",
      "metadata": {
        "id": "1TCoTC4tYsZY"
      },
      "source": [
        "# Evaluate the model"
      ]
    },
    {
      "cell_type": "code",
      "execution_count": 10,
      "metadata": {
        "colab": {
          "base_uri": "https://localhost:8080/"
        },
        "id": "SJnM17a1oZzt",
        "outputId": "739b867b-f997-4ae1-b76a-1e8211e07582"
      },
      "outputs": [
        {
          "name": "stdout",
          "output_type": "stream",
          "text": [
            "144/144 - 1s - loss: 0.0258 - accuracy: 0.9889 - 1s/epoch - 10ms/step\n",
            "Loss: 0.02579183131456375, Accuracy: 0.9888622164726257\n"
          ]
        }
      ],
      "source": [
        "# Evaluate the model using the test data\n",
        "model_loss, model_accuracy = nn_1.evaluate(X_test_scaled, y_test, verbose=2)\n",
        "\n",
        "# Display evaluation results\n",
        "print(f\"Loss: {model_loss}, Accuracy: {model_accuracy}\")"
      ]
    },
    {
      "cell_type": "markdown",
      "metadata": {
        "id": "wVf6ZPzyYl02"
      },
      "source": [
        "# Save model"
      ]
    },
    {
      "cell_type": "code",
      "execution_count": 11,
      "metadata": {
        "id": "vEcwUABAnJZh"
      },
      "outputs": [],
      "source": [
        "#Create file path\n",
        "file_path = Path('../Resources/nn_1.weights.h5')\n",
        "\n",
        "# Export model as a HDF5 file\n",
        "nn_1.save_weights(file_path)"
      ]
    },
    {
      "cell_type": "markdown",
      "metadata": {},
      "source": [
        "# Evaluation"
      ]
    },
    {
      "cell_type": "markdown",
      "metadata": {},
      "source": [
        "### What is Neural Networks?"
      ]
    },
    {
      "cell_type": "markdown",
      "metadata": {},
      "source": [
        "Neural networks are a type of machine learning model inspired by the structure and function of the human brain. They consist of interconnected nodes or \"neurons\" organized into layers: an input layer, one or more hidden layers, and an output layer. Each connection between neurons has an associated weight, and the model learns by adjusting these weights based on the input data during training."
      ]
    },
    {
      "cell_type": "markdown",
      "metadata": {},
      "source": [
        "### Explain our Neural Network Model"
      ]
    },
    {
      "cell_type": "markdown",
      "metadata": {},
      "source": [
        "How It Works:\n",
        "- Input Layer: The input layer receives the initial data features.\n",
        "    - Model Input Features: 35\n",
        "- Hidden Layers: These layers process the input data through a series of weighted connections and apply activation functions. We used ReLU (Rectified Linear Unit), to introduce non-linearity and capture complex patterns in the data.\n",
        "    - Model Hidden Layers: 3\n",
        "- Output Layer: The final layer produces the model's predictions. We used Sigmoid as our activation function.\n",
        "    - Model Output Activation: Sigmoid\n",
        "- Epochs: This parameter refers to the number of times a machine learning algorithm iteratively goes through the entire dataset during the training process.\n",
        "    - After experimenting with 20, 50, 100, and 200 epochs, 50 resulted in optimal performance."
      ]
    },
    {
      "cell_type": "markdown",
      "metadata": {},
      "source": [
        "### Model Outcome"
      ]
    },
    {
      "cell_type": "markdown",
      "metadata": {},
      "source": [
        "The model achieved an impressive accuracy of 98.88%, meaning it correctly predicted whether a trade is profitable or not in 98.88% of the cases. This high accuracy demonstrates the model's strong performance and reliability in classifying trades based on the provided features.   \n",
        "\n",
        "\n",
        "Our model's low binary cross-entropy loss of 0.0257 indicates that the predicted probabilities for each trade being profitable are very close to the actual labels. In other words, the model's predictions are highly accurate, with minimal errors when compared to the true outcomes.\n"
      ]
    }
  ],
  "metadata": {
    "colab": {
      "provenance": []
    },
    "kernelspec": {
      "display_name": "Python 3",
      "name": "python3"
    },
    "language_info": {
      "codemirror_mode": {
        "name": "ipython",
        "version": 3
      },
      "file_extension": ".py",
      "mimetype": "text/x-python",
      "name": "python",
      "nbconvert_exporter": "python",
      "pygments_lexer": "ipython3",
      "version": "3.10.14"
    }
  },
  "nbformat": 4,
  "nbformat_minor": 0
}
