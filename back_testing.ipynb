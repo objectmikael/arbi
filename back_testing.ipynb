{
 "cells": [
  {
   "cell_type": "markdown",
   "metadata": {},
   "source": [
    "### Import necessary libraries, packages, and dependencies \n",
    "- Use requests to connect to APIs\n",
    "- Use pandas to create DataFrames and perform analysis \n",
    "- Use datetime to convert timestamps \n",
    "- Use hvplot to produce interactive graphs"
   ]
  },
  {
   "cell_type": "code",
   "execution_count": 2,
   "metadata": {},
   "outputs": [],
   "source": [
    "import requests\n",
    "import pandas as pd\n",
    "from datetime import datetime\n",
    "# import hvplot.pandas "
   ]
  },
  {
   "cell_type": "markdown",
   "metadata": {},
   "source": [
    "### Fetch data from exchanges (Binance, Kraken, Bitstamp, Poloniex, Gemini)\n",
    "- Define the api endpoint(url)\n",
    "    - Look into the exchange api documentation \n",
    "    - Find the endpoint that contains OHLC data\n",
    "- Retrive the data and convert to JSON\n",
    "- Save the date and price from the returned data"
   ]
  },
  {
   "cell_type": "markdown",
   "metadata": {},
   "source": [
    "NOTE: Timestamps are represented in unix time. The unix time stamp is the number of seconds ellapsed since the Unix Epoch on January 1st, 1970 at UTC."
   ]
  },
  {
   "cell_type": "markdown",
   "metadata": {},
   "source": [
    "##### Binance"
   ]
  },
  {
   "cell_type": "code",
   "execution_count": null,
   "metadata": {},
   "outputs": [],
   "source": [
    "binance_tickers = ['BTCUSDT', 'ETHUSDT', 'MATICUSDT', 'SOLUSDT', 'XRPUSDT']\n",
    "binance_api_url = 'https://api.binance.us/api/v3/klines?symbol='\n",
    "coins = ['bitcoin', 'ethereum', 'polygon', 'solana', 'xrp']\n",
    "\n",
    "binance_date_price = []\n",
    "\n",
    "for i in range(len(binance_tickers)):\n",
    "    api_url = binance_api_url + binance_tickers[i] + '&interval=1d&startTime=1691107199999&endTime=1704326399999&limit=1000'\n",
    "    api_response = requests.get(api_url).json()\n",
    "    ohlc_data = api_response\n",
    "    for j in range(len(ohlc_data)):\n",
    "        timestamp = ohlc_data[j][6]\n",
    "        dt_object = datetime.utcfromtimestamp(timestamp/1000)\n",
    "        close_price = float(ohlc_data[j][4])\n",
    "        coin = coins[i]\n",
    "        exchange = 'binance'\n",
    "        binance_date_price.append([dt_object, timestamp, close_price, coin, exchange]) \n",
    "\n",
    "# binance_date_price\n",
    "# note date range: 8-4-23 to 1-3-24"
   ]
  },
  {
   "cell_type": "markdown",
   "metadata": {},
   "source": [
    "##### Bitstamp"
   ]
  },
  {
   "cell_type": "code",
   "execution_count": null,
   "metadata": {},
   "outputs": [],
   "source": [
    "bitstamp_tickers = ['btcusd', 'ethusd', 'maticusd', 'solusd', 'xrpusd']\n",
    "bitstamp_api_url = 'https://www.bitstamp.net/api/v2/ohlc/'\n",
    "coins = ['bitcoin', 'ethereum', 'polygon', 'solana', 'xrp']\n",
    "\n",
    "bitstamp_date_price = []\n",
    "\n",
    "for i in range(len(bitstamp_tickers)):\n",
    "    api_url = bitstamp_api_url + bitstamp_tickers[i] +'?step=86400&limit=1000&start=1677825600'\n",
    "    api_response = requests.get(api_url).json()\n",
    "    ohlc_data=api_response['data']['ohlc']\n",
    "    for j in range(len(ohlc_data)):\n",
    "        timestamp = ohlc_data[j]['timestamp']\n",
    "        dt_object = datetime.utcfromtimestamp(int(timestamp))\n",
    "        close_price = float(ohlc_data[j]['close'])\n",
    "        coin = coins[i]\n",
    "        exchange = 'bitstamp'\n",
    "        bitstamp_date_price.append([dt_object, timestamp, close_price, coin, exchange])  \n",
    "\n",
    "# bitstamp_date_price\n",
    "# note date range: 3-3-2023 to present"
   ]
  },
  {
   "cell_type": "markdown",
   "metadata": {},
   "source": [
    "##### Gemini"
   ]
  },
  {
   "cell_type": "code",
   "execution_count": 5,
   "metadata": {},
   "outputs": [],
   "source": [
    "gemini_tickers = ['btcusd', 'ethusd', 'maticusd', 'solusd', 'xrpusd']\n",
    "gemini_api_url = 'https://api.gemini.com/v2/candles/'\n",
    "coins = ['bitcoin', 'ethereum', 'polygon', 'solana', 'xrp']\n",
    "\n",
    "gemini_date_price = []\n",
    "\n",
    "for i in range(len(gemini_tickers)):\n",
    "    api_url = gemini_api_url + gemini_tickers[i] + '/1day'\n",
    "    api_response = requests.get(api_url).json()\n",
    "    ohlc_data = api_response\n",
    "    for j in range(len(ohlc_data)):\n",
    "        timestamp = ohlc_data[j][0]\n",
    "        dt_object = datetime.utcfromtimestamp(timestamp/1000)\n",
    "        close_price = float(ohlc_data[j][4])\n",
    "        coin = coins[i]\n",
    "        exchange = 'gemini'\n",
    "        gemini_date_price.append([dt_object, timestamp, close_price, coin, exchange]) \n",
    "    \n",
    "# gemini_date_price\n",
    "# note date range: 2-24-2023 to present"
   ]
  },
  {
   "cell_type": "markdown",
   "metadata": {},
   "source": [
    "##### Kraken"
   ]
  },
  {
   "cell_type": "code",
   "execution_count": null,
   "metadata": {},
   "outputs": [],
   "source": [
    "kraken_tickers = ['XBTUSDT', 'ETHUSDT', 'MATICUSDT', 'SOLUSDT', 'XRPUSDT']\n",
    "kraken_api_url = 'https://api.kraken.com/0/public/OHLC?pair='\n",
    "coins = ['bitcoin', 'ethereum', 'polygon', 'solana', 'xrp']\n",
    "\n",
    "kraken_date_price = []\n",
    "\n",
    "for i in range(len(kraken_tickers)):\n",
    "    api_url = kraken_api_url + kraken_tickers[i] + '&interval=1440&since=1677825600'\n",
    "    api_response = requests.get(api_url).json()\n",
    "    ohlc_data = api_response['result'][kraken_tickers[i]]\n",
    "    for j in range(len(ohlc_data)):\n",
    "        timestamp = ohlc_data[j][0]\n",
    "        dt_object = datetime.utcfromtimestamp(timestamp)\n",
    "        close_price = float(ohlc_data[j][4])\n",
    "        coin = coins[i]\n",
    "        exchange = 'kraken'\n",
    "        kraken_date_price.append([dt_object, timestamp, close_price, coin, exchange])  \n",
    "\n",
    "# kraken_date_price\n",
    "# note date range: 3-4-23 to present"
   ]
  },
  {
   "cell_type": "markdown",
   "metadata": {},
   "source": [
    "##### Poloniex"
   ]
  },
  {
   "cell_type": "code",
   "execution_count": null,
   "metadata": {},
   "outputs": [],
   "source": [
    "poloniex_tickers = ['BTC_USDT', 'ETH_USDT', 'MATIC_USDT', 'SOL_USDT', 'XRP_USDT']\n",
    "poloniex_api_url = 'https://api.poloniex.com/markets/'\n",
    "coins = ['bitcoin', 'ethereum', 'polygon', 'solana', 'xrp']\n",
    "\n",
    "poloniex_date_price = []\n",
    "\n",
    "for i in range(len(poloniex_tickers)):\n",
    "    api_url = f'{poloniex_api_url}{poloniex_tickers[i]}/candles?interval=DAY_1&startTime=1677825600'\n",
    "    api_response = requests.get(api_url).json()\n",
    "    ohlc_data = api_response\n",
    "    for j in range(len(ohlc_data)):\n",
    "        timestamp = ohlc_data[j][12]\n",
    "        dt_object = datetime.utcfromtimestamp(timestamp/1000)\n",
    "        close_price = float(ohlc_data[j][3])\n",
    "        coin = coins[i]\n",
    "        exchange = 'polyniex'\n",
    "        poloniex_date_price.append([dt_object, timestamp, close_price, coin, exchange])\n",
    "    \n",
    "# poloniex_date_price\n",
    "# note date range: 11-17-23 to present"
   ]
  }
 ],
 "metadata": {
  "kernelspec": {
   "display_name": "dev",
   "language": "python",
   "name": "python3"
  },
  "language_info": {
   "codemirror_mode": {
    "name": "ipython",
    "version": 3
   },
   "file_extension": ".py",
   "mimetype": "text/x-python",
   "name": "python",
   "nbconvert_exporter": "python",
   "pygments_lexer": "ipython3",
   "version": "3.10.13"
  }
 },
 "nbformat": 4,
 "nbformat_minor": 2
}
