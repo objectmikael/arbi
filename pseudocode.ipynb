{
 "cells": [
  {
   "cell_type": "markdown",
   "metadata": {},
   "source": [
    "### Import necessary libraries, packages, and dependencies \n",
    "- Use requests to connect to APIs\n",
    "- Use pandas to create DataFrames and perform analysis \n",
    "- Use hvplot to produce interactive graphs"
   ]
  },
  {
   "cell_type": "code",
   "execution_count": 1,
   "metadata": {},
   "outputs": [],
   "source": [
    "import requests\n",
    "import pandas as pd"
   ]
  },
  {
   "cell_type": "markdown",
   "metadata": {},
   "source": [
    "### Fetch data from exchanges (Binance, Kraken, Bitstamp, Poloniex, Gemini)\n",
    "- Define the api endpoint(url)\n",
    "    - Look into the exchange api documentation \n",
    "    - Look for an endpoint that shows the various currency tickers\n",
    "    - Use Postman to identify the desired ticker name\n",
    "    - Find the endpoint that contains the ask price and bid price for a specific currency\n",
    "- Retrive the data and convert to JSON\n",
    "- Save the prices from the returned data"
   ]
  },
  {
   "cell_type": "markdown",
   "metadata": {},
   "source": [
    "### a. Retrieve the ask and bid price of Bitcoin from each exchange"
   ]
  },
  {
   "cell_type": "markdown",
   "metadata": {},
   "source": [
    "##### Binance"
   ]
  },
  {
   "cell_type": "code",
   "execution_count": 2,
   "metadata": {},
   "outputs": [],
   "source": [
    "# endpoint - url - api \n",
    "binance_api_url = 'https://api.binance.us/api/v3/ticker/bookTicker?symbol=BTCUSDT'\n",
    "\n",
    "binance_response = requests.get(binance_api_url).json()\n",
    "\n",
    "binance_bitcoin_ask_price = float(binance_response['askPrice'])\n",
    "binance_bitcoin_bid_price = float(binance_response['bidPrice'])\n",
    "\n",
    "# display(binance_bitcoin_ask_price)\n",
    "# display(binance_bitcoin_bid_price)"
   ]
  },
  {
   "cell_type": "markdown",
   "metadata": {},
   "source": [
    "##### Poloniex"
   ]
  },
  {
   "cell_type": "code",
   "execution_count": 3,
   "metadata": {},
   "outputs": [],
   "source": [
    "poloniex_api_url = \"https://api.poloniex.com/markets/BTC_USDT/orderBook\"\n",
    "\n",
    "poloniex_response = requests.get(poloniex_api_url).json()\n",
    "\n",
    "poloniex_bitcoin_ask_price = float(poloniex_response['asks'][0])\n",
    "poloniex_bitcoin_bid_price = float(poloniex_response['bids'][0])\n",
    "\n",
    "# display(poloniex_bitcoin_ask_price)\n",
    "# display(poloniex_bitcoin_bid_price)"
   ]
  },
  {
   "cell_type": "markdown",
   "metadata": {},
   "source": [
    "##### Kraken"
   ]
  },
  {
   "cell_type": "code",
   "execution_count": 4,
   "metadata": {},
   "outputs": [],
   "source": [
    "kraken_api_url = \"https://api.kraken.com/0/public/Ticker?pair=XBTUSDT\"\n",
    "\n",
    "kraken_response = requests.get(kraken_api_url).json()\n",
    "\n",
    "kraken_bitcoin_ask_price = float(kraken_response['result']['XBTUSDT']['a'][0])\n",
    "kraken_bitcoin_bid_price = float(kraken_response['result']['XBTUSDT']['b'][0])\n",
    "\n",
    "# display(kraken_bitcoin_ask_price)\n",
    "# display(kraken_bitcoin_bid_price)"
   ]
  },
  {
   "cell_type": "markdown",
   "metadata": {},
   "source": [
    "##### Bitstamp"
   ]
  },
  {
   "cell_type": "code",
   "execution_count": 5,
   "metadata": {},
   "outputs": [],
   "source": [
    "bitstamp_api_url = \"https://www.bitstamp.net/api/v2/ticker/btcusd\"\n",
    "\n",
    "bitstamp_response = requests.get(bitstamp_api_url).json()\n",
    "\n",
    "bitstamp_bitcoin_ask_price = float(bitstamp_response['ask'])\n",
    "bitstamp_bitcoin_bid_price = float(bitstamp_response['bid'])\n",
    "\n",
    "# display(bitstamp_bitcoin_ask_price)\n",
    "# display(bitstamp_bitcoin_bid_price)"
   ]
  },
  {
   "cell_type": "markdown",
   "metadata": {},
   "source": [
    "##### Gemini"
   ]
  },
  {
   "cell_type": "code",
   "execution_count": 6,
   "metadata": {},
   "outputs": [],
   "source": [
    "gemini_api_url = \"https://api.gemini.com/v2/ticker/btcusd\"\n",
    "\n",
    "gemini_response = requests.get(gemini_api_url).json()\n",
    "\n",
    "gemini_bitcoin_ask_price = float(gemini_response['ask'])\n",
    "gemini_bitcoin_bid_price = float(gemini_response['bid'])\n",
    "\n",
    "# display(gemini_bitcoin_ask_price)\n",
    "# display(gemini_bitcoin_bid_price)"
   ]
  },
  {
   "cell_type": "markdown",
   "metadata": {},
   "source": [
    "### b. Retrieve the ask and bid price for all cryptocurrencies(Bitcoin, Ethereum, Polygon, Solana, XRP) from each exchange.\n",
    "\n",
    "- Identify the tickers and store in alphabetical order\n",
    "- Store the exchange API url as a string minus the ticker symbol\n",
    "- Loop through the tickers and \n",
    "    - create an api_url for each ticker\n",
    "    - retrieve the data and convert to JSON\n",
    "    - fetch the ask and bid price and store in a list:- ['ask', 'bid']\n",
    "- NOTE: Store the ticker symbols in a list in the same order for each exchange "
   ]
  },
  {
   "cell_type": "markdown",
   "metadata": {},
   "source": [
    "##### Binance"
   ]
  },
  {
   "cell_type": "code",
   "execution_count": 7,
   "metadata": {},
   "outputs": [],
   "source": [
    "binance_tickers = ['BTCUSDT', 'ETHUSDT', 'MATICUSDT', 'SOLUSDT', 'XRPUSDT']\n",
    "binance_api_url = 'https://api.binance.us/api/v3/ticker/bookTicker?symbol='\n",
    "\n",
    "binance_prices = []\n",
    "\n",
    "for i in range(len(binance_tickers)):\n",
    "    api_url = binance_api_url+binance_tickers[i]\n",
    "    api_response = requests.get(api_url).json()\n",
    "    ask_price = float(api_response['askPrice'])\n",
    "    bid_price = float(api_response['bidPrice'])\n",
    "    binance_prices.append([ask_price, bid_price])\n",
    "\n",
    "# binance_prices"
   ]
  },
  {
   "cell_type": "markdown",
   "metadata": {},
   "source": [
    "##### Poloniex"
   ]
  },
  {
   "cell_type": "code",
   "execution_count": 8,
   "metadata": {},
   "outputs": [],
   "source": [
    "poloniex_tickers = ['BTC_USDT', 'ETH_USDT', 'MATIC_USDT', 'SOL_USDT', 'XRP_USDT']\n",
    "poloniex_api_url = \"https://api.poloniex.com/markets/\"\n",
    "\n",
    "poloniex_prices = []\n",
    "\n",
    "for i in range(len(poloniex_tickers)):\n",
    "    api_url = poloniex_api_url+poloniex_tickers[i]+\"/orderBook\"\n",
    "    api_response = requests.get(api_url).json()\n",
    "    ask_price = float(api_response['asks'][0])\n",
    "    bid_price = float(api_response['bids'][0])\n",
    "    poloniex_prices.append([ask_price, bid_price])\n",
    "\n",
    "# poloniex_prices"
   ]
  },
  {
   "cell_type": "markdown",
   "metadata": {},
   "source": [
    "##### Kraken"
   ]
  },
  {
   "cell_type": "code",
   "execution_count": 9,
   "metadata": {},
   "outputs": [],
   "source": [
    "kraken_tickers = ['XBTUSDT', 'ETHUSDT', 'MATICUSDT', 'SOLUSDT', 'XRPUSDT']\n",
    "kraken_api_url = 'https://api.kraken.com/0/public/Ticker?pair='\n",
    "\n",
    "kraken_prices = []\n",
    "\n",
    "for i in range(len(kraken_tickers)):\n",
    "    api_url = kraken_api_url+kraken_tickers[i]\n",
    "    api_response = requests.get(api_url).json()\n",
    "    ask_price = float(api_response['result'][kraken_tickers[i]]['a'][0])\n",
    "    bid_price = float(api_response['result'][kraken_tickers[i]]['b'][0])\n",
    "    kraken_prices.append([ask_price, bid_price])\n",
    "\n",
    "# kraken_prices"
   ]
  },
  {
   "cell_type": "markdown",
   "metadata": {},
   "source": [
    "##### Bitstamp"
   ]
  },
  {
   "cell_type": "code",
   "execution_count": 10,
   "metadata": {},
   "outputs": [],
   "source": [
    "bitstamp_tickers=['btcusd','ethusd','maticusd','solusd','xrpusd']\n",
    "bitstamp_api_url= 'https://www.bitstamp.net/api/v2/ticker/'\n",
    "\n",
    "bitstamp_prices=[]\n",
    "\n",
    "for i in range(len(bitstamp_tickers)):\n",
    "    api_url=bitstamp_api_url+bitstamp_tickers[i]\n",
    "    api_response=requests.get(api_url).json()\n",
    "    ask_price=float(api_response['ask'])\n",
    "    bid_price=float(api_response['bid'])\n",
    "    bitstamp_prices.append([ask_price,bid_price])\n",
    "\n",
    "# bitstamp_prices"
   ]
  },
  {
   "cell_type": "markdown",
   "metadata": {},
   "source": [
    "##### Gemini"
   ]
  },
  {
   "cell_type": "code",
   "execution_count": 11,
   "metadata": {},
   "outputs": [],
   "source": [
    "gemini_tickers=['btcusd','ethusd','maticusd','solusd','xrpusd']\n",
    "gemini_api_url= 'https://api.gemini.com/v2/ticker/'\n",
    "\n",
    "gemini_prices=[]\n",
    "\n",
    "for i in range(len(gemini_tickers)):\n",
    "    api_url=gemini_api_url+gemini_tickers[i]\n",
    "    api_response=requests.get(api_url).json()\n",
    "    ask_price=float(api_response['ask'])\n",
    "    bid_price=float(api_response['bid'])\n",
    "    gemini_prices.append([ask_price,bid_price])\n",
    "\n",
    "# gemini_prices"
   ]
  },
  {
   "cell_type": "markdown",
   "metadata": {},
   "source": [
    "### c. Store all bid and ask prices for easy retrieval \n",
    "- Store name of currencies in a list\n",
    "- Store prices of similar currencies to a unique list\n",
    "- Store name of exchanges in a list respective to the order of the prices "
   ]
  },
  {
   "cell_type": "code",
   "execution_count": 12,
   "metadata": {},
   "outputs": [],
   "source": [
    "cryptos = ['bitcoin', 'ethereum', 'polygon', 'solana', 'xrp']\n",
    "\n",
    "bitcoin_prices = [binance_prices[0], bitstamp_prices[0], gemini_prices[0], kraken_prices[0], poloniex_prices[0]]\n",
    "ethereum_prices = [binance_prices[1], bitstamp_prices[1], gemini_prices[1], kraken_prices[1], poloniex_prices[1]]\n",
    "polygon_prices = [binance_prices[2], bitstamp_prices[2], gemini_prices[2], kraken_prices[2], poloniex_prices[2]]\n",
    "solana_prices = [binance_prices[3], bitstamp_prices[3], gemini_prices[3], kraken_prices[3], poloniex_prices[3]]\n",
    "xrp_prices = [binance_prices[4], bitstamp_prices[4], gemini_prices[4], kraken_prices[4], poloniex_prices[4]]\n",
    "\n",
    "exchanges = ['Binance', 'Bitstamp', 'Gemini', 'Kraken', 'Poloniex']"
   ]
  },
  {
   "cell_type": "markdown",
   "metadata": {},
   "source": [
    "### Create Arbitrage Function\n",
    "- Use the price spread to determine a profitable opportunity \n",
    "- Search for opportunities across all exchanges"
   ]
  },
  {
   "cell_type": "code",
   "execution_count": 13,
   "metadata": {},
   "outputs": [],
   "source": [
    "def find_arbitrage(exchange_a, exchange_b):\n",
    "    ask_price_a = exchange_a[0]\n",
    "    bid_price_b = exchange_b[1]\n",
    "\n",
    "    spread_percent = (bid_price_b - ask_price_a) / ask_price_a * 100\n",
    "\n",
    "    return spread_percent, ask_price_a, bid_price_b"
   ]
  },
  {
   "cell_type": "markdown",
   "metadata": {},
   "source": [
    "### Search for opportunities across all exchanges "
   ]
  },
  {
   "cell_type": "markdown",
   "metadata": {},
   "source": [
    "##### Bitcoin"
   ]
  },
  {
   "cell_type": "code",
   "execution_count": 14,
   "metadata": {},
   "outputs": [
    {
     "name": "stdout",
     "output_type": "stream",
     "text": [
      "Buy Bitcoin at Bitstamp for $61880.0 and Sell at Gemini for $61891.29. You have made a $11.290000000000873 profit or 0.018244990303815246% of your buy price.\n",
      "Buy Bitcoin at Kraken for $61816.1 and Sell at Binance for $61873.29. You have made a $57.19000000000233 profit or 0.09251635091829205% of your buy price.\n",
      "Buy Bitcoin at Kraken for $61816.1 and Sell at Bitstamp for $61875.0. You have made a $58.900000000001455 profit or 0.09528262054707666% of your buy price.\n",
      "Buy Bitcoin at Kraken for $61816.1 and Sell at Gemini for $61891.29. You have made a $75.19000000000233 profit or 0.12163497858972393% of your buy price.\n",
      "Buy Bitcoin at Poloniex for $61812.35 and Sell at Binance for $61873.29. You have made a $60.94000000000233 profit or 0.0985887124498621% of your buy price.\n",
      "Buy Bitcoin at Poloniex for $61812.35 and Sell at Bitstamp for $61875.0. You have made a $62.650000000001455 profit or 0.10135514990127614% of your buy price.\n",
      "Buy Bitcoin at Poloniex for $61812.35 and Sell at Gemini for $61891.29. You have made a $78.94000000000233 profit or 0.12770910667528793% of your buy price.\n",
      "Buy Bitcoin at Poloniex for $61812.35 and Sell at Kraken for $61816.0. You have made a $3.650000000001455 profit or 0.005904968829047036% of your buy price.\n"
     ]
    }
   ],
   "source": [
    "for i in range(len(bitcoin_prices)):\n",
    "    for j in range(len(bitcoin_prices)):\n",
    "        if i == j:\n",
    "            continue\n",
    "        else:\n",
    "            exchange_a, exchange_b = bitcoin_prices[i], bitcoin_prices[j]\n",
    "            exchange_name_a, exchange_name_b = exchanges[i], exchanges[j]\n",
    "\n",
    "            spread_percentage, buy_price, sell_price = find_arbitrage(exchange_a, exchange_b)\n",
    "\n",
    "            if spread_percentage > 0:\n",
    "                print(f'Buy Bitcoin at {exchange_name_a} for ${buy_price} and Sell at {exchange_name_b} for ${sell_price}. You have made a ${sell_price-buy_price} profit or {spread_percentage}% of your buy price.')"
   ]
  },
  {
   "cell_type": "markdown",
   "metadata": {},
   "source": [
    "##### Ethereum"
   ]
  },
  {
   "cell_type": "code",
   "execution_count": 15,
   "metadata": {},
   "outputs": [
    {
     "name": "stdout",
     "output_type": "stream",
     "text": [
      "Buy Ethereum at Kraken for $3406.25 and Sell at Bitstamp for $3406.6. You have made a $0.34999999999990905 profit or 0.010275229357795495% of your buy price.\n",
      "Buy Ethereum at Kraken for $3406.25 and Sell at Gemini for $3406.7. You have made a $0.4499999999998181 profit or 0.013211009174306588% of your buy price.\n",
      "Buy Ethereum at Poloniex for $3403.98 and Sell at Binance for $3404.55. You have made a $0.5700000000001637 profit or 0.016745104260311863% of your buy price.\n",
      "Buy Ethereum at Poloniex for $3403.98 and Sell at Bitstamp for $3406.6. You have made a $2.619999999999891 profit or 0.07696872484561869% of your buy price.\n",
      "Buy Ethereum at Poloniex for $3403.98 and Sell at Gemini for $3406.7. You have made a $2.7199999999998 profit or 0.07990646243514356% of your buy price.\n",
      "Buy Ethereum at Poloniex for $3403.98 and Sell at Kraken for $3406.24. You have made a $2.2599999999997635 profit or 0.06639286952331576% of your buy price.\n"
     ]
    }
   ],
   "source": [
    "for i in range(len(ethereum_prices)):\n",
    "    for j in range(len(ethereum_prices)):\n",
    "        if i == j:\n",
    "            continue\n",
    "        else:\n",
    "            exchange_a, exchange_b = ethereum_prices[i], ethereum_prices[j]\n",
    "            exchange_name_a, exchange_name_b = exchanges[i], exchanges[j]\n",
    "\n",
    "            spread_percentage, buy_price, sell_price = find_arbitrage(exchange_a, exchange_b)\n",
    "\n",
    "            if spread_percentage > 0:\n",
    "                print(f'Buy Ethereum at {exchange_name_a} for ${buy_price} and Sell at {exchange_name_b} for ${sell_price}. You have made a ${sell_price-buy_price} profit or {spread_percentage}% of your buy price.')"
   ]
  },
  {
   "cell_type": "markdown",
   "metadata": {},
   "source": [
    "##### Polygon"
   ]
  },
  {
   "cell_type": "code",
   "execution_count": 16,
   "metadata": {},
   "outputs": [
    {
     "name": "stdout",
     "output_type": "stream",
     "text": [
      "Buy Polygon at Binance for $1.0878 and Sell at Bitstamp for $1.08835. You have made a $0.0005499999999998284 profit or 0.05056076484646335% of your buy price.\n",
      "Buy Polygon at Binance for $1.0878 and Sell at Gemini for $1.08824. You have made a $0.00043999999999999595 profit or 0.04044861187718293% of your buy price.\n",
      "Buy Polygon at Kraken for $1.088 and Sell at Bitstamp for $1.08835. You have made a $0.00034999999999985043 profit or 0.032169117647045074% of your buy price.\n",
      "Buy Polygon at Kraken for $1.088 and Sell at Gemini for $1.08824. You have made a $0.00024000000000001798 profit or 0.022058823529413418% of your buy price.\n",
      "Buy Polygon at Poloniex for $1.08825 and Sell at Bitstamp for $1.08835. You have made a $9.999999999998899e-05 profit or 0.009189065012633953% of your buy price.\n"
     ]
    }
   ],
   "source": [
    "for i in range(len(polygon_prices)):\n",
    "    for j in range(len(polygon_prices)):\n",
    "        if i == j:\n",
    "            continue\n",
    "        else:\n",
    "            exchange_a, exchange_b = polygon_prices[i], polygon_prices[j]\n",
    "            exchange_name_a, exchange_name_b = exchanges[i], exchanges[j]\n",
    "\n",
    "            spread_percentage, buy_price, sell_price = find_arbitrage(exchange_a, exchange_b)\n",
    "\n",
    "            if spread_percentage > 0:\n",
    "                print(f'Buy Polygon at {exchange_name_a} for ${buy_price} and Sell at {exchange_name_b} for ${sell_price}. You have made a ${sell_price-buy_price} profit or {spread_percentage}% of your buy price.')"
   ]
  },
  {
   "cell_type": "markdown",
   "metadata": {},
   "source": [
    "##### Solana"
   ]
  },
  {
   "cell_type": "code",
   "execution_count": 17,
   "metadata": {},
   "outputs": [
    {
     "name": "stdout",
     "output_type": "stream",
     "text": [
      "Buy Solana at Kraken for $128.62 and Sell at Binance for $128.65. You have made a $0.030000000000001137 profit or 0.023324521847303013% of your buy price.\n",
      "Buy Solana at Kraken for $128.62 and Sell at Bitstamp for $128.6907. You have made a $0.070699999999988 profit or 0.05496812315346601% of your buy price.\n",
      "Buy Solana at Kraken for $128.62 and Sell at Gemini for $128.67. You have made a $0.04999999999998295 profit or 0.038874203078823624% of your buy price.\n"
     ]
    }
   ],
   "source": [
    "for i in range(len(solana_prices)):\n",
    "    for j in range(len(solana_prices)):\n",
    "        if i == j:\n",
    "            continue\n",
    "        else:\n",
    "            exchange_a, exchange_b = solana_prices[i], solana_prices[j]\n",
    "            exchange_name_a, exchange_name_b = exchanges[i], exchanges[j]\n",
    "\n",
    "            spread_percentage, buy_price, sell_price = find_arbitrage(exchange_a, exchange_b)\n",
    "\n",
    "            if spread_percentage > 0:\n",
    "                print(f'Buy Solana at {exchange_name_a} for ${buy_price} and Sell at {exchange_name_b} for ${sell_price}. You have made a ${sell_price-buy_price} profit or {spread_percentage}% of your buy price.')"
   ]
  },
  {
   "cell_type": "markdown",
   "metadata": {},
   "source": [
    "##### XRP"
   ]
  },
  {
   "cell_type": "code",
   "execution_count": 18,
   "metadata": {},
   "outputs": [
    {
     "name": "stdout",
     "output_type": "stream",
     "text": [
      "Buy XRP at Binance for $0.6368 and Sell at Bitstamp for $0.6372. You have made a $0.00039999999999995595 profit or 0.06281407035175188% of your buy price.\n",
      "Buy XRP at Binance for $0.6368 and Sell at Gemini for $0.63718. You have made a $0.00037999999999993594 profit or 0.059673366834160795% of your buy price.\n",
      "Buy XRP at Kraken for $0.63675 and Sell at Bitstamp for $0.6372. You have made a $0.00044999999999995044 profit or 0.07067137809186501% of your buy price.\n",
      "Buy XRP at Kraken for $0.63675 and Sell at Gemini for $0.63718. You have made a $0.00042999999999993044 profit or 0.06753042795444529% of your buy price.\n",
      "Buy XRP at Poloniex for $0.6367 and Sell at Bitstamp for $0.6372. You have made a $0.0004999999999999449 profit or 0.07852991989947304% of your buy price.\n",
      "Buy XRP at Poloniex for $0.6367 and Sell at Gemini for $0.63718. You have made a $0.00047999999999992493 profit or 0.07538872310349065% of your buy price.\n"
     ]
    }
   ],
   "source": [
    "for i in range(len(xrp_prices)):\n",
    "    for j in range(len(xrp_prices)):\n",
    "        if i == j:\n",
    "            continue\n",
    "        else:\n",
    "            exchange_a, exchange_b = xrp_prices[i], xrp_prices[j]\n",
    "            exchange_name_a, exchange_name_b = exchanges[i], exchanges[j]\n",
    "\n",
    "            spread_percentage, buy_price, sell_price = find_arbitrage(exchange_a, exchange_b)\n",
    "\n",
    "            if spread_percentage > 0:\n",
    "                print(f'Buy XRP at {exchange_name_a} for ${buy_price} and Sell at {exchange_name_b} for ${sell_price}. You have made a ${sell_price-buy_price} profit or {spread_percentage}% of your buy price.')"
   ]
  },
  {
   "cell_type": "markdown",
   "metadata": {},
   "source": [
    "##### Track each trade and push to a dictionary to help visualize all the data in a DataFrame\n",
    "- Create a empty dictionary, 'trades'\n",
    "- Create a unique key for each entry, 'trade_count'\n",
    "- Define what a key:value pair in 'trades', look like:\n",
    "    '0':['date_time', 'currency', 'exchange_name_a', 'buy_price', 'exchange_name_b', 'sell_price', 'profit($)', 'spread_percentage']\n",
    "- import the datetime library to track the current time"
   ]
  },
  {
   "cell_type": "code",
   "execution_count": 19,
   "metadata": {},
   "outputs": [],
   "source": [
    "from datetime import datetime\n",
    "current_datetime = datetime.now().isoformat()\n",
    "\n",
    "trades = {}\n",
    "trade_count = 0"
   ]
  },
  {
   "cell_type": "markdown",
   "metadata": {},
   "source": [
    "##### Bitcoin"
   ]
  },
  {
   "cell_type": "code",
   "execution_count": 20,
   "metadata": {},
   "outputs": [],
   "source": [
    "for i in range(len(bitcoin_prices)):\n",
    "    for j in range(len(bitcoin_prices)):\n",
    "        if i == j:\n",
    "            continue\n",
    "        else:\n",
    "            exchange_a, exchange_b = bitcoin_prices[i], bitcoin_prices[j]\n",
    "            exchange_name_a, exchange_name_b = exchanges[i], exchanges[j]\n",
    "\n",
    "            spread_percentage, buy_price, sell_price = find_arbitrage(exchange_a, exchange_b)\n",
    "\n",
    "            if spread_percentage > 0:\n",
    "                current_datetime\n",
    "                currency = cryptos[0]\n",
    "                profit = sell_price - buy_price\n",
    "                trades[trade_count] = [current_datetime, currency, exchange_name_a, buy_price, exchange_name_b, sell_price, profit, spread_percentage]\n",
    "                trade_count+=1"
   ]
  },
  {
   "cell_type": "markdown",
   "metadata": {},
   "source": [
    "##### Ethereum"
   ]
  },
  {
   "cell_type": "code",
   "execution_count": 21,
   "metadata": {},
   "outputs": [],
   "source": [
    "for i in range(len(ethereum_prices)):\n",
    "    for j in range(len(ethereum_prices)):\n",
    "        if i == j:\n",
    "            continue\n",
    "        else:\n",
    "            exchange_a, exchange_b = ethereum_prices[i], ethereum_prices[j]\n",
    "            exchange_name_a, exchange_name_b = exchanges[i], exchanges[j]\n",
    "\n",
    "            spread_percentage, buy_price, sell_price = find_arbitrage(exchange_a, exchange_b)\n",
    "\n",
    "            if spread_percentage > 0:\n",
    "                current_datetime\n",
    "                currency = cryptos[1]\n",
    "                profit = sell_price - buy_price\n",
    "                trades[trade_count] = [current_datetime, currency, exchange_name_a, buy_price, exchange_name_b, sell_price, profit, spread_percentage]\n",
    "                trade_count+=1"
   ]
  },
  {
   "cell_type": "markdown",
   "metadata": {},
   "source": [
    "##### Polygon"
   ]
  },
  {
   "cell_type": "code",
   "execution_count": 22,
   "metadata": {},
   "outputs": [],
   "source": [
    "for i in range(len(polygon_prices)):\n",
    "    for j in range(len(polygon_prices)):\n",
    "        if i == j:\n",
    "            continue\n",
    "        else:\n",
    "            exchange_a, exchange_b = polygon_prices[i], polygon_prices[j]\n",
    "            exchange_name_a, exchange_name_b = exchanges[i], exchanges[j]\n",
    "\n",
    "            spread_percentage, buy_price, sell_price = find_arbitrage(exchange_a, exchange_b)\n",
    "\n",
    "            if spread_percentage > 0:\n",
    "                current_datetime\n",
    "                currency = cryptos[2]\n",
    "                profit = sell_price - buy_price\n",
    "                trades[trade_count] = [current_datetime, currency, exchange_name_a, buy_price, exchange_name_b, sell_price, profit, spread_percentage]\n",
    "                trade_count+=1"
   ]
  },
  {
   "cell_type": "markdown",
   "metadata": {},
   "source": [
    "##### Solana"
   ]
  },
  {
   "cell_type": "code",
   "execution_count": 23,
   "metadata": {},
   "outputs": [],
   "source": [
    "for i in range(len(solana_prices)):\n",
    "    for j in range(len(solana_prices)):\n",
    "        if i == j:\n",
    "            continue\n",
    "        else:\n",
    "            exchange_a, exchange_b = solana_prices[i], solana_prices[j]\n",
    "            exchange_name_a, exchange_name_b = exchanges[i], exchanges[j]\n",
    "\n",
    "            spread_percentage, buy_price, sell_price = find_arbitrage(exchange_a, exchange_b)\n",
    "\n",
    "            if spread_percentage > 0:\n",
    "                current_datetime\n",
    "                currency = cryptos[3]\n",
    "                profit = sell_price - buy_price\n",
    "                trades[trade_count] = [current_datetime, currency, exchange_name_a, buy_price, exchange_name_b, sell_price, profit, spread_percentage]\n",
    "                trade_count+=1\n"
   ]
  },
  {
   "cell_type": "markdown",
   "metadata": {},
   "source": [
    "##### XRP"
   ]
  },
  {
   "cell_type": "code",
   "execution_count": 24,
   "metadata": {},
   "outputs": [],
   "source": [
    "for i in range(len(xrp_prices)):\n",
    "    for j in range(len(xrp_prices)):\n",
    "        if i == j:\n",
    "            continue\n",
    "        else:\n",
    "            exchange_a, exchange_b = xrp_prices[i], xrp_prices[j]\n",
    "            exchange_name_a, exchange_name_b = exchanges[i], exchanges[j]\n",
    "\n",
    "            spread_percentage, buy_price, sell_price = find_arbitrage(exchange_a, exchange_b)\n",
    "\n",
    "            if spread_percentage > 0:\n",
    "                current_datetime\n",
    "                currency = cryptos[4]\n",
    "                profit = sell_price - buy_price\n",
    "                trades[trade_count] = [current_datetime, currency, exchange_name_a, buy_price, exchange_name_b, sell_price, profit, spread_percentage]\n",
    "                trade_count+=1"
   ]
  },
  {
   "cell_type": "markdown",
   "metadata": {},
   "source": [
    "##### Transform the trades dictionary to a DataFrame and preview"
   ]
  },
  {
   "cell_type": "code",
   "execution_count": 25,
   "metadata": {},
   "outputs": [
    {
     "data": {
      "text/html": [
       "<div>\n",
       "<style scoped>\n",
       "    .dataframe tbody tr th:only-of-type {\n",
       "        vertical-align: middle;\n",
       "    }\n",
       "\n",
       "    .dataframe tbody tr th {\n",
       "        vertical-align: top;\n",
       "    }\n",
       "\n",
       "    .dataframe thead th {\n",
       "        text-align: right;\n",
       "    }\n",
       "</style>\n",
       "<table border=\"1\" class=\"dataframe\">\n",
       "  <thead>\n",
       "    <tr style=\"text-align: right;\">\n",
       "      <th></th>\n",
       "      <th>current_datetime</th>\n",
       "      <th>currency</th>\n",
       "      <th>exchange_name_a</th>\n",
       "      <th>buy_price</th>\n",
       "      <th>exchange_name_b</th>\n",
       "      <th>sell_price</th>\n",
       "      <th>profit</th>\n",
       "      <th>spread_percentage</th>\n",
       "    </tr>\n",
       "  </thead>\n",
       "  <tbody>\n",
       "    <tr>\n",
       "      <th>0</th>\n",
       "      <td>2024-03-02T17:48:08.946333</td>\n",
       "      <td>bitcoin</td>\n",
       "      <td>Bitstamp</td>\n",
       "      <td>61880.0</td>\n",
       "      <td>Gemini</td>\n",
       "      <td>61891.29</td>\n",
       "      <td>11.29</td>\n",
       "      <td>0.018245</td>\n",
       "    </tr>\n",
       "    <tr>\n",
       "      <th>1</th>\n",
       "      <td>2024-03-02T17:48:08.946333</td>\n",
       "      <td>bitcoin</td>\n",
       "      <td>Kraken</td>\n",
       "      <td>61816.1</td>\n",
       "      <td>Binance</td>\n",
       "      <td>61873.29</td>\n",
       "      <td>57.19</td>\n",
       "      <td>0.092516</td>\n",
       "    </tr>\n",
       "    <tr>\n",
       "      <th>2</th>\n",
       "      <td>2024-03-02T17:48:08.946333</td>\n",
       "      <td>bitcoin</td>\n",
       "      <td>Kraken</td>\n",
       "      <td>61816.1</td>\n",
       "      <td>Bitstamp</td>\n",
       "      <td>61875.0</td>\n",
       "      <td>58.9</td>\n",
       "      <td>0.095283</td>\n",
       "    </tr>\n",
       "    <tr>\n",
       "      <th>3</th>\n",
       "      <td>2024-03-02T17:48:08.946333</td>\n",
       "      <td>bitcoin</td>\n",
       "      <td>Kraken</td>\n",
       "      <td>61816.1</td>\n",
       "      <td>Gemini</td>\n",
       "      <td>61891.29</td>\n",
       "      <td>75.19</td>\n",
       "      <td>0.121635</td>\n",
       "    </tr>\n",
       "    <tr>\n",
       "      <th>4</th>\n",
       "      <td>2024-03-02T17:48:08.946333</td>\n",
       "      <td>bitcoin</td>\n",
       "      <td>Poloniex</td>\n",
       "      <td>61812.35</td>\n",
       "      <td>Binance</td>\n",
       "      <td>61873.29</td>\n",
       "      <td>60.94</td>\n",
       "      <td>0.098589</td>\n",
       "    </tr>\n",
       "    <tr>\n",
       "      <th>5</th>\n",
       "      <td>2024-03-02T17:48:08.946333</td>\n",
       "      <td>bitcoin</td>\n",
       "      <td>Poloniex</td>\n",
       "      <td>61812.35</td>\n",
       "      <td>Bitstamp</td>\n",
       "      <td>61875.0</td>\n",
       "      <td>62.65</td>\n",
       "      <td>0.101355</td>\n",
       "    </tr>\n",
       "    <tr>\n",
       "      <th>6</th>\n",
       "      <td>2024-03-02T17:48:08.946333</td>\n",
       "      <td>bitcoin</td>\n",
       "      <td>Poloniex</td>\n",
       "      <td>61812.35</td>\n",
       "      <td>Gemini</td>\n",
       "      <td>61891.29</td>\n",
       "      <td>78.94</td>\n",
       "      <td>0.127709</td>\n",
       "    </tr>\n",
       "    <tr>\n",
       "      <th>7</th>\n",
       "      <td>2024-03-02T17:48:08.946333</td>\n",
       "      <td>bitcoin</td>\n",
       "      <td>Poloniex</td>\n",
       "      <td>61812.35</td>\n",
       "      <td>Kraken</td>\n",
       "      <td>61816.0</td>\n",
       "      <td>3.65</td>\n",
       "      <td>0.005905</td>\n",
       "    </tr>\n",
       "    <tr>\n",
       "      <th>8</th>\n",
       "      <td>2024-03-02T17:48:08.946333</td>\n",
       "      <td>ethereum</td>\n",
       "      <td>Kraken</td>\n",
       "      <td>3406.25</td>\n",
       "      <td>Bitstamp</td>\n",
       "      <td>3406.6</td>\n",
       "      <td>0.35</td>\n",
       "      <td>0.010275</td>\n",
       "    </tr>\n",
       "    <tr>\n",
       "      <th>9</th>\n",
       "      <td>2024-03-02T17:48:08.946333</td>\n",
       "      <td>ethereum</td>\n",
       "      <td>Kraken</td>\n",
       "      <td>3406.25</td>\n",
       "      <td>Gemini</td>\n",
       "      <td>3406.7</td>\n",
       "      <td>0.45</td>\n",
       "      <td>0.013211</td>\n",
       "    </tr>\n",
       "    <tr>\n",
       "      <th>10</th>\n",
       "      <td>2024-03-02T17:48:08.946333</td>\n",
       "      <td>ethereum</td>\n",
       "      <td>Poloniex</td>\n",
       "      <td>3403.98</td>\n",
       "      <td>Binance</td>\n",
       "      <td>3404.55</td>\n",
       "      <td>0.57</td>\n",
       "      <td>0.016745</td>\n",
       "    </tr>\n",
       "    <tr>\n",
       "      <th>11</th>\n",
       "      <td>2024-03-02T17:48:08.946333</td>\n",
       "      <td>ethereum</td>\n",
       "      <td>Poloniex</td>\n",
       "      <td>3403.98</td>\n",
       "      <td>Bitstamp</td>\n",
       "      <td>3406.6</td>\n",
       "      <td>2.62</td>\n",
       "      <td>0.076969</td>\n",
       "    </tr>\n",
       "    <tr>\n",
       "      <th>12</th>\n",
       "      <td>2024-03-02T17:48:08.946333</td>\n",
       "      <td>ethereum</td>\n",
       "      <td>Poloniex</td>\n",
       "      <td>3403.98</td>\n",
       "      <td>Gemini</td>\n",
       "      <td>3406.7</td>\n",
       "      <td>2.72</td>\n",
       "      <td>0.079906</td>\n",
       "    </tr>\n",
       "    <tr>\n",
       "      <th>13</th>\n",
       "      <td>2024-03-02T17:48:08.946333</td>\n",
       "      <td>ethereum</td>\n",
       "      <td>Poloniex</td>\n",
       "      <td>3403.98</td>\n",
       "      <td>Kraken</td>\n",
       "      <td>3406.24</td>\n",
       "      <td>2.26</td>\n",
       "      <td>0.066393</td>\n",
       "    </tr>\n",
       "    <tr>\n",
       "      <th>14</th>\n",
       "      <td>2024-03-02T17:48:08.946333</td>\n",
       "      <td>polygon</td>\n",
       "      <td>Binance</td>\n",
       "      <td>1.0878</td>\n",
       "      <td>Bitstamp</td>\n",
       "      <td>1.08835</td>\n",
       "      <td>0.00055</td>\n",
       "      <td>0.050561</td>\n",
       "    </tr>\n",
       "    <tr>\n",
       "      <th>15</th>\n",
       "      <td>2024-03-02T17:48:08.946333</td>\n",
       "      <td>polygon</td>\n",
       "      <td>Binance</td>\n",
       "      <td>1.0878</td>\n",
       "      <td>Gemini</td>\n",
       "      <td>1.08824</td>\n",
       "      <td>0.00044</td>\n",
       "      <td>0.040449</td>\n",
       "    </tr>\n",
       "    <tr>\n",
       "      <th>16</th>\n",
       "      <td>2024-03-02T17:48:08.946333</td>\n",
       "      <td>polygon</td>\n",
       "      <td>Kraken</td>\n",
       "      <td>1.088</td>\n",
       "      <td>Bitstamp</td>\n",
       "      <td>1.08835</td>\n",
       "      <td>0.00035</td>\n",
       "      <td>0.032169</td>\n",
       "    </tr>\n",
       "    <tr>\n",
       "      <th>17</th>\n",
       "      <td>2024-03-02T17:48:08.946333</td>\n",
       "      <td>polygon</td>\n",
       "      <td>Kraken</td>\n",
       "      <td>1.088</td>\n",
       "      <td>Gemini</td>\n",
       "      <td>1.08824</td>\n",
       "      <td>0.00024</td>\n",
       "      <td>0.022059</td>\n",
       "    </tr>\n",
       "    <tr>\n",
       "      <th>18</th>\n",
       "      <td>2024-03-02T17:48:08.946333</td>\n",
       "      <td>polygon</td>\n",
       "      <td>Poloniex</td>\n",
       "      <td>1.08825</td>\n",
       "      <td>Bitstamp</td>\n",
       "      <td>1.08835</td>\n",
       "      <td>0.0001</td>\n",
       "      <td>0.009189</td>\n",
       "    </tr>\n",
       "    <tr>\n",
       "      <th>19</th>\n",
       "      <td>2024-03-02T17:48:08.946333</td>\n",
       "      <td>solana</td>\n",
       "      <td>Kraken</td>\n",
       "      <td>128.62</td>\n",
       "      <td>Binance</td>\n",
       "      <td>128.65</td>\n",
       "      <td>0.03</td>\n",
       "      <td>0.023325</td>\n",
       "    </tr>\n",
       "    <tr>\n",
       "      <th>20</th>\n",
       "      <td>2024-03-02T17:48:08.946333</td>\n",
       "      <td>solana</td>\n",
       "      <td>Kraken</td>\n",
       "      <td>128.62</td>\n",
       "      <td>Bitstamp</td>\n",
       "      <td>128.6907</td>\n",
       "      <td>0.0707</td>\n",
       "      <td>0.054968</td>\n",
       "    </tr>\n",
       "    <tr>\n",
       "      <th>21</th>\n",
       "      <td>2024-03-02T17:48:08.946333</td>\n",
       "      <td>solana</td>\n",
       "      <td>Kraken</td>\n",
       "      <td>128.62</td>\n",
       "      <td>Gemini</td>\n",
       "      <td>128.67</td>\n",
       "      <td>0.05</td>\n",
       "      <td>0.038874</td>\n",
       "    </tr>\n",
       "    <tr>\n",
       "      <th>22</th>\n",
       "      <td>2024-03-02T17:48:08.946333</td>\n",
       "      <td>xrp</td>\n",
       "      <td>Binance</td>\n",
       "      <td>0.6368</td>\n",
       "      <td>Bitstamp</td>\n",
       "      <td>0.6372</td>\n",
       "      <td>0.0004</td>\n",
       "      <td>0.062814</td>\n",
       "    </tr>\n",
       "    <tr>\n",
       "      <th>23</th>\n",
       "      <td>2024-03-02T17:48:08.946333</td>\n",
       "      <td>xrp</td>\n",
       "      <td>Binance</td>\n",
       "      <td>0.6368</td>\n",
       "      <td>Gemini</td>\n",
       "      <td>0.63718</td>\n",
       "      <td>0.00038</td>\n",
       "      <td>0.059673</td>\n",
       "    </tr>\n",
       "    <tr>\n",
       "      <th>24</th>\n",
       "      <td>2024-03-02T17:48:08.946333</td>\n",
       "      <td>xrp</td>\n",
       "      <td>Kraken</td>\n",
       "      <td>0.63675</td>\n",
       "      <td>Bitstamp</td>\n",
       "      <td>0.6372</td>\n",
       "      <td>0.00045</td>\n",
       "      <td>0.070671</td>\n",
       "    </tr>\n",
       "    <tr>\n",
       "      <th>25</th>\n",
       "      <td>2024-03-02T17:48:08.946333</td>\n",
       "      <td>xrp</td>\n",
       "      <td>Kraken</td>\n",
       "      <td>0.63675</td>\n",
       "      <td>Gemini</td>\n",
       "      <td>0.63718</td>\n",
       "      <td>0.00043</td>\n",
       "      <td>0.06753</td>\n",
       "    </tr>\n",
       "    <tr>\n",
       "      <th>26</th>\n",
       "      <td>2024-03-02T17:48:08.946333</td>\n",
       "      <td>xrp</td>\n",
       "      <td>Poloniex</td>\n",
       "      <td>0.6367</td>\n",
       "      <td>Bitstamp</td>\n",
       "      <td>0.6372</td>\n",
       "      <td>0.0005</td>\n",
       "      <td>0.07853</td>\n",
       "    </tr>\n",
       "    <tr>\n",
       "      <th>27</th>\n",
       "      <td>2024-03-02T17:48:08.946333</td>\n",
       "      <td>xrp</td>\n",
       "      <td>Poloniex</td>\n",
       "      <td>0.6367</td>\n",
       "      <td>Gemini</td>\n",
       "      <td>0.63718</td>\n",
       "      <td>0.00048</td>\n",
       "      <td>0.075389</td>\n",
       "    </tr>\n",
       "  </tbody>\n",
       "</table>\n",
       "</div>"
      ],
      "text/plain": [
       "              current_datetime  currency exchange_name_a buy_price  \\\n",
       "0   2024-03-02T17:48:08.946333   bitcoin        Bitstamp   61880.0   \n",
       "1   2024-03-02T17:48:08.946333   bitcoin          Kraken   61816.1   \n",
       "2   2024-03-02T17:48:08.946333   bitcoin          Kraken   61816.1   \n",
       "3   2024-03-02T17:48:08.946333   bitcoin          Kraken   61816.1   \n",
       "4   2024-03-02T17:48:08.946333   bitcoin        Poloniex  61812.35   \n",
       "5   2024-03-02T17:48:08.946333   bitcoin        Poloniex  61812.35   \n",
       "6   2024-03-02T17:48:08.946333   bitcoin        Poloniex  61812.35   \n",
       "7   2024-03-02T17:48:08.946333   bitcoin        Poloniex  61812.35   \n",
       "8   2024-03-02T17:48:08.946333  ethereum          Kraken   3406.25   \n",
       "9   2024-03-02T17:48:08.946333  ethereum          Kraken   3406.25   \n",
       "10  2024-03-02T17:48:08.946333  ethereum        Poloniex   3403.98   \n",
       "11  2024-03-02T17:48:08.946333  ethereum        Poloniex   3403.98   \n",
       "12  2024-03-02T17:48:08.946333  ethereum        Poloniex   3403.98   \n",
       "13  2024-03-02T17:48:08.946333  ethereum        Poloniex   3403.98   \n",
       "14  2024-03-02T17:48:08.946333   polygon         Binance    1.0878   \n",
       "15  2024-03-02T17:48:08.946333   polygon         Binance    1.0878   \n",
       "16  2024-03-02T17:48:08.946333   polygon          Kraken     1.088   \n",
       "17  2024-03-02T17:48:08.946333   polygon          Kraken     1.088   \n",
       "18  2024-03-02T17:48:08.946333   polygon        Poloniex   1.08825   \n",
       "19  2024-03-02T17:48:08.946333    solana          Kraken    128.62   \n",
       "20  2024-03-02T17:48:08.946333    solana          Kraken    128.62   \n",
       "21  2024-03-02T17:48:08.946333    solana          Kraken    128.62   \n",
       "22  2024-03-02T17:48:08.946333       xrp         Binance    0.6368   \n",
       "23  2024-03-02T17:48:08.946333       xrp         Binance    0.6368   \n",
       "24  2024-03-02T17:48:08.946333       xrp          Kraken   0.63675   \n",
       "25  2024-03-02T17:48:08.946333       xrp          Kraken   0.63675   \n",
       "26  2024-03-02T17:48:08.946333       xrp        Poloniex    0.6367   \n",
       "27  2024-03-02T17:48:08.946333       xrp        Poloniex    0.6367   \n",
       "\n",
       "   exchange_name_b sell_price   profit spread_percentage  \n",
       "0           Gemini   61891.29    11.29          0.018245  \n",
       "1          Binance   61873.29    57.19          0.092516  \n",
       "2         Bitstamp    61875.0     58.9          0.095283  \n",
       "3           Gemini   61891.29    75.19          0.121635  \n",
       "4          Binance   61873.29    60.94          0.098589  \n",
       "5         Bitstamp    61875.0    62.65          0.101355  \n",
       "6           Gemini   61891.29    78.94          0.127709  \n",
       "7           Kraken    61816.0     3.65          0.005905  \n",
       "8         Bitstamp     3406.6     0.35          0.010275  \n",
       "9           Gemini     3406.7     0.45          0.013211  \n",
       "10         Binance    3404.55     0.57          0.016745  \n",
       "11        Bitstamp     3406.6     2.62          0.076969  \n",
       "12          Gemini     3406.7     2.72          0.079906  \n",
       "13          Kraken    3406.24     2.26          0.066393  \n",
       "14        Bitstamp    1.08835  0.00055          0.050561  \n",
       "15          Gemini    1.08824  0.00044          0.040449  \n",
       "16        Bitstamp    1.08835  0.00035          0.032169  \n",
       "17          Gemini    1.08824  0.00024          0.022059  \n",
       "18        Bitstamp    1.08835   0.0001          0.009189  \n",
       "19         Binance     128.65     0.03          0.023325  \n",
       "20        Bitstamp   128.6907   0.0707          0.054968  \n",
       "21          Gemini     128.67     0.05          0.038874  \n",
       "22        Bitstamp     0.6372   0.0004          0.062814  \n",
       "23          Gemini    0.63718  0.00038          0.059673  \n",
       "24        Bitstamp     0.6372  0.00045          0.070671  \n",
       "25          Gemini    0.63718  0.00043           0.06753  \n",
       "26        Bitstamp     0.6372   0.0005           0.07853  \n",
       "27          Gemini    0.63718  0.00048          0.075389  "
      ]
     },
     "metadata": {},
     "output_type": "display_data"
    }
   ],
   "source": [
    "trades_df = pd.DataFrame(trades).transpose()\n",
    "\n",
    "trades_df.columns = ['current_datetime', 'currency', 'exchange_name_a', 'buy_price', 'exchange_name_b', 'sell_price', 'profit', 'spread_percentage']\n",
    "\n",
    "display(trades_df)"
   ]
  },
  {
   "cell_type": "markdown",
   "metadata": {},
   "source": [
    "# Create database, table and connect \n",
    "\n",
    "### Instead of storing the trades in a DataFrame lets store them in a sql database \n",
    "- Create a database locally named 'arbi_db'\n",
    "- Import the sqlalchemy library \n",
    "- Import the os and dotenv libraries to access the .env file\n",
    "- Add sql credentials\n",
    "- Establish a connection \n",
    "- Create a cursor object to execute sql queries \n",
    "- Create a table 'pseudo' in the database with the appropriate schema to match the trades values in the trades dictionary \n",
    "- Add the trades to the table"
   ]
  },
  {
   "cell_type": "code",
   "execution_count": 26,
   "metadata": {},
   "outputs": [],
   "source": [
    "from sqlalchemy import create_engine, MetaData, Table, Column, Integer, Float, String\n",
    "from sqlalchemy.inspection import inspect\n",
    "import os\n",
    "from dotenv import load_dotenv\n",
    "\n",
    "# Load environment variables from .env file\n",
    "load_dotenv()\n",
    "\n",
    "# Access the variables \n",
    "psql_username = os.getenv('PSQL_USERNAME')\n",
    "psql_password = os.getenv('PSQL_PASSWORD')\n",
    "psql_host = os.getenv('PSQL_HOST')\n",
    "psql_port = os.getenv('PSQL_PORT')\n",
    "db_name = os.getenv('DB_NAME')\n",
    "\n",
    "# Define the database url\n",
    "db_url = f\"postgresql://{psql_username}:{psql_password}@{psql_host}:{psql_port}/{db_name}\" \n",
    "\n",
    "# Create the engine object\n",
    "engine = create_engine(db_url) \n",
    "\n",
    "# Create the table schema \n",
    "metadata = MetaData()\n",
    "\n",
    "pseudo = Table(\n",
    "    'pseudo',\n",
    "    metadata,\n",
    "    Column('trade_count', Integer, primary_key=True),\n",
    "    Column('current_datetime', String),\n",
    "    Column('currency', String),\n",
    "    Column('volume', Float),\n",
    "    Column('buy_exchange', String),\n",
    "    Column('buy_price', Float),\n",
    "    Column('total_purchase_amount', Float),\n",
    "    Column('sell_exchange', String),\n",
    "    Column('sell_price', Float),\n",
    "    Column('total_sale_amount', Float),\n",
    "    Column('profit', Float),\n",
    "    Column('spread_percentage', Float),\n",
    "    Column('wallet_balance', Float),\n",
    ")\n",
    "\n",
    "# Execute the table creation\n",
    "# Check if the table exist before creating\n",
    "if not inspect(engine).has_table('pseudo'):\n",
    "    metadata.create_all(engine)\n"
   ]
  },
  {
   "cell_type": "markdown",
   "metadata": {},
   "source": [
    "### Add each trade to the table"
   ]
  },
  {
   "cell_type": "code",
   "execution_count": 27,
   "metadata": {},
   "outputs": [],
   "source": [
    "# Global Variables\n",
    "wallet = 10000\n",
    "\n",
    "# Extract the first values from each sublist\n",
    "bitcoin_ask_values = [sublist[0] for sublist in bitcoin_prices]\n",
    "ethereum_ask_values = [sublist[0] for sublist in ethereum_prices]\n",
    "polygon_ask_values = [sublist[0] for sublist in polygon_prices]\n",
    "solana_ask_values = [sublist[0] for sublist in solana_prices]\n",
    "xrp_ask_values = [sublist[0] for sublist in xrp_prices]\n",
    "\n",
    "# Evenly allocate the wallet amount and determine shares based on avergae price for currency\n",
    "bitcoin_shares = (wallet/5) / (sum(bitcoin_ask_values)/len(bitcoin_prices))\n",
    "ethereum_shares = (wallet/5) / (sum(ethereum_ask_values)/len(ethereum_prices))\n",
    "polygon_shares = (wallet/5) / (sum(polygon_ask_values)/len(polygon_prices))\n",
    "solana_shares = (wallet/5) / (sum(solana_ask_values)/len(solana_prices))\n",
    "xrp_shares = (wallet/5) / (sum(xrp_ask_values)/len(xrp_prices))"
   ]
  },
  {
   "cell_type": "markdown",
   "metadata": {},
   "source": [
    "##### Bitcoin"
   ]
  },
  {
   "cell_type": "code",
   "execution_count": 28,
   "metadata": {},
   "outputs": [],
   "source": [
    "for i in range(len(bitcoin_prices)):\n",
    "        for j in range(len(bitcoin_prices)):\n",
    "            if i == j:\n",
    "                continue\n",
    "            else:\n",
    "                exchange_a, exchange_b = bitcoin_prices[i], bitcoin_prices[j]\n",
    "                exchange_name_a, exchange_name_b = exchanges[i], exchanges[j]\n",
    "\n",
    "                spread_percentage, buy_price, sell_price = find_arbitrage(exchange_a, exchange_b)\n",
    "\n",
    "                if spread_percentage > 0:\n",
    "                    current_datetime\n",
    "                    purchase_price = bitcoin_shares*buy_price\n",
    "                    sale_price = bitcoin_shares*sell_price\n",
    "                    profit = sale_price - purchase_price\n",
    "                    wallet += profit\n",
    "                    wallet_balance = wallet\n",
    "                    \n",
    "                    insert_row = pseudo.insert().values(\n",
    "                        current_datetime = current_datetime,\n",
    "                        currency = cryptos[0],\n",
    "                        volume = bitcoin_shares,\n",
    "                        buy_exchange = exchange_name_a,\n",
    "                        buy_price = buy_price,\n",
    "                        total_purchase_amount = purchase_price,\n",
    "                        sell_exchange = exchange_name_b,\n",
    "                        sell_price = sell_price,\n",
    "                        total_sale_amount = sale_price,\n",
    "                        profit = profit,\n",
    "                        spread_percentage = spread_percentage,\n",
    "                        wallet_balance = wallet_balance\n",
    "                    )\n",
    "\n",
    "                    with engine.connect() as connection:\n",
    "                        connection.execute(insert_row)"
   ]
  },
  {
   "cell_type": "markdown",
   "metadata": {},
   "source": [
    "##### Ethereum"
   ]
  },
  {
   "cell_type": "code",
   "execution_count": 29,
   "metadata": {},
   "outputs": [],
   "source": [
    "for i in range(len(ethereum_prices)):\n",
    "        for j in range(len(ethereum_prices)):\n",
    "            if i == j:\n",
    "                continue\n",
    "            else:\n",
    "                exchange_a, exchange_b = ethereum_prices[i], ethereum_prices[j]\n",
    "                exchange_name_a, exchange_name_b = exchanges[i], exchanges[j]\n",
    "\n",
    "                spread_percentage, buy_price, sell_price = find_arbitrage(exchange_a, exchange_b)\n",
    "\n",
    "                if spread_percentage > 0:\n",
    "                    current_datetime\n",
    "                    purchase_price = ethereum_shares*buy_price\n",
    "                    sale_price = ethereum_shares*sell_price\n",
    "                    profit = sale_price - purchase_price\n",
    "                    wallet += profit\n",
    "                    wallet_balance = wallet\n",
    "                    \n",
    "                    insert_row = pseudo.insert().values(\n",
    "                        current_datetime = current_datetime,\n",
    "                        currency = cryptos[1],\n",
    "                        volume = ethereum_shares,\n",
    "                        buy_exchange = exchange_name_a,\n",
    "                        buy_price = buy_price,\n",
    "                        total_purchase_amount = purchase_price,\n",
    "                        sell_exchange = exchange_name_b,\n",
    "                        sell_price = sell_price,\n",
    "                        total_sale_amount = sale_price,\n",
    "                        profit = profit,\n",
    "                        spread_percentage = spread_percentage,\n",
    "                        wallet_balance = wallet_balance\n",
    "                    )\n",
    "\n",
    "                    with engine.connect() as connection:\n",
    "                        connection.execute(insert_row)"
   ]
  },
  {
   "cell_type": "markdown",
   "metadata": {},
   "source": [
    "##### Polygon"
   ]
  },
  {
   "cell_type": "code",
   "execution_count": 30,
   "metadata": {},
   "outputs": [],
   "source": [
    "for i in range(len(polygon_prices)):\n",
    "        for j in range(len(polygon_prices)):\n",
    "            if i == j:\n",
    "                continue\n",
    "            else:\n",
    "                exchange_a, exchange_b = polygon_prices[i], polygon_prices[j]\n",
    "                exchange_name_a, exchange_name_b = exchanges[i], exchanges[j]\n",
    "\n",
    "                spread_percentage, buy_price, sell_price = find_arbitrage(exchange_a, exchange_b)\n",
    "\n",
    "                if spread_percentage > 0:\n",
    "                    current_datetime\n",
    "                    purchase_price = polygon_shares*buy_price\n",
    "                    sale_price = polygon_shares*sell_price\n",
    "                    profit = sale_price - purchase_price\n",
    "                    wallet += profit\n",
    "                    wallet_balance = wallet\n",
    "                    \n",
    "                    insert_row = pseudo.insert().values(\n",
    "                        current_datetime = current_datetime,\n",
    "                        currency = cryptos[2],\n",
    "                        volume = polygon_shares,\n",
    "                        buy_exchange = exchange_name_a,\n",
    "                        buy_price = buy_price,\n",
    "                        total_purchase_amount = purchase_price,\n",
    "                        sell_exchange = exchange_name_b,\n",
    "                        sell_price = sell_price,\n",
    "                        total_sale_amount = sale_price,\n",
    "                        profit = profit,\n",
    "                        spread_percentage = spread_percentage,\n",
    "                        wallet_balance = wallet_balance\n",
    "                    )\n",
    "\n",
    "                    with engine.connect() as connection:\n",
    "                        connection.execute(insert_row)"
   ]
  },
  {
   "cell_type": "markdown",
   "metadata": {},
   "source": [
    "##### Solana"
   ]
  },
  {
   "cell_type": "code",
   "execution_count": 31,
   "metadata": {},
   "outputs": [],
   "source": [
    "for i in range(len(solana_prices)):\n",
    "        for j in range(len(solana_prices)):\n",
    "            if i == j:\n",
    "                continue\n",
    "            else:\n",
    "                exchange_a, exchange_b = solana_prices[i], solana_prices[j]\n",
    "                exchange_name_a, exchange_name_b = exchanges[i], exchanges[j]\n",
    "\n",
    "                spread_percentage, buy_price, sell_price = find_arbitrage(exchange_a, exchange_b)\n",
    "\n",
    "                if spread_percentage > 0:\n",
    "                    current_datetime\n",
    "                    purchase_price = solana_shares*buy_price\n",
    "                    sale_price = solana_shares*sell_price\n",
    "                    profit = sale_price - purchase_price\n",
    "                    wallet += profit\n",
    "                    wallet_balance = wallet\n",
    "                    \n",
    "                    insert_row = pseudo.insert().values(\n",
    "                        current_datetime = current_datetime,\n",
    "                        currency = cryptos[3],\n",
    "                        volume = solana_shares,\n",
    "                        buy_exchange = exchange_name_a,\n",
    "                        buy_price = buy_price,\n",
    "                        total_purchase_amount = purchase_price,\n",
    "                        sell_exchange = exchange_name_b,\n",
    "                        sell_price = sell_price,\n",
    "                        total_sale_amount = sale_price,\n",
    "                        profit = profit,\n",
    "                        spread_percentage = spread_percentage,\n",
    "                        wallet_balance = wallet_balance\n",
    "                    )\n",
    "\n",
    "                    with engine.connect() as connection:\n",
    "                        connection.execute(insert_row)"
   ]
  },
  {
   "cell_type": "markdown",
   "metadata": {},
   "source": [
    "##### XRP"
   ]
  },
  {
   "cell_type": "code",
   "execution_count": 32,
   "metadata": {},
   "outputs": [],
   "source": [
    "for i in range(len(xrp_prices)):\n",
    "        for j in range(len(xrp_prices)):\n",
    "            if i == j:\n",
    "                continue\n",
    "            else:\n",
    "                exchange_a, exchange_b = xrp_prices[i], xrp_prices[j]\n",
    "                exchange_name_a, exchange_name_b = exchanges[i], exchanges[j]\n",
    "\n",
    "                spread_percentage, buy_price, sell_price = find_arbitrage(exchange_a, exchange_b)\n",
    "\n",
    "                if spread_percentage > 0:\n",
    "                    current_datetime\n",
    "                    purchase_price = xrp_shares*buy_price\n",
    "                    sale_price = xrp_shares*sell_price\n",
    "                    profit = sale_price - purchase_price\n",
    "                    wallet += profit\n",
    "                    wallet_balance = wallet\n",
    "                    \n",
    "                    insert_row = pseudo.insert().values(\n",
    "                        current_datetime = current_datetime,\n",
    "                        currency = cryptos[4],\n",
    "                        volume = xrp_shares,\n",
    "                        buy_exchange = exchange_name_a,\n",
    "                        buy_price = buy_price,\n",
    "                        total_purchase_amount = purchase_price,\n",
    "                        sell_exchange = exchange_name_b,\n",
    "                        sell_price = sell_price,\n",
    "                        total_sale_amount = sale_price,\n",
    "                        profit = profit,\n",
    "                        spread_percentage = spread_percentage,\n",
    "                        wallet_balance = wallet_balance\n",
    "                    )\n",
    "\n",
    "                    with engine.connect() as connection:\n",
    "                        connection.execute(insert_row)"
   ]
  }
 ],
 "metadata": {
  "kernelspec": {
   "display_name": "Python 3 (ipykernel)",
   "language": "python",
   "name": "python3"
  },
  "language_info": {
   "codemirror_mode": {
    "name": "ipython",
    "version": 3
   },
   "file_extension": ".py",
   "mimetype": "text/x-python",
   "name": "python",
   "nbconvert_exporter": "python",
   "pygments_lexer": "ipython3",
   "version": "3.10.13"
  }
 },
 "nbformat": 4,
 "nbformat_minor": 4
}
