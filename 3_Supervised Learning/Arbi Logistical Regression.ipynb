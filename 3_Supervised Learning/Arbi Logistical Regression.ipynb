{
 "cells": [
  {
   "cell_type": "markdown",
   "id": "5c8540b1-0bac-4c80-b49c-211bf7a34b70",
   "metadata": {},
   "source": [
    "# Logistic Regression"
   ]
  },
  {
   "cell_type": "markdown",
   "id": "287a8fd2-b0b2-46eb-8bac-080b0d32336b",
   "metadata": {},
   "source": [
    "## Import the required modules"
   ]
  },
  {
   "cell_type": "code",
   "execution_count": 2,
   "id": "9dbbc7ac-f9e7-412c-bc0b-e5da5db4a4e6",
   "metadata": {},
   "outputs": [],
   "source": [
    "import pandas as pd\n",
    "from pathlib import Path\n",
    "from sklearn.metrics import classification_report, confusion_matrix, accuracy_score\n",
    "from sklearn.model_selection import train_test_split\n",
    "from sklearn.linear_model import LogisticRegression"
   ]
  },
  {
   "cell_type": "markdown",
   "id": "12a34eb5-b4fd-40a7-b7fb-04f607aca066",
   "metadata": {},
   "source": [
    "### Step 1 :Read in the CSV file from the Resources folder into a Pandas DataFrame."
   ]
  },
  {
   "cell_type": "code",
   "execution_count": 3,
   "id": "e36c5507-3360-4102-8f2d-17b0623a7fe2",
   "metadata": {},
   "outputs": [
    {
     "data": {
      "text/html": [
       "<div>\n",
       "<style scoped>\n",
       "    .dataframe tbody tr th:only-of-type {\n",
       "        vertical-align: middle;\n",
       "    }\n",
       "\n",
       "    .dataframe tbody tr th {\n",
       "        vertical-align: top;\n",
       "    }\n",
       "\n",
       "    .dataframe thead th {\n",
       "        text-align: right;\n",
       "    }\n",
       "</style>\n",
       "<table border=\"1\" class=\"dataframe\">\n",
       "  <thead>\n",
       "    <tr style=\"text-align: right;\">\n",
       "      <th></th>\n",
       "      <th>hour_of_day</th>\n",
       "      <th>volume</th>\n",
       "      <th>buy_price</th>\n",
       "      <th>total_purchase_amount</th>\n",
       "      <th>sell_price</th>\n",
       "      <th>total_sale_amount</th>\n",
       "      <th>profit</th>\n",
       "      <th>spread_percentage</th>\n",
       "      <th>wallet_balance</th>\n",
       "      <th>price_difference</th>\n",
       "      <th>...</th>\n",
       "      <th>buy_exchange_Binanceus</th>\n",
       "      <th>buy_exchange_Bitstamp</th>\n",
       "      <th>buy_exchange_Gemini</th>\n",
       "      <th>buy_exchange_Kraken</th>\n",
       "      <th>buy_exchange_Poloniex</th>\n",
       "      <th>sell_exchange_Binanceus</th>\n",
       "      <th>sell_exchange_Bitstamp</th>\n",
       "      <th>sell_exchange_Gemini</th>\n",
       "      <th>sell_exchange_Kraken</th>\n",
       "      <th>sell_exchange_Poloniex</th>\n",
       "    </tr>\n",
       "  </thead>\n",
       "  <tbody>\n",
       "    <tr>\n",
       "      <th>0</th>\n",
       "      <td>23</td>\n",
       "      <td>0.008658</td>\n",
       "      <td>69300.0000</td>\n",
       "      <td>600.000000</td>\n",
       "      <td>69474.95000</td>\n",
       "      <td>601.514719</td>\n",
       "      <td>1.514719</td>\n",
       "      <td>0.252453</td>\n",
       "      <td>2400.000000</td>\n",
       "      <td>174.95000</td>\n",
       "      <td>...</td>\n",
       "      <td>1.0</td>\n",
       "      <td>0.0</td>\n",
       "      <td>0.0</td>\n",
       "      <td>0.0</td>\n",
       "      <td>0.0</td>\n",
       "      <td>0.0</td>\n",
       "      <td>0.0</td>\n",
       "      <td>1.0</td>\n",
       "      <td>0.0</td>\n",
       "      <td>0.0</td>\n",
       "    </tr>\n",
       "    <tr>\n",
       "      <th>1</th>\n",
       "      <td>23</td>\n",
       "      <td>989.184242</td>\n",
       "      <td>0.9103</td>\n",
       "      <td>900.454416</td>\n",
       "      <td>0.91553</td>\n",
       "      <td>905.627849</td>\n",
       "      <td>5.173434</td>\n",
       "      <td>0.574536</td>\n",
       "      <td>2101.060303</td>\n",
       "      <td>0.00523</td>\n",
       "      <td>...</td>\n",
       "      <td>0.0</td>\n",
       "      <td>0.0</td>\n",
       "      <td>0.0</td>\n",
       "      <td>1.0</td>\n",
       "      <td>0.0</td>\n",
       "      <td>0.0</td>\n",
       "      <td>0.0</td>\n",
       "      <td>1.0</td>\n",
       "      <td>0.0</td>\n",
       "      <td>0.0</td>\n",
       "    </tr>\n",
       "    <tr>\n",
       "      <th>2</th>\n",
       "      <td>23</td>\n",
       "      <td>2.512527</td>\n",
       "      <td>179.1930</td>\n",
       "      <td>450.227208</td>\n",
       "      <td>179.66000</td>\n",
       "      <td>451.400558</td>\n",
       "      <td>1.173350</td>\n",
       "      <td>0.260613</td>\n",
       "      <td>1650.833095</td>\n",
       "      <td>0.46700</td>\n",
       "      <td>...</td>\n",
       "      <td>0.0</td>\n",
       "      <td>0.0</td>\n",
       "      <td>0.0</td>\n",
       "      <td>0.0</td>\n",
       "      <td>1.0</td>\n",
       "      <td>1.0</td>\n",
       "      <td>0.0</td>\n",
       "      <td>0.0</td>\n",
       "      <td>0.0</td>\n",
       "      <td>0.0</td>\n",
       "    </tr>\n",
       "    <tr>\n",
       "      <th>3</th>\n",
       "      <td>23</td>\n",
       "      <td>2.517840</td>\n",
       "      <td>179.1930</td>\n",
       "      <td>451.179225</td>\n",
       "      <td>179.66000</td>\n",
       "      <td>452.355056</td>\n",
       "      <td>1.175831</td>\n",
       "      <td>0.260613</td>\n",
       "      <td>2556.682277</td>\n",
       "      <td>0.46700</td>\n",
       "      <td>...</td>\n",
       "      <td>0.0</td>\n",
       "      <td>0.0</td>\n",
       "      <td>0.0</td>\n",
       "      <td>0.0</td>\n",
       "      <td>1.0</td>\n",
       "      <td>1.0</td>\n",
       "      <td>0.0</td>\n",
       "      <td>0.0</td>\n",
       "      <td>0.0</td>\n",
       "      <td>0.0</td>\n",
       "    </tr>\n",
       "    <tr>\n",
       "      <th>4</th>\n",
       "      <td>23</td>\n",
       "      <td>2.520005</td>\n",
       "      <td>179.1090</td>\n",
       "      <td>451.355600</td>\n",
       "      <td>179.66000</td>\n",
       "      <td>452.744123</td>\n",
       "      <td>1.388523</td>\n",
       "      <td>0.307634</td>\n",
       "      <td>2557.681733</td>\n",
       "      <td>0.55100</td>\n",
       "      <td>...</td>\n",
       "      <td>0.0</td>\n",
       "      <td>0.0</td>\n",
       "      <td>0.0</td>\n",
       "      <td>0.0</td>\n",
       "      <td>1.0</td>\n",
       "      <td>1.0</td>\n",
       "      <td>0.0</td>\n",
       "      <td>0.0</td>\n",
       "      <td>0.0</td>\n",
       "      <td>0.0</td>\n",
       "    </tr>\n",
       "  </tbody>\n",
       "</table>\n",
       "<p>5 rows × 36 columns</p>\n",
       "</div>"
      ],
      "text/plain": [
       "   hour_of_day      volume   buy_price  total_purchase_amount   sell_price  \\\n",
       "0           23    0.008658  69300.0000             600.000000  69474.95000   \n",
       "1           23  989.184242      0.9103             900.454416      0.91553   \n",
       "2           23    2.512527    179.1930             450.227208    179.66000   \n",
       "3           23    2.517840    179.1930             451.179225    179.66000   \n",
       "4           23    2.520005    179.1090             451.355600    179.66000   \n",
       "\n",
       "   total_sale_amount    profit  spread_percentage  wallet_balance  \\\n",
       "0         601.514719  1.514719           0.252453     2400.000000   \n",
       "1         905.627849  5.173434           0.574536     2101.060303   \n",
       "2         451.400558  1.173350           0.260613     1650.833095   \n",
       "3         452.355056  1.175831           0.260613     2556.682277   \n",
       "4         452.744123  1.388523           0.307634     2557.681733   \n",
       "\n",
       "   price_difference  ...  buy_exchange_Binanceus  buy_exchange_Bitstamp  \\\n",
       "0         174.95000  ...                     1.0                    0.0   \n",
       "1           0.00523  ...                     0.0                    0.0   \n",
       "2           0.46700  ...                     0.0                    0.0   \n",
       "3           0.46700  ...                     0.0                    0.0   \n",
       "4           0.55100  ...                     0.0                    0.0   \n",
       "\n",
       "   buy_exchange_Gemini  buy_exchange_Kraken  buy_exchange_Poloniex  \\\n",
       "0                  0.0                  0.0                    0.0   \n",
       "1                  0.0                  1.0                    0.0   \n",
       "2                  0.0                  0.0                    1.0   \n",
       "3                  0.0                  0.0                    1.0   \n",
       "4                  0.0                  0.0                    1.0   \n",
       "\n",
       "   sell_exchange_Binanceus  sell_exchange_Bitstamp  sell_exchange_Gemini  \\\n",
       "0                      0.0                     0.0                   1.0   \n",
       "1                      0.0                     0.0                   1.0   \n",
       "2                      1.0                     0.0                   0.0   \n",
       "3                      1.0                     0.0                   0.0   \n",
       "4                      1.0                     0.0                   0.0   \n",
       "\n",
       "   sell_exchange_Kraken  sell_exchange_Poloniex  \n",
       "0                   0.0                     0.0  \n",
       "1                   0.0                     0.0  \n",
       "2                   0.0                     0.0  \n",
       "3                   0.0                     0.0  \n",
       "4                   0.0                     0.0  \n",
       "\n",
       "[5 rows x 36 columns]"
      ]
     },
     "execution_count": 3,
     "metadata": {},
     "output_type": "execute_result"
    }
   ],
   "source": [
    "# Read the csv file into a Pandas DataFrame\n",
    "arbilogreg_df = pd.read_csv(\n",
    "    Path('../Resources/normalize_arbi_data.csv')\n",
    ")\n",
    "\n",
    "# Review the DataFrame\n",
    "arbilogreg_df.head() "
   ]
  },
  {
   "cell_type": "markdown",
   "id": "4083eecd-797f-4351-9bc5-865395eb333c",
   "metadata": {},
   "source": [
    "### Step 2: Create a Series named y that contains the data from the \"is_profitable\" column of the original DataFrame. Note that this Series will contain the labels. Create a new DataFrame named X that contains the remaining columns from the original DataFrame. Note that this DataFrame will contain the features."
   ]
  },
  {
   "cell_type": "code",
   "execution_count": 16,
   "id": "8ad0bec3-3fd5-4279-8cbb-3a190f9e235d",
   "metadata": {},
   "outputs": [],
   "source": [
    "# Split the data into X (features) and y (labels)\n",
    "\n",
    "# The y variable should focus on the is_profitable column\n",
    "y = arbilogreg_df['is_profitable']\n",
    "\n",
    "# The X variable should include all features except the is_profitable column\n",
    "X = arbilogreg_df.drop(columns=['is_profitable'])\n"
   ]
  },
  {
   "cell_type": "markdown",
   "id": "d3bc22ec-7e30-45b1-9bf8-2019df44290b",
   "metadata": {},
   "source": [
    "### Step 3: Split the features and labels into training and testing sets."
   ]
  },
  {
   "cell_type": "code",
   "execution_count": 17,
   "id": "d061b54c-65bc-421f-9102-9ca1d8ae9138",
   "metadata": {},
   "outputs": [],
   "source": [
    "# Split data\n",
    "X_train, X_test, y_train, y_test = train_test_split(X, y, random_state=1, stratify= y)"
   ]
  },
  {
   "cell_type": "markdown",
   "id": "3b7a2544-8f24-4138-82b9-3b0f0f6d2ce3",
   "metadata": {},
   "source": [
    "### Step 4: Check the magnitude of imbalance in the data set by viewing the number of distinct values (value_counts) for the labels."
   ]
  },
  {
   "cell_type": "code",
   "execution_count": 18,
   "id": "8e9e050b-4080-4e35-9710-f9d8fbba27f0",
   "metadata": {},
   "outputs": [
    {
     "data": {
      "text/plain": [
       "is_profitable\n",
       "0    13422\n",
       "1      313\n",
       "Name: count, dtype: int64"
      ]
     },
     "execution_count": 18,
     "metadata": {},
     "output_type": "execute_result"
    }
   ],
   "source": [
    "# Count the distinct values in the original labels data\n",
    "y_train.value_counts()"
   ]
  },
  {
   "cell_type": "markdown",
   "id": "db33bc99-22c7-47f6-8f78-1ff0479d40f0",
   "metadata": {},
   "source": [
    "### Step 5: Create a Logistic Regression Model"
   ]
  },
  {
   "cell_type": "code",
   "execution_count": 19,
   "id": "d12dbbdd-5bac-4a5c-902a-29bac20b721a",
   "metadata": {},
   "outputs": [
    {
     "data": {
      "text/html": [
       "<style>#sk-container-id-3 {color: black;background-color: white;}#sk-container-id-3 pre{padding: 0;}#sk-container-id-3 div.sk-toggleable {background-color: white;}#sk-container-id-3 label.sk-toggleable__label {cursor: pointer;display: block;width: 100%;margin-bottom: 0;padding: 0.3em;box-sizing: border-box;text-align: center;}#sk-container-id-3 label.sk-toggleable__label-arrow:before {content: \"▸\";float: left;margin-right: 0.25em;color: #696969;}#sk-container-id-3 label.sk-toggleable__label-arrow:hover:before {color: black;}#sk-container-id-3 div.sk-estimator:hover label.sk-toggleable__label-arrow:before {color: black;}#sk-container-id-3 div.sk-toggleable__content {max-height: 0;max-width: 0;overflow: hidden;text-align: left;background-color: #f0f8ff;}#sk-container-id-3 div.sk-toggleable__content pre {margin: 0.2em;color: black;border-radius: 0.25em;background-color: #f0f8ff;}#sk-container-id-3 input.sk-toggleable__control:checked~div.sk-toggleable__content {max-height: 200px;max-width: 100%;overflow: auto;}#sk-container-id-3 input.sk-toggleable__control:checked~label.sk-toggleable__label-arrow:before {content: \"▾\";}#sk-container-id-3 div.sk-estimator input.sk-toggleable__control:checked~label.sk-toggleable__label {background-color: #d4ebff;}#sk-container-id-3 div.sk-label input.sk-toggleable__control:checked~label.sk-toggleable__label {background-color: #d4ebff;}#sk-container-id-3 input.sk-hidden--visually {border: 0;clip: rect(1px 1px 1px 1px);clip: rect(1px, 1px, 1px, 1px);height: 1px;margin: -1px;overflow: hidden;padding: 0;position: absolute;width: 1px;}#sk-container-id-3 div.sk-estimator {font-family: monospace;background-color: #f0f8ff;border: 1px dotted black;border-radius: 0.25em;box-sizing: border-box;margin-bottom: 0.5em;}#sk-container-id-3 div.sk-estimator:hover {background-color: #d4ebff;}#sk-container-id-3 div.sk-parallel-item::after {content: \"\";width: 100%;border-bottom: 1px solid gray;flex-grow: 1;}#sk-container-id-3 div.sk-label:hover label.sk-toggleable__label {background-color: #d4ebff;}#sk-container-id-3 div.sk-serial::before {content: \"\";position: absolute;border-left: 1px solid gray;box-sizing: border-box;top: 0;bottom: 0;left: 50%;z-index: 0;}#sk-container-id-3 div.sk-serial {display: flex;flex-direction: column;align-items: center;background-color: white;padding-right: 0.2em;padding-left: 0.2em;position: relative;}#sk-container-id-3 div.sk-item {position: relative;z-index: 1;}#sk-container-id-3 div.sk-parallel {display: flex;align-items: stretch;justify-content: center;background-color: white;position: relative;}#sk-container-id-3 div.sk-item::before, #sk-container-id-3 div.sk-parallel-item::before {content: \"\";position: absolute;border-left: 1px solid gray;box-sizing: border-box;top: 0;bottom: 0;left: 50%;z-index: -1;}#sk-container-id-3 div.sk-parallel-item {display: flex;flex-direction: column;z-index: 1;position: relative;background-color: white;}#sk-container-id-3 div.sk-parallel-item:first-child::after {align-self: flex-end;width: 50%;}#sk-container-id-3 div.sk-parallel-item:last-child::after {align-self: flex-start;width: 50%;}#sk-container-id-3 div.sk-parallel-item:only-child::after {width: 0;}#sk-container-id-3 div.sk-dashed-wrapped {border: 1px dashed gray;margin: 0 0.4em 0.5em 0.4em;box-sizing: border-box;padding-bottom: 0.4em;background-color: white;}#sk-container-id-3 div.sk-label label {font-family: monospace;font-weight: bold;display: inline-block;line-height: 1.2em;}#sk-container-id-3 div.sk-label-container {text-align: center;}#sk-container-id-3 div.sk-container {/* jupyter's `normalize.less` sets `[hidden] { display: none; }` but bootstrap.min.css set `[hidden] { display: none !important; }` so we also need the `!important` here to be able to override the default hidden behavior on the sphinx rendered scikit-learn.org. See: https://github.com/scikit-learn/scikit-learn/issues/21755 */display: inline-block !important;position: relative;}#sk-container-id-3 div.sk-text-repr-fallback {display: none;}</style><div id=\"sk-container-id-3\" class=\"sk-top-container\"><div class=\"sk-text-repr-fallback\"><pre>LogisticRegression(random_state=1)</pre><b>In a Jupyter environment, please rerun this cell to show the HTML representation or trust the notebook. <br />On GitHub, the HTML representation is unable to render, please try loading this page with nbviewer.org.</b></div><div class=\"sk-container\" hidden><div class=\"sk-item\"><div class=\"sk-estimator sk-toggleable\"><input class=\"sk-toggleable__control sk-hidden--visually\" id=\"sk-estimator-id-3\" type=\"checkbox\" checked><label for=\"sk-estimator-id-3\" class=\"sk-toggleable__label sk-toggleable__label-arrow\">LogisticRegression</label><div class=\"sk-toggleable__content\"><pre>LogisticRegression(random_state=1)</pre></div></div></div></div></div>"
      ],
      "text/plain": [
       "LogisticRegression(random_state=1)"
      ]
     },
     "execution_count": 19,
     "metadata": {},
     "output_type": "execute_result"
    }
   ],
   "source": [
    "lrmodel = LogisticRegression(random_state=1)\n",
    "lrmodel"
   ]
  },
  {
   "cell_type": "markdown",
   "id": "b4fa1fb9-9cb0-40ac-9ed3-6f5fc9aa5a23",
   "metadata": {},
   "source": [
    "### Step 6 : Fit the Model"
   ]
  },
  {
   "cell_type": "code",
   "execution_count": 20,
   "id": "c4eb1362-a0bb-4b57-9dfc-e8487b8b7ca6",
   "metadata": {},
   "outputs": [
    {
     "name": "stderr",
     "output_type": "stream",
     "text": [
      "C:\\Users\\19548\\anaconda3\\Lib\\site-packages\\sklearn\\linear_model\\_logistic.py:458: ConvergenceWarning: lbfgs failed to converge (status=1):\n",
      "STOP: TOTAL NO. of ITERATIONS REACHED LIMIT.\n",
      "\n",
      "Increase the number of iterations (max_iter) or scale the data as shown in:\n",
      "    https://scikit-learn.org/stable/modules/preprocessing.html\n",
      "Please also refer to the documentation for alternative solver options:\n",
      "    https://scikit-learn.org/stable/modules/linear_model.html#logistic-regression\n",
      "  n_iter_i = _check_optimize_result(\n"
     ]
    },
    {
     "data": {
      "text/html": [
       "<style>#sk-container-id-4 {color: black;background-color: white;}#sk-container-id-4 pre{padding: 0;}#sk-container-id-4 div.sk-toggleable {background-color: white;}#sk-container-id-4 label.sk-toggleable__label {cursor: pointer;display: block;width: 100%;margin-bottom: 0;padding: 0.3em;box-sizing: border-box;text-align: center;}#sk-container-id-4 label.sk-toggleable__label-arrow:before {content: \"▸\";float: left;margin-right: 0.25em;color: #696969;}#sk-container-id-4 label.sk-toggleable__label-arrow:hover:before {color: black;}#sk-container-id-4 div.sk-estimator:hover label.sk-toggleable__label-arrow:before {color: black;}#sk-container-id-4 div.sk-toggleable__content {max-height: 0;max-width: 0;overflow: hidden;text-align: left;background-color: #f0f8ff;}#sk-container-id-4 div.sk-toggleable__content pre {margin: 0.2em;color: black;border-radius: 0.25em;background-color: #f0f8ff;}#sk-container-id-4 input.sk-toggleable__control:checked~div.sk-toggleable__content {max-height: 200px;max-width: 100%;overflow: auto;}#sk-container-id-4 input.sk-toggleable__control:checked~label.sk-toggleable__label-arrow:before {content: \"▾\";}#sk-container-id-4 div.sk-estimator input.sk-toggleable__control:checked~label.sk-toggleable__label {background-color: #d4ebff;}#sk-container-id-4 div.sk-label input.sk-toggleable__control:checked~label.sk-toggleable__label {background-color: #d4ebff;}#sk-container-id-4 input.sk-hidden--visually {border: 0;clip: rect(1px 1px 1px 1px);clip: rect(1px, 1px, 1px, 1px);height: 1px;margin: -1px;overflow: hidden;padding: 0;position: absolute;width: 1px;}#sk-container-id-4 div.sk-estimator {font-family: monospace;background-color: #f0f8ff;border: 1px dotted black;border-radius: 0.25em;box-sizing: border-box;margin-bottom: 0.5em;}#sk-container-id-4 div.sk-estimator:hover {background-color: #d4ebff;}#sk-container-id-4 div.sk-parallel-item::after {content: \"\";width: 100%;border-bottom: 1px solid gray;flex-grow: 1;}#sk-container-id-4 div.sk-label:hover label.sk-toggleable__label {background-color: #d4ebff;}#sk-container-id-4 div.sk-serial::before {content: \"\";position: absolute;border-left: 1px solid gray;box-sizing: border-box;top: 0;bottom: 0;left: 50%;z-index: 0;}#sk-container-id-4 div.sk-serial {display: flex;flex-direction: column;align-items: center;background-color: white;padding-right: 0.2em;padding-left: 0.2em;position: relative;}#sk-container-id-4 div.sk-item {position: relative;z-index: 1;}#sk-container-id-4 div.sk-parallel {display: flex;align-items: stretch;justify-content: center;background-color: white;position: relative;}#sk-container-id-4 div.sk-item::before, #sk-container-id-4 div.sk-parallel-item::before {content: \"\";position: absolute;border-left: 1px solid gray;box-sizing: border-box;top: 0;bottom: 0;left: 50%;z-index: -1;}#sk-container-id-4 div.sk-parallel-item {display: flex;flex-direction: column;z-index: 1;position: relative;background-color: white;}#sk-container-id-4 div.sk-parallel-item:first-child::after {align-self: flex-end;width: 50%;}#sk-container-id-4 div.sk-parallel-item:last-child::after {align-self: flex-start;width: 50%;}#sk-container-id-4 div.sk-parallel-item:only-child::after {width: 0;}#sk-container-id-4 div.sk-dashed-wrapped {border: 1px dashed gray;margin: 0 0.4em 0.5em 0.4em;box-sizing: border-box;padding-bottom: 0.4em;background-color: white;}#sk-container-id-4 div.sk-label label {font-family: monospace;font-weight: bold;display: inline-block;line-height: 1.2em;}#sk-container-id-4 div.sk-label-container {text-align: center;}#sk-container-id-4 div.sk-container {/* jupyter's `normalize.less` sets `[hidden] { display: none; }` but bootstrap.min.css set `[hidden] { display: none !important; }` so we also need the `!important` here to be able to override the default hidden behavior on the sphinx rendered scikit-learn.org. See: https://github.com/scikit-learn/scikit-learn/issues/21755 */display: inline-block !important;position: relative;}#sk-container-id-4 div.sk-text-repr-fallback {display: none;}</style><div id=\"sk-container-id-4\" class=\"sk-top-container\"><div class=\"sk-text-repr-fallback\"><pre>LogisticRegression(random_state=1)</pre><b>In a Jupyter environment, please rerun this cell to show the HTML representation or trust the notebook. <br />On GitHub, the HTML representation is unable to render, please try loading this page with nbviewer.org.</b></div><div class=\"sk-container\" hidden><div class=\"sk-item\"><div class=\"sk-estimator sk-toggleable\"><input class=\"sk-toggleable__control sk-hidden--visually\" id=\"sk-estimator-id-4\" type=\"checkbox\" checked><label for=\"sk-estimator-id-4\" class=\"sk-toggleable__label sk-toggleable__label-arrow\">LogisticRegression</label><div class=\"sk-toggleable__content\"><pre>LogisticRegression(random_state=1)</pre></div></div></div></div></div>"
      ],
      "text/plain": [
       "LogisticRegression(random_state=1)"
      ]
     },
     "execution_count": 20,
     "metadata": {},
     "output_type": "execute_result"
    }
   ],
   "source": [
    "lrmodel.fit(X_train, y_train)"
   ]
  },
  {
   "cell_type": "markdown",
   "id": "b36dee0a-5478-44ce-bcaf-585ca086fc50",
   "metadata": {},
   "source": [
    "### Step 7 : Make predictions"
   ]
  },
  {
   "cell_type": "code",
   "execution_count": 21,
   "id": "51990de6-a057-4e64-9c16-d10434db7cfa",
   "metadata": {},
   "outputs": [],
   "source": [
    "# Predict outcomes for test data set\n",
    "predictions = lrmodel.predict(X_test)"
   ]
  },
  {
   "cell_type": "markdown",
   "id": "5fb08888-9902-4c3a-8ac1-3f7b7d6e744d",
   "metadata": {},
   "source": [
    "### Step 8 : Calculate the Accuracy Score"
   ]
  },
  {
   "cell_type": "code",
   "execution_count": 22,
   "id": "c144352b-53be-4809-9efa-6e32874b6c93",
   "metadata": {},
   "outputs": [
    {
     "data": {
      "text/plain": [
       "0.9995632234112252"
      ]
     },
     "execution_count": 22,
     "metadata": {},
     "output_type": "execute_result"
    }
   ],
   "source": [
    "# Display the accuracy score for the test dataset.\n",
    "accuracy_score(y_test, predictions)"
   ]
  },
  {
   "cell_type": "markdown",
   "id": "bc43ccac-383f-4c7a-a8b1-aae5fda2f02f",
   "metadata": {},
   "source": [
    "### Step 9 : Generate a Confusion Matrix"
   ]
  },
  {
   "cell_type": "code",
   "execution_count": 23,
   "id": "9e557c33-2bea-4d3b-8ba7-8317c0ad9a72",
   "metadata": {},
   "outputs": [
    {
     "name": "stdout",
     "output_type": "stream",
     "text": [
      "[[4475    0]\n",
      " [   2  102]]\n"
     ]
    }
   ],
   "source": [
    "print(confusion_matrix(y_test,predictions))"
   ]
  },
  {
   "cell_type": "markdown",
   "id": "0b2f1b2f-f5c7-4152-bba0-039fb60fa83c",
   "metadata": {},
   "source": [
    "### Step 10 : Print the classification report"
   ]
  },
  {
   "cell_type": "code",
   "execution_count": 25,
   "id": "48e1f85a-0cc8-4e70-a266-5455cbd312eb",
   "metadata": {},
   "outputs": [
    {
     "name": "stdout",
     "output_type": "stream",
     "text": [
      "              precision    recall  f1-score   support\n",
      "\n",
      "           0     0.9996    1.0000    0.9998      4475\n",
      "           1     1.0000    0.9808    0.9903       104\n",
      "\n",
      "    accuracy                         0.9996      4579\n",
      "   macro avg     0.9998    0.9904    0.9950      4579\n",
      "weighted avg     0.9996    0.9996    0.9996      4579\n",
      "\n"
     ]
    }
   ],
   "source": [
    "print(classification_report(y_test, predictions,digits=4))"
   ]
  },
  {
   "cell_type": "markdown",
   "id": "e2695294-0386-4d74-adb3-5afbec173b33",
   "metadata": {},
   "source": [
    "# Evaluation"
   ]
  },
  {
   "cell_type": "code",
   "execution_count": null,
   "id": "7ffbc81a-2456-45ab-8576-314300904c75",
   "metadata": {},
   "outputs": [],
   "source": []
  }
 ],
 "metadata": {
  "kernelspec": {
   "display_name": "Python 3 (ipykernel)",
   "language": "python",
   "name": "python3"
  },
  "language_info": {
   "codemirror_mode": {
    "name": "ipython",
    "version": 3
   },
   "file_extension": ".py",
   "mimetype": "text/x-python",
   "name": "python",
   "nbconvert_exporter": "python",
   "pygments_lexer": "ipython3",
   "version": "3.11.5"
  }
 },
 "nbformat": 4,
 "nbformat_minor": 5
}
