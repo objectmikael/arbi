{
 "cells": [
  {
   "cell_type": "markdown",
   "metadata": {},
   "source": [
    "### Import necessary libraries, packages, and dependencies \n",
    "- Use os to access the operating system\n",
    "- Use pandas to create DataFrames and perform analysis \n",
    "- Use plotly to generate visuals\n",
    "- Use dotenv to access .env variables \n",
    "- Use sqlalchemy to connect to postgres"
   ]
  },
  {
   "cell_type": "code",
   "execution_count": 1,
   "metadata": {},
   "outputs": [],
   "source": [
    "import os\n",
    "import pandas as pd\n",
    "import plotly.express as px\n",
    "from dotenv import load_dotenv\n",
    "from sqlalchemy import create_engine"
   ]
  },
  {
   "cell_type": "markdown",
   "metadata": {},
   "source": [
    "### Connect to database and retrieve necessary data\n",
    "- Connect to the 'arbi_db' database \n",
    "- Retrieve all data from the 'luffy' table"
   ]
  },
  {
   "cell_type": "code",
   "execution_count": 2,
   "metadata": {},
   "outputs": [
    {
     "data": {
      "text/html": [
       "<div>\n",
       "<style scoped>\n",
       "    .dataframe tbody tr th:only-of-type {\n",
       "        vertical-align: middle;\n",
       "    }\n",
       "\n",
       "    .dataframe tbody tr th {\n",
       "        vertical-align: top;\n",
       "    }\n",
       "\n",
       "    .dataframe thead th {\n",
       "        text-align: right;\n",
       "    }\n",
       "</style>\n",
       "<table border=\"1\" class=\"dataframe\">\n",
       "  <thead>\n",
       "    <tr style=\"text-align: right;\">\n",
       "      <th></th>\n",
       "      <th>trade_count</th>\n",
       "      <th>current_datetime</th>\n",
       "      <th>currency</th>\n",
       "      <th>volume</th>\n",
       "      <th>buy_exchange</th>\n",
       "      <th>buy_price</th>\n",
       "      <th>total_purchase_amount</th>\n",
       "      <th>sell_exchange</th>\n",
       "      <th>sell_price</th>\n",
       "      <th>total_sale_amount</th>\n",
       "      <th>profit</th>\n",
       "      <th>spread_percentage</th>\n",
       "      <th>wallet_balance</th>\n",
       "    </tr>\n",
       "  </thead>\n",
       "  <tbody>\n",
       "    <tr>\n",
       "      <th>0</th>\n",
       "      <td>1</td>\n",
       "      <td>2024-02-29T11:23:48.241890</td>\n",
       "      <td>polygon</td>\n",
       "      <td>1905.658010</td>\n",
       "      <td>Binance</td>\n",
       "      <td>1.0344</td>\n",
       "      <td>1971.212646</td>\n",
       "      <td>Poloniex</td>\n",
       "      <td>1.04199</td>\n",
       "      <td>1985.676590</td>\n",
       "      <td>14.463944</td>\n",
       "      <td>0.733759</td>\n",
       "      <td>3670.787354</td>\n",
       "    </tr>\n",
       "    <tr>\n",
       "      <th>1</th>\n",
       "      <td>2</td>\n",
       "      <td>2024-02-29T11:23:48.241890</td>\n",
       "      <td>solana</td>\n",
       "      <td>2.179606</td>\n",
       "      <td>Poloniex</td>\n",
       "      <td>128.0000</td>\n",
       "      <td>278.989571</td>\n",
       "      <td>Binance</td>\n",
       "      <td>129.55000</td>\n",
       "      <td>282.367961</td>\n",
       "      <td>3.378389</td>\n",
       "      <td>1.210938</td>\n",
       "      <td>3391.797783</td>\n",
       "    </tr>\n",
       "    <tr>\n",
       "      <th>2</th>\n",
       "      <td>3</td>\n",
       "      <td>2024-02-29T11:24:24.937475</td>\n",
       "      <td>polygon</td>\n",
       "      <td>1913.520025</td>\n",
       "      <td>Binance</td>\n",
       "      <td>1.0338</td>\n",
       "      <td>1978.197002</td>\n",
       "      <td>Poloniex</td>\n",
       "      <td>1.04133</td>\n",
       "      <td>1992.605808</td>\n",
       "      <td>14.408806</td>\n",
       "      <td>0.728381</td>\n",
       "      <td>3681.645332</td>\n",
       "    </tr>\n",
       "    <tr>\n",
       "      <th>3</th>\n",
       "      <td>4</td>\n",
       "      <td>2024-02-29T11:24:24.937475</td>\n",
       "      <td>solana</td>\n",
       "      <td>2.189721</td>\n",
       "      <td>Poloniex</td>\n",
       "      <td>128.0000</td>\n",
       "      <td>280.284308</td>\n",
       "      <td>Binance</td>\n",
       "      <td>129.28000</td>\n",
       "      <td>283.087151</td>\n",
       "      <td>2.802843</td>\n",
       "      <td>1.000000</td>\n",
       "      <td>3401.361024</td>\n",
       "    </tr>\n",
       "    <tr>\n",
       "      <th>4</th>\n",
       "      <td>5</td>\n",
       "      <td>2024-02-29T11:25:01.079464</td>\n",
       "      <td>polygon</td>\n",
       "      <td>1919.672843</td>\n",
       "      <td>Binance</td>\n",
       "      <td>1.0335</td>\n",
       "      <td>1983.981883</td>\n",
       "      <td>Poloniex</td>\n",
       "      <td>1.04133</td>\n",
       "      <td>1999.012921</td>\n",
       "      <td>15.031038</td>\n",
       "      <td>0.757620</td>\n",
       "      <td>3693.072100</td>\n",
       "    </tr>\n",
       "  </tbody>\n",
       "</table>\n",
       "</div>"
      ],
      "text/plain": [
       "   trade_count            current_datetime currency       volume buy_exchange  \\\n",
       "0            1  2024-02-29T11:23:48.241890  polygon  1905.658010      Binance   \n",
       "1            2  2024-02-29T11:23:48.241890   solana     2.179606     Poloniex   \n",
       "2            3  2024-02-29T11:24:24.937475  polygon  1913.520025      Binance   \n",
       "3            4  2024-02-29T11:24:24.937475   solana     2.189721     Poloniex   \n",
       "4            5  2024-02-29T11:25:01.079464  polygon  1919.672843      Binance   \n",
       "\n",
       "   buy_price  total_purchase_amount sell_exchange  sell_price  \\\n",
       "0     1.0344            1971.212646      Poloniex     1.04199   \n",
       "1   128.0000             278.989571       Binance   129.55000   \n",
       "2     1.0338            1978.197002      Poloniex     1.04133   \n",
       "3   128.0000             280.284308       Binance   129.28000   \n",
       "4     1.0335            1983.981883      Poloniex     1.04133   \n",
       "\n",
       "   total_sale_amount     profit  spread_percentage  wallet_balance  \n",
       "0        1985.676590  14.463944           0.733759     3670.787354  \n",
       "1         282.367961   3.378389           1.210938     3391.797783  \n",
       "2        1992.605808  14.408806           0.728381     3681.645332  \n",
       "3         283.087151   2.802843           1.000000     3401.361024  \n",
       "4        1999.012921  15.031038           0.757620     3693.072100  "
      ]
     },
     "execution_count": 2,
     "metadata": {},
     "output_type": "execute_result"
    }
   ],
   "source": [
    "# Load environment variables from .env file\n",
    "load_dotenv()\n",
    "\n",
    "# Access the variables \n",
    "psql_username = os.getenv('PSQL_USERNAME')\n",
    "psql_password = os.getenv('PSQL_PASSWORD')\n",
    "psql_host = os.getenv('PSQL_HOST')\n",
    "psql_port = os.getenv('PSQL_PORT')\n",
    "db_name = os.getenv('DB_NAME')\n",
    "\n",
    "# Define the database url\n",
    "db_url = f\"postgresql://{psql_username}:{psql_password}@{psql_host}:{psql_port}/{db_name}\" \n",
    "\n",
    "# Create the engine object\n",
    "engine = create_engine(db_url)\n",
    "\n",
    "# Write ethe SQL query\n",
    "query = 'SELECT * FROM luffy'\n",
    "\n",
    "# Read the SQL query into a DataFrame\n",
    "luffy_df = pd.read_sql(query, engine)\n",
    "\n",
    "# Show the DataFrame's head\n",
    "luffy_df.head()\n"
   ]
  },
  {
   "cell_type": "markdown",
   "metadata": {},
   "source": [
    "### Data Analysis\n",
    "- Profit Distribution across Trades\n",
    "- Hourly Profit Trend\n",
    "- Spread Percentage Analysis \n",
    "- Exchange Performance \n",
    "- Time Series Analysis\n",
    "\n",
    "-Note: Limited data collection - Program ran every 30 seconds over a 4 hour window"
   ]
  },
  {
   "cell_type": "code",
   "execution_count": 3,
   "metadata": {},
   "outputs": [
    {
     "data": {
      "text/html": [
       "<div>\n",
       "<style scoped>\n",
       "    .dataframe tbody tr th:only-of-type {\n",
       "        vertical-align: middle;\n",
       "    }\n",
       "\n",
       "    .dataframe tbody tr th {\n",
       "        vertical-align: top;\n",
       "    }\n",
       "\n",
       "    .dataframe thead th {\n",
       "        text-align: right;\n",
       "    }\n",
       "</style>\n",
       "<table border=\"1\" class=\"dataframe\">\n",
       "  <thead>\n",
       "    <tr style=\"text-align: right;\">\n",
       "      <th></th>\n",
       "      <th>trade_count</th>\n",
       "      <th>currency</th>\n",
       "      <th>volume</th>\n",
       "      <th>buy_exchange</th>\n",
       "      <th>buy_price</th>\n",
       "      <th>total_purchase_amount</th>\n",
       "      <th>sell_exchange</th>\n",
       "      <th>sell_price</th>\n",
       "      <th>total_sale_amount</th>\n",
       "      <th>profit</th>\n",
       "      <th>spread_percentage</th>\n",
       "      <th>wallet_balance</th>\n",
       "    </tr>\n",
       "    <tr>\n",
       "      <th>current_datetime</th>\n",
       "      <th></th>\n",
       "      <th></th>\n",
       "      <th></th>\n",
       "      <th></th>\n",
       "      <th></th>\n",
       "      <th></th>\n",
       "      <th></th>\n",
       "      <th></th>\n",
       "      <th></th>\n",
       "      <th></th>\n",
       "      <th></th>\n",
       "      <th></th>\n",
       "    </tr>\n",
       "  </thead>\n",
       "  <tbody>\n",
       "    <tr>\n",
       "      <th>11:23:48.241890</th>\n",
       "      <td>1</td>\n",
       "      <td>polygon</td>\n",
       "      <td>1905.658010</td>\n",
       "      <td>Binance</td>\n",
       "      <td>1.0344</td>\n",
       "      <td>1971.212646</td>\n",
       "      <td>Poloniex</td>\n",
       "      <td>1.04199</td>\n",
       "      <td>1985.676590</td>\n",
       "      <td>14.463944</td>\n",
       "      <td>0.733759</td>\n",
       "      <td>3670.787354</td>\n",
       "    </tr>\n",
       "    <tr>\n",
       "      <th>11:23:48.241890</th>\n",
       "      <td>2</td>\n",
       "      <td>solana</td>\n",
       "      <td>2.179606</td>\n",
       "      <td>Poloniex</td>\n",
       "      <td>128.0000</td>\n",
       "      <td>278.989571</td>\n",
       "      <td>Binance</td>\n",
       "      <td>129.55000</td>\n",
       "      <td>282.367961</td>\n",
       "      <td>3.378389</td>\n",
       "      <td>1.210938</td>\n",
       "      <td>3391.797783</td>\n",
       "    </tr>\n",
       "    <tr>\n",
       "      <th>11:24:24.937475</th>\n",
       "      <td>3</td>\n",
       "      <td>polygon</td>\n",
       "      <td>1913.520025</td>\n",
       "      <td>Binance</td>\n",
       "      <td>1.0338</td>\n",
       "      <td>1978.197002</td>\n",
       "      <td>Poloniex</td>\n",
       "      <td>1.04133</td>\n",
       "      <td>1992.605808</td>\n",
       "      <td>14.408806</td>\n",
       "      <td>0.728381</td>\n",
       "      <td>3681.645332</td>\n",
       "    </tr>\n",
       "    <tr>\n",
       "      <th>11:24:24.937475</th>\n",
       "      <td>4</td>\n",
       "      <td>solana</td>\n",
       "      <td>2.189721</td>\n",
       "      <td>Poloniex</td>\n",
       "      <td>128.0000</td>\n",
       "      <td>280.284308</td>\n",
       "      <td>Binance</td>\n",
       "      <td>129.28000</td>\n",
       "      <td>283.087151</td>\n",
       "      <td>2.802843</td>\n",
       "      <td>1.000000</td>\n",
       "      <td>3401.361024</td>\n",
       "    </tr>\n",
       "    <tr>\n",
       "      <th>11:25:01.079464</th>\n",
       "      <td>5</td>\n",
       "      <td>polygon</td>\n",
       "      <td>1919.672843</td>\n",
       "      <td>Binance</td>\n",
       "      <td>1.0335</td>\n",
       "      <td>1983.981883</td>\n",
       "      <td>Poloniex</td>\n",
       "      <td>1.04133</td>\n",
       "      <td>1999.012921</td>\n",
       "      <td>15.031038</td>\n",
       "      <td>0.757620</td>\n",
       "      <td>3693.072100</td>\n",
       "    </tr>\n",
       "    <tr>\n",
       "      <th>...</th>\n",
       "      <td>...</td>\n",
       "      <td>...</td>\n",
       "      <td>...</td>\n",
       "      <td>...</td>\n",
       "      <td>...</td>\n",
       "      <td>...</td>\n",
       "      <td>...</td>\n",
       "      <td>...</td>\n",
       "      <td>...</td>\n",
       "      <td>...</td>\n",
       "      <td>...</td>\n",
       "      <td>...</td>\n",
       "    </tr>\n",
       "    <tr>\n",
       "      <th>14:17:13.701531</th>\n",
       "      <td>227</td>\n",
       "      <td>solana</td>\n",
       "      <td>2.564348</td>\n",
       "      <td>Poloniex</td>\n",
       "      <td>127.6230</td>\n",
       "      <td>327.269837</td>\n",
       "      <td>Bitstamp</td>\n",
       "      <td>128.00910</td>\n",
       "      <td>328.259932</td>\n",
       "      <td>0.990095</td>\n",
       "      <td>0.302532</td>\n",
       "      <td>6236.756382</td>\n",
       "    </tr>\n",
       "    <tr>\n",
       "      <th>14:17:49.948021</th>\n",
       "      <td>228</td>\n",
       "      <td>solana</td>\n",
       "      <td>2.563382</td>\n",
       "      <td>Poloniex</td>\n",
       "      <td>127.6910</td>\n",
       "      <td>327.320821</td>\n",
       "      <td>Bitstamp</td>\n",
       "      <td>128.07180</td>\n",
       "      <td>328.296957</td>\n",
       "      <td>0.976136</td>\n",
       "      <td>0.298220</td>\n",
       "      <td>6237.695493</td>\n",
       "    </tr>\n",
       "    <tr>\n",
       "      <th>14:18:27.109599</th>\n",
       "      <td>229</td>\n",
       "      <td>solana</td>\n",
       "      <td>2.566375</td>\n",
       "      <td>Poloniex</td>\n",
       "      <td>127.5730</td>\n",
       "      <td>327.400159</td>\n",
       "      <td>Bitstamp</td>\n",
       "      <td>127.92940</td>\n",
       "      <td>328.314815</td>\n",
       "      <td>0.914656</td>\n",
       "      <td>0.279369</td>\n",
       "      <td>6238.592290</td>\n",
       "    </tr>\n",
       "    <tr>\n",
       "      <th>14:19:02.765397</th>\n",
       "      <td>230</td>\n",
       "      <td>solana</td>\n",
       "      <td>2.562659</td>\n",
       "      <td>Poloniex</td>\n",
       "      <td>127.8240</td>\n",
       "      <td>327.569382</td>\n",
       "      <td>Bitstamp</td>\n",
       "      <td>128.14540</td>\n",
       "      <td>328.393021</td>\n",
       "      <td>0.823639</td>\n",
       "      <td>0.251439</td>\n",
       "      <td>6239.337724</td>\n",
       "    </tr>\n",
       "    <tr>\n",
       "      <th>14:22:06.760319</th>\n",
       "      <td>231</td>\n",
       "      <td>solana</td>\n",
       "      <td>2.559485</td>\n",
       "      <td>Poloniex</td>\n",
       "      <td>127.9520</td>\n",
       "      <td>327.491229</td>\n",
       "      <td>Binance</td>\n",
       "      <td>128.40000</td>\n",
       "      <td>328.637879</td>\n",
       "      <td>1.146649</td>\n",
       "      <td>0.350131</td>\n",
       "      <td>6240.239515</td>\n",
       "    </tr>\n",
       "  </tbody>\n",
       "</table>\n",
       "<p>231 rows × 12 columns</p>\n",
       "</div>"
      ],
      "text/plain": [
       "                  trade_count currency       volume buy_exchange  buy_price  \\\n",
       "current_datetime                                                              \n",
       "11:23:48.241890             1  polygon  1905.658010      Binance     1.0344   \n",
       "11:23:48.241890             2   solana     2.179606     Poloniex   128.0000   \n",
       "11:24:24.937475             3  polygon  1913.520025      Binance     1.0338   \n",
       "11:24:24.937475             4   solana     2.189721     Poloniex   128.0000   \n",
       "11:25:01.079464             5  polygon  1919.672843      Binance     1.0335   \n",
       "...                       ...      ...          ...          ...        ...   \n",
       "14:17:13.701531           227   solana     2.564348     Poloniex   127.6230   \n",
       "14:17:49.948021           228   solana     2.563382     Poloniex   127.6910   \n",
       "14:18:27.109599           229   solana     2.566375     Poloniex   127.5730   \n",
       "14:19:02.765397           230   solana     2.562659     Poloniex   127.8240   \n",
       "14:22:06.760319           231   solana     2.559485     Poloniex   127.9520   \n",
       "\n",
       "                  total_purchase_amount sell_exchange  sell_price  \\\n",
       "current_datetime                                                    \n",
       "11:23:48.241890             1971.212646      Poloniex     1.04199   \n",
       "11:23:48.241890              278.989571       Binance   129.55000   \n",
       "11:24:24.937475             1978.197002      Poloniex     1.04133   \n",
       "11:24:24.937475              280.284308       Binance   129.28000   \n",
       "11:25:01.079464             1983.981883      Poloniex     1.04133   \n",
       "...                                 ...           ...         ...   \n",
       "14:17:13.701531              327.269837      Bitstamp   128.00910   \n",
       "14:17:49.948021              327.320821      Bitstamp   128.07180   \n",
       "14:18:27.109599              327.400159      Bitstamp   127.92940   \n",
       "14:19:02.765397              327.569382      Bitstamp   128.14540   \n",
       "14:22:06.760319              327.491229       Binance   128.40000   \n",
       "\n",
       "                  total_sale_amount     profit  spread_percentage  \\\n",
       "current_datetime                                                    \n",
       "11:23:48.241890         1985.676590  14.463944           0.733759   \n",
       "11:23:48.241890          282.367961   3.378389           1.210938   \n",
       "11:24:24.937475         1992.605808  14.408806           0.728381   \n",
       "11:24:24.937475          283.087151   2.802843           1.000000   \n",
       "11:25:01.079464         1999.012921  15.031038           0.757620   \n",
       "...                             ...        ...                ...   \n",
       "14:17:13.701531          328.259932   0.990095           0.302532   \n",
       "14:17:49.948021          328.296957   0.976136           0.298220   \n",
       "14:18:27.109599          328.314815   0.914656           0.279369   \n",
       "14:19:02.765397          328.393021   0.823639           0.251439   \n",
       "14:22:06.760319          328.637879   1.146649           0.350131   \n",
       "\n",
       "                  wallet_balance  \n",
       "current_datetime                  \n",
       "11:23:48.241890      3670.787354  \n",
       "11:23:48.241890      3391.797783  \n",
       "11:24:24.937475      3681.645332  \n",
       "11:24:24.937475      3401.361024  \n",
       "11:25:01.079464      3693.072100  \n",
       "...                          ...  \n",
       "14:17:13.701531      6236.756382  \n",
       "14:17:49.948021      6237.695493  \n",
       "14:18:27.109599      6238.592290  \n",
       "14:19:02.765397      6239.337724  \n",
       "14:22:06.760319      6240.239515  \n",
       "\n",
       "[231 rows x 12 columns]"
      ]
     },
     "execution_count": 3,
     "metadata": {},
     "output_type": "execute_result"
    }
   ],
   "source": [
    "# Convert the current_datetime column to only show the date\n",
    "luffy_df['current_datetime'] = pd.to_datetime(luffy_df['current_datetime'])\n",
    "luffy_df['current_datetime'] = luffy_df['current_datetime'].apply(lambda x: x.time())\n",
    "\n",
    "# Set the index to the current_datetime column\n",
    "luffy_df.set_index('current_datetime', inplace=True)\n",
    "\n",
    "luffy_df"
   ]
  },
  {
   "cell_type": "markdown",
   "metadata": {},
   "source": [
    "##### Profit Distribution across Trades\n",
    "- Calculate and visualize the distribution of profits across all trades. This provides insights into the consistency and variability of returns. "
   ]
  },
  {
   "cell_type": "code",
   "execution_count": 4,
   "metadata": {},
   "outputs": [
    {
     "data": {
      "application/vnd.plotly.v1+json": {
       "config": {
        "plotlyServerURL": "https://plot.ly"
       },
       "data": [
        {
         "alignmentgroup": "True",
         "bingroup": "x",
         "hovertemplate": "Profit(USD)=%{x}<br>count=%{y}<extra></extra>",
         "legendgroup": "",
         "marker": {
          "color": "#636efa",
          "pattern": {
           "shape": ""
          }
         },
         "name": "",
         "nbinsx": 20,
         "offsetgroup": "",
         "orientation": "v",
         "showlegend": false,
         "type": "histogram",
         "x": [
          14.463944298080605,
          3.3783893414561135,
          14.408805789507824,
          2.8028430750493953,
          15.031038358361911,
          2.659911102934302,
          13.247149524589076,
          2.3848694364601783,
          13.544270244368363,
          2.1073594950980805,
          14.751867405459507,
          2.068598964795001,
          11.07824094732996,
          2.0728110071512447,
          14.823676373563103,
          1.7015715152821826,
          18.030182612048065,
          1.2397348649524815,
          11.10332067425361,
          0.8323186803749536,
          9.892275273879477,
          0.949058888680554,
          1.8911083171536234,
          1.7353422457216539,
          1.9126654502459814,
          3.2648841915373623,
          3.087526589551487,
          3.332782855050425,
          3.4686962216322854,
          3.3155270664247496,
          3.2712167743651435,
          3.8115805294496,
          3.769540497214109,
          3.5907512109185404,
          2.9883658669651822,
          2.810957108750756,
          1.9966474639742842,
          5.563931462737855,
          2.719115399127304,
          10.923794606128467,
          2.2515158553972014,
          16.04211622753064,
          0.8127546681851641,
          19.101201866250904,
          15.893043059470983,
          0.8277313247112374,
          8.701081351880475,
          1.042060740495856,
          7.9497750909545175,
          1.2532182768788402,
          15.361617729544832,
          1.5316632559618597,
          9.783127475176116,
          1.6014714991619599,
          2.541918687554926,
          6.717956032864095,
          1.6606354703719717,
          2.6884629052962055,
          7.553825685181437,
          1.1494584394986873,
          3.178443437526539,
          5.71709175352953,
          2.1063193238815643,
          2.049109631548504,
          2.865867363747725,
          2.91337906964543,
          2.6836893795444894,
          3.0558922140869527,
          2.8458766883050544,
          2.6167788160795453,
          2.7350060145693647,
          3.223237854743104,
          3.5026051851511966,
          3.455753131646418,
          4.246204188790273,
          4.1320788699052855,
          2.4327458799244823,
          4.298091317862202,
          4.418039332877129,
          4.490999453395659,
          4.796931370320863,
          4.635302198681359,
          5.032334611581973,
          5.363368363155644,
          5.383527528011371,
          5.693456986765625,
          5.460046659047805,
          6.086498383437686,
          6.811069287487044,
          7.57105504239297,
          8.687659940438323,
          8.719729083794846,
          8.507926049441835,
          8.442848971456442,
          8.393087381060866,
          7.822371267051494,
          7.651046746811346,
          7.173579631512894,
          4.574858224466482,
          6.736430723290141,
          4.1375053110923545,
          5.483956010401016,
          3.1965736467216175,
          2.9408242732333747,
          3.031827535974969,
          6.3607445625107175,
          2.8972838087580612,
          7.203260508434141,
          2.5061298493505433,
          7.640306186489852,
          2.2243261710481192,
          8.72418239320723,
          2.558359081828712,
          10.874666156341846,
          2.4844402895017197,
          8.75503305014081,
          2.157461688855335,
          8.342067247818704,
          6.448726883580093,
          1.0329434251869998,
          6.994296640934863,
          1.1969595211384103,
          0.9381831152761606,
          7.757117306068267,
          1.270569813519728,
          0.802319975124135,
          0.9481953130480747,
          1.3596514017835375,
          0.9508920984698648,
          1.282328709660817,
          1.1010739807145455,
          0.9604589942916277,
          0.8230119235889788,
          5.9642006355884405,
          1.2362969650648665,
          8.880618313147806,
          6.938733817169577,
          1.111320518603975,
          0.8180995474374981,
          6.66660823690836,
          1.6516549615007534,
          6.7867860964893225,
          1.416172744931714,
          7.890208130923838,
          1.3250324403562672,
          9.652896149334083,
          0.9149337008838643,
          8.950434200623931,
          8.82747755685432,
          0.8262243892050947,
          1.1796732163335832,
          1.3501124092641703,
          0.8583665966646663,
          0.813508673129661,
          0.8513959834053253,
          0.8530543530959562,
          7.383884444525847,
          7.126186500726362,
          12.183276227336137,
          7.284151258741986,
          10.137463607458812,
          1.2817255616962484,
          0.824777768266415,
          1.0483732970503752,
          1.2692777727830276,
          2.256876547120214,
          2.655977333079818,
          1.128258970818365,
          1.9748741032748853,
          1.8482586615905916,
          1.8482066044800831,
          1.6275886934034816,
          1.1484259398275185,
          0.9321579065403967,
          2.0349839832832686,
          0.8312072656431155,
          1.2210919276024583,
          0.9511377699313357,
          1.4457507352063885,
          0.928771935837517,
          1.2789850622764902,
          1.2094743109944943,
          1.2072798156762587,
          1.485733034620182,
          1.5872329073652622,
          1.4158452789851594,
          1.2328606209598547,
          0.9453582413302684,
          0.8501569917559095,
          1.061772416074632,
          0.869321470562852,
          1.070189460771303,
          1.053172131789438,
          1.0487658689789328,
          0.8682546272001446,
          0.8332416294069844,
          1.407329874720972,
          1.8111925547365217,
          0.8293810809954039,
          0.8306320564642533,
          0.9318019989827917,
          1.107288897452122,
          0.9698626104655546,
          0.9812260175638698,
          0.8249251011607726,
          0.9303975783216742,
          1.063534082088836,
          1.1416850727724182,
          5.880190144976041,
          1.3787943216726148,
          4.930242191935577,
          4.9110910364790925,
          0.8591718508625945,
          4.939190477726015,
          1.0189871013681113,
          5.494824076511804,
          0.8266380236350415,
          5.492346594192668,
          0.9769048028326779,
          0.997360487085075,
          0.8421675414048764,
          5.111505077873062,
          1.1123905734108916,
          0.878769437059475,
          1.0739657977291017,
          0.9309624169305835,
          0.990094920782326,
          0.9761358945485767,
          0.9146560541680628,
          0.8236387483976273,
          1.1466492962302937
         ],
         "xaxis": "x",
         "yaxis": "y"
        }
       ],
       "layout": {
        "barmode": "relative",
        "legend": {
         "tracegroupgap": 0
        },
        "template": {
         "data": {
          "bar": [
           {
            "error_x": {
             "color": "#2a3f5f"
            },
            "error_y": {
             "color": "#2a3f5f"
            },
            "marker": {
             "line": {
              "color": "#E5ECF6",
              "width": 0.5
             },
             "pattern": {
              "fillmode": "overlay",
              "size": 10,
              "solidity": 0.2
             }
            },
            "type": "bar"
           }
          ],
          "barpolar": [
           {
            "marker": {
             "line": {
              "color": "#E5ECF6",
              "width": 0.5
             },
             "pattern": {
              "fillmode": "overlay",
              "size": 10,
              "solidity": 0.2
             }
            },
            "type": "barpolar"
           }
          ],
          "carpet": [
           {
            "aaxis": {
             "endlinecolor": "#2a3f5f",
             "gridcolor": "white",
             "linecolor": "white",
             "minorgridcolor": "white",
             "startlinecolor": "#2a3f5f"
            },
            "baxis": {
             "endlinecolor": "#2a3f5f",
             "gridcolor": "white",
             "linecolor": "white",
             "minorgridcolor": "white",
             "startlinecolor": "#2a3f5f"
            },
            "type": "carpet"
           }
          ],
          "choropleth": [
           {
            "colorbar": {
             "outlinewidth": 0,
             "ticks": ""
            },
            "type": "choropleth"
           }
          ],
          "contour": [
           {
            "colorbar": {
             "outlinewidth": 0,
             "ticks": ""
            },
            "colorscale": [
             [
              0,
              "#0d0887"
             ],
             [
              0.1111111111111111,
              "#46039f"
             ],
             [
              0.2222222222222222,
              "#7201a8"
             ],
             [
              0.3333333333333333,
              "#9c179e"
             ],
             [
              0.4444444444444444,
              "#bd3786"
             ],
             [
              0.5555555555555556,
              "#d8576b"
             ],
             [
              0.6666666666666666,
              "#ed7953"
             ],
             [
              0.7777777777777778,
              "#fb9f3a"
             ],
             [
              0.8888888888888888,
              "#fdca26"
             ],
             [
              1,
              "#f0f921"
             ]
            ],
            "type": "contour"
           }
          ],
          "contourcarpet": [
           {
            "colorbar": {
             "outlinewidth": 0,
             "ticks": ""
            },
            "type": "contourcarpet"
           }
          ],
          "heatmap": [
           {
            "colorbar": {
             "outlinewidth": 0,
             "ticks": ""
            },
            "colorscale": [
             [
              0,
              "#0d0887"
             ],
             [
              0.1111111111111111,
              "#46039f"
             ],
             [
              0.2222222222222222,
              "#7201a8"
             ],
             [
              0.3333333333333333,
              "#9c179e"
             ],
             [
              0.4444444444444444,
              "#bd3786"
             ],
             [
              0.5555555555555556,
              "#d8576b"
             ],
             [
              0.6666666666666666,
              "#ed7953"
             ],
             [
              0.7777777777777778,
              "#fb9f3a"
             ],
             [
              0.8888888888888888,
              "#fdca26"
             ],
             [
              1,
              "#f0f921"
             ]
            ],
            "type": "heatmap"
           }
          ],
          "heatmapgl": [
           {
            "colorbar": {
             "outlinewidth": 0,
             "ticks": ""
            },
            "colorscale": [
             [
              0,
              "#0d0887"
             ],
             [
              0.1111111111111111,
              "#46039f"
             ],
             [
              0.2222222222222222,
              "#7201a8"
             ],
             [
              0.3333333333333333,
              "#9c179e"
             ],
             [
              0.4444444444444444,
              "#bd3786"
             ],
             [
              0.5555555555555556,
              "#d8576b"
             ],
             [
              0.6666666666666666,
              "#ed7953"
             ],
             [
              0.7777777777777778,
              "#fb9f3a"
             ],
             [
              0.8888888888888888,
              "#fdca26"
             ],
             [
              1,
              "#f0f921"
             ]
            ],
            "type": "heatmapgl"
           }
          ],
          "histogram": [
           {
            "marker": {
             "pattern": {
              "fillmode": "overlay",
              "size": 10,
              "solidity": 0.2
             }
            },
            "type": "histogram"
           }
          ],
          "histogram2d": [
           {
            "colorbar": {
             "outlinewidth": 0,
             "ticks": ""
            },
            "colorscale": [
             [
              0,
              "#0d0887"
             ],
             [
              0.1111111111111111,
              "#46039f"
             ],
             [
              0.2222222222222222,
              "#7201a8"
             ],
             [
              0.3333333333333333,
              "#9c179e"
             ],
             [
              0.4444444444444444,
              "#bd3786"
             ],
             [
              0.5555555555555556,
              "#d8576b"
             ],
             [
              0.6666666666666666,
              "#ed7953"
             ],
             [
              0.7777777777777778,
              "#fb9f3a"
             ],
             [
              0.8888888888888888,
              "#fdca26"
             ],
             [
              1,
              "#f0f921"
             ]
            ],
            "type": "histogram2d"
           }
          ],
          "histogram2dcontour": [
           {
            "colorbar": {
             "outlinewidth": 0,
             "ticks": ""
            },
            "colorscale": [
             [
              0,
              "#0d0887"
             ],
             [
              0.1111111111111111,
              "#46039f"
             ],
             [
              0.2222222222222222,
              "#7201a8"
             ],
             [
              0.3333333333333333,
              "#9c179e"
             ],
             [
              0.4444444444444444,
              "#bd3786"
             ],
             [
              0.5555555555555556,
              "#d8576b"
             ],
             [
              0.6666666666666666,
              "#ed7953"
             ],
             [
              0.7777777777777778,
              "#fb9f3a"
             ],
             [
              0.8888888888888888,
              "#fdca26"
             ],
             [
              1,
              "#f0f921"
             ]
            ],
            "type": "histogram2dcontour"
           }
          ],
          "mesh3d": [
           {
            "colorbar": {
             "outlinewidth": 0,
             "ticks": ""
            },
            "type": "mesh3d"
           }
          ],
          "parcoords": [
           {
            "line": {
             "colorbar": {
              "outlinewidth": 0,
              "ticks": ""
             }
            },
            "type": "parcoords"
           }
          ],
          "pie": [
           {
            "automargin": true,
            "type": "pie"
           }
          ],
          "scatter": [
           {
            "fillpattern": {
             "fillmode": "overlay",
             "size": 10,
             "solidity": 0.2
            },
            "type": "scatter"
           }
          ],
          "scatter3d": [
           {
            "line": {
             "colorbar": {
              "outlinewidth": 0,
              "ticks": ""
             }
            },
            "marker": {
             "colorbar": {
              "outlinewidth": 0,
              "ticks": ""
             }
            },
            "type": "scatter3d"
           }
          ],
          "scattercarpet": [
           {
            "marker": {
             "colorbar": {
              "outlinewidth": 0,
              "ticks": ""
             }
            },
            "type": "scattercarpet"
           }
          ],
          "scattergeo": [
           {
            "marker": {
             "colorbar": {
              "outlinewidth": 0,
              "ticks": ""
             }
            },
            "type": "scattergeo"
           }
          ],
          "scattergl": [
           {
            "marker": {
             "colorbar": {
              "outlinewidth": 0,
              "ticks": ""
             }
            },
            "type": "scattergl"
           }
          ],
          "scattermapbox": [
           {
            "marker": {
             "colorbar": {
              "outlinewidth": 0,
              "ticks": ""
             }
            },
            "type": "scattermapbox"
           }
          ],
          "scatterpolar": [
           {
            "marker": {
             "colorbar": {
              "outlinewidth": 0,
              "ticks": ""
             }
            },
            "type": "scatterpolar"
           }
          ],
          "scatterpolargl": [
           {
            "marker": {
             "colorbar": {
              "outlinewidth": 0,
              "ticks": ""
             }
            },
            "type": "scatterpolargl"
           }
          ],
          "scatterternary": [
           {
            "marker": {
             "colorbar": {
              "outlinewidth": 0,
              "ticks": ""
             }
            },
            "type": "scatterternary"
           }
          ],
          "surface": [
           {
            "colorbar": {
             "outlinewidth": 0,
             "ticks": ""
            },
            "colorscale": [
             [
              0,
              "#0d0887"
             ],
             [
              0.1111111111111111,
              "#46039f"
             ],
             [
              0.2222222222222222,
              "#7201a8"
             ],
             [
              0.3333333333333333,
              "#9c179e"
             ],
             [
              0.4444444444444444,
              "#bd3786"
             ],
             [
              0.5555555555555556,
              "#d8576b"
             ],
             [
              0.6666666666666666,
              "#ed7953"
             ],
             [
              0.7777777777777778,
              "#fb9f3a"
             ],
             [
              0.8888888888888888,
              "#fdca26"
             ],
             [
              1,
              "#f0f921"
             ]
            ],
            "type": "surface"
           }
          ],
          "table": [
           {
            "cells": {
             "fill": {
              "color": "#EBF0F8"
             },
             "line": {
              "color": "white"
             }
            },
            "header": {
             "fill": {
              "color": "#C8D4E3"
             },
             "line": {
              "color": "white"
             }
            },
            "type": "table"
           }
          ]
         },
         "layout": {
          "annotationdefaults": {
           "arrowcolor": "#2a3f5f",
           "arrowhead": 0,
           "arrowwidth": 1
          },
          "autotypenumbers": "strict",
          "coloraxis": {
           "colorbar": {
            "outlinewidth": 0,
            "ticks": ""
           }
          },
          "colorscale": {
           "diverging": [
            [
             0,
             "#8e0152"
            ],
            [
             0.1,
             "#c51b7d"
            ],
            [
             0.2,
             "#de77ae"
            ],
            [
             0.3,
             "#f1b6da"
            ],
            [
             0.4,
             "#fde0ef"
            ],
            [
             0.5,
             "#f7f7f7"
            ],
            [
             0.6,
             "#e6f5d0"
            ],
            [
             0.7,
             "#b8e186"
            ],
            [
             0.8,
             "#7fbc41"
            ],
            [
             0.9,
             "#4d9221"
            ],
            [
             1,
             "#276419"
            ]
           ],
           "sequential": [
            [
             0,
             "#0d0887"
            ],
            [
             0.1111111111111111,
             "#46039f"
            ],
            [
             0.2222222222222222,
             "#7201a8"
            ],
            [
             0.3333333333333333,
             "#9c179e"
            ],
            [
             0.4444444444444444,
             "#bd3786"
            ],
            [
             0.5555555555555556,
             "#d8576b"
            ],
            [
             0.6666666666666666,
             "#ed7953"
            ],
            [
             0.7777777777777778,
             "#fb9f3a"
            ],
            [
             0.8888888888888888,
             "#fdca26"
            ],
            [
             1,
             "#f0f921"
            ]
           ],
           "sequentialminus": [
            [
             0,
             "#0d0887"
            ],
            [
             0.1111111111111111,
             "#46039f"
            ],
            [
             0.2222222222222222,
             "#7201a8"
            ],
            [
             0.3333333333333333,
             "#9c179e"
            ],
            [
             0.4444444444444444,
             "#bd3786"
            ],
            [
             0.5555555555555556,
             "#d8576b"
            ],
            [
             0.6666666666666666,
             "#ed7953"
            ],
            [
             0.7777777777777778,
             "#fb9f3a"
            ],
            [
             0.8888888888888888,
             "#fdca26"
            ],
            [
             1,
             "#f0f921"
            ]
           ]
          },
          "colorway": [
           "#636efa",
           "#EF553B",
           "#00cc96",
           "#ab63fa",
           "#FFA15A",
           "#19d3f3",
           "#FF6692",
           "#B6E880",
           "#FF97FF",
           "#FECB52"
          ],
          "font": {
           "color": "#2a3f5f"
          },
          "geo": {
           "bgcolor": "white",
           "lakecolor": "white",
           "landcolor": "#E5ECF6",
           "showlakes": true,
           "showland": true,
           "subunitcolor": "white"
          },
          "hoverlabel": {
           "align": "left"
          },
          "hovermode": "closest",
          "mapbox": {
           "style": "light"
          },
          "paper_bgcolor": "white",
          "plot_bgcolor": "#E5ECF6",
          "polar": {
           "angularaxis": {
            "gridcolor": "white",
            "linecolor": "white",
            "ticks": ""
           },
           "bgcolor": "#E5ECF6",
           "radialaxis": {
            "gridcolor": "white",
            "linecolor": "white",
            "ticks": ""
           }
          },
          "scene": {
           "xaxis": {
            "backgroundcolor": "#E5ECF6",
            "gridcolor": "white",
            "gridwidth": 2,
            "linecolor": "white",
            "showbackground": true,
            "ticks": "",
            "zerolinecolor": "white"
           },
           "yaxis": {
            "backgroundcolor": "#E5ECF6",
            "gridcolor": "white",
            "gridwidth": 2,
            "linecolor": "white",
            "showbackground": true,
            "ticks": "",
            "zerolinecolor": "white"
           },
           "zaxis": {
            "backgroundcolor": "#E5ECF6",
            "gridcolor": "white",
            "gridwidth": 2,
            "linecolor": "white",
            "showbackground": true,
            "ticks": "",
            "zerolinecolor": "white"
           }
          },
          "shapedefaults": {
           "line": {
            "color": "#2a3f5f"
           }
          },
          "ternary": {
           "aaxis": {
            "gridcolor": "white",
            "linecolor": "white",
            "ticks": ""
           },
           "baxis": {
            "gridcolor": "white",
            "linecolor": "white",
            "ticks": ""
           },
           "bgcolor": "#E5ECF6",
           "caxis": {
            "gridcolor": "white",
            "linecolor": "white",
            "ticks": ""
           }
          },
          "title": {
           "x": 0.05
          },
          "xaxis": {
           "automargin": true,
           "gridcolor": "white",
           "linecolor": "white",
           "ticks": "",
           "title": {
            "standoff": 15
           },
           "zerolinecolor": "white",
           "zerolinewidth": 2
          },
          "yaxis": {
           "automargin": true,
           "gridcolor": "white",
           "linecolor": "white",
           "ticks": "",
           "title": {
            "standoff": 15
           },
           "zerolinecolor": "white",
           "zerolinewidth": 2
          }
         }
        },
        "title": {
         "text": "Profit Distribution"
        },
        "xaxis": {
         "anchor": "y",
         "domain": [
          0,
          1
         ],
         "title": {
          "text": "Profit(USD)"
         }
        },
        "yaxis": {
         "anchor": "x",
         "domain": [
          0,
          1
         ],
         "title": {
          "text": "count"
         }
        }
       }
      }
     },
     "metadata": {},
     "output_type": "display_data"
    }
   ],
   "source": [
    "profit_dist = px.histogram(\n",
    "    luffy_df, \n",
    "    x='profit', \n",
    "    nbins=20, \n",
    "    title='Profit Distribution', \n",
    "    labels={'profit': 'Profit(USD)', 'count':'Frequency'})\n",
    "\n",
    "profit_dist.show()"
   ]
  },
  {
   "cell_type": "markdown",
   "metadata": {},
   "source": [
    "##### 30 Sec Profit Trend\n",
    "- Examine the 30 second trend of profits to identify patterns and understand the overall performance of the arbitrage over time."
   ]
  },
  {
   "cell_type": "code",
   "execution_count": 5,
   "metadata": {},
   "outputs": [
    {
     "data": {
      "application/vnd.plotly.v1+json": {
       "config": {
        "plotlyServerURL": "https://plot.ly"
       },
       "data": [
        {
         "hovertemplate": "Time=%{x}<br>Profit(USD)=%{y}<extra></extra>",
         "legendgroup": "",
         "line": {
          "color": "#636efa",
          "dash": "solid"
         },
         "marker": {
          "symbol": "circle"
         },
         "mode": "lines",
         "name": "",
         "orientation": "v",
         "showlegend": false,
         "type": "scatter",
         "x": [
          "11:23:48.241890",
          "11:24:24.937475",
          "11:25:01.079464",
          "11:25:38.355487",
          "11:26:14.606348",
          "11:26:50.502270",
          "11:27:26.290344",
          "11:28:02.845012",
          "11:28:39.097366",
          "11:29:15.656652",
          "11:29:51.807057",
          "11:30:28.415279",
          "11:31:05.291375",
          "11:31:43.301911",
          "11:32:19.323482",
          "11:32:55.573681",
          "11:33:31.819486",
          "11:34:08.379358",
          "11:34:44.319339",
          "11:35:21.534176",
          "11:35:58.968416",
          "11:36:36.771525",
          "11:37:13.009189",
          "11:37:48.643842",
          "11:38:24.587318",
          "11:39:00.220267",
          "11:39:37.701440",
          "11:40:13.640935",
          "11:40:49.422207",
          "11:41:26.764100",
          "11:42:02.691437",
          "11:42:39.427040",
          "11:43:15.498636",
          "11:43:51.132894",
          "11:44:27.865790",
          "11:45:04.565984",
          "11:45:41.739448",
          "11:46:17.886245",
          "11:46:53.307330",
          "11:47:29.941117",
          "11:48:05.203611",
          "11:48:40.838874",
          "11:49:16.770954",
          "11:49:51.791390",
          "11:50:28.345895",
          "11:51:03.701937",
          "11:51:39.531870",
          "11:52:16.486468",
          "11:52:52.412443",
          "11:53:28.370013",
          "11:54:04.008583",
          "11:54:39.645836",
          "11:55:16.818632",
          "11:55:53.068185",
          "11:56:30.473595",
          "11:57:06.178395",
          "11:57:41.810911",
          "11:58:19.293311",
          "11:58:55.006505",
          "11:59:31.176026",
          "12:00:07.866871",
          "12:00:43.671751",
          "12:01:18.699128",
          "12:01:54.332465",
          "12:02:30.475054",
          "12:03:06.525450",
          "12:03:42.470915",
          "12:04:18.418660",
          "12:04:55.581606",
          "12:05:32.748086",
          "12:06:08.700961",
          "12:06:44.636931",
          "12:07:20.590295",
          "12:07:56.532372",
          "12:08:31.258397",
          "12:09:07.888381",
          "12:09:44.983783",
          "12:10:20.635591",
          "12:10:57.477252",
          "12:11:33.412864",
          "12:12:10.281647",
          "12:12:47.447634",
          "12:13:23.116527",
          "12:13:58.928975",
          "12:14:34.966168",
          "12:15:11.240990",
          "12:15:48.392367",
          "12:16:24.028102",
          "12:17:00.483750",
          "12:17:37.140720",
          "12:18:13.080413",
          "12:18:49.027494",
          "12:19:25.205085",
          "12:20:02.146537",
          "12:20:39.011497",
          "12:21:15.564331",
          "12:21:51.201780",
          "12:23:03.076200",
          "12:23:39.026044",
          "12:24:49.988175",
          "12:26:01.560356",
          "12:26:38.466325",
          "12:27:15.295547",
          "12:27:51.244950",
          "12:28:27.804939",
          "12:29:05.588170",
          "12:29:41.246857",
          "12:30:17.778084",
          "12:30:53.406182",
          "12:32:05.900058",
          "12:34:31.248469",
          "12:36:57.135521",
          "12:39:24.284137",
          "12:41:50.501028",
          "12:42:26.770575",
          "12:43:03.011676",
          "12:43:39.465732",
          "12:44:15.418763",
          "12:47:50.547227",
          "12:52:04.926566",
          "12:53:18.355523",
          "12:53:54.644293",
          "12:54:30.535845",
          "12:55:42.735541",
          "12:57:34.558939",
          "12:58:11.290726",
          "12:58:47.688458",
          "12:59:24.260109",
          "13:00:02.334361",
          "13:00:39.172021",
          "13:01:15.136573",
          "13:01:51.087729",
          "13:02:27.646590",
          "13:03:04.511171",
          "13:03:40.536062",
          "13:04:17.919778",
          "13:04:54.174156",
          "13:05:31.042199",
          "13:06:06.990746",
          "13:06:42.933755",
          "13:07:20.104956",
          "13:07:56.662068",
          "13:08:32.294970",
          "13:09:09.493645",
          "13:09:46.641448",
          "13:10:22.264631",
          "13:11:39.066013",
          "13:12:51.282429",
          "13:13:27.515864",
          "13:14:04.379006",
          "13:14:40.543685",
          "13:15:17.203221",
          "13:15:53.134571",
          "13:16:29.508664",
          "13:17:05.928426",
          "13:17:41.885971",
          "13:18:54.990201",
          "13:19:31.296645",
          "13:20:07.488828",
          "13:20:44.362158",
          "13:21:22.444764",
          "13:21:58.398165",
          "13:23:47.448379",
          "13:31:06.748617",
          "13:35:22.948821",
          "14:00:55.556663",
          "14:06:56.525284",
          "14:08:09.017924",
          "14:10:34.330635",
          "14:11:47.743343",
          "14:12:23.385400",
          "14:12:59.505850",
          "14:13:37.118105",
          "14:14:13.051899",
          "14:14:49.490202",
          "14:15:25.564681",
          "14:16:00.639406",
          "14:16:37.133791",
          "14:17:13.701531",
          "14:17:49.948021",
          "14:18:27.109599",
          "14:19:02.765397",
          "14:22:06.760319"
         ],
         "xaxis": "x",
         "y": [
          17.84233363953672,
          17.21164886455722,
          17.690949461296213,
          15.632018961049255,
          15.651629739466443,
          16.820466370254508,
          13.151051954481204,
          16.525247888845286,
          19.269917477000547,
          11.935639354628563,
          10.841334162560031,
          1.8911083171536234,
          1.7353422457216539,
          1.9126654502459814,
          3.2648841915373623,
          3.087526589551487,
          3.332782855050425,
          3.4686962216322854,
          3.3155270664247496,
          3.2712167743651435,
          3.8115805294496,
          3.769540497214109,
          3.5907512109185404,
          2.9883658669651822,
          2.810957108750756,
          1.9966474639742842,
          8.28304686186516,
          13.175310461525669,
          16.854870895715806,
          19.101201866250904,
          16.72077438418222,
          9.743142092376331,
          9.202993367833358,
          16.893280985506692,
          11.384598974338076,
          10.920510190790992,
          11.39174702997633,
          11.001854514937634,
          2.049109631548504,
          2.865867363747725,
          2.91337906964543,
          2.6836893795444894,
          3.0558922140869527,
          2.8458766883050544,
          2.6167788160795453,
          2.7350060145693647,
          3.223237854743104,
          3.5026051851511966,
          3.455753131646418,
          4.246204188790273,
          4.1320788699052855,
          6.730837197786684,
          4.418039332877129,
          4.490999453395659,
          4.796931370320863,
          4.635302198681359,
          5.032334611581973,
          5.363368363155644,
          5.383527528011371,
          5.693456986765625,
          5.460046659047805,
          6.086498383437686,
          6.811069287487044,
          7.57105504239297,
          8.687659940438323,
          8.719729083794846,
          8.507926049441835,
          8.442848971456442,
          8.393087381060866,
          7.822371267051494,
          7.651046746811346,
          7.173579631512894,
          4.574858224466482,
          10.873936034382496,
          8.680529657122634,
          2.9408242732333747,
          3.031827535974969,
          9.258028371268779,
          9.709390357784685,
          9.864632357537971,
          11.282541475035941,
          13.359106445843565,
          10.912494738996145,
          8.342067247818704,
          7.481670308767093,
          6.994296640934863,
          1.1969595211384103,
          0.9381831152761606,
          9.027687119587995,
          0.802319975124135,
          0.9481953130480747,
          1.3596514017835375,
          0.9508920984698648,
          1.282328709660817,
          1.1010739807145455,
          0.9604589942916277,
          0.8230119235889788,
          7.200497600653307,
          8.880618313147806,
          8.050054335773552,
          0.8180995474374981,
          8.318263198409113,
          8.202958841421037,
          9.215240571280106,
          10.567829850217947,
          8.950434200623931,
          9.653701946059414,
          1.1796732163335832,
          1.3501124092641703,
          0.8583665966646663,
          0.813508673129661,
          0.8513959834053253,
          0.8530543530959562,
          7.383884444525847,
          7.126186500726362,
          12.183276227336137,
          7.284151258741986,
          10.137463607458812,
          1.2817255616962484,
          0.824777768266415,
          1.0483732970503752,
          1.2692777727830276,
          2.256876547120214,
          3.784236303898183,
          1.9748741032748853,
          1.8482586615905916,
          1.8482066044800831,
          1.6275886934034816,
          1.1484259398275185,
          0.9321579065403967,
          2.0349839832832686,
          0.8312072656431155,
          1.2210919276024583,
          0.9511377699313357,
          1.4457507352063885,
          0.928771935837517,
          1.2789850622764902,
          1.2094743109944943,
          1.2072798156762587,
          1.485733034620182,
          1.5872329073652622,
          1.4158452789851594,
          1.2328606209598547,
          0.9453582413302684,
          0.8501569917559095,
          1.061772416074632,
          0.869321470562852,
          1.070189460771303,
          1.053172131789438,
          1.0487658689789328,
          0.8682546272001446,
          0.8332416294069844,
          1.407329874720972,
          1.8111925547365217,
          0.8293810809954039,
          0.8306320564642533,
          0.9318019989827917,
          1.107288897452122,
          0.9698626104655546,
          0.9812260175638698,
          0.8249251011607726,
          0.9303975783216742,
          1.063534082088836,
          1.1416850727724182,
          5.880190144976041,
          1.3787943216726148,
          4.930242191935577,
          4.9110910364790925,
          0.8591718508625945,
          5.9581775790941265,
          6.321462100146846,
          6.469251397025346,
          0.997360487085075,
          0.8421675414048764,
          6.223895651283954,
          0.878769437059475,
          1.0739657977291017,
          0.9309624169305835,
          0.990094920782326,
          0.9761358945485767,
          0.9146560541680628,
          0.8236387483976273,
          1.1466492962302937
         ],
         "yaxis": "y"
        }
       ],
       "layout": {
        "legend": {
         "tracegroupgap": 0
        },
        "template": {
         "data": {
          "bar": [
           {
            "error_x": {
             "color": "#2a3f5f"
            },
            "error_y": {
             "color": "#2a3f5f"
            },
            "marker": {
             "line": {
              "color": "#E5ECF6",
              "width": 0.5
             },
             "pattern": {
              "fillmode": "overlay",
              "size": 10,
              "solidity": 0.2
             }
            },
            "type": "bar"
           }
          ],
          "barpolar": [
           {
            "marker": {
             "line": {
              "color": "#E5ECF6",
              "width": 0.5
             },
             "pattern": {
              "fillmode": "overlay",
              "size": 10,
              "solidity": 0.2
             }
            },
            "type": "barpolar"
           }
          ],
          "carpet": [
           {
            "aaxis": {
             "endlinecolor": "#2a3f5f",
             "gridcolor": "white",
             "linecolor": "white",
             "minorgridcolor": "white",
             "startlinecolor": "#2a3f5f"
            },
            "baxis": {
             "endlinecolor": "#2a3f5f",
             "gridcolor": "white",
             "linecolor": "white",
             "minorgridcolor": "white",
             "startlinecolor": "#2a3f5f"
            },
            "type": "carpet"
           }
          ],
          "choropleth": [
           {
            "colorbar": {
             "outlinewidth": 0,
             "ticks": ""
            },
            "type": "choropleth"
           }
          ],
          "contour": [
           {
            "colorbar": {
             "outlinewidth": 0,
             "ticks": ""
            },
            "colorscale": [
             [
              0,
              "#0d0887"
             ],
             [
              0.1111111111111111,
              "#46039f"
             ],
             [
              0.2222222222222222,
              "#7201a8"
             ],
             [
              0.3333333333333333,
              "#9c179e"
             ],
             [
              0.4444444444444444,
              "#bd3786"
             ],
             [
              0.5555555555555556,
              "#d8576b"
             ],
             [
              0.6666666666666666,
              "#ed7953"
             ],
             [
              0.7777777777777778,
              "#fb9f3a"
             ],
             [
              0.8888888888888888,
              "#fdca26"
             ],
             [
              1,
              "#f0f921"
             ]
            ],
            "type": "contour"
           }
          ],
          "contourcarpet": [
           {
            "colorbar": {
             "outlinewidth": 0,
             "ticks": ""
            },
            "type": "contourcarpet"
           }
          ],
          "heatmap": [
           {
            "colorbar": {
             "outlinewidth": 0,
             "ticks": ""
            },
            "colorscale": [
             [
              0,
              "#0d0887"
             ],
             [
              0.1111111111111111,
              "#46039f"
             ],
             [
              0.2222222222222222,
              "#7201a8"
             ],
             [
              0.3333333333333333,
              "#9c179e"
             ],
             [
              0.4444444444444444,
              "#bd3786"
             ],
             [
              0.5555555555555556,
              "#d8576b"
             ],
             [
              0.6666666666666666,
              "#ed7953"
             ],
             [
              0.7777777777777778,
              "#fb9f3a"
             ],
             [
              0.8888888888888888,
              "#fdca26"
             ],
             [
              1,
              "#f0f921"
             ]
            ],
            "type": "heatmap"
           }
          ],
          "heatmapgl": [
           {
            "colorbar": {
             "outlinewidth": 0,
             "ticks": ""
            },
            "colorscale": [
             [
              0,
              "#0d0887"
             ],
             [
              0.1111111111111111,
              "#46039f"
             ],
             [
              0.2222222222222222,
              "#7201a8"
             ],
             [
              0.3333333333333333,
              "#9c179e"
             ],
             [
              0.4444444444444444,
              "#bd3786"
             ],
             [
              0.5555555555555556,
              "#d8576b"
             ],
             [
              0.6666666666666666,
              "#ed7953"
             ],
             [
              0.7777777777777778,
              "#fb9f3a"
             ],
             [
              0.8888888888888888,
              "#fdca26"
             ],
             [
              1,
              "#f0f921"
             ]
            ],
            "type": "heatmapgl"
           }
          ],
          "histogram": [
           {
            "marker": {
             "pattern": {
              "fillmode": "overlay",
              "size": 10,
              "solidity": 0.2
             }
            },
            "type": "histogram"
           }
          ],
          "histogram2d": [
           {
            "colorbar": {
             "outlinewidth": 0,
             "ticks": ""
            },
            "colorscale": [
             [
              0,
              "#0d0887"
             ],
             [
              0.1111111111111111,
              "#46039f"
             ],
             [
              0.2222222222222222,
              "#7201a8"
             ],
             [
              0.3333333333333333,
              "#9c179e"
             ],
             [
              0.4444444444444444,
              "#bd3786"
             ],
             [
              0.5555555555555556,
              "#d8576b"
             ],
             [
              0.6666666666666666,
              "#ed7953"
             ],
             [
              0.7777777777777778,
              "#fb9f3a"
             ],
             [
              0.8888888888888888,
              "#fdca26"
             ],
             [
              1,
              "#f0f921"
             ]
            ],
            "type": "histogram2d"
           }
          ],
          "histogram2dcontour": [
           {
            "colorbar": {
             "outlinewidth": 0,
             "ticks": ""
            },
            "colorscale": [
             [
              0,
              "#0d0887"
             ],
             [
              0.1111111111111111,
              "#46039f"
             ],
             [
              0.2222222222222222,
              "#7201a8"
             ],
             [
              0.3333333333333333,
              "#9c179e"
             ],
             [
              0.4444444444444444,
              "#bd3786"
             ],
             [
              0.5555555555555556,
              "#d8576b"
             ],
             [
              0.6666666666666666,
              "#ed7953"
             ],
             [
              0.7777777777777778,
              "#fb9f3a"
             ],
             [
              0.8888888888888888,
              "#fdca26"
             ],
             [
              1,
              "#f0f921"
             ]
            ],
            "type": "histogram2dcontour"
           }
          ],
          "mesh3d": [
           {
            "colorbar": {
             "outlinewidth": 0,
             "ticks": ""
            },
            "type": "mesh3d"
           }
          ],
          "parcoords": [
           {
            "line": {
             "colorbar": {
              "outlinewidth": 0,
              "ticks": ""
             }
            },
            "type": "parcoords"
           }
          ],
          "pie": [
           {
            "automargin": true,
            "type": "pie"
           }
          ],
          "scatter": [
           {
            "fillpattern": {
             "fillmode": "overlay",
             "size": 10,
             "solidity": 0.2
            },
            "type": "scatter"
           }
          ],
          "scatter3d": [
           {
            "line": {
             "colorbar": {
              "outlinewidth": 0,
              "ticks": ""
             }
            },
            "marker": {
             "colorbar": {
              "outlinewidth": 0,
              "ticks": ""
             }
            },
            "type": "scatter3d"
           }
          ],
          "scattercarpet": [
           {
            "marker": {
             "colorbar": {
              "outlinewidth": 0,
              "ticks": ""
             }
            },
            "type": "scattercarpet"
           }
          ],
          "scattergeo": [
           {
            "marker": {
             "colorbar": {
              "outlinewidth": 0,
              "ticks": ""
             }
            },
            "type": "scattergeo"
           }
          ],
          "scattergl": [
           {
            "marker": {
             "colorbar": {
              "outlinewidth": 0,
              "ticks": ""
             }
            },
            "type": "scattergl"
           }
          ],
          "scattermapbox": [
           {
            "marker": {
             "colorbar": {
              "outlinewidth": 0,
              "ticks": ""
             }
            },
            "type": "scattermapbox"
           }
          ],
          "scatterpolar": [
           {
            "marker": {
             "colorbar": {
              "outlinewidth": 0,
              "ticks": ""
             }
            },
            "type": "scatterpolar"
           }
          ],
          "scatterpolargl": [
           {
            "marker": {
             "colorbar": {
              "outlinewidth": 0,
              "ticks": ""
             }
            },
            "type": "scatterpolargl"
           }
          ],
          "scatterternary": [
           {
            "marker": {
             "colorbar": {
              "outlinewidth": 0,
              "ticks": ""
             }
            },
            "type": "scatterternary"
           }
          ],
          "surface": [
           {
            "colorbar": {
             "outlinewidth": 0,
             "ticks": ""
            },
            "colorscale": [
             [
              0,
              "#0d0887"
             ],
             [
              0.1111111111111111,
              "#46039f"
             ],
             [
              0.2222222222222222,
              "#7201a8"
             ],
             [
              0.3333333333333333,
              "#9c179e"
             ],
             [
              0.4444444444444444,
              "#bd3786"
             ],
             [
              0.5555555555555556,
              "#d8576b"
             ],
             [
              0.6666666666666666,
              "#ed7953"
             ],
             [
              0.7777777777777778,
              "#fb9f3a"
             ],
             [
              0.8888888888888888,
              "#fdca26"
             ],
             [
              1,
              "#f0f921"
             ]
            ],
            "type": "surface"
           }
          ],
          "table": [
           {
            "cells": {
             "fill": {
              "color": "#EBF0F8"
             },
             "line": {
              "color": "white"
             }
            },
            "header": {
             "fill": {
              "color": "#C8D4E3"
             },
             "line": {
              "color": "white"
             }
            },
            "type": "table"
           }
          ]
         },
         "layout": {
          "annotationdefaults": {
           "arrowcolor": "#2a3f5f",
           "arrowhead": 0,
           "arrowwidth": 1
          },
          "autotypenumbers": "strict",
          "coloraxis": {
           "colorbar": {
            "outlinewidth": 0,
            "ticks": ""
           }
          },
          "colorscale": {
           "diverging": [
            [
             0,
             "#8e0152"
            ],
            [
             0.1,
             "#c51b7d"
            ],
            [
             0.2,
             "#de77ae"
            ],
            [
             0.3,
             "#f1b6da"
            ],
            [
             0.4,
             "#fde0ef"
            ],
            [
             0.5,
             "#f7f7f7"
            ],
            [
             0.6,
             "#e6f5d0"
            ],
            [
             0.7,
             "#b8e186"
            ],
            [
             0.8,
             "#7fbc41"
            ],
            [
             0.9,
             "#4d9221"
            ],
            [
             1,
             "#276419"
            ]
           ],
           "sequential": [
            [
             0,
             "#0d0887"
            ],
            [
             0.1111111111111111,
             "#46039f"
            ],
            [
             0.2222222222222222,
             "#7201a8"
            ],
            [
             0.3333333333333333,
             "#9c179e"
            ],
            [
             0.4444444444444444,
             "#bd3786"
            ],
            [
             0.5555555555555556,
             "#d8576b"
            ],
            [
             0.6666666666666666,
             "#ed7953"
            ],
            [
             0.7777777777777778,
             "#fb9f3a"
            ],
            [
             0.8888888888888888,
             "#fdca26"
            ],
            [
             1,
             "#f0f921"
            ]
           ],
           "sequentialminus": [
            [
             0,
             "#0d0887"
            ],
            [
             0.1111111111111111,
             "#46039f"
            ],
            [
             0.2222222222222222,
             "#7201a8"
            ],
            [
             0.3333333333333333,
             "#9c179e"
            ],
            [
             0.4444444444444444,
             "#bd3786"
            ],
            [
             0.5555555555555556,
             "#d8576b"
            ],
            [
             0.6666666666666666,
             "#ed7953"
            ],
            [
             0.7777777777777778,
             "#fb9f3a"
            ],
            [
             0.8888888888888888,
             "#fdca26"
            ],
            [
             1,
             "#f0f921"
            ]
           ]
          },
          "colorway": [
           "#636efa",
           "#EF553B",
           "#00cc96",
           "#ab63fa",
           "#FFA15A",
           "#19d3f3",
           "#FF6692",
           "#B6E880",
           "#FF97FF",
           "#FECB52"
          ],
          "font": {
           "color": "#2a3f5f"
          },
          "geo": {
           "bgcolor": "white",
           "lakecolor": "white",
           "landcolor": "#E5ECF6",
           "showlakes": true,
           "showland": true,
           "subunitcolor": "white"
          },
          "hoverlabel": {
           "align": "left"
          },
          "hovermode": "closest",
          "mapbox": {
           "style": "light"
          },
          "paper_bgcolor": "white",
          "plot_bgcolor": "#E5ECF6",
          "polar": {
           "angularaxis": {
            "gridcolor": "white",
            "linecolor": "white",
            "ticks": ""
           },
           "bgcolor": "#E5ECF6",
           "radialaxis": {
            "gridcolor": "white",
            "linecolor": "white",
            "ticks": ""
           }
          },
          "scene": {
           "xaxis": {
            "backgroundcolor": "#E5ECF6",
            "gridcolor": "white",
            "gridwidth": 2,
            "linecolor": "white",
            "showbackground": true,
            "ticks": "",
            "zerolinecolor": "white"
           },
           "yaxis": {
            "backgroundcolor": "#E5ECF6",
            "gridcolor": "white",
            "gridwidth": 2,
            "linecolor": "white",
            "showbackground": true,
            "ticks": "",
            "zerolinecolor": "white"
           },
           "zaxis": {
            "backgroundcolor": "#E5ECF6",
            "gridcolor": "white",
            "gridwidth": 2,
            "linecolor": "white",
            "showbackground": true,
            "ticks": "",
            "zerolinecolor": "white"
           }
          },
          "shapedefaults": {
           "line": {
            "color": "#2a3f5f"
           }
          },
          "ternary": {
           "aaxis": {
            "gridcolor": "white",
            "linecolor": "white",
            "ticks": ""
           },
           "baxis": {
            "gridcolor": "white",
            "linecolor": "white",
            "ticks": ""
           },
           "bgcolor": "#E5ECF6",
           "caxis": {
            "gridcolor": "white",
            "linecolor": "white",
            "ticks": ""
           }
          },
          "title": {
           "x": 0.05
          },
          "xaxis": {
           "automargin": true,
           "gridcolor": "white",
           "linecolor": "white",
           "ticks": "",
           "title": {
            "standoff": 15
           },
           "zerolinecolor": "white",
           "zerolinewidth": 2
          },
          "yaxis": {
           "automargin": true,
           "gridcolor": "white",
           "linecolor": "white",
           "ticks": "",
           "title": {
            "standoff": 15
           },
           "zerolinecolor": "white",
           "zerolinewidth": 2
          }
         }
        },
        "title": {
         "text": "30 Second Profit Trend"
        },
        "xaxis": {
         "anchor": "y",
         "domain": [
          0,
          1
         ],
         "title": {
          "text": "Time"
         }
        },
        "yaxis": {
         "anchor": "x",
         "domain": [
          0,
          1
         ],
         "title": {
          "text": "Profit(USD)"
         }
        }
       }
      }
     },
     "metadata": {},
     "output_type": "display_data"
    }
   ],
   "source": [
    "thirty_sec_profit = luffy_df.groupby('current_datetime')['profit'].sum().reset_index()\n",
    "thirty_sec_profit_plot = px.line(\n",
    "    thirty_sec_profit, \n",
    "    x='current_datetime',\n",
    "    y='profit', \n",
    "    title='30 Second Profit Trend',\n",
    "    labels={'current_datetime':'Time', 'profit':'Profit(USD)'})\n",
    "\n",
    "thirty_sec_profit_plot.show()"
   ]
  },
  {
   "cell_type": "markdown",
   "metadata": {},
   "source": [
    "##### Spread Percentage Analysis\n",
    "- Explore the spread percentage to understand how much profit is generated relative to the spread. Helps to access the efficieny of the arbitrage strategy. "
   ]
  },
  {
   "cell_type": "code",
   "execution_count": 6,
   "metadata": {},
   "outputs": [
    {
     "data": {
      "application/vnd.plotly.v1+json": {
       "config": {
        "plotlyServerURL": "https://plot.ly"
       },
       "data": [
        {
         "hovertemplate": "Spread Percentage=%{x}<br>Profit(USD)=%{y}<extra></extra>",
         "legendgroup": "",
         "marker": {
          "color": "#636efa",
          "symbol": "circle"
         },
         "mode": "markers",
         "name": "",
         "orientation": "v",
         "showlegend": false,
         "type": "scatter",
         "x": [
          0.7337587006960543,
          1.2109375000000089,
          0.72838073128265,
          1.0000000000000009,
          0.7576197387518145,
          0.9453125000000062,
          0.6653128324146598,
          0.8437500000000098,
          0.6784746418892939,
          0.7429745544887018,
          0.7369746271547662,
          0.7273494324174499,
          0.5516840882694579,
          0.7265625000000053,
          0.7369339668379549,
          0.5945358948116749,
          0.8934641157618602,
          0.4313578394598702,
          0.5484904378215641,
          0.28906250000000355,
          0.48747329578559173,
          0.3289088196001471,
          0.6550866934538186,
          0.601562500000008,
          0.6640624999999956,
          1.1328124999999911,
          1.0703125000000036,
          1.156249999999992,
          1.2039156555910568,
          1.1484374999999991,
          1.1328124999999911,
          1.3203124999999982,
          1.3046874999999902,
          1.2421875000000027,
          1.0312499999999947,
          0.9687500000000071,
          0.6874999999999964,
          0.2714809284647885,
          0.9361488421729937,
          0.5328614074153235,
          0.7730643958717571,
          0.7807930752134824,
          0.2775469242469377,
          0.9263959390862944,
          0.7680311890838096,
          0.28090240190772614,
          0.41946472019462905,
          0.3532849231154933,
          0.38244453094589226,
          0.4236758176474279,
          0.7382812500000011,
          0.517264385679866,
          0.4688566137050376,
          0.5393726368198207,
          0.2840909090909038,
          0.32119914346893697,
          0.5586155097953297,
          0.299901009237179,
          0.360272638753655,
          0.3857680540231735,
          0.3542517529606344,
          0.2724000389142828,
          0.7060368890591693,
          0.6874999999999964,
          0.960937499999992,
          0.9765625,
          0.8984375000000044,
          1.0234375000000018,
          0.9531249999999991,
          0.8750000000000036,
          0.9140624999999902,
          1.0781249999999964,
          1.171875,
          1.156249999999992,
          1.4218749999999947,
          1.382812500000008,
          0.2684399620340952,
          1.4375000000000027,
          1.4765624999999893,
          1.4999999999999902,
          1.6015625000000089,
          1.546874999999992,
          1.6796875000000044,
          1.7890624999999938,
          1.7968750000000089,
          1.8984375000000053,
          1.8203125000000098,
          2.0312499999999956,
          2.2734374999999973,
          2.531250000000007,
          2.906249999999999,
          2.914062499999992,
          2.8359374999999964,
          2.8124999999999956,
          2.7890624999999947,
          2.5937499999999947,
          2.531250000000007,
          2.367187500000001,
          1.4969108287661235,
          0.3110419906687492,
          1.350250893833529,
          0.2525743151350238,
          1.0393236640037256,
          0.9558361822367772,
          0.9844961240310156,
          0.2925170068027385,
          0.938766967185802,
          0.3305463737118481,
          0.8102345415778376,
          0.35005834305718087,
          0.7179185015195587,
          0.3988714855530686,
          0.8241480825546315,
          0.49664037394099764,
          0.7992791729130551,
          0.3988714855530686,
          0.692747484620696,
          0.3793405310767449,
          0.29292978443870926,
          0.3292634956383714,
          0.31733670787499446,
          0.3807764823579191,
          0.2990319995067334,
          0.35152978752411174,
          0.4046769534930424,
          0.25499165481857927,
          0.3011559756295213,
          0.4318893225644544,
          0.30180030712482886,
          0.4069659729512702,
          0.34933654633363315,
          0.3046328941671128,
          0.26086956521738686,
          0.26961023737421835,
          0.39198606271778497,
          0.40103290426072935,
          0.3127259933936506,
          0.35161864215851435,
          0.25812634279796837,
          0.2999833885419934,
          0.5226399539579065,
          0.304925723221246,
          0.4470012049597832,
          0.3539649946220746,
          0.41769404883209493,
          0.4325276445836058,
          0.2876467387079255,
          0.4003132034843816,
          0.3944792482380558,
          0.2588740146462264,
          0.3697250204192791,
          0.4235998970254222,
          0.26842285963980933,
          0.2545006011210466,
          0.26625767826417474,
          0.2668968264506729,
          0.329421047440566,
          0.3174916190100573,
          0.5430911680911676,
          0.3240832507433208,
          0.4501913809174374,
          0.3979329377457655,
          0.2559760563934965,
          0.32567503552819244,
          0.39475761882204324,
          0.7026685615032374,
          0.2745330566261553,
          0.3503326985022599,
          0.61400623404288,
          0.5748476731982993,
          0.5748476731982993,
          0.5054614879033416,
          0.3567963444023574,
          0.28899843468916714,
          0.6321624314897728,
          0.2574568775220771,
          0.3785518444666146,
          0.2945714686491684,
          0.4479965034419118,
          0.2875152912942861,
          0.3959679302560945,
          0.37429819089206934,
          0.37429819089206934,
          0.460074859638181,
          0.491266375545848,
          0.4379402780375159,
          0.3809079601990121,
          0.29196344055988604,
          0.2624998058433341,
          0.3279097118911996,
          0.26824242895463113,
          0.33030489084393516,
          0.3250581846392418,
          0.32373933281612344,
          0.2677843753638366,
          0.25702094647013096,
          0.4345228859581114,
          0.5595034910783412,
          0.25601241272302877,
          0.25601241272302877,
          0.28719937936383455,
          0.3413498836307197,
          0.29883630721489335,
          0.3022498060512036,
          0.25394779746285223,
          0.2863768657297123,
          0.3275109170305579,
          0.35163010705530057,
          0.2581602373887242,
          0.42443780468627107,
          0.2524319868095607,
          0.2512778235779084,
          0.2635471080621877,
          0.25248145094805835,
          0.3128292215041534,
          0.28077493816982835,
          0.25349636629047173,
          0.2802967848309975,
          0.29928125368210223,
          0.30532912406351864,
          0.2577360091779187,
          0.2605111294311624,
          0.3404780044140363,
          0.2685537303485327,
          0.3282208829361339,
          0.2843312341385465,
          0.30253167532496866,
          0.29821992152931187,
          0.2793694590548218,
          0.25143947928401317,
          0.3501312992372198
         ],
         "xaxis": "x",
         "y": [
          14.463944298080605,
          3.3783893414561135,
          14.408805789507824,
          2.8028430750493953,
          15.031038358361911,
          2.659911102934302,
          13.247149524589076,
          2.3848694364601783,
          13.544270244368363,
          2.1073594950980805,
          14.751867405459507,
          2.068598964795001,
          11.07824094732996,
          2.0728110071512447,
          14.823676373563103,
          1.7015715152821826,
          18.030182612048065,
          1.2397348649524815,
          11.10332067425361,
          0.8323186803749536,
          9.892275273879477,
          0.949058888680554,
          1.8911083171536234,
          1.7353422457216539,
          1.9126654502459814,
          3.2648841915373623,
          3.087526589551487,
          3.332782855050425,
          3.4686962216322854,
          3.3155270664247496,
          3.2712167743651435,
          3.8115805294496,
          3.769540497214109,
          3.5907512109185404,
          2.9883658669651822,
          2.810957108750756,
          1.9966474639742842,
          5.563931462737855,
          2.719115399127304,
          10.923794606128467,
          2.2515158553972014,
          16.04211622753064,
          0.8127546681851641,
          19.101201866250904,
          15.893043059470983,
          0.8277313247112374,
          8.701081351880475,
          1.042060740495856,
          7.9497750909545175,
          1.2532182768788402,
          15.361617729544832,
          1.5316632559618597,
          9.783127475176116,
          1.6014714991619599,
          2.541918687554926,
          6.717956032864095,
          1.6606354703719717,
          2.6884629052962055,
          7.553825685181437,
          1.1494584394986873,
          3.178443437526539,
          5.71709175352953,
          2.1063193238815643,
          2.049109631548504,
          2.865867363747725,
          2.91337906964543,
          2.6836893795444894,
          3.0558922140869527,
          2.8458766883050544,
          2.6167788160795453,
          2.7350060145693647,
          3.223237854743104,
          3.5026051851511966,
          3.455753131646418,
          4.246204188790273,
          4.1320788699052855,
          2.4327458799244823,
          4.298091317862202,
          4.418039332877129,
          4.490999453395659,
          4.796931370320863,
          4.635302198681359,
          5.032334611581973,
          5.363368363155644,
          5.383527528011371,
          5.693456986765625,
          5.460046659047805,
          6.086498383437686,
          6.811069287487044,
          7.57105504239297,
          8.687659940438323,
          8.719729083794846,
          8.507926049441835,
          8.442848971456442,
          8.393087381060866,
          7.822371267051494,
          7.651046746811346,
          7.173579631512894,
          4.574858224466482,
          6.736430723290141,
          4.1375053110923545,
          5.483956010401016,
          3.1965736467216175,
          2.9408242732333747,
          3.031827535974969,
          6.3607445625107175,
          2.8972838087580612,
          7.203260508434141,
          2.5061298493505433,
          7.640306186489852,
          2.2243261710481192,
          8.72418239320723,
          2.558359081828712,
          10.874666156341846,
          2.4844402895017197,
          8.75503305014081,
          2.157461688855335,
          8.342067247818704,
          6.448726883580093,
          1.0329434251869998,
          6.994296640934863,
          1.1969595211384103,
          0.9381831152761606,
          7.757117306068267,
          1.270569813519728,
          0.802319975124135,
          0.9481953130480747,
          1.3596514017835375,
          0.9508920984698648,
          1.282328709660817,
          1.1010739807145455,
          0.9604589942916277,
          0.8230119235889788,
          5.9642006355884405,
          1.2362969650648665,
          8.880618313147806,
          6.938733817169577,
          1.111320518603975,
          0.8180995474374981,
          6.66660823690836,
          1.6516549615007534,
          6.7867860964893225,
          1.416172744931714,
          7.890208130923838,
          1.3250324403562672,
          9.652896149334083,
          0.9149337008838643,
          8.950434200623931,
          8.82747755685432,
          0.8262243892050947,
          1.1796732163335832,
          1.3501124092641703,
          0.8583665966646663,
          0.813508673129661,
          0.8513959834053253,
          0.8530543530959562,
          7.383884444525847,
          7.126186500726362,
          12.183276227336137,
          7.284151258741986,
          10.137463607458812,
          1.2817255616962484,
          0.824777768266415,
          1.0483732970503752,
          1.2692777727830276,
          2.256876547120214,
          2.655977333079818,
          1.128258970818365,
          1.9748741032748853,
          1.8482586615905916,
          1.8482066044800831,
          1.6275886934034816,
          1.1484259398275185,
          0.9321579065403967,
          2.0349839832832686,
          0.8312072656431155,
          1.2210919276024583,
          0.9511377699313357,
          1.4457507352063885,
          0.928771935837517,
          1.2789850622764902,
          1.2094743109944943,
          1.2072798156762587,
          1.485733034620182,
          1.5872329073652622,
          1.4158452789851594,
          1.2328606209598547,
          0.9453582413302684,
          0.8501569917559095,
          1.061772416074632,
          0.869321470562852,
          1.070189460771303,
          1.053172131789438,
          1.0487658689789328,
          0.8682546272001446,
          0.8332416294069844,
          1.407329874720972,
          1.8111925547365217,
          0.8293810809954039,
          0.8306320564642533,
          0.9318019989827917,
          1.107288897452122,
          0.9698626104655546,
          0.9812260175638698,
          0.8249251011607726,
          0.9303975783216742,
          1.063534082088836,
          1.1416850727724182,
          5.880190144976041,
          1.3787943216726148,
          4.930242191935577,
          4.9110910364790925,
          0.8591718508625945,
          4.939190477726015,
          1.0189871013681113,
          5.494824076511804,
          0.8266380236350415,
          5.492346594192668,
          0.9769048028326779,
          0.997360487085075,
          0.8421675414048764,
          5.111505077873062,
          1.1123905734108916,
          0.878769437059475,
          1.0739657977291017,
          0.9309624169305835,
          0.990094920782326,
          0.9761358945485767,
          0.9146560541680628,
          0.8236387483976273,
          1.1466492962302937
         ],
         "yaxis": "y"
        }
       ],
       "layout": {
        "legend": {
         "tracegroupgap": 0
        },
        "template": {
         "data": {
          "bar": [
           {
            "error_x": {
             "color": "#2a3f5f"
            },
            "error_y": {
             "color": "#2a3f5f"
            },
            "marker": {
             "line": {
              "color": "#E5ECF6",
              "width": 0.5
             },
             "pattern": {
              "fillmode": "overlay",
              "size": 10,
              "solidity": 0.2
             }
            },
            "type": "bar"
           }
          ],
          "barpolar": [
           {
            "marker": {
             "line": {
              "color": "#E5ECF6",
              "width": 0.5
             },
             "pattern": {
              "fillmode": "overlay",
              "size": 10,
              "solidity": 0.2
             }
            },
            "type": "barpolar"
           }
          ],
          "carpet": [
           {
            "aaxis": {
             "endlinecolor": "#2a3f5f",
             "gridcolor": "white",
             "linecolor": "white",
             "minorgridcolor": "white",
             "startlinecolor": "#2a3f5f"
            },
            "baxis": {
             "endlinecolor": "#2a3f5f",
             "gridcolor": "white",
             "linecolor": "white",
             "minorgridcolor": "white",
             "startlinecolor": "#2a3f5f"
            },
            "type": "carpet"
           }
          ],
          "choropleth": [
           {
            "colorbar": {
             "outlinewidth": 0,
             "ticks": ""
            },
            "type": "choropleth"
           }
          ],
          "contour": [
           {
            "colorbar": {
             "outlinewidth": 0,
             "ticks": ""
            },
            "colorscale": [
             [
              0,
              "#0d0887"
             ],
             [
              0.1111111111111111,
              "#46039f"
             ],
             [
              0.2222222222222222,
              "#7201a8"
             ],
             [
              0.3333333333333333,
              "#9c179e"
             ],
             [
              0.4444444444444444,
              "#bd3786"
             ],
             [
              0.5555555555555556,
              "#d8576b"
             ],
             [
              0.6666666666666666,
              "#ed7953"
             ],
             [
              0.7777777777777778,
              "#fb9f3a"
             ],
             [
              0.8888888888888888,
              "#fdca26"
             ],
             [
              1,
              "#f0f921"
             ]
            ],
            "type": "contour"
           }
          ],
          "contourcarpet": [
           {
            "colorbar": {
             "outlinewidth": 0,
             "ticks": ""
            },
            "type": "contourcarpet"
           }
          ],
          "heatmap": [
           {
            "colorbar": {
             "outlinewidth": 0,
             "ticks": ""
            },
            "colorscale": [
             [
              0,
              "#0d0887"
             ],
             [
              0.1111111111111111,
              "#46039f"
             ],
             [
              0.2222222222222222,
              "#7201a8"
             ],
             [
              0.3333333333333333,
              "#9c179e"
             ],
             [
              0.4444444444444444,
              "#bd3786"
             ],
             [
              0.5555555555555556,
              "#d8576b"
             ],
             [
              0.6666666666666666,
              "#ed7953"
             ],
             [
              0.7777777777777778,
              "#fb9f3a"
             ],
             [
              0.8888888888888888,
              "#fdca26"
             ],
             [
              1,
              "#f0f921"
             ]
            ],
            "type": "heatmap"
           }
          ],
          "heatmapgl": [
           {
            "colorbar": {
             "outlinewidth": 0,
             "ticks": ""
            },
            "colorscale": [
             [
              0,
              "#0d0887"
             ],
             [
              0.1111111111111111,
              "#46039f"
             ],
             [
              0.2222222222222222,
              "#7201a8"
             ],
             [
              0.3333333333333333,
              "#9c179e"
             ],
             [
              0.4444444444444444,
              "#bd3786"
             ],
             [
              0.5555555555555556,
              "#d8576b"
             ],
             [
              0.6666666666666666,
              "#ed7953"
             ],
             [
              0.7777777777777778,
              "#fb9f3a"
             ],
             [
              0.8888888888888888,
              "#fdca26"
             ],
             [
              1,
              "#f0f921"
             ]
            ],
            "type": "heatmapgl"
           }
          ],
          "histogram": [
           {
            "marker": {
             "pattern": {
              "fillmode": "overlay",
              "size": 10,
              "solidity": 0.2
             }
            },
            "type": "histogram"
           }
          ],
          "histogram2d": [
           {
            "colorbar": {
             "outlinewidth": 0,
             "ticks": ""
            },
            "colorscale": [
             [
              0,
              "#0d0887"
             ],
             [
              0.1111111111111111,
              "#46039f"
             ],
             [
              0.2222222222222222,
              "#7201a8"
             ],
             [
              0.3333333333333333,
              "#9c179e"
             ],
             [
              0.4444444444444444,
              "#bd3786"
             ],
             [
              0.5555555555555556,
              "#d8576b"
             ],
             [
              0.6666666666666666,
              "#ed7953"
             ],
             [
              0.7777777777777778,
              "#fb9f3a"
             ],
             [
              0.8888888888888888,
              "#fdca26"
             ],
             [
              1,
              "#f0f921"
             ]
            ],
            "type": "histogram2d"
           }
          ],
          "histogram2dcontour": [
           {
            "colorbar": {
             "outlinewidth": 0,
             "ticks": ""
            },
            "colorscale": [
             [
              0,
              "#0d0887"
             ],
             [
              0.1111111111111111,
              "#46039f"
             ],
             [
              0.2222222222222222,
              "#7201a8"
             ],
             [
              0.3333333333333333,
              "#9c179e"
             ],
             [
              0.4444444444444444,
              "#bd3786"
             ],
             [
              0.5555555555555556,
              "#d8576b"
             ],
             [
              0.6666666666666666,
              "#ed7953"
             ],
             [
              0.7777777777777778,
              "#fb9f3a"
             ],
             [
              0.8888888888888888,
              "#fdca26"
             ],
             [
              1,
              "#f0f921"
             ]
            ],
            "type": "histogram2dcontour"
           }
          ],
          "mesh3d": [
           {
            "colorbar": {
             "outlinewidth": 0,
             "ticks": ""
            },
            "type": "mesh3d"
           }
          ],
          "parcoords": [
           {
            "line": {
             "colorbar": {
              "outlinewidth": 0,
              "ticks": ""
             }
            },
            "type": "parcoords"
           }
          ],
          "pie": [
           {
            "automargin": true,
            "type": "pie"
           }
          ],
          "scatter": [
           {
            "fillpattern": {
             "fillmode": "overlay",
             "size": 10,
             "solidity": 0.2
            },
            "type": "scatter"
           }
          ],
          "scatter3d": [
           {
            "line": {
             "colorbar": {
              "outlinewidth": 0,
              "ticks": ""
             }
            },
            "marker": {
             "colorbar": {
              "outlinewidth": 0,
              "ticks": ""
             }
            },
            "type": "scatter3d"
           }
          ],
          "scattercarpet": [
           {
            "marker": {
             "colorbar": {
              "outlinewidth": 0,
              "ticks": ""
             }
            },
            "type": "scattercarpet"
           }
          ],
          "scattergeo": [
           {
            "marker": {
             "colorbar": {
              "outlinewidth": 0,
              "ticks": ""
             }
            },
            "type": "scattergeo"
           }
          ],
          "scattergl": [
           {
            "marker": {
             "colorbar": {
              "outlinewidth": 0,
              "ticks": ""
             }
            },
            "type": "scattergl"
           }
          ],
          "scattermapbox": [
           {
            "marker": {
             "colorbar": {
              "outlinewidth": 0,
              "ticks": ""
             }
            },
            "type": "scattermapbox"
           }
          ],
          "scatterpolar": [
           {
            "marker": {
             "colorbar": {
              "outlinewidth": 0,
              "ticks": ""
             }
            },
            "type": "scatterpolar"
           }
          ],
          "scatterpolargl": [
           {
            "marker": {
             "colorbar": {
              "outlinewidth": 0,
              "ticks": ""
             }
            },
            "type": "scatterpolargl"
           }
          ],
          "scatterternary": [
           {
            "marker": {
             "colorbar": {
              "outlinewidth": 0,
              "ticks": ""
             }
            },
            "type": "scatterternary"
           }
          ],
          "surface": [
           {
            "colorbar": {
             "outlinewidth": 0,
             "ticks": ""
            },
            "colorscale": [
             [
              0,
              "#0d0887"
             ],
             [
              0.1111111111111111,
              "#46039f"
             ],
             [
              0.2222222222222222,
              "#7201a8"
             ],
             [
              0.3333333333333333,
              "#9c179e"
             ],
             [
              0.4444444444444444,
              "#bd3786"
             ],
             [
              0.5555555555555556,
              "#d8576b"
             ],
             [
              0.6666666666666666,
              "#ed7953"
             ],
             [
              0.7777777777777778,
              "#fb9f3a"
             ],
             [
              0.8888888888888888,
              "#fdca26"
             ],
             [
              1,
              "#f0f921"
             ]
            ],
            "type": "surface"
           }
          ],
          "table": [
           {
            "cells": {
             "fill": {
              "color": "#EBF0F8"
             },
             "line": {
              "color": "white"
             }
            },
            "header": {
             "fill": {
              "color": "#C8D4E3"
             },
             "line": {
              "color": "white"
             }
            },
            "type": "table"
           }
          ]
         },
         "layout": {
          "annotationdefaults": {
           "arrowcolor": "#2a3f5f",
           "arrowhead": 0,
           "arrowwidth": 1
          },
          "autotypenumbers": "strict",
          "coloraxis": {
           "colorbar": {
            "outlinewidth": 0,
            "ticks": ""
           }
          },
          "colorscale": {
           "diverging": [
            [
             0,
             "#8e0152"
            ],
            [
             0.1,
             "#c51b7d"
            ],
            [
             0.2,
             "#de77ae"
            ],
            [
             0.3,
             "#f1b6da"
            ],
            [
             0.4,
             "#fde0ef"
            ],
            [
             0.5,
             "#f7f7f7"
            ],
            [
             0.6,
             "#e6f5d0"
            ],
            [
             0.7,
             "#b8e186"
            ],
            [
             0.8,
             "#7fbc41"
            ],
            [
             0.9,
             "#4d9221"
            ],
            [
             1,
             "#276419"
            ]
           ],
           "sequential": [
            [
             0,
             "#0d0887"
            ],
            [
             0.1111111111111111,
             "#46039f"
            ],
            [
             0.2222222222222222,
             "#7201a8"
            ],
            [
             0.3333333333333333,
             "#9c179e"
            ],
            [
             0.4444444444444444,
             "#bd3786"
            ],
            [
             0.5555555555555556,
             "#d8576b"
            ],
            [
             0.6666666666666666,
             "#ed7953"
            ],
            [
             0.7777777777777778,
             "#fb9f3a"
            ],
            [
             0.8888888888888888,
             "#fdca26"
            ],
            [
             1,
             "#f0f921"
            ]
           ],
           "sequentialminus": [
            [
             0,
             "#0d0887"
            ],
            [
             0.1111111111111111,
             "#46039f"
            ],
            [
             0.2222222222222222,
             "#7201a8"
            ],
            [
             0.3333333333333333,
             "#9c179e"
            ],
            [
             0.4444444444444444,
             "#bd3786"
            ],
            [
             0.5555555555555556,
             "#d8576b"
            ],
            [
             0.6666666666666666,
             "#ed7953"
            ],
            [
             0.7777777777777778,
             "#fb9f3a"
            ],
            [
             0.8888888888888888,
             "#fdca26"
            ],
            [
             1,
             "#f0f921"
            ]
           ]
          },
          "colorway": [
           "#636efa",
           "#EF553B",
           "#00cc96",
           "#ab63fa",
           "#FFA15A",
           "#19d3f3",
           "#FF6692",
           "#B6E880",
           "#FF97FF",
           "#FECB52"
          ],
          "font": {
           "color": "#2a3f5f"
          },
          "geo": {
           "bgcolor": "white",
           "lakecolor": "white",
           "landcolor": "#E5ECF6",
           "showlakes": true,
           "showland": true,
           "subunitcolor": "white"
          },
          "hoverlabel": {
           "align": "left"
          },
          "hovermode": "closest",
          "mapbox": {
           "style": "light"
          },
          "paper_bgcolor": "white",
          "plot_bgcolor": "#E5ECF6",
          "polar": {
           "angularaxis": {
            "gridcolor": "white",
            "linecolor": "white",
            "ticks": ""
           },
           "bgcolor": "#E5ECF6",
           "radialaxis": {
            "gridcolor": "white",
            "linecolor": "white",
            "ticks": ""
           }
          },
          "scene": {
           "xaxis": {
            "backgroundcolor": "#E5ECF6",
            "gridcolor": "white",
            "gridwidth": 2,
            "linecolor": "white",
            "showbackground": true,
            "ticks": "",
            "zerolinecolor": "white"
           },
           "yaxis": {
            "backgroundcolor": "#E5ECF6",
            "gridcolor": "white",
            "gridwidth": 2,
            "linecolor": "white",
            "showbackground": true,
            "ticks": "",
            "zerolinecolor": "white"
           },
           "zaxis": {
            "backgroundcolor": "#E5ECF6",
            "gridcolor": "white",
            "gridwidth": 2,
            "linecolor": "white",
            "showbackground": true,
            "ticks": "",
            "zerolinecolor": "white"
           }
          },
          "shapedefaults": {
           "line": {
            "color": "#2a3f5f"
           }
          },
          "ternary": {
           "aaxis": {
            "gridcolor": "white",
            "linecolor": "white",
            "ticks": ""
           },
           "baxis": {
            "gridcolor": "white",
            "linecolor": "white",
            "ticks": ""
           },
           "bgcolor": "#E5ECF6",
           "caxis": {
            "gridcolor": "white",
            "linecolor": "white",
            "ticks": ""
           }
          },
          "title": {
           "x": 0.05
          },
          "xaxis": {
           "automargin": true,
           "gridcolor": "white",
           "linecolor": "white",
           "ticks": "",
           "title": {
            "standoff": 15
           },
           "zerolinecolor": "white",
           "zerolinewidth": 2
          },
          "yaxis": {
           "automargin": true,
           "gridcolor": "white",
           "linecolor": "white",
           "ticks": "",
           "title": {
            "standoff": 15
           },
           "zerolinecolor": "white",
           "zerolinewidth": 2
          }
         }
        },
        "title": {
         "text": "Spread Percentage vs Profit"
        },
        "xaxis": {
         "anchor": "y",
         "domain": [
          0,
          1
         ],
         "title": {
          "text": "Spread Percentage"
         }
        },
        "yaxis": {
         "anchor": "x",
         "domain": [
          0,
          1
         ],
         "title": {
          "text": "Profit(USD)"
         }
        }
       }
      }
     },
     "metadata": {},
     "output_type": "display_data"
    }
   ],
   "source": [
    "spread_percentage_plot = px.scatter(\n",
    "    luffy_df, \n",
    "    x='spread_percentage',\n",
    "    y='profit',\n",
    "    title='Spread Percentage vs Profit',\n",
    "    labels={'spread_percentage':'Spread Percentage', 'profit':'Profit(USD)'})\n",
    "\n",
    "spread_percentage_plot.show()"
   ]
  },
  {
   "cell_type": "markdown",
   "metadata": {},
   "source": [
    "##### Exchange Performance\n",
    "- Evaluate the performance of each exchange in terms of the number of trades and profit. This helps in optimizing the selection of exchanges and diversifying risks."
   ]
  },
  {
   "cell_type": "code",
   "execution_count": 7,
   "metadata": {},
   "outputs": [
    {
     "data": {
      "application/vnd.plotly.v1+json": {
       "config": {
        "plotlyServerURL": "https://plot.ly"
       },
       "data": [
        {
         "alignmentgroup": "True",
         "hovertemplate": "variable=count<br>Exchange=%{x}<br>Value=%{y}<extra></extra>",
         "legendgroup": "count",
         "marker": {
          "color": "#636efa",
          "pattern": {
           "shape": ""
          }
         },
         "name": "count",
         "offsetgroup": "count",
         "orientation": "v",
         "showlegend": true,
         "textposition": "auto",
         "type": "bar",
         "x": [
          "Binance",
          "Bitstamp",
          "Kraken",
          "Poloniex"
         ],
         "xaxis": "x",
         "y": [
          34,
          12,
          4,
          181
         ],
         "yaxis": "y"
        },
        {
         "alignmentgroup": "True",
         "hovertemplate": "variable=sum<br>Exchange=%{x}<br>Value=%{y}<extra></extra>",
         "legendgroup": "sum",
         "marker": {
          "color": "#EF553B",
          "pattern": {
           "shape": ""
          }
         },
         "name": "sum",
         "offsetgroup": "sum",
         "orientation": "v",
         "showlegend": true,
         "textposition": "auto",
         "type": "bar",
         "x": [
          "Binance",
          "Bitstamp",
          "Kraken",
          "Poloniex"
         ],
         "xaxis": "x",
         "y": [
          360.4052483750147,
          106.21042239133385,
          24.94156606636534,
          435.32015688676876
         ],
         "yaxis": "y"
        }
       ],
       "layout": {
        "barmode": "stack",
        "legend": {
         "title": {
          "text": "variable"
         },
         "tracegroupgap": 0
        },
        "template": {
         "data": {
          "bar": [
           {
            "error_x": {
             "color": "#2a3f5f"
            },
            "error_y": {
             "color": "#2a3f5f"
            },
            "marker": {
             "line": {
              "color": "#E5ECF6",
              "width": 0.5
             },
             "pattern": {
              "fillmode": "overlay",
              "size": 10,
              "solidity": 0.2
             }
            },
            "type": "bar"
           }
          ],
          "barpolar": [
           {
            "marker": {
             "line": {
              "color": "#E5ECF6",
              "width": 0.5
             },
             "pattern": {
              "fillmode": "overlay",
              "size": 10,
              "solidity": 0.2
             }
            },
            "type": "barpolar"
           }
          ],
          "carpet": [
           {
            "aaxis": {
             "endlinecolor": "#2a3f5f",
             "gridcolor": "white",
             "linecolor": "white",
             "minorgridcolor": "white",
             "startlinecolor": "#2a3f5f"
            },
            "baxis": {
             "endlinecolor": "#2a3f5f",
             "gridcolor": "white",
             "linecolor": "white",
             "minorgridcolor": "white",
             "startlinecolor": "#2a3f5f"
            },
            "type": "carpet"
           }
          ],
          "choropleth": [
           {
            "colorbar": {
             "outlinewidth": 0,
             "ticks": ""
            },
            "type": "choropleth"
           }
          ],
          "contour": [
           {
            "colorbar": {
             "outlinewidth": 0,
             "ticks": ""
            },
            "colorscale": [
             [
              0,
              "#0d0887"
             ],
             [
              0.1111111111111111,
              "#46039f"
             ],
             [
              0.2222222222222222,
              "#7201a8"
             ],
             [
              0.3333333333333333,
              "#9c179e"
             ],
             [
              0.4444444444444444,
              "#bd3786"
             ],
             [
              0.5555555555555556,
              "#d8576b"
             ],
             [
              0.6666666666666666,
              "#ed7953"
             ],
             [
              0.7777777777777778,
              "#fb9f3a"
             ],
             [
              0.8888888888888888,
              "#fdca26"
             ],
             [
              1,
              "#f0f921"
             ]
            ],
            "type": "contour"
           }
          ],
          "contourcarpet": [
           {
            "colorbar": {
             "outlinewidth": 0,
             "ticks": ""
            },
            "type": "contourcarpet"
           }
          ],
          "heatmap": [
           {
            "colorbar": {
             "outlinewidth": 0,
             "ticks": ""
            },
            "colorscale": [
             [
              0,
              "#0d0887"
             ],
             [
              0.1111111111111111,
              "#46039f"
             ],
             [
              0.2222222222222222,
              "#7201a8"
             ],
             [
              0.3333333333333333,
              "#9c179e"
             ],
             [
              0.4444444444444444,
              "#bd3786"
             ],
             [
              0.5555555555555556,
              "#d8576b"
             ],
             [
              0.6666666666666666,
              "#ed7953"
             ],
             [
              0.7777777777777778,
              "#fb9f3a"
             ],
             [
              0.8888888888888888,
              "#fdca26"
             ],
             [
              1,
              "#f0f921"
             ]
            ],
            "type": "heatmap"
           }
          ],
          "heatmapgl": [
           {
            "colorbar": {
             "outlinewidth": 0,
             "ticks": ""
            },
            "colorscale": [
             [
              0,
              "#0d0887"
             ],
             [
              0.1111111111111111,
              "#46039f"
             ],
             [
              0.2222222222222222,
              "#7201a8"
             ],
             [
              0.3333333333333333,
              "#9c179e"
             ],
             [
              0.4444444444444444,
              "#bd3786"
             ],
             [
              0.5555555555555556,
              "#d8576b"
             ],
             [
              0.6666666666666666,
              "#ed7953"
             ],
             [
              0.7777777777777778,
              "#fb9f3a"
             ],
             [
              0.8888888888888888,
              "#fdca26"
             ],
             [
              1,
              "#f0f921"
             ]
            ],
            "type": "heatmapgl"
           }
          ],
          "histogram": [
           {
            "marker": {
             "pattern": {
              "fillmode": "overlay",
              "size": 10,
              "solidity": 0.2
             }
            },
            "type": "histogram"
           }
          ],
          "histogram2d": [
           {
            "colorbar": {
             "outlinewidth": 0,
             "ticks": ""
            },
            "colorscale": [
             [
              0,
              "#0d0887"
             ],
             [
              0.1111111111111111,
              "#46039f"
             ],
             [
              0.2222222222222222,
              "#7201a8"
             ],
             [
              0.3333333333333333,
              "#9c179e"
             ],
             [
              0.4444444444444444,
              "#bd3786"
             ],
             [
              0.5555555555555556,
              "#d8576b"
             ],
             [
              0.6666666666666666,
              "#ed7953"
             ],
             [
              0.7777777777777778,
              "#fb9f3a"
             ],
             [
              0.8888888888888888,
              "#fdca26"
             ],
             [
              1,
              "#f0f921"
             ]
            ],
            "type": "histogram2d"
           }
          ],
          "histogram2dcontour": [
           {
            "colorbar": {
             "outlinewidth": 0,
             "ticks": ""
            },
            "colorscale": [
             [
              0,
              "#0d0887"
             ],
             [
              0.1111111111111111,
              "#46039f"
             ],
             [
              0.2222222222222222,
              "#7201a8"
             ],
             [
              0.3333333333333333,
              "#9c179e"
             ],
             [
              0.4444444444444444,
              "#bd3786"
             ],
             [
              0.5555555555555556,
              "#d8576b"
             ],
             [
              0.6666666666666666,
              "#ed7953"
             ],
             [
              0.7777777777777778,
              "#fb9f3a"
             ],
             [
              0.8888888888888888,
              "#fdca26"
             ],
             [
              1,
              "#f0f921"
             ]
            ],
            "type": "histogram2dcontour"
           }
          ],
          "mesh3d": [
           {
            "colorbar": {
             "outlinewidth": 0,
             "ticks": ""
            },
            "type": "mesh3d"
           }
          ],
          "parcoords": [
           {
            "line": {
             "colorbar": {
              "outlinewidth": 0,
              "ticks": ""
             }
            },
            "type": "parcoords"
           }
          ],
          "pie": [
           {
            "automargin": true,
            "type": "pie"
           }
          ],
          "scatter": [
           {
            "fillpattern": {
             "fillmode": "overlay",
             "size": 10,
             "solidity": 0.2
            },
            "type": "scatter"
           }
          ],
          "scatter3d": [
           {
            "line": {
             "colorbar": {
              "outlinewidth": 0,
              "ticks": ""
             }
            },
            "marker": {
             "colorbar": {
              "outlinewidth": 0,
              "ticks": ""
             }
            },
            "type": "scatter3d"
           }
          ],
          "scattercarpet": [
           {
            "marker": {
             "colorbar": {
              "outlinewidth": 0,
              "ticks": ""
             }
            },
            "type": "scattercarpet"
           }
          ],
          "scattergeo": [
           {
            "marker": {
             "colorbar": {
              "outlinewidth": 0,
              "ticks": ""
             }
            },
            "type": "scattergeo"
           }
          ],
          "scattergl": [
           {
            "marker": {
             "colorbar": {
              "outlinewidth": 0,
              "ticks": ""
             }
            },
            "type": "scattergl"
           }
          ],
          "scattermapbox": [
           {
            "marker": {
             "colorbar": {
              "outlinewidth": 0,
              "ticks": ""
             }
            },
            "type": "scattermapbox"
           }
          ],
          "scatterpolar": [
           {
            "marker": {
             "colorbar": {
              "outlinewidth": 0,
              "ticks": ""
             }
            },
            "type": "scatterpolar"
           }
          ],
          "scatterpolargl": [
           {
            "marker": {
             "colorbar": {
              "outlinewidth": 0,
              "ticks": ""
             }
            },
            "type": "scatterpolargl"
           }
          ],
          "scatterternary": [
           {
            "marker": {
             "colorbar": {
              "outlinewidth": 0,
              "ticks": ""
             }
            },
            "type": "scatterternary"
           }
          ],
          "surface": [
           {
            "colorbar": {
             "outlinewidth": 0,
             "ticks": ""
            },
            "colorscale": [
             [
              0,
              "#0d0887"
             ],
             [
              0.1111111111111111,
              "#46039f"
             ],
             [
              0.2222222222222222,
              "#7201a8"
             ],
             [
              0.3333333333333333,
              "#9c179e"
             ],
             [
              0.4444444444444444,
              "#bd3786"
             ],
             [
              0.5555555555555556,
              "#d8576b"
             ],
             [
              0.6666666666666666,
              "#ed7953"
             ],
             [
              0.7777777777777778,
              "#fb9f3a"
             ],
             [
              0.8888888888888888,
              "#fdca26"
             ],
             [
              1,
              "#f0f921"
             ]
            ],
            "type": "surface"
           }
          ],
          "table": [
           {
            "cells": {
             "fill": {
              "color": "#EBF0F8"
             },
             "line": {
              "color": "white"
             }
            },
            "header": {
             "fill": {
              "color": "#C8D4E3"
             },
             "line": {
              "color": "white"
             }
            },
            "type": "table"
           }
          ]
         },
         "layout": {
          "annotationdefaults": {
           "arrowcolor": "#2a3f5f",
           "arrowhead": 0,
           "arrowwidth": 1
          },
          "autotypenumbers": "strict",
          "coloraxis": {
           "colorbar": {
            "outlinewidth": 0,
            "ticks": ""
           }
          },
          "colorscale": {
           "diverging": [
            [
             0,
             "#8e0152"
            ],
            [
             0.1,
             "#c51b7d"
            ],
            [
             0.2,
             "#de77ae"
            ],
            [
             0.3,
             "#f1b6da"
            ],
            [
             0.4,
             "#fde0ef"
            ],
            [
             0.5,
             "#f7f7f7"
            ],
            [
             0.6,
             "#e6f5d0"
            ],
            [
             0.7,
             "#b8e186"
            ],
            [
             0.8,
             "#7fbc41"
            ],
            [
             0.9,
             "#4d9221"
            ],
            [
             1,
             "#276419"
            ]
           ],
           "sequential": [
            [
             0,
             "#0d0887"
            ],
            [
             0.1111111111111111,
             "#46039f"
            ],
            [
             0.2222222222222222,
             "#7201a8"
            ],
            [
             0.3333333333333333,
             "#9c179e"
            ],
            [
             0.4444444444444444,
             "#bd3786"
            ],
            [
             0.5555555555555556,
             "#d8576b"
            ],
            [
             0.6666666666666666,
             "#ed7953"
            ],
            [
             0.7777777777777778,
             "#fb9f3a"
            ],
            [
             0.8888888888888888,
             "#fdca26"
            ],
            [
             1,
             "#f0f921"
            ]
           ],
           "sequentialminus": [
            [
             0,
             "#0d0887"
            ],
            [
             0.1111111111111111,
             "#46039f"
            ],
            [
             0.2222222222222222,
             "#7201a8"
            ],
            [
             0.3333333333333333,
             "#9c179e"
            ],
            [
             0.4444444444444444,
             "#bd3786"
            ],
            [
             0.5555555555555556,
             "#d8576b"
            ],
            [
             0.6666666666666666,
             "#ed7953"
            ],
            [
             0.7777777777777778,
             "#fb9f3a"
            ],
            [
             0.8888888888888888,
             "#fdca26"
            ],
            [
             1,
             "#f0f921"
            ]
           ]
          },
          "colorway": [
           "#636efa",
           "#EF553B",
           "#00cc96",
           "#ab63fa",
           "#FFA15A",
           "#19d3f3",
           "#FF6692",
           "#B6E880",
           "#FF97FF",
           "#FECB52"
          ],
          "font": {
           "color": "#2a3f5f"
          },
          "geo": {
           "bgcolor": "white",
           "lakecolor": "white",
           "landcolor": "#E5ECF6",
           "showlakes": true,
           "showland": true,
           "subunitcolor": "white"
          },
          "hoverlabel": {
           "align": "left"
          },
          "hovermode": "closest",
          "mapbox": {
           "style": "light"
          },
          "paper_bgcolor": "white",
          "plot_bgcolor": "#E5ECF6",
          "polar": {
           "angularaxis": {
            "gridcolor": "white",
            "linecolor": "white",
            "ticks": ""
           },
           "bgcolor": "#E5ECF6",
           "radialaxis": {
            "gridcolor": "white",
            "linecolor": "white",
            "ticks": ""
           }
          },
          "scene": {
           "xaxis": {
            "backgroundcolor": "#E5ECF6",
            "gridcolor": "white",
            "gridwidth": 2,
            "linecolor": "white",
            "showbackground": true,
            "ticks": "",
            "zerolinecolor": "white"
           },
           "yaxis": {
            "backgroundcolor": "#E5ECF6",
            "gridcolor": "white",
            "gridwidth": 2,
            "linecolor": "white",
            "showbackground": true,
            "ticks": "",
            "zerolinecolor": "white"
           },
           "zaxis": {
            "backgroundcolor": "#E5ECF6",
            "gridcolor": "white",
            "gridwidth": 2,
            "linecolor": "white",
            "showbackground": true,
            "ticks": "",
            "zerolinecolor": "white"
           }
          },
          "shapedefaults": {
           "line": {
            "color": "#2a3f5f"
           }
          },
          "ternary": {
           "aaxis": {
            "gridcolor": "white",
            "linecolor": "white",
            "ticks": ""
           },
           "baxis": {
            "gridcolor": "white",
            "linecolor": "white",
            "ticks": ""
           },
           "bgcolor": "#E5ECF6",
           "caxis": {
            "gridcolor": "white",
            "linecolor": "white",
            "ticks": ""
           }
          },
          "title": {
           "x": 0.05
          },
          "xaxis": {
           "automargin": true,
           "gridcolor": "white",
           "linecolor": "white",
           "ticks": "",
           "title": {
            "standoff": 15
           },
           "zerolinecolor": "white",
           "zerolinewidth": 2
          },
          "yaxis": {
           "automargin": true,
           "gridcolor": "white",
           "linecolor": "white",
           "ticks": "",
           "title": {
            "standoff": 15
           },
           "zerolinecolor": "white",
           "zerolinewidth": 2
          }
         }
        },
        "title": {
         "text": "Exchange Performance"
        },
        "xaxis": {
         "anchor": "y",
         "domain": [
          0,
          1
         ],
         "title": {
          "text": "Exchange"
         }
        },
        "yaxis": {
         "anchor": "x",
         "domain": [
          0,
          1
         ],
         "title": {
          "text": "Value"
         }
        }
       }
      }
     },
     "metadata": {},
     "output_type": "display_data"
    }
   ],
   "source": [
    "exchange_performance = luffy_df.groupby('buy_exchange')['profit'].agg(['count', 'sum']).reset_index()\n",
    "exchange_performance_plot = px.bar(\n",
    "    exchange_performance,\n",
    "    x='buy_exchange',\n",
    "    y=['count', 'sum'],\n",
    "    barmode='stack',\n",
    "    title='Exchange Performance',\n",
    "    labels={'buy_exchange':'Exchange', 'value':'Value'}\n",
    ")\n",
    "\n",
    "exchange_performance_plot.show()"
   ]
  },
  {
   "cell_type": "markdown",
   "metadata": {},
   "source": [
    "##### Average Spread Percentage by Coin\n",
    "- Calculate the average spread percentge for each coin to identify coins with more favorable arbitrage opportunities. This helps in optimizing the selection of coins and diversifying risks."
   ]
  },
  {
   "cell_type": "code",
   "execution_count": 8,
   "metadata": {},
   "outputs": [
    {
     "data": {
      "application/vnd.plotly.v1+json": {
       "config": {
        "plotlyServerURL": "https://plot.ly"
       },
       "data": [
        {
         "alignmentgroup": "True",
         "hovertemplate": "Coin=%{x}<br>Average Spread Percentage=%{y}<extra></extra>",
         "legendgroup": "",
         "marker": {
          "color": "#636efa",
          "pattern": {
           "shape": ""
          }
         },
         "name": "",
         "offsetgroup": "",
         "orientation": "v",
         "showlegend": false,
         "textposition": "auto",
         "type": "bar",
         "x": [
          "bitcoin",
          "ethereum",
          "polygon",
          "solana"
         ],
         "xaxis": "x",
         "y": [
          0.2629623522945859,
          0.2962433379897935,
          0.46650617757120527,
          0.7585317358252862
         ],
         "yaxis": "y"
        }
       ],
       "layout": {
        "barmode": "relative",
        "legend": {
         "tracegroupgap": 0
        },
        "template": {
         "data": {
          "bar": [
           {
            "error_x": {
             "color": "#2a3f5f"
            },
            "error_y": {
             "color": "#2a3f5f"
            },
            "marker": {
             "line": {
              "color": "#E5ECF6",
              "width": 0.5
             },
             "pattern": {
              "fillmode": "overlay",
              "size": 10,
              "solidity": 0.2
             }
            },
            "type": "bar"
           }
          ],
          "barpolar": [
           {
            "marker": {
             "line": {
              "color": "#E5ECF6",
              "width": 0.5
             },
             "pattern": {
              "fillmode": "overlay",
              "size": 10,
              "solidity": 0.2
             }
            },
            "type": "barpolar"
           }
          ],
          "carpet": [
           {
            "aaxis": {
             "endlinecolor": "#2a3f5f",
             "gridcolor": "white",
             "linecolor": "white",
             "minorgridcolor": "white",
             "startlinecolor": "#2a3f5f"
            },
            "baxis": {
             "endlinecolor": "#2a3f5f",
             "gridcolor": "white",
             "linecolor": "white",
             "minorgridcolor": "white",
             "startlinecolor": "#2a3f5f"
            },
            "type": "carpet"
           }
          ],
          "choropleth": [
           {
            "colorbar": {
             "outlinewidth": 0,
             "ticks": ""
            },
            "type": "choropleth"
           }
          ],
          "contour": [
           {
            "colorbar": {
             "outlinewidth": 0,
             "ticks": ""
            },
            "colorscale": [
             [
              0,
              "#0d0887"
             ],
             [
              0.1111111111111111,
              "#46039f"
             ],
             [
              0.2222222222222222,
              "#7201a8"
             ],
             [
              0.3333333333333333,
              "#9c179e"
             ],
             [
              0.4444444444444444,
              "#bd3786"
             ],
             [
              0.5555555555555556,
              "#d8576b"
             ],
             [
              0.6666666666666666,
              "#ed7953"
             ],
             [
              0.7777777777777778,
              "#fb9f3a"
             ],
             [
              0.8888888888888888,
              "#fdca26"
             ],
             [
              1,
              "#f0f921"
             ]
            ],
            "type": "contour"
           }
          ],
          "contourcarpet": [
           {
            "colorbar": {
             "outlinewidth": 0,
             "ticks": ""
            },
            "type": "contourcarpet"
           }
          ],
          "heatmap": [
           {
            "colorbar": {
             "outlinewidth": 0,
             "ticks": ""
            },
            "colorscale": [
             [
              0,
              "#0d0887"
             ],
             [
              0.1111111111111111,
              "#46039f"
             ],
             [
              0.2222222222222222,
              "#7201a8"
             ],
             [
              0.3333333333333333,
              "#9c179e"
             ],
             [
              0.4444444444444444,
              "#bd3786"
             ],
             [
              0.5555555555555556,
              "#d8576b"
             ],
             [
              0.6666666666666666,
              "#ed7953"
             ],
             [
              0.7777777777777778,
              "#fb9f3a"
             ],
             [
              0.8888888888888888,
              "#fdca26"
             ],
             [
              1,
              "#f0f921"
             ]
            ],
            "type": "heatmap"
           }
          ],
          "heatmapgl": [
           {
            "colorbar": {
             "outlinewidth": 0,
             "ticks": ""
            },
            "colorscale": [
             [
              0,
              "#0d0887"
             ],
             [
              0.1111111111111111,
              "#46039f"
             ],
             [
              0.2222222222222222,
              "#7201a8"
             ],
             [
              0.3333333333333333,
              "#9c179e"
             ],
             [
              0.4444444444444444,
              "#bd3786"
             ],
             [
              0.5555555555555556,
              "#d8576b"
             ],
             [
              0.6666666666666666,
              "#ed7953"
             ],
             [
              0.7777777777777778,
              "#fb9f3a"
             ],
             [
              0.8888888888888888,
              "#fdca26"
             ],
             [
              1,
              "#f0f921"
             ]
            ],
            "type": "heatmapgl"
           }
          ],
          "histogram": [
           {
            "marker": {
             "pattern": {
              "fillmode": "overlay",
              "size": 10,
              "solidity": 0.2
             }
            },
            "type": "histogram"
           }
          ],
          "histogram2d": [
           {
            "colorbar": {
             "outlinewidth": 0,
             "ticks": ""
            },
            "colorscale": [
             [
              0,
              "#0d0887"
             ],
             [
              0.1111111111111111,
              "#46039f"
             ],
             [
              0.2222222222222222,
              "#7201a8"
             ],
             [
              0.3333333333333333,
              "#9c179e"
             ],
             [
              0.4444444444444444,
              "#bd3786"
             ],
             [
              0.5555555555555556,
              "#d8576b"
             ],
             [
              0.6666666666666666,
              "#ed7953"
             ],
             [
              0.7777777777777778,
              "#fb9f3a"
             ],
             [
              0.8888888888888888,
              "#fdca26"
             ],
             [
              1,
              "#f0f921"
             ]
            ],
            "type": "histogram2d"
           }
          ],
          "histogram2dcontour": [
           {
            "colorbar": {
             "outlinewidth": 0,
             "ticks": ""
            },
            "colorscale": [
             [
              0,
              "#0d0887"
             ],
             [
              0.1111111111111111,
              "#46039f"
             ],
             [
              0.2222222222222222,
              "#7201a8"
             ],
             [
              0.3333333333333333,
              "#9c179e"
             ],
             [
              0.4444444444444444,
              "#bd3786"
             ],
             [
              0.5555555555555556,
              "#d8576b"
             ],
             [
              0.6666666666666666,
              "#ed7953"
             ],
             [
              0.7777777777777778,
              "#fb9f3a"
             ],
             [
              0.8888888888888888,
              "#fdca26"
             ],
             [
              1,
              "#f0f921"
             ]
            ],
            "type": "histogram2dcontour"
           }
          ],
          "mesh3d": [
           {
            "colorbar": {
             "outlinewidth": 0,
             "ticks": ""
            },
            "type": "mesh3d"
           }
          ],
          "parcoords": [
           {
            "line": {
             "colorbar": {
              "outlinewidth": 0,
              "ticks": ""
             }
            },
            "type": "parcoords"
           }
          ],
          "pie": [
           {
            "automargin": true,
            "type": "pie"
           }
          ],
          "scatter": [
           {
            "fillpattern": {
             "fillmode": "overlay",
             "size": 10,
             "solidity": 0.2
            },
            "type": "scatter"
           }
          ],
          "scatter3d": [
           {
            "line": {
             "colorbar": {
              "outlinewidth": 0,
              "ticks": ""
             }
            },
            "marker": {
             "colorbar": {
              "outlinewidth": 0,
              "ticks": ""
             }
            },
            "type": "scatter3d"
           }
          ],
          "scattercarpet": [
           {
            "marker": {
             "colorbar": {
              "outlinewidth": 0,
              "ticks": ""
             }
            },
            "type": "scattercarpet"
           }
          ],
          "scattergeo": [
           {
            "marker": {
             "colorbar": {
              "outlinewidth": 0,
              "ticks": ""
             }
            },
            "type": "scattergeo"
           }
          ],
          "scattergl": [
           {
            "marker": {
             "colorbar": {
              "outlinewidth": 0,
              "ticks": ""
             }
            },
            "type": "scattergl"
           }
          ],
          "scattermapbox": [
           {
            "marker": {
             "colorbar": {
              "outlinewidth": 0,
              "ticks": ""
             }
            },
            "type": "scattermapbox"
           }
          ],
          "scatterpolar": [
           {
            "marker": {
             "colorbar": {
              "outlinewidth": 0,
              "ticks": ""
             }
            },
            "type": "scatterpolar"
           }
          ],
          "scatterpolargl": [
           {
            "marker": {
             "colorbar": {
              "outlinewidth": 0,
              "ticks": ""
             }
            },
            "type": "scatterpolargl"
           }
          ],
          "scatterternary": [
           {
            "marker": {
             "colorbar": {
              "outlinewidth": 0,
              "ticks": ""
             }
            },
            "type": "scatterternary"
           }
          ],
          "surface": [
           {
            "colorbar": {
             "outlinewidth": 0,
             "ticks": ""
            },
            "colorscale": [
             [
              0,
              "#0d0887"
             ],
             [
              0.1111111111111111,
              "#46039f"
             ],
             [
              0.2222222222222222,
              "#7201a8"
             ],
             [
              0.3333333333333333,
              "#9c179e"
             ],
             [
              0.4444444444444444,
              "#bd3786"
             ],
             [
              0.5555555555555556,
              "#d8576b"
             ],
             [
              0.6666666666666666,
              "#ed7953"
             ],
             [
              0.7777777777777778,
              "#fb9f3a"
             ],
             [
              0.8888888888888888,
              "#fdca26"
             ],
             [
              1,
              "#f0f921"
             ]
            ],
            "type": "surface"
           }
          ],
          "table": [
           {
            "cells": {
             "fill": {
              "color": "#EBF0F8"
             },
             "line": {
              "color": "white"
             }
            },
            "header": {
             "fill": {
              "color": "#C8D4E3"
             },
             "line": {
              "color": "white"
             }
            },
            "type": "table"
           }
          ]
         },
         "layout": {
          "annotationdefaults": {
           "arrowcolor": "#2a3f5f",
           "arrowhead": 0,
           "arrowwidth": 1
          },
          "autotypenumbers": "strict",
          "coloraxis": {
           "colorbar": {
            "outlinewidth": 0,
            "ticks": ""
           }
          },
          "colorscale": {
           "diverging": [
            [
             0,
             "#8e0152"
            ],
            [
             0.1,
             "#c51b7d"
            ],
            [
             0.2,
             "#de77ae"
            ],
            [
             0.3,
             "#f1b6da"
            ],
            [
             0.4,
             "#fde0ef"
            ],
            [
             0.5,
             "#f7f7f7"
            ],
            [
             0.6,
             "#e6f5d0"
            ],
            [
             0.7,
             "#b8e186"
            ],
            [
             0.8,
             "#7fbc41"
            ],
            [
             0.9,
             "#4d9221"
            ],
            [
             1,
             "#276419"
            ]
           ],
           "sequential": [
            [
             0,
             "#0d0887"
            ],
            [
             0.1111111111111111,
             "#46039f"
            ],
            [
             0.2222222222222222,
             "#7201a8"
            ],
            [
             0.3333333333333333,
             "#9c179e"
            ],
            [
             0.4444444444444444,
             "#bd3786"
            ],
            [
             0.5555555555555556,
             "#d8576b"
            ],
            [
             0.6666666666666666,
             "#ed7953"
            ],
            [
             0.7777777777777778,
             "#fb9f3a"
            ],
            [
             0.8888888888888888,
             "#fdca26"
            ],
            [
             1,
             "#f0f921"
            ]
           ],
           "sequentialminus": [
            [
             0,
             "#0d0887"
            ],
            [
             0.1111111111111111,
             "#46039f"
            ],
            [
             0.2222222222222222,
             "#7201a8"
            ],
            [
             0.3333333333333333,
             "#9c179e"
            ],
            [
             0.4444444444444444,
             "#bd3786"
            ],
            [
             0.5555555555555556,
             "#d8576b"
            ],
            [
             0.6666666666666666,
             "#ed7953"
            ],
            [
             0.7777777777777778,
             "#fb9f3a"
            ],
            [
             0.8888888888888888,
             "#fdca26"
            ],
            [
             1,
             "#f0f921"
            ]
           ]
          },
          "colorway": [
           "#636efa",
           "#EF553B",
           "#00cc96",
           "#ab63fa",
           "#FFA15A",
           "#19d3f3",
           "#FF6692",
           "#B6E880",
           "#FF97FF",
           "#FECB52"
          ],
          "font": {
           "color": "#2a3f5f"
          },
          "geo": {
           "bgcolor": "white",
           "lakecolor": "white",
           "landcolor": "#E5ECF6",
           "showlakes": true,
           "showland": true,
           "subunitcolor": "white"
          },
          "hoverlabel": {
           "align": "left"
          },
          "hovermode": "closest",
          "mapbox": {
           "style": "light"
          },
          "paper_bgcolor": "white",
          "plot_bgcolor": "#E5ECF6",
          "polar": {
           "angularaxis": {
            "gridcolor": "white",
            "linecolor": "white",
            "ticks": ""
           },
           "bgcolor": "#E5ECF6",
           "radialaxis": {
            "gridcolor": "white",
            "linecolor": "white",
            "ticks": ""
           }
          },
          "scene": {
           "xaxis": {
            "backgroundcolor": "#E5ECF6",
            "gridcolor": "white",
            "gridwidth": 2,
            "linecolor": "white",
            "showbackground": true,
            "ticks": "",
            "zerolinecolor": "white"
           },
           "yaxis": {
            "backgroundcolor": "#E5ECF6",
            "gridcolor": "white",
            "gridwidth": 2,
            "linecolor": "white",
            "showbackground": true,
            "ticks": "",
            "zerolinecolor": "white"
           },
           "zaxis": {
            "backgroundcolor": "#E5ECF6",
            "gridcolor": "white",
            "gridwidth": 2,
            "linecolor": "white",
            "showbackground": true,
            "ticks": "",
            "zerolinecolor": "white"
           }
          },
          "shapedefaults": {
           "line": {
            "color": "#2a3f5f"
           }
          },
          "ternary": {
           "aaxis": {
            "gridcolor": "white",
            "linecolor": "white",
            "ticks": ""
           },
           "baxis": {
            "gridcolor": "white",
            "linecolor": "white",
            "ticks": ""
           },
           "bgcolor": "#E5ECF6",
           "caxis": {
            "gridcolor": "white",
            "linecolor": "white",
            "ticks": ""
           }
          },
          "title": {
           "x": 0.05
          },
          "xaxis": {
           "automargin": true,
           "gridcolor": "white",
           "linecolor": "white",
           "ticks": "",
           "title": {
            "standoff": 15
           },
           "zerolinecolor": "white",
           "zerolinewidth": 2
          },
          "yaxis": {
           "automargin": true,
           "gridcolor": "white",
           "linecolor": "white",
           "ticks": "",
           "title": {
            "standoff": 15
           },
           "zerolinecolor": "white",
           "zerolinewidth": 2
          }
         }
        },
        "title": {
         "text": "Average Spread Percentage for Each Coin"
        },
        "xaxis": {
         "anchor": "y",
         "domain": [
          0,
          1
         ],
         "title": {
          "text": "Coin"
         }
        },
        "yaxis": {
         "anchor": "x",
         "domain": [
          0,
          1
         ],
         "title": {
          "text": "Average Spread Percentage"
         }
        }
       }
      }
     },
     "metadata": {},
     "output_type": "display_data"
    }
   ],
   "source": [
    "avg_spread_by_coin = luffy_df.groupby('currency')['spread_percentage'].mean().reset_index()\n",
    "avg_spread_by_coin_plot = px.bar(\n",
    "    avg_spread_by_coin,\n",
    "    x='currency',\n",
    "    y='spread_percentage',\n",
    "    title='Average Spread Percentage for Each Coin',\n",
    "    labels={'spread_percentage':'Average Spread Percentage', 'currency':'Coin'}\n",
    ")\n",
    "\n",
    "avg_spread_by_coin_plot.show()"
   ]
  },
  {
   "cell_type": "markdown",
   "metadata": {},
   "source": [
    "##### Time Series Analysis\n",
    "- Analyze the time series data to identify any patterns or trends in the arbitrage opportunities."
   ]
  },
  {
   "cell_type": "code",
   "execution_count": 9,
   "metadata": {},
   "outputs": [
    {
     "data": {
      "application/vnd.plotly.v1+json": {
       "config": {
        "plotlyServerURL": "https://plot.ly"
       },
       "data": [
        {
         "hovertemplate": "Time=%{x}<br>Profit(USD)=%{y}<extra></extra>",
         "legendgroup": "",
         "line": {
          "color": "#636efa",
          "dash": "solid"
         },
         "marker": {
          "symbol": "circle"
         },
         "mode": "lines",
         "name": "",
         "orientation": "v",
         "showlegend": false,
         "type": "scatter",
         "x": [
          "11:23:48.241890",
          "11:23:48.241890",
          "11:24:24.937475",
          "11:24:24.937475",
          "11:25:01.079464",
          "11:25:01.079464",
          "11:25:38.355487",
          "11:25:38.355487",
          "11:26:14.606348",
          "11:26:14.606348",
          "11:26:50.502270",
          "11:26:50.502270",
          "11:27:26.290344",
          "11:27:26.290344",
          "11:28:02.845012",
          "11:28:02.845012",
          "11:28:39.097366",
          "11:28:39.097366",
          "11:29:15.656652",
          "11:29:15.656652",
          "11:29:51.807057",
          "11:29:51.807057",
          "11:30:28.415279",
          "11:31:05.291375",
          "11:31:43.301911",
          "11:32:19.323482",
          "11:32:55.573681",
          "11:33:31.819486",
          "11:34:08.379358",
          "11:34:44.319339",
          "11:35:21.534176",
          "11:35:58.968416",
          "11:36:36.771525",
          "11:37:13.009189",
          "11:37:48.643842",
          "11:38:24.587318",
          "11:39:00.220267",
          "11:39:37.701440",
          "11:39:37.701440",
          "11:40:13.640935",
          "11:40:13.640935",
          "11:40:49.422207",
          "11:40:49.422207",
          "11:41:26.764100",
          "11:42:02.691437",
          "11:42:02.691437",
          "11:42:39.427040",
          "11:42:39.427040",
          "11:43:15.498636",
          "11:43:15.498636",
          "11:43:51.132894",
          "11:43:51.132894",
          "11:44:27.865790",
          "11:44:27.865790",
          "11:45:04.565984",
          "11:45:04.565984",
          "11:45:04.565984",
          "11:45:41.739448",
          "11:45:41.739448",
          "11:45:41.739448",
          "11:46:17.886245",
          "11:46:17.886245",
          "11:46:17.886245",
          "11:46:53.307330",
          "11:47:29.941117",
          "11:48:05.203611",
          "11:48:40.838874",
          "11:49:16.770954",
          "11:49:51.791390",
          "11:50:28.345895",
          "11:51:03.701937",
          "11:51:39.531870",
          "11:52:16.486468",
          "11:52:52.412443",
          "11:53:28.370013",
          "11:54:04.008583",
          "11:54:39.645836",
          "11:54:39.645836",
          "11:55:16.818632",
          "11:55:53.068185",
          "11:56:30.473595",
          "11:57:06.178395",
          "11:57:41.810911",
          "11:58:19.293311",
          "11:58:55.006505",
          "11:59:31.176026",
          "12:00:07.866871",
          "12:00:43.671751",
          "12:01:18.699128",
          "12:01:54.332465",
          "12:02:30.475054",
          "12:03:06.525450",
          "12:03:42.470915",
          "12:04:18.418660",
          "12:04:55.581606",
          "12:05:32.748086",
          "12:06:08.700961",
          "12:06:44.636931",
          "12:07:20.590295",
          "12:07:56.532372",
          "12:07:56.532372",
          "12:08:31.258397",
          "12:08:31.258397",
          "12:09:07.888381",
          "12:09:44.983783",
          "12:10:20.635591",
          "12:10:20.635591",
          "12:10:57.477252",
          "12:10:57.477252",
          "12:11:33.412864",
          "12:11:33.412864",
          "12:12:10.281647",
          "12:12:10.281647",
          "12:12:47.447634",
          "12:12:47.447634",
          "12:13:23.116527",
          "12:13:23.116527",
          "12:13:58.928975",
          "12:14:34.966168",
          "12:14:34.966168",
          "12:15:11.240990",
          "12:15:48.392367",
          "12:16:24.028102",
          "12:17:00.483750",
          "12:17:00.483750",
          "12:17:37.140720",
          "12:18:13.080413",
          "12:18:49.027494",
          "12:19:25.205085",
          "12:20:02.146537",
          "12:20:39.011497",
          "12:21:15.564331",
          "12:21:51.201780",
          "12:23:03.076200",
          "12:23:03.076200",
          "12:23:39.026044",
          "12:24:49.988175",
          "12:24:49.988175",
          "12:26:01.560356",
          "12:26:38.466325",
          "12:26:38.466325",
          "12:27:15.295547",
          "12:27:15.295547",
          "12:27:51.244950",
          "12:27:51.244950",
          "12:28:27.804939",
          "12:28:27.804939",
          "12:29:05.588170",
          "12:29:41.246857",
          "12:29:41.246857",
          "12:30:17.778084",
          "12:30:53.406182",
          "12:32:05.900058",
          "12:34:31.248469",
          "12:36:57.135521",
          "12:39:24.284137",
          "12:41:50.501028",
          "12:42:26.770575",
          "12:43:03.011676",
          "12:43:39.465732",
          "12:44:15.418763",
          "12:47:50.547227",
          "12:52:04.926566",
          "12:53:18.355523",
          "12:53:54.644293",
          "12:54:30.535845",
          "12:55:42.735541",
          "12:55:42.735541",
          "12:57:34.558939",
          "12:58:11.290726",
          "12:58:47.688458",
          "12:59:24.260109",
          "13:00:02.334361",
          "13:00:39.172021",
          "13:01:15.136573",
          "13:01:51.087729",
          "13:02:27.646590",
          "13:03:04.511171",
          "13:03:40.536062",
          "13:04:17.919778",
          "13:04:54.174156",
          "13:05:31.042199",
          "13:06:06.990746",
          "13:06:42.933755",
          "13:07:20.104956",
          "13:07:56.662068",
          "13:08:32.294970",
          "13:09:09.493645",
          "13:09:46.641448",
          "13:10:22.264631",
          "13:11:39.066013",
          "13:12:51.282429",
          "13:13:27.515864",
          "13:14:04.379006",
          "13:14:40.543685",
          "13:15:17.203221",
          "13:15:53.134571",
          "13:16:29.508664",
          "13:17:05.928426",
          "13:17:41.885971",
          "13:18:54.990201",
          "13:19:31.296645",
          "13:20:07.488828",
          "13:20:44.362158",
          "13:21:22.444764",
          "13:21:58.398165",
          "13:23:47.448379",
          "13:31:06.748617",
          "13:35:22.948821",
          "14:00:55.556663",
          "14:06:56.525284",
          "14:08:09.017924",
          "14:10:34.330635",
          "14:11:47.743343",
          "14:11:47.743343",
          "14:12:23.385400",
          "14:12:23.385400",
          "14:12:59.505850",
          "14:12:59.505850",
          "14:13:37.118105",
          "14:14:13.051899",
          "14:14:49.490202",
          "14:14:49.490202",
          "14:15:25.564681",
          "14:16:00.639406",
          "14:16:37.133791",
          "14:17:13.701531",
          "14:17:49.948021",
          "14:18:27.109599",
          "14:19:02.765397",
          "14:22:06.760319"
         ],
         "xaxis": "x",
         "y": [
          14.463944298080605,
          3.3783893414561135,
          14.408805789507824,
          2.8028430750493953,
          15.031038358361911,
          2.659911102934302,
          13.247149524589076,
          2.3848694364601783,
          13.544270244368363,
          2.1073594950980805,
          14.751867405459507,
          2.068598964795001,
          11.07824094732996,
          2.0728110071512447,
          14.823676373563103,
          1.7015715152821826,
          18.030182612048065,
          1.2397348649524815,
          11.10332067425361,
          0.8323186803749536,
          9.892275273879477,
          0.949058888680554,
          1.8911083171536234,
          1.7353422457216539,
          1.9126654502459814,
          3.2648841915373623,
          3.087526589551487,
          3.332782855050425,
          3.4686962216322854,
          3.3155270664247496,
          3.2712167743651435,
          3.8115805294496,
          3.769540497214109,
          3.5907512109185404,
          2.9883658669651822,
          2.810957108750756,
          1.9966474639742842,
          5.563931462737855,
          2.719115399127304,
          10.923794606128467,
          2.2515158553972014,
          16.04211622753064,
          0.8127546681851641,
          19.101201866250904,
          15.893043059470983,
          0.8277313247112374,
          8.701081351880475,
          1.042060740495856,
          7.9497750909545175,
          1.2532182768788402,
          15.361617729544832,
          1.5316632559618597,
          9.783127475176116,
          1.6014714991619599,
          2.541918687554926,
          6.717956032864095,
          1.6606354703719717,
          2.6884629052962055,
          7.553825685181437,
          1.1494584394986873,
          3.178443437526539,
          5.71709175352953,
          2.1063193238815643,
          2.049109631548504,
          2.865867363747725,
          2.91337906964543,
          2.6836893795444894,
          3.0558922140869527,
          2.8458766883050544,
          2.6167788160795453,
          2.7350060145693647,
          3.223237854743104,
          3.5026051851511966,
          3.455753131646418,
          4.246204188790273,
          4.1320788699052855,
          2.4327458799244823,
          4.298091317862202,
          4.418039332877129,
          4.490999453395659,
          4.796931370320863,
          4.635302198681359,
          5.032334611581973,
          5.363368363155644,
          5.383527528011371,
          5.693456986765625,
          5.460046659047805,
          6.086498383437686,
          6.811069287487044,
          7.57105504239297,
          8.687659940438323,
          8.719729083794846,
          8.507926049441835,
          8.442848971456442,
          8.393087381060866,
          7.822371267051494,
          7.651046746811346,
          7.173579631512894,
          4.574858224466482,
          6.736430723290141,
          4.1375053110923545,
          5.483956010401016,
          3.1965736467216175,
          2.9408242732333747,
          3.031827535974969,
          6.3607445625107175,
          2.8972838087580612,
          7.203260508434141,
          2.5061298493505433,
          7.640306186489852,
          2.2243261710481192,
          8.72418239320723,
          2.558359081828712,
          10.874666156341846,
          2.4844402895017197,
          8.75503305014081,
          2.157461688855335,
          8.342067247818704,
          6.448726883580093,
          1.0329434251869998,
          6.994296640934863,
          1.1969595211384103,
          0.9381831152761606,
          7.757117306068267,
          1.270569813519728,
          0.802319975124135,
          0.9481953130480747,
          1.3596514017835375,
          0.9508920984698648,
          1.282328709660817,
          1.1010739807145455,
          0.9604589942916277,
          0.8230119235889788,
          5.9642006355884405,
          1.2362969650648665,
          8.880618313147806,
          6.938733817169577,
          1.111320518603975,
          0.8180995474374981,
          6.66660823690836,
          1.6516549615007534,
          6.7867860964893225,
          1.416172744931714,
          7.890208130923838,
          1.3250324403562672,
          9.652896149334083,
          0.9149337008838643,
          8.950434200623931,
          8.82747755685432,
          0.8262243892050947,
          1.1796732163335832,
          1.3501124092641703,
          0.8583665966646663,
          0.813508673129661,
          0.8513959834053253,
          0.8530543530959562,
          7.383884444525847,
          7.126186500726362,
          12.183276227336137,
          7.284151258741986,
          10.137463607458812,
          1.2817255616962484,
          0.824777768266415,
          1.0483732970503752,
          1.2692777727830276,
          2.256876547120214,
          2.655977333079818,
          1.128258970818365,
          1.9748741032748853,
          1.8482586615905916,
          1.8482066044800831,
          1.6275886934034816,
          1.1484259398275185,
          0.9321579065403967,
          2.0349839832832686,
          0.8312072656431155,
          1.2210919276024583,
          0.9511377699313357,
          1.4457507352063885,
          0.928771935837517,
          1.2789850622764902,
          1.2094743109944943,
          1.2072798156762587,
          1.485733034620182,
          1.5872329073652622,
          1.4158452789851594,
          1.2328606209598547,
          0.9453582413302684,
          0.8501569917559095,
          1.061772416074632,
          0.869321470562852,
          1.070189460771303,
          1.053172131789438,
          1.0487658689789328,
          0.8682546272001446,
          0.8332416294069844,
          1.407329874720972,
          1.8111925547365217,
          0.8293810809954039,
          0.8306320564642533,
          0.9318019989827917,
          1.107288897452122,
          0.9698626104655546,
          0.9812260175638698,
          0.8249251011607726,
          0.9303975783216742,
          1.063534082088836,
          1.1416850727724182,
          5.880190144976041,
          1.3787943216726148,
          4.930242191935577,
          4.9110910364790925,
          0.8591718508625945,
          4.939190477726015,
          1.0189871013681113,
          5.494824076511804,
          0.8266380236350415,
          5.492346594192668,
          0.9769048028326779,
          0.997360487085075,
          0.8421675414048764,
          5.111505077873062,
          1.1123905734108916,
          0.878769437059475,
          1.0739657977291017,
          0.9309624169305835,
          0.990094920782326,
          0.9761358945485767,
          0.9146560541680628,
          0.8236387483976273,
          1.1466492962302937
         ],
         "yaxis": "y"
        }
       ],
       "layout": {
        "legend": {
         "tracegroupgap": 0
        },
        "template": {
         "data": {
          "bar": [
           {
            "error_x": {
             "color": "#2a3f5f"
            },
            "error_y": {
             "color": "#2a3f5f"
            },
            "marker": {
             "line": {
              "color": "#E5ECF6",
              "width": 0.5
             },
             "pattern": {
              "fillmode": "overlay",
              "size": 10,
              "solidity": 0.2
             }
            },
            "type": "bar"
           }
          ],
          "barpolar": [
           {
            "marker": {
             "line": {
              "color": "#E5ECF6",
              "width": 0.5
             },
             "pattern": {
              "fillmode": "overlay",
              "size": 10,
              "solidity": 0.2
             }
            },
            "type": "barpolar"
           }
          ],
          "carpet": [
           {
            "aaxis": {
             "endlinecolor": "#2a3f5f",
             "gridcolor": "white",
             "linecolor": "white",
             "minorgridcolor": "white",
             "startlinecolor": "#2a3f5f"
            },
            "baxis": {
             "endlinecolor": "#2a3f5f",
             "gridcolor": "white",
             "linecolor": "white",
             "minorgridcolor": "white",
             "startlinecolor": "#2a3f5f"
            },
            "type": "carpet"
           }
          ],
          "choropleth": [
           {
            "colorbar": {
             "outlinewidth": 0,
             "ticks": ""
            },
            "type": "choropleth"
           }
          ],
          "contour": [
           {
            "colorbar": {
             "outlinewidth": 0,
             "ticks": ""
            },
            "colorscale": [
             [
              0,
              "#0d0887"
             ],
             [
              0.1111111111111111,
              "#46039f"
             ],
             [
              0.2222222222222222,
              "#7201a8"
             ],
             [
              0.3333333333333333,
              "#9c179e"
             ],
             [
              0.4444444444444444,
              "#bd3786"
             ],
             [
              0.5555555555555556,
              "#d8576b"
             ],
             [
              0.6666666666666666,
              "#ed7953"
             ],
             [
              0.7777777777777778,
              "#fb9f3a"
             ],
             [
              0.8888888888888888,
              "#fdca26"
             ],
             [
              1,
              "#f0f921"
             ]
            ],
            "type": "contour"
           }
          ],
          "contourcarpet": [
           {
            "colorbar": {
             "outlinewidth": 0,
             "ticks": ""
            },
            "type": "contourcarpet"
           }
          ],
          "heatmap": [
           {
            "colorbar": {
             "outlinewidth": 0,
             "ticks": ""
            },
            "colorscale": [
             [
              0,
              "#0d0887"
             ],
             [
              0.1111111111111111,
              "#46039f"
             ],
             [
              0.2222222222222222,
              "#7201a8"
             ],
             [
              0.3333333333333333,
              "#9c179e"
             ],
             [
              0.4444444444444444,
              "#bd3786"
             ],
             [
              0.5555555555555556,
              "#d8576b"
             ],
             [
              0.6666666666666666,
              "#ed7953"
             ],
             [
              0.7777777777777778,
              "#fb9f3a"
             ],
             [
              0.8888888888888888,
              "#fdca26"
             ],
             [
              1,
              "#f0f921"
             ]
            ],
            "type": "heatmap"
           }
          ],
          "heatmapgl": [
           {
            "colorbar": {
             "outlinewidth": 0,
             "ticks": ""
            },
            "colorscale": [
             [
              0,
              "#0d0887"
             ],
             [
              0.1111111111111111,
              "#46039f"
             ],
             [
              0.2222222222222222,
              "#7201a8"
             ],
             [
              0.3333333333333333,
              "#9c179e"
             ],
             [
              0.4444444444444444,
              "#bd3786"
             ],
             [
              0.5555555555555556,
              "#d8576b"
             ],
             [
              0.6666666666666666,
              "#ed7953"
             ],
             [
              0.7777777777777778,
              "#fb9f3a"
             ],
             [
              0.8888888888888888,
              "#fdca26"
             ],
             [
              1,
              "#f0f921"
             ]
            ],
            "type": "heatmapgl"
           }
          ],
          "histogram": [
           {
            "marker": {
             "pattern": {
              "fillmode": "overlay",
              "size": 10,
              "solidity": 0.2
             }
            },
            "type": "histogram"
           }
          ],
          "histogram2d": [
           {
            "colorbar": {
             "outlinewidth": 0,
             "ticks": ""
            },
            "colorscale": [
             [
              0,
              "#0d0887"
             ],
             [
              0.1111111111111111,
              "#46039f"
             ],
             [
              0.2222222222222222,
              "#7201a8"
             ],
             [
              0.3333333333333333,
              "#9c179e"
             ],
             [
              0.4444444444444444,
              "#bd3786"
             ],
             [
              0.5555555555555556,
              "#d8576b"
             ],
             [
              0.6666666666666666,
              "#ed7953"
             ],
             [
              0.7777777777777778,
              "#fb9f3a"
             ],
             [
              0.8888888888888888,
              "#fdca26"
             ],
             [
              1,
              "#f0f921"
             ]
            ],
            "type": "histogram2d"
           }
          ],
          "histogram2dcontour": [
           {
            "colorbar": {
             "outlinewidth": 0,
             "ticks": ""
            },
            "colorscale": [
             [
              0,
              "#0d0887"
             ],
             [
              0.1111111111111111,
              "#46039f"
             ],
             [
              0.2222222222222222,
              "#7201a8"
             ],
             [
              0.3333333333333333,
              "#9c179e"
             ],
             [
              0.4444444444444444,
              "#bd3786"
             ],
             [
              0.5555555555555556,
              "#d8576b"
             ],
             [
              0.6666666666666666,
              "#ed7953"
             ],
             [
              0.7777777777777778,
              "#fb9f3a"
             ],
             [
              0.8888888888888888,
              "#fdca26"
             ],
             [
              1,
              "#f0f921"
             ]
            ],
            "type": "histogram2dcontour"
           }
          ],
          "mesh3d": [
           {
            "colorbar": {
             "outlinewidth": 0,
             "ticks": ""
            },
            "type": "mesh3d"
           }
          ],
          "parcoords": [
           {
            "line": {
             "colorbar": {
              "outlinewidth": 0,
              "ticks": ""
             }
            },
            "type": "parcoords"
           }
          ],
          "pie": [
           {
            "automargin": true,
            "type": "pie"
           }
          ],
          "scatter": [
           {
            "fillpattern": {
             "fillmode": "overlay",
             "size": 10,
             "solidity": 0.2
            },
            "type": "scatter"
           }
          ],
          "scatter3d": [
           {
            "line": {
             "colorbar": {
              "outlinewidth": 0,
              "ticks": ""
             }
            },
            "marker": {
             "colorbar": {
              "outlinewidth": 0,
              "ticks": ""
             }
            },
            "type": "scatter3d"
           }
          ],
          "scattercarpet": [
           {
            "marker": {
             "colorbar": {
              "outlinewidth": 0,
              "ticks": ""
             }
            },
            "type": "scattercarpet"
           }
          ],
          "scattergeo": [
           {
            "marker": {
             "colorbar": {
              "outlinewidth": 0,
              "ticks": ""
             }
            },
            "type": "scattergeo"
           }
          ],
          "scattergl": [
           {
            "marker": {
             "colorbar": {
              "outlinewidth": 0,
              "ticks": ""
             }
            },
            "type": "scattergl"
           }
          ],
          "scattermapbox": [
           {
            "marker": {
             "colorbar": {
              "outlinewidth": 0,
              "ticks": ""
             }
            },
            "type": "scattermapbox"
           }
          ],
          "scatterpolar": [
           {
            "marker": {
             "colorbar": {
              "outlinewidth": 0,
              "ticks": ""
             }
            },
            "type": "scatterpolar"
           }
          ],
          "scatterpolargl": [
           {
            "marker": {
             "colorbar": {
              "outlinewidth": 0,
              "ticks": ""
             }
            },
            "type": "scatterpolargl"
           }
          ],
          "scatterternary": [
           {
            "marker": {
             "colorbar": {
              "outlinewidth": 0,
              "ticks": ""
             }
            },
            "type": "scatterternary"
           }
          ],
          "surface": [
           {
            "colorbar": {
             "outlinewidth": 0,
             "ticks": ""
            },
            "colorscale": [
             [
              0,
              "#0d0887"
             ],
             [
              0.1111111111111111,
              "#46039f"
             ],
             [
              0.2222222222222222,
              "#7201a8"
             ],
             [
              0.3333333333333333,
              "#9c179e"
             ],
             [
              0.4444444444444444,
              "#bd3786"
             ],
             [
              0.5555555555555556,
              "#d8576b"
             ],
             [
              0.6666666666666666,
              "#ed7953"
             ],
             [
              0.7777777777777778,
              "#fb9f3a"
             ],
             [
              0.8888888888888888,
              "#fdca26"
             ],
             [
              1,
              "#f0f921"
             ]
            ],
            "type": "surface"
           }
          ],
          "table": [
           {
            "cells": {
             "fill": {
              "color": "#EBF0F8"
             },
             "line": {
              "color": "white"
             }
            },
            "header": {
             "fill": {
              "color": "#C8D4E3"
             },
             "line": {
              "color": "white"
             }
            },
            "type": "table"
           }
          ]
         },
         "layout": {
          "annotationdefaults": {
           "arrowcolor": "#2a3f5f",
           "arrowhead": 0,
           "arrowwidth": 1
          },
          "autotypenumbers": "strict",
          "coloraxis": {
           "colorbar": {
            "outlinewidth": 0,
            "ticks": ""
           }
          },
          "colorscale": {
           "diverging": [
            [
             0,
             "#8e0152"
            ],
            [
             0.1,
             "#c51b7d"
            ],
            [
             0.2,
             "#de77ae"
            ],
            [
             0.3,
             "#f1b6da"
            ],
            [
             0.4,
             "#fde0ef"
            ],
            [
             0.5,
             "#f7f7f7"
            ],
            [
             0.6,
             "#e6f5d0"
            ],
            [
             0.7,
             "#b8e186"
            ],
            [
             0.8,
             "#7fbc41"
            ],
            [
             0.9,
             "#4d9221"
            ],
            [
             1,
             "#276419"
            ]
           ],
           "sequential": [
            [
             0,
             "#0d0887"
            ],
            [
             0.1111111111111111,
             "#46039f"
            ],
            [
             0.2222222222222222,
             "#7201a8"
            ],
            [
             0.3333333333333333,
             "#9c179e"
            ],
            [
             0.4444444444444444,
             "#bd3786"
            ],
            [
             0.5555555555555556,
             "#d8576b"
            ],
            [
             0.6666666666666666,
             "#ed7953"
            ],
            [
             0.7777777777777778,
             "#fb9f3a"
            ],
            [
             0.8888888888888888,
             "#fdca26"
            ],
            [
             1,
             "#f0f921"
            ]
           ],
           "sequentialminus": [
            [
             0,
             "#0d0887"
            ],
            [
             0.1111111111111111,
             "#46039f"
            ],
            [
             0.2222222222222222,
             "#7201a8"
            ],
            [
             0.3333333333333333,
             "#9c179e"
            ],
            [
             0.4444444444444444,
             "#bd3786"
            ],
            [
             0.5555555555555556,
             "#d8576b"
            ],
            [
             0.6666666666666666,
             "#ed7953"
            ],
            [
             0.7777777777777778,
             "#fb9f3a"
            ],
            [
             0.8888888888888888,
             "#fdca26"
            ],
            [
             1,
             "#f0f921"
            ]
           ]
          },
          "colorway": [
           "#636efa",
           "#EF553B",
           "#00cc96",
           "#ab63fa",
           "#FFA15A",
           "#19d3f3",
           "#FF6692",
           "#B6E880",
           "#FF97FF",
           "#FECB52"
          ],
          "font": {
           "color": "#2a3f5f"
          },
          "geo": {
           "bgcolor": "white",
           "lakecolor": "white",
           "landcolor": "#E5ECF6",
           "showlakes": true,
           "showland": true,
           "subunitcolor": "white"
          },
          "hoverlabel": {
           "align": "left"
          },
          "hovermode": "closest",
          "mapbox": {
           "style": "light"
          },
          "paper_bgcolor": "white",
          "plot_bgcolor": "#E5ECF6",
          "polar": {
           "angularaxis": {
            "gridcolor": "white",
            "linecolor": "white",
            "ticks": ""
           },
           "bgcolor": "#E5ECF6",
           "radialaxis": {
            "gridcolor": "white",
            "linecolor": "white",
            "ticks": ""
           }
          },
          "scene": {
           "xaxis": {
            "backgroundcolor": "#E5ECF6",
            "gridcolor": "white",
            "gridwidth": 2,
            "linecolor": "white",
            "showbackground": true,
            "ticks": "",
            "zerolinecolor": "white"
           },
           "yaxis": {
            "backgroundcolor": "#E5ECF6",
            "gridcolor": "white",
            "gridwidth": 2,
            "linecolor": "white",
            "showbackground": true,
            "ticks": "",
            "zerolinecolor": "white"
           },
           "zaxis": {
            "backgroundcolor": "#E5ECF6",
            "gridcolor": "white",
            "gridwidth": 2,
            "linecolor": "white",
            "showbackground": true,
            "ticks": "",
            "zerolinecolor": "white"
           }
          },
          "shapedefaults": {
           "line": {
            "color": "#2a3f5f"
           }
          },
          "ternary": {
           "aaxis": {
            "gridcolor": "white",
            "linecolor": "white",
            "ticks": ""
           },
           "baxis": {
            "gridcolor": "white",
            "linecolor": "white",
            "ticks": ""
           },
           "bgcolor": "#E5ECF6",
           "caxis": {
            "gridcolor": "white",
            "linecolor": "white",
            "ticks": ""
           }
          },
          "title": {
           "x": 0.05
          },
          "xaxis": {
           "automargin": true,
           "gridcolor": "white",
           "linecolor": "white",
           "ticks": "",
           "title": {
            "standoff": 15
           },
           "zerolinecolor": "white",
           "zerolinewidth": 2
          },
          "yaxis": {
           "automargin": true,
           "gridcolor": "white",
           "linecolor": "white",
           "ticks": "",
           "title": {
            "standoff": 15
           },
           "zerolinecolor": "white",
           "zerolinewidth": 2
          }
         }
        },
        "title": {
         "text": "Time Series Analysis"
        },
        "xaxis": {
         "anchor": "y",
         "domain": [
          0,
          1
         ],
         "title": {
          "text": "Time"
         }
        },
        "yaxis": {
         "anchor": "x",
         "domain": [
          0,
          1
         ],
         "title": {
          "text": "Profit(USD)"
         }
        }
       }
      }
     },
     "metadata": {},
     "output_type": "display_data"
    }
   ],
   "source": [
    "time_series = luffy_df.reset_index()\n",
    "\n",
    "time_series_plot = px.line(\n",
    "    time_series,\n",
    "    x='current_datetime', \n",
    "    y='profit', \n",
    "    title='Time Series Analysis',\n",
    "    labels={'current_datetime': 'Time', 'profit':'Profit(USD)'}\n",
    ")\n",
    "time_series_plot.show()"
   ]
  }
 ],
 "metadata": {
  "kernelspec": {
   "display_name": "dev",
   "language": "python",
   "name": "python3"
  },
  "language_info": {
   "codemirror_mode": {
    "name": "ipython",
    "version": 3
   },
   "file_extension": ".py",
   "mimetype": "text/x-python",
   "name": "python",
   "nbconvert_exporter": "python",
   "pygments_lexer": "ipython3",
   "version": "3.10.13"
  }
 },
 "nbformat": 4,
 "nbformat_minor": 2
}
