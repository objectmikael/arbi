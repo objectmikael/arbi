{
 "cells": [
  {
   "cell_type": "markdown",
   "metadata": {},
   "source": [
    "### Import necessary libraries, packages, and dependencies \n",
    "- Use os to access the operating system\n",
    "- Use pandas to create DataFrames and perform analysis \n",
    "- Use plotly to generate visuals\n",
    "- Use dotenv to access .env variables \n",
    "- Use sqlalchemy to connect to postgres"
   ]
  },
  {
   "cell_type": "code",
   "execution_count": null,
   "metadata": {},
   "outputs": [],
   "source": [
    "import os\n",
    "import pandas as pd\n",
    "import plotly.express as px\n",
    "from dotenv import load_dotenv\n",
    "from sqlalchemy import create_engine"
   ]
  },
  {
   "cell_type": "markdown",
   "metadata": {},
   "source": [
    "### Connect to database and retrieve necessary data\n",
    "- Connect to the 'arbi_db' database \n",
    "- Retrieve all data from the 'luffy' table"
   ]
  },
  {
   "cell_type": "code",
   "execution_count": null,
   "metadata": {},
   "outputs": [],
   "source": [
    "# Load environment variables from .env file\n",
    "load_dotenv()\n",
    "\n",
    "# Access the variables \n",
    "psql_username = os.getenv('PSQL_USERNAME')\n",
    "psql_password = os.getenv('PSQL_PASSWORD')\n",
    "psql_host = os.getenv('PSQL_HOST')\n",
    "psql_port = os.getenv('PSQL_PORT')\n",
    "db_name = os.getenv('DB_NAME')\n",
    "\n",
    "# Define the database url\n",
    "db_url = f\"postgresql://{psql_username}:{psql_password}@{psql_host}:{psql_port}/{db_name}\" \n",
    "\n",
    "# Create the engine object\n",
    "engine = create_engine(db_url)\n",
    "\n",
    "# Write ethe SQL query\n",
    "query = 'SELECT * FROM luffy'\n",
    "\n",
    "# Read the SQL query into a DataFrame\n",
    "luffy_df = pd.read_sql(query, engine)\n",
    "\n",
    "# Show the DataFrame's head\n",
    "luffy_df.head()\n"
   ]
  },
  {
   "cell_type": "markdown",
   "metadata": {},
   "source": [
    "### Data Analysis\n",
    "- Profit Distribution across Trades\n",
    "- Hourly Profit Trend\n",
    "- Spread Percentage Analysis \n",
    "- Exchange Performance \n",
    "- Time Series Analysis\n",
    "\n",
    "-Note: Limited data collection - Program ran every 30 seconds over a 4 hour window"
   ]
  },
  {
   "cell_type": "code",
   "execution_count": null,
   "metadata": {},
   "outputs": [],
   "source": [
    "# Convert the current_datetime column to only show the date\n",
    "luffy_df['current_datetime'] = pd.to_datetime(luffy_df['current_datetime'])\n",
    "luffy_df['current_datetime'] = luffy_df['current_datetime'].apply(lambda x: x.time())\n",
    "\n",
    "# Set the index to the current_datetime column\n",
    "luffy_df.set_index('current_datetime', inplace=True)\n",
    "\n",
    "luffy_df"
   ]
  },
  {
   "cell_type": "markdown",
   "metadata": {},
   "source": [
    "##### Profit Distribution across Trades\n",
    "- Calculate and visualize the distribution of profits across all trades. This provides insights into the consistency and variability of returns. "
   ]
  },
  {
   "cell_type": "code",
   "execution_count": null,
   "metadata": {},
   "outputs": [],
   "source": [
    "profit_dist = px.histogram(\n",
    "    luffy_df, \n",
    "    x='profit', \n",
    "    nbins=20, \n",
    "    title='Profit Distribution', \n",
    "    labels={'profit': 'Profit', 'count':'Frequency'})\n",
    "\n",
    "profit_dist.show()"
   ]
  },
  {
   "cell_type": "markdown",
   "metadata": {},
   "source": [
    "##### 30 Sec Profit Trend\n",
    "- Examine the 30 second trend of profits to identify patterns and understand the overall performance of the arbitrage over time."
   ]
  },
  {
   "cell_type": "code",
   "execution_count": null,
   "metadata": {},
   "outputs": [],
   "source": [
    "thirty_sec_profit = luffy_df.groupby('current_datetime')['profit'].sum().reset_index()\n",
    "thirty_sec_profit_plot = px.line(\n",
    "    thirty_sec_profit, \n",
    "    x='current_datetime',\n",
    "    y='profit', \n",
    "    title='30 Second Profit Trend',\n",
    "    labels={'current_datetime':'Time', 'profit':'30 Sec Profit'})\n",
    "\n",
    "thirty_sec_profit_plot.show()"
   ]
  },
  {
   "cell_type": "markdown",
   "metadata": {},
   "source": [
    "##### Spread Percentage Analysis\n",
    "- Explore the spread percentage to understand how much profit is generated relative to the spread. Helps to access the efficieny of the arbitrage strategy. "
   ]
  },
  {
   "cell_type": "code",
   "execution_count": null,
   "metadata": {},
   "outputs": [],
   "source": [
    "spread_percentage_plot = px.scatter(\n",
    "    luffy_df, \n",
    "    x='spread_percentage',\n",
    "    y='profit',\n",
    "    title='Spread Percentage vs Profit',\n",
    "    labels={'spread_percentage':'Spread Percentage', 'profit':'Profit'})\n",
    "\n",
    "spread_percentage_plot.show()"
   ]
  },
  {
   "cell_type": "markdown",
   "metadata": {},
   "source": [
    "##### Exchange Performance\n",
    "- Evaluate the performance of each exchange in terms of the number of trades and profit. This helps in optimizing the selection of exchanges and diversifying risks."
   ]
  },
  {
   "cell_type": "code",
   "execution_count": null,
   "metadata": {},
   "outputs": [],
   "source": [
    "exchange_performance = luffy_df.groupby('buy_exchange')['profit'].agg(['count', 'sum']).reset_index()\n",
    "exchange_performance_plot = px.bar(\n",
    "    exchange_performance,\n",
    "    x='buy_exchange',\n",
    "    y=['count', 'sum'],\n",
    "    barmode='stack',\n",
    "    title='Exchange Performance',\n",
    "    labels={'buy_exchange':'Exchange', 'value':'Value'}\n",
    ")\n",
    "\n",
    "exchange_performance_plot.show()"
   ]
  },
  {
   "cell_type": "markdown",
   "metadata": {},
   "source": [
    "##### Cryptocurrency Performance\n",
    "- Evaluate the performance of each coin in terms of the number of trades and profit. This helps in optimizing the selection of coins and diversifying risks."
   ]
  },
  {
   "cell_type": "code",
   "execution_count": null,
   "metadata": {},
   "outputs": [],
   "source": [
    "currency_performance = luffy_df.groupby('currency')['profit'].agg(['count', 'sum']).reset_index()\n",
    "currency_performance_plot = px.bar(\n",
    "    currency_performance,\n",
    "    x='currency',\n",
    "    y=['count', 'sum'],\n",
    "    barmode='stack',\n",
    "    title='Currency Performance',\n",
    "    labels={'currency':'Currency', 'value':'Value'}\n",
    ")\n",
    "\n",
    "currency_performance_plot.show()"
   ]
  },
  {
   "cell_type": "markdown",
   "metadata": {},
   "source": [
    "##### Time Series Analysis\n",
    "- Analyze the time series data to identify any patterns or trends in the arbitrage opportunities."
   ]
  },
  {
   "cell_type": "code",
   "execution_count": null,
   "metadata": {},
   "outputs": [],
   "source": [
    "time_series = luffy_df.reset_index()\n",
    "\n",
    "time_series_plot = px.line(\n",
    "    time_series,\n",
    "    x='current_datetime', \n",
    "    y='profit', \n",
    "    title='Time Series Analysis',\n",
    "    labels={'current_datetime': 'Time', 'profit':'Profit'}\n",
    ")\n",
    "time_series_plot.show()"
   ]
  }
 ],
 "metadata": {
  "kernelspec": {
   "display_name": "dev",
   "language": "python",
   "name": "python3"
  },
  "language_info": {
   "codemirror_mode": {
    "name": "ipython",
    "version": 3
   },
   "file_extension": ".py",
   "mimetype": "text/x-python",
   "name": "python",
   "nbconvert_exporter": "python",
   "pygments_lexer": "ipython3",
   "version": "3.10.13"
  }
 },
 "nbformat": 4,
 "nbformat_minor": 2
}
